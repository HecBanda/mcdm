{
 "cells": [
  {
   "cell_type": "markdown",
   "id": "85109dd6",
   "metadata": {},
   "source": [
    "# Storing and Processing Collections of Data"
   ]
  },
  {
   "cell_type": "markdown",
   "id": "377fb72f",
   "metadata": {},
   "source": [
    "Up until this point, we have seen several data types in python such as strings, functions, and other numerical data types. In this notebook, we introduce lists and dictionaries. Which allow you to store sets of information in one place.\n",
    "\n",
    "Both of these types are very powerful features readily accessible to new programmers, and they help tie together many important concepts in programming."
   ]
  },
  {
   "cell_type": "markdown",
   "id": "e9c3d791",
   "metadata": {},
   "source": [
    "## 1 Lists"
   ]
  },
  {
   "cell_type": "markdown",
   "id": "7a6c5d1d",
   "metadata": {},
   "source": [
    "A *list* is a collection of items in a particular order. We can put anything inside a list and the items in the list don't have to be related in any particular way.\n",
    "\n",
    "In Python, to define a list we use the square brackets `[]` and individual elements in the list are separated by commas. Since lists usually contain more than one element, it's a good idea to make the name of the list plural, such as `letters`, `digits`, or `names`."
   ]
  },
  {
   "cell_type": "markdown",
   "id": "0b89dc4b",
   "metadata": {},
   "source": [
    "**Example**: A list that contains a few kinds of bicycles"
   ]
  },
  {
   "cell_type": "code",
   "execution_count": null,
   "id": "4cf90c73",
   "metadata": {
    "ExecuteTime": {
     "end_time": "2023-07-12T10:28:18.694523Z",
     "start_time": "2023-07-12T10:28:18.687172Z"
    },
    "execution": {
     "iopub.execute_input": "2024-02-03T03:34:48.301445Z",
     "iopub.status.busy": "2024-02-03T03:34:48.300494Z",
     "iopub.status.idle": "2024-02-03T03:34:48.322123Z",
     "shell.execute_reply": "2024-02-03T03:34:48.320227Z",
     "shell.execute_reply.started": "2024-02-03T03:34:48.301378Z"
    }
   },
   "outputs": [],
   "source": [
    "bicycles = ['trek', 'cannondale', 'redline', 'specialized']\n",
    "print(bicycles)"
   ]
  },
  {
   "cell_type": "markdown",
   "id": "b5987915",
   "metadata": {},
   "source": [
    "### Accessing elements in a list"
   ]
  },
  {
   "cell_type": "markdown",
   "id": "0b631a37",
   "metadata": {},
   "source": [
    "Lists are ordered collections, thus, we can access any element by telling the Python the position, or *index*, of the item desired.\n",
    "\n",
    "*Note: always remember that Python considers the first item in a list to be at position 0 not position 1*\n",
    "\n",
    "For example, to pull out the first bicycle in our list `bicycles` we do:"
   ]
  },
  {
   "cell_type": "code",
   "execution_count": null,
   "id": "90f2d68f",
   "metadata": {
    "ExecuteTime": {
     "end_time": "2023-07-12T10:30:08.387849Z",
     "start_time": "2023-07-12T10:30:08.383196Z"
    },
    "execution": {
     "iopub.execute_input": "2024-02-03T03:34:48.326452Z",
     "iopub.status.busy": "2024-02-03T03:34:48.325859Z",
     "iopub.status.idle": "2024-02-03T03:34:48.351585Z",
     "shell.execute_reply": "2024-02-03T03:34:48.349284Z",
     "shell.execute_reply.started": "2024-02-03T03:34:48.326394Z"
    }
   },
   "outputs": [],
   "source": [
    "print(bicycles[0])"
   ]
  },
  {
   "cell_type": "markdown",
   "id": "b456fd70",
   "metadata": {},
   "source": [
    "Python also has a special syntax for accessing the last element in the list. We can use the index `-1` to get the last item in the list.\n",
    "\n",
    "The index `-2` returns the second item from the end of the list, the index `-3` returns the third, and so forth."
   ]
  },
  {
   "cell_type": "code",
   "execution_count": null,
   "id": "e469ea82",
   "metadata": {
    "ExecuteTime": {
     "end_time": "2023-07-12T10:31:38.290078Z",
     "start_time": "2023-07-12T10:31:38.277419Z"
    },
    "execution": {
     "iopub.execute_input": "2024-02-03T03:34:48.355552Z",
     "iopub.status.busy": "2024-02-03T03:34:48.354704Z",
     "iopub.status.idle": "2024-02-03T03:34:48.363579Z",
     "shell.execute_reply": "2024-02-03T03:34:48.361926Z",
     "shell.execute_reply.started": "2024-02-03T03:34:48.355468Z"
    }
   },
   "outputs": [],
   "source": [
    "print(bicycles[-1])"
   ]
  },
  {
   "cell_type": "markdown",
   "id": "673ceede",
   "metadata": {},
   "source": [
    "You can also access a subset of a list by *slicing* it. To make a slice, specify the first and last elements you want to work with. Python stops one item before the second index you specify."
   ]
  },
  {
   "cell_type": "code",
   "execution_count": null,
   "id": "d6748354",
   "metadata": {
    "ExecuteTime": {
     "end_time": "2023-07-12T10:44:47.150360Z",
     "start_time": "2023-07-12T10:44:47.146571Z"
    },
    "execution": {
     "iopub.execute_input": "2024-02-03T03:34:48.378085Z",
     "iopub.status.busy": "2024-02-03T03:34:48.377494Z",
     "iopub.status.idle": "2024-02-03T03:34:48.385186Z",
     "shell.execute_reply": "2024-02-03T03:34:48.383748Z",
     "shell.execute_reply.started": "2024-02-03T03:34:48.378042Z"
    }
   },
   "outputs": [],
   "source": [
    "print(bicycles[0:2])"
   ]
  },
  {
   "cell_type": "markdown",
   "id": "daefd952",
   "metadata": {},
   "source": [
    "### Changing, Adding, and Removing Elements"
   ]
  },
  {
   "cell_type": "markdown",
   "id": "0739f510",
   "metadata": {},
   "source": [
    "To modify an item in the list, we can access first the element of a list then perform an assignment operation to the new value you want the item to have."
   ]
  },
  {
   "cell_type": "code",
   "execution_count": null,
   "id": "62be0ca2",
   "metadata": {
    "ExecuteTime": {
     "end_time": "2023-07-12T10:34:12.726430Z",
     "start_time": "2023-07-12T10:34:12.719513Z"
    },
    "execution": {
     "iopub.execute_input": "2024-02-03T03:34:48.387150Z",
     "iopub.status.busy": "2024-02-03T03:34:48.386699Z",
     "iopub.status.idle": "2024-02-03T03:34:48.394410Z",
     "shell.execute_reply": "2024-02-03T03:34:48.392957Z",
     "shell.execute_reply.started": "2024-02-03T03:34:48.387109Z"
    }
   },
   "outputs": [],
   "source": [
    "motorcycles = ['honda', 'yamaha', 'suzuki']\n",
    "print(motorcycles)"
   ]
  },
  {
   "cell_type": "code",
   "execution_count": null,
   "id": "c3030921",
   "metadata": {
    "ExecuteTime": {
     "end_time": "2023-07-12T10:34:28.675872Z",
     "start_time": "2023-07-12T10:34:28.672199Z"
    },
    "execution": {
     "iopub.execute_input": "2024-02-03T03:34:48.396426Z",
     "iopub.status.busy": "2024-02-03T03:34:48.395986Z",
     "iopub.status.idle": "2024-02-03T03:34:48.403724Z",
     "shell.execute_reply": "2024-02-03T03:34:48.402195Z",
     "shell.execute_reply.started": "2024-02-03T03:34:48.396384Z"
    }
   },
   "outputs": [],
   "source": [
    "motorcycles[0] = 'ducati'\n",
    "print(motorcycles)"
   ]
  },
  {
   "cell_type": "markdown",
   "id": "b9f80c68",
   "metadata": {},
   "source": [
    "Aside from modifying the elements, we can also *append* a new item to the list."
   ]
  },
  {
   "cell_type": "code",
   "execution_count": null,
   "id": "f49a3f15",
   "metadata": {
    "ExecuteTime": {
     "end_time": "2023-07-12T10:35:34.329922Z",
     "start_time": "2023-07-12T10:35:34.326121Z"
    },
    "execution": {
     "iopub.execute_input": "2024-02-03T03:34:48.406948Z",
     "iopub.status.busy": "2024-02-03T03:34:48.406263Z",
     "iopub.status.idle": "2024-02-03T03:34:48.415025Z",
     "shell.execute_reply": "2024-02-03T03:34:48.413465Z",
     "shell.execute_reply.started": "2024-02-03T03:34:48.406881Z"
    }
   },
   "outputs": [],
   "source": [
    "motorcycles.append('honda')\n",
    "print(motorcycles)"
   ]
  },
  {
   "cell_type": "markdown",
   "id": "b5b2bb79",
   "metadata": {},
   "source": [
    "Another way to do this is to extend the list using another list"
   ]
  },
  {
   "cell_type": "code",
   "execution_count": null,
   "id": "768093b3",
   "metadata": {
    "ExecuteTime": {
     "end_time": "2023-07-12T10:36:34.940396Z",
     "start_time": "2023-07-12T10:36:34.931730Z"
    },
    "execution": {
     "iopub.execute_input": "2024-02-03T03:34:48.418083Z",
     "iopub.status.busy": "2024-02-03T03:34:48.417410Z",
     "iopub.status.idle": "2024-02-03T03:34:48.427298Z",
     "shell.execute_reply": "2024-02-03T03:34:48.424983Z",
     "shell.execute_reply.started": "2024-02-03T03:34:48.418016Z"
    }
   },
   "outputs": [],
   "source": [
    "motorcycles.extend(['kawasaki', 'triumph'])\n",
    "print(motorcycles)"
   ]
  },
  {
   "cell_type": "markdown",
   "id": "bbda3718",
   "metadata": {},
   "source": [
    "You can also insert a specific element at a specific location on a list using the `insert` method. Here, we specify the element to be inserted and the specific index in which we wish to place it."
   ]
  },
  {
   "cell_type": "code",
   "execution_count": null,
   "id": "35165fb0",
   "metadata": {
    "ExecuteTime": {
     "end_time": "2023-07-12T10:39:31.762850Z",
     "start_time": "2023-07-12T10:39:31.758820Z"
    },
    "execution": {
     "iopub.execute_input": "2024-02-03T03:34:48.430697Z",
     "iopub.status.busy": "2024-02-03T03:34:48.430077Z",
     "iopub.status.idle": "2024-02-03T03:34:48.439863Z",
     "shell.execute_reply": "2024-02-03T03:34:48.437970Z",
     "shell.execute_reply.started": "2024-02-03T03:34:48.430638Z"
    }
   },
   "outputs": [],
   "source": [
    "motorcycles.insert(3, 'bmw')\n",
    "print(motorcycles)"
   ]
  },
  {
   "cell_type": "markdown",
   "id": "5d1cb993",
   "metadata": {},
   "source": [
    "To remove an element, we can use the `del` statement to delete a specific element in the list."
   ]
  },
  {
   "cell_type": "code",
   "execution_count": null,
   "id": "45b80825",
   "metadata": {
    "ExecuteTime": {
     "end_time": "2023-07-12T10:40:25.770856Z",
     "start_time": "2023-07-12T10:40:25.764461Z"
    },
    "execution": {
     "iopub.execute_input": "2024-02-03T03:34:48.442970Z",
     "iopub.status.busy": "2024-02-03T03:34:48.442364Z",
     "iopub.status.idle": "2024-02-03T03:34:48.451816Z",
     "shell.execute_reply": "2024-02-03T03:34:48.449568Z",
     "shell.execute_reply.started": "2024-02-03T03:34:48.442913Z"
    }
   },
   "outputs": [],
   "source": [
    "del motorcycles[1]\n",
    "print(motorcycles)"
   ]
  },
  {
   "cell_type": "markdown",
   "id": "d59f3a94",
   "metadata": {},
   "source": [
    "Another way to do this is the `pop` method. The difference is that it returns the value of the removed item in addition to removing it."
   ]
  },
  {
   "cell_type": "code",
   "execution_count": null,
   "id": "1135452e",
   "metadata": {
    "ExecuteTime": {
     "end_time": "2023-07-12T10:41:27.082381Z",
     "start_time": "2023-07-12T10:41:27.078048Z"
    },
    "execution": {
     "iopub.execute_input": "2024-02-03T03:34:48.455226Z",
     "iopub.status.busy": "2024-02-03T03:34:48.454476Z",
     "iopub.status.idle": "2024-02-03T03:34:48.463646Z",
     "shell.execute_reply": "2024-02-03T03:34:48.461492Z",
     "shell.execute_reply.started": "2024-02-03T03:34:48.455152Z"
    }
   },
   "outputs": [],
   "source": [
    "print(motorcycles)"
   ]
  },
  {
   "cell_type": "code",
   "execution_count": null,
   "id": "915c6b66",
   "metadata": {
    "ExecuteTime": {
     "end_time": "2023-07-12T10:41:51.233581Z",
     "start_time": "2023-07-12T10:41:51.229226Z"
    },
    "execution": {
     "iopub.execute_input": "2024-02-03T03:34:48.466871Z",
     "iopub.status.busy": "2024-02-03T03:34:48.465959Z",
     "iopub.status.idle": "2024-02-03T03:34:48.476864Z",
     "shell.execute_reply": "2024-02-03T03:34:48.474951Z",
     "shell.execute_reply.started": "2024-02-03T03:34:48.466789Z"
    }
   },
   "outputs": [],
   "source": [
    "popped_motorcycle = motorcycles.pop(-1)\n",
    "print(motorcycles)\n",
    "print(popped_motorcycle)"
   ]
  },
  {
   "cell_type": "markdown",
   "id": "98a47d54-950f-42b7-aaa9-b05a18db32f8",
   "metadata": {},
   "source": [
    "### List Operations"
   ]
  },
  {
   "cell_type": "markdown",
   "id": "ecd74d17-ff8b-4af9-bf45-972d6b19ea1a",
   "metadata": {},
   "source": [
    "Aside from changing or modifying the elements of a single list, we can also also perform operations such as `+` and `*` on several lists."
   ]
  },
  {
   "cell_type": "code",
   "execution_count": null,
   "id": "6353f89f-8bfc-4dad-945f-1eb94b58438e",
   "metadata": {
    "execution": {
     "iopub.execute_input": "2024-02-03T03:34:48.487136Z",
     "iopub.status.busy": "2024-02-03T03:34:48.486553Z",
     "iopub.status.idle": "2024-02-03T03:34:48.501951Z",
     "shell.execute_reply": "2024-02-03T03:34:48.500821Z",
     "shell.execute_reply.started": "2024-02-03T03:34:48.487096Z"
    }
   },
   "outputs": [],
   "source": [
    "motorcycles + bicycles"
   ]
  },
  {
   "cell_type": "code",
   "execution_count": null,
   "id": "1deccb53-2d0e-4ec7-8461-f86501cff2f7",
   "metadata": {
    "execution": {
     "iopub.execute_input": "2024-02-03T03:34:48.503615Z",
     "iopub.status.busy": "2024-02-03T03:34:48.503222Z",
     "iopub.status.idle": "2024-02-03T03:34:48.511645Z",
     "shell.execute_reply": "2024-02-03T03:34:48.510549Z",
     "shell.execute_reply.started": "2024-02-03T03:34:48.503577Z"
    }
   },
   "outputs": [],
   "source": [
    "motorcycles * 3"
   ]
  },
  {
   "cell_type": "markdown",
   "id": "09bc2a96",
   "metadata": {},
   "source": [
    "To get the number of elements in a list we can also use the built-in function `len`."
   ]
  },
  {
   "cell_type": "code",
   "execution_count": null,
   "id": "54635edc",
   "metadata": {
    "ExecuteTime": {
     "end_time": "2023-07-12T10:51:03.753640Z",
     "start_time": "2023-07-12T10:51:03.749452Z"
    },
    "execution": {
     "iopub.execute_input": "2024-02-03T03:34:48.512873Z",
     "iopub.status.busy": "2024-02-03T03:34:48.512571Z",
     "iopub.status.idle": "2024-02-03T03:34:48.519630Z",
     "shell.execute_reply": "2024-02-03T03:34:48.518164Z",
     "shell.execute_reply.started": "2024-02-03T03:34:48.512845Z"
    }
   },
   "outputs": [],
   "source": [
    "print(len(motorcycles))"
   ]
  },
  {
   "cell_type": "markdown",
   "id": "b5ff1a22",
   "metadata": {},
   "source": [
    "### Organizing a List"
   ]
  },
  {
   "cell_type": "markdown",
   "id": "b8ffa086",
   "metadata": {},
   "source": [
    "If we want to permanently sort a list, we use its `sort` method."
   ]
  },
  {
   "cell_type": "code",
   "execution_count": null,
   "id": "05c66fee",
   "metadata": {
    "ExecuteTime": {
     "end_time": "2023-07-12T10:47:40.465335Z",
     "start_time": "2023-07-12T10:47:40.459465Z"
    },
    "execution": {
     "iopub.execute_input": "2024-02-03T03:34:48.521623Z",
     "iopub.status.busy": "2024-02-03T03:34:48.521099Z",
     "iopub.status.idle": "2024-02-03T03:34:48.529123Z",
     "shell.execute_reply": "2024-02-03T03:34:48.527255Z",
     "shell.execute_reply.started": "2024-02-03T03:34:48.521586Z"
    }
   },
   "outputs": [],
   "source": [
    "print(motorcycles)"
   ]
  },
  {
   "cell_type": "code",
   "execution_count": null,
   "id": "83203561",
   "metadata": {
    "ExecuteTime": {
     "end_time": "2023-07-12T10:47:54.831449Z",
     "start_time": "2023-07-12T10:47:54.827315Z"
    },
    "execution": {
     "iopub.execute_input": "2024-02-03T03:34:48.532651Z",
     "iopub.status.busy": "2024-02-03T03:34:48.531901Z",
     "iopub.status.idle": "2024-02-03T03:34:48.540472Z",
     "shell.execute_reply": "2024-02-03T03:34:48.538701Z",
     "shell.execute_reply.started": "2024-02-03T03:34:48.532577Z"
    }
   },
   "outputs": [],
   "source": [
    "motorcycles.sort()\n",
    "print(motorcycles)"
   ]
  },
  {
   "cell_type": "markdown",
   "id": "19fe19cb",
   "metadata": {},
   "source": [
    "By specifying the `reverse` parameter as `True`, we can sort the items in descending order. "
   ]
  },
  {
   "cell_type": "code",
   "execution_count": null,
   "id": "a791fc37",
   "metadata": {
    "ExecuteTime": {
     "end_time": "2023-07-12T10:48:41.289538Z",
     "start_time": "2023-07-12T10:48:41.285030Z"
    },
    "execution": {
     "iopub.execute_input": "2024-02-03T03:34:48.543744Z",
     "iopub.status.busy": "2024-02-03T03:34:48.543134Z",
     "iopub.status.idle": "2024-02-03T03:34:48.552587Z",
     "shell.execute_reply": "2024-02-03T03:34:48.550947Z",
     "shell.execute_reply.started": "2024-02-03T03:34:48.543676Z"
    }
   },
   "outputs": [],
   "source": [
    "motorcycles.sort(reverse=True)\n",
    "print(motorcycles)"
   ]
  },
  {
   "cell_type": "markdown",
   "id": "b2387d18",
   "metadata": {},
   "source": [
    "You can also sort a list temporarily using the `sorted` function."
   ]
  },
  {
   "cell_type": "code",
   "execution_count": null,
   "id": "89fb5d60",
   "metadata": {
    "ExecuteTime": {
     "end_time": "2023-07-12T10:49:51.102175Z",
     "start_time": "2023-07-12T10:49:51.094912Z"
    },
    "execution": {
     "iopub.execute_input": "2024-02-03T03:34:48.554492Z",
     "iopub.status.busy": "2024-02-03T03:34:48.554051Z",
     "iopub.status.idle": "2024-02-03T03:34:48.563473Z",
     "shell.execute_reply": "2024-02-03T03:34:48.561588Z",
     "shell.execute_reply.started": "2024-02-03T03:34:48.554450Z"
    }
   },
   "outputs": [],
   "source": [
    "motorcycles = ['ducati', 'suzuki', 'bmw', 'honda', 'kawasaki']\n",
    "\n",
    "print(f\"Original order: {motorcycles}\")\n",
    "print(f\"Sorted order: {sorted(motorcycles)}\")\n",
    "print(f\"After sorted operation: {motorcycles}\")"
   ]
  },
  {
   "cell_type": "markdown",
   "id": "ff160c01-e9c6-4604-b324-fb73ce88faa3",
   "metadata": {},
   "source": [
    "### Processing Items of a List"
   ]
  },
  {
   "cell_type": "markdown",
   "id": "1eecbe98-7809-4f36-a716-02ec58d8a1ad",
   "metadata": {},
   "source": [
    "There are various reasons as to why we want to store a set of numbers. For example, keeping track of the population of an endangered animal is an important aspect of wildlife preservation. Storing data in a list will also help in succeeding data analysis, such as the computation of simple statistics such as mean, median, or mode.\n",
    "\n",
    "There are a few functions that will be helpful when working with lists of numbers."
   ]
  },
  {
   "cell_type": "code",
   "execution_count": null,
   "id": "e7e7c0ae-bfd6-413c-973a-2da162c4607d",
   "metadata": {
    "execution": {
     "iopub.execute_input": "2024-02-03T03:34:48.565755Z",
     "iopub.status.busy": "2024-02-03T03:34:48.565313Z",
     "iopub.status.idle": "2024-02-03T03:34:48.575705Z",
     "shell.execute_reply": "2024-02-03T03:34:48.573690Z",
     "shell.execute_reply.started": "2024-02-03T03:34:48.565713Z"
    }
   },
   "outputs": [],
   "source": [
    "digits = [1, 2, 3, 4, 5, 6, 7, 8, 9, 10]\n",
    "print(min(digits))\n",
    "print(max(digits))\n",
    "print(sum(digits))"
   ]
  },
  {
   "cell_type": "markdown",
   "id": "f338850b-cb18-4dfd-8d5f-ed5765385c8d",
   "metadata": {},
   "source": [
    "You can also iterate through each elements of a list using a `for` loop to process each element. For example, if we want to get the square of a series of numbers we can:"
   ]
  },
  {
   "cell_type": "code",
   "execution_count": null,
   "id": "85147a22-5649-4746-80b9-44616c596d30",
   "metadata": {
    "execution": {
     "iopub.execute_input": "2024-02-03T03:34:48.578143Z",
     "iopub.status.busy": "2024-02-03T03:34:48.577553Z",
     "iopub.status.idle": "2024-02-03T03:34:48.587834Z",
     "shell.execute_reply": "2024-02-03T03:34:48.586148Z",
     "shell.execute_reply.started": "2024-02-03T03:34:48.578086Z"
    }
   },
   "outputs": [],
   "source": [
    "squares = []\n",
    "for value in digits:\n",
    "    square = value ** 2\n",
    "    squares.append(square)\n",
    "\n",
    "print(squares)"
   ]
  },
  {
   "cell_type": "markdown",
   "id": "0d3b9990-2a66-4dba-b6c9-505b756c8787",
   "metadata": {},
   "source": [
    "You'll notice that you'll be doing a lot of these kind of operation - transforming the items on a list then storing them on a new dictionary. For those cases, you can simplify your code greatly by using *list comprehensions*. Verify that the code above is equivalent to the one below."
   ]
  },
  {
   "cell_type": "code",
   "execution_count": null,
   "id": "8db7642e-f0bf-4da8-8d15-706106fb5e57",
   "metadata": {
    "execution": {
     "iopub.execute_input": "2024-02-03T03:34:48.590985Z",
     "iopub.status.busy": "2024-02-03T03:34:48.590004Z",
     "iopub.status.idle": "2024-02-03T03:34:48.600389Z",
     "shell.execute_reply": "2024-02-03T03:34:48.598337Z",
     "shell.execute_reply.started": "2024-02-03T03:34:48.590925Z"
    }
   },
   "outputs": [],
   "source": [
    "squares = [value ** 2 for value in digits]\n",
    "\n",
    "print(squares)"
   ]
  },
  {
   "cell_type": "markdown",
   "id": "f8bbdf86-ec7e-42c1-b7c2-7a921c6b9315",
   "metadata": {},
   "source": [
    "Sometimes you might also want to add a conditional before executing the transformation. In cases like this, you add a conditional after the required `for` loop statement."
   ]
  },
  {
   "cell_type": "code",
   "execution_count": null,
   "id": "a796f16c-f5bd-4a6e-bdae-ababf22e88f8",
   "metadata": {
    "execution": {
     "iopub.execute_input": "2024-02-03T03:50:11.494229Z",
     "iopub.status.busy": "2024-02-03T03:50:11.493524Z",
     "iopub.status.idle": "2024-02-03T03:50:11.504991Z",
     "shell.execute_reply": "2024-02-03T03:50:11.502935Z",
     "shell.execute_reply.started": "2024-02-03T03:50:11.494167Z"
    },
    "tags": []
   },
   "outputs": [],
   "source": [
    "even_squares = []\n",
    "for value in digits:\n",
    "    if not value % 2:\n",
    "        even_squares.append(value ** 2)\n",
    "\n",
    "print(even_squares)"
   ]
  },
  {
   "cell_type": "markdown",
   "id": "234ab26d-f666-49b8-b8da-e7f4652033d5",
   "metadata": {},
   "source": [
    "Verify that the above code is equivalent to:"
   ]
  },
  {
   "cell_type": "code",
   "execution_count": null,
   "id": "6b17da4e-799d-4c4b-ad9e-4edb73df1f24",
   "metadata": {
    "execution": {
     "iopub.execute_input": "2024-02-03T03:34:48.623081Z",
     "iopub.status.busy": "2024-02-03T03:34:48.622322Z",
     "iopub.status.idle": "2024-02-03T03:34:48.632770Z",
     "shell.execute_reply": "2024-02-03T03:34:48.631207Z",
     "shell.execute_reply.started": "2024-02-03T03:34:48.623022Z"
    }
   },
   "outputs": [],
   "source": [
    "even_squares = [value ** 2 for value in digits if not value % 2]\n",
    "\n",
    "print(even_squares)"
   ]
  },
  {
   "cell_type": "markdown",
   "id": "d3ae64d3-9ab7-4730-a71b-537dc0669899",
   "metadata": {},
   "source": [
    "### Lists and Strings"
   ]
  },
  {
   "cell_type": "markdown",
   "id": "14fb9243-766d-4932-9a7a-8c7a6e9fa365",
   "metadata": {},
   "source": [
    "We can also convert strings to list and vice-versa."
   ]
  },
  {
   "cell_type": "code",
   "execution_count": null,
   "id": "bef6e193-5f86-4513-aaa2-1bfeab3e38e2",
   "metadata": {
    "execution": {
     "iopub.execute_input": "2024-02-03T03:34:48.636140Z",
     "iopub.status.busy": "2024-02-03T03:34:48.634911Z",
     "iopub.status.idle": "2024-02-03T03:34:48.646066Z",
     "shell.execute_reply": "2024-02-03T03:34:48.644352Z",
     "shell.execute_reply.started": "2024-02-03T03:34:48.636098Z"
    }
   },
   "outputs": [],
   "source": [
    "a_string = 'a string is a sequence of characters'\n",
    "list(a_string)"
   ]
  },
  {
   "cell_type": "markdown",
   "id": "37e9d60b-cae9-47f0-8ee2-6e3bad7617f3",
   "metadata": {},
   "source": [
    "If we want more controllability on how we create the list from the string, we can use the `split` method of a string which also requires us to specify a delimiter."
   ]
  },
  {
   "cell_type": "code",
   "execution_count": null,
   "id": "f4e9ce65-b5fd-40d8-9e00-050637d09e2c",
   "metadata": {
    "execution": {
     "iopub.execute_input": "2024-02-03T03:34:48.648913Z",
     "iopub.status.busy": "2024-02-03T03:34:48.648217Z",
     "iopub.status.idle": "2024-02-03T03:34:48.659781Z",
     "shell.execute_reply": "2024-02-03T03:34:48.658467Z",
     "shell.execute_reply.started": "2024-02-03T03:34:48.648860Z"
    }
   },
   "outputs": [],
   "source": [
    "a_list = a_string.split(' ')\n",
    "a_list"
   ]
  },
  {
   "cell_type": "markdown",
   "id": "4ac1bc0c-062a-429d-ab09-969569828cf9",
   "metadata": {},
   "source": [
    "You can reverse this process by using the `join` method. Here, we specify the delimiter as a string then place in the argument the list that we wish to join."
   ]
  },
  {
   "cell_type": "code",
   "execution_count": null,
   "id": "68ea4e1c-1936-405c-8e8d-65b66aa137fc",
   "metadata": {
    "execution": {
     "iopub.execute_input": "2024-02-03T03:34:48.662019Z",
     "iopub.status.busy": "2024-02-03T03:34:48.661423Z",
     "iopub.status.idle": "2024-02-03T03:34:48.668446Z",
     "shell.execute_reply": "2024-02-03T03:34:48.667137Z",
     "shell.execute_reply.started": "2024-02-03T03:34:48.661975Z"
    }
   },
   "outputs": [],
   "source": [
    "print('\\n'.join(a_list))"
   ]
  },
  {
   "cell_type": "markdown",
   "id": "e150f1ba-b53d-499c-a7a3-2c15a0b743ec",
   "metadata": {},
   "source": [
    "## 2 Tuples"
   ]
  },
  {
   "cell_type": "markdown",
   "id": "42ec8982-7185-4d23-b55a-fa8052503cf9",
   "metadata": {},
   "source": [
    "Lists are ideal for storing a colection of items that can change throughout the life of a program. However, sometimes you'll want to create a list of items that cannot change. Python refers to values that cannot change as *immutable*, and an immutable list is a tuple."
   ]
  },
  {
   "cell_type": "markdown",
   "id": "bd9adc3b-611d-4776-9fd3-9faf2163da17",
   "metadata": {},
   "source": [
    "### Defining a tuple"
   ]
  },
  {
   "cell_type": "code",
   "execution_count": null,
   "id": "3e183922-b77e-4d2c-a393-64c14d443e32",
   "metadata": {
    "execution": {
     "iopub.execute_input": "2024-02-03T03:34:48.670895Z",
     "iopub.status.busy": "2024-02-03T03:34:48.670280Z",
     "iopub.status.idle": "2024-02-03T03:34:48.678193Z",
     "shell.execute_reply": "2024-02-03T03:34:48.676775Z",
     "shell.execute_reply.started": "2024-02-03T03:34:48.670847Z"
    }
   },
   "outputs": [],
   "source": [
    "coordinate = (200, 50)\n",
    "print(coordinate[0])\n",
    "print(coordinate[1])"
   ]
  },
  {
   "cell_type": "markdown",
   "id": "10d2a528-7f16-4185-a185-8f9812219e95",
   "metadata": {},
   "source": [
    "Tuples are immutable!"
   ]
  },
  {
   "cell_type": "code",
   "execution_count": null,
   "id": "f6043693-7b27-4c02-a108-da0ea4c55861",
   "metadata": {
    "execution": {
     "iopub.execute_input": "2024-02-03T03:34:48.681031Z",
     "iopub.status.busy": "2024-02-03T03:34:48.680230Z",
     "iopub.status.idle": "2024-02-03T03:34:48.686412Z",
     "shell.execute_reply": "2024-02-03T03:34:48.685131Z",
     "shell.execute_reply.started": "2024-02-03T03:34:48.680972Z"
    }
   },
   "outputs": [],
   "source": [
    "# coordinate[0] = 100"
   ]
  },
  {
   "cell_type": "markdown",
   "id": "14c917fa-c9aa-4a1a-8b32-0655f723092a",
   "metadata": {},
   "source": [
    "### Tuples as `return` values"
   ]
  },
  {
   "cell_type": "markdown",
   "id": "59326334-3665-43f2-841d-b4c2982875e9",
   "metadata": {},
   "source": [
    "Because of this property, tuples are a natural data type that Python uses when functions return multiple values"
   ]
  },
  {
   "cell_type": "code",
   "execution_count": null,
   "id": "b025f519-d960-4a49-949b-da75a1a4bfae",
   "metadata": {
    "execution": {
     "iopub.execute_input": "2024-02-03T03:34:48.688880Z",
     "iopub.status.busy": "2024-02-03T03:34:48.688305Z",
     "iopub.status.idle": "2024-02-03T03:34:48.696311Z",
     "shell.execute_reply": "2024-02-03T03:34:48.694436Z",
     "shell.execute_reply.started": "2024-02-03T03:34:48.688828Z"
    }
   },
   "outputs": [],
   "source": [
    "def min_max(sequence):\n",
    "    return min(sequence), max(sequence)"
   ]
  },
  {
   "cell_type": "code",
   "execution_count": null,
   "id": "892b1539-e13e-4846-8a11-e5a2d8d44185",
   "metadata": {
    "execution": {
     "iopub.execute_input": "2024-02-03T03:34:48.698990Z",
     "iopub.status.busy": "2024-02-03T03:34:48.698470Z",
     "iopub.status.idle": "2024-02-03T03:34:48.708584Z",
     "shell.execute_reply": "2024-02-03T03:34:48.707085Z",
     "shell.execute_reply.started": "2024-02-03T03:34:48.698943Z"
    }
   },
   "outputs": [],
   "source": [
    "min_max(digits)"
   ]
  },
  {
   "cell_type": "code",
   "execution_count": null,
   "id": "fb2ab9f3-4c02-4dfd-8289-69c94818e2b6",
   "metadata": {
    "execution": {
     "iopub.execute_input": "2024-02-03T03:34:48.710552Z",
     "iopub.status.busy": "2024-02-03T03:34:48.710076Z",
     "iopub.status.idle": "2024-02-03T03:34:48.718916Z",
     "shell.execute_reply": "2024-02-03T03:34:48.717541Z",
     "shell.execute_reply.started": "2024-02-03T03:34:48.710509Z"
    }
   },
   "outputs": [],
   "source": [
    "type(min_max(digits))"
   ]
  },
  {
   "cell_type": "markdown",
   "id": "91eeb034-62e4-491d-99d7-83e0d21464fa",
   "metadata": {},
   "source": [
    "### Variable-length Argument Tuples"
   ]
  },
  {
   "cell_type": "markdown",
   "id": "8c468524-1fe1-4c20-a1f0-07dc26d3396f",
   "metadata": {},
   "source": [
    "Tuples are also used as the container when specifying arbitrary length positional arguments"
   ]
  },
  {
   "cell_type": "code",
   "execution_count": null,
   "id": "4862adad-c911-458e-8a66-cd75e52864f2",
   "metadata": {
    "execution": {
     "iopub.execute_input": "2024-02-03T03:34:48.721112Z",
     "iopub.status.busy": "2024-02-03T03:34:48.720571Z",
     "iopub.status.idle": "2024-02-03T03:34:48.727980Z",
     "shell.execute_reply": "2024-02-03T03:34:48.726662Z",
     "shell.execute_reply.started": "2024-02-03T03:34:48.721069Z"
    }
   },
   "outputs": [],
   "source": [
    "def print_all(*pargs):\n",
    "    \"\"\"Print an arbitrary number of positional arguments as a tuple\"\"\"\n",
    "    print(pargs)"
   ]
  },
  {
   "cell_type": "code",
   "execution_count": null,
   "id": "276db48b-bd32-42bf-9661-f163bf065239",
   "metadata": {
    "execution": {
     "iopub.execute_input": "2024-02-03T03:34:48.730390Z",
     "iopub.status.busy": "2024-02-03T03:34:48.729789Z",
     "iopub.status.idle": "2024-02-03T03:34:48.737537Z",
     "shell.execute_reply": "2024-02-03T03:34:48.735832Z",
     "shell.execute_reply.started": "2024-02-03T03:34:48.730347Z"
    }
   },
   "outputs": [],
   "source": [
    "print_all(1, 2.0, '3')"
   ]
  },
  {
   "cell_type": "code",
   "execution_count": null,
   "id": "d347abf9-b8f6-41a0-b468-f768191cb7c4",
   "metadata": {
    "execution": {
     "iopub.execute_input": "2024-02-03T03:34:48.740541Z",
     "iopub.status.busy": "2024-02-03T03:34:48.739927Z",
     "iopub.status.idle": "2024-02-03T03:34:48.748632Z",
     "shell.execute_reply": "2024-02-03T03:34:48.746806Z",
     "shell.execute_reply.started": "2024-02-03T03:34:48.740481Z"
    }
   },
   "outputs": [],
   "source": [
    "def print_all(*pargs):\n",
    "    \"\"\"Print an arbitrary number of positional arguments in a line\"\"\"\n",
    "    print(*pargs)"
   ]
  },
  {
   "cell_type": "code",
   "execution_count": null,
   "id": "101e1f1d-924b-4ca8-90e4-46d9d99844ba",
   "metadata": {
    "execution": {
     "iopub.execute_input": "2024-02-03T03:34:48.750970Z",
     "iopub.status.busy": "2024-02-03T03:34:48.750367Z",
     "iopub.status.idle": "2024-02-03T03:34:48.759100Z",
     "shell.execute_reply": "2024-02-03T03:34:48.757392Z",
     "shell.execute_reply.started": "2024-02-03T03:34:48.750912Z"
    }
   },
   "outputs": [],
   "source": [
    "print_all(1, 2.0, '3')"
   ]
  },
  {
   "cell_type": "code",
   "execution_count": null,
   "id": "c9d39114-b350-4ef7-9e45-82a44b536d0d",
   "metadata": {
    "execution": {
     "iopub.execute_input": "2024-02-03T03:34:48.762140Z",
     "iopub.status.busy": "2024-02-03T03:34:48.761451Z",
     "iopub.status.idle": "2024-02-03T03:34:48.769415Z",
     "shell.execute_reply": "2024-02-03T03:34:48.767629Z",
     "shell.execute_reply.started": "2024-02-03T03:34:48.762093Z"
    }
   },
   "outputs": [],
   "source": [
    "print(1, 2.0, '3')"
   ]
  },
  {
   "cell_type": "markdown",
   "id": "81b76b49-71ae-4ee7-862e-9175fab2a402",
   "metadata": {},
   "source": [
    "### Lists and Tuples"
   ]
  },
  {
   "cell_type": "markdown",
   "id": "25324244-1af2-4150-addd-b6dc5a1e570b",
   "metadata": {},
   "source": [
    "If we are given two or more sequences, we can use the `zip` function to create an iterable that interleaves the values of the two sequence then returns the resulting sequence as an iterator."
   ]
  },
  {
   "cell_type": "code",
   "execution_count": null,
   "id": "5cbfb13e-0335-4f04-b7e1-e82916a1f5cf",
   "metadata": {
    "execution": {
     "iopub.execute_input": "2024-02-03T03:34:48.771862Z",
     "iopub.status.busy": "2024-02-03T03:34:48.771404Z",
     "iopub.status.idle": "2024-02-03T03:34:48.781083Z",
     "shell.execute_reply": "2024-02-03T03:34:48.779516Z",
     "shell.execute_reply.started": "2024-02-03T03:34:48.771820Z"
    }
   },
   "outputs": [],
   "source": [
    "names = ['Leo', 'Pat', 'Gil']\n",
    "ages = [32, 27, 30]\n",
    "\n",
    "'''\n",
    "Leo: 32\n",
    "Pat: 27\n",
    "Gil: 30\n",
    "'''\n",
    "\n",
    "for name, age in zip(names, ages):\n",
    "    print(f'{name}: {age}')"
   ]
  },
  {
   "cell_type": "markdown",
   "id": "3a257595-82ac-40ea-b318-5758ef35598d",
   "metadata": {},
   "source": [
    "Notice that if we inspect the `zip` object, it doesn't print its contents."
   ]
  },
  {
   "cell_type": "code",
   "execution_count": null,
   "id": "7790b7b6-43ae-42fa-be8a-bb40cd4bf82f",
   "metadata": {
    "execution": {
     "iopub.execute_input": "2024-02-03T03:34:48.783334Z",
     "iopub.status.busy": "2024-02-03T03:34:48.782887Z",
     "iopub.status.idle": "2024-02-03T03:34:48.792466Z",
     "shell.execute_reply": "2024-02-03T03:34:48.791115Z",
     "shell.execute_reply.started": "2024-02-03T03:34:48.783292Z"
    }
   },
   "outputs": [],
   "source": [
    "zipped_sequence = zip(names, ages)\n",
    "zipped_sequence"
   ]
  },
  {
   "cell_type": "markdown",
   "id": "ae6d380b-363d-42ad-a02d-c4c5889a8541",
   "metadata": {},
   "source": [
    "This is because the `zip` object is a *lazy* iterators. *lazy* objects only evaluate their values until the value is needed. Once completely iterated, lazy objects also get exhausted - meaning they don't return any value."
   ]
  },
  {
   "cell_type": "code",
   "execution_count": null,
   "id": "bd52e469-4407-4837-b12e-ba4161c5260a",
   "metadata": {
    "execution": {
     "iopub.execute_input": "2024-02-03T03:34:48.808186Z",
     "iopub.status.busy": "2024-02-03T03:34:48.807666Z",
     "iopub.status.idle": "2024-02-03T03:34:48.815727Z",
     "shell.execute_reply": "2024-02-03T03:34:48.814365Z",
     "shell.execute_reply.started": "2024-02-03T03:34:48.808159Z"
    }
   },
   "outputs": [],
   "source": [
    "list(zipped_sequence)"
   ]
  },
  {
   "cell_type": "code",
   "execution_count": null,
   "id": "3b142a8d-139e-4041-99da-5fd2a5f462d5",
   "metadata": {
    "execution": {
     "iopub.execute_input": "2024-02-03T03:34:48.817207Z",
     "iopub.status.busy": "2024-02-03T03:34:48.816885Z",
     "iopub.status.idle": "2024-02-03T03:34:48.824961Z",
     "shell.execute_reply": "2024-02-03T03:34:48.823793Z",
     "shell.execute_reply.started": "2024-02-03T03:34:48.817180Z"
    }
   },
   "outputs": [],
   "source": [
    "list(zipped_sequence)"
   ]
  },
  {
   "cell_type": "markdown",
   "id": "b7dce2d0-fe32-4ab2-a3c4-6bdf24f51482",
   "metadata": {},
   "source": [
    "To unzip a zipped sequence, we can scatter or unpack the zipped sequence on a zip function call."
   ]
  },
  {
   "cell_type": "code",
   "execution_count": null,
   "id": "dea113ea-3158-4337-8eb6-d148090ac3a8",
   "metadata": {
    "execution": {
     "iopub.execute_input": "2024-02-03T03:34:48.826173Z",
     "iopub.status.busy": "2024-02-03T03:34:48.825897Z",
     "iopub.status.idle": "2024-02-03T03:34:48.833423Z",
     "shell.execute_reply": "2024-02-03T03:34:48.832227Z",
     "shell.execute_reply.started": "2024-02-03T03:34:48.826147Z"
    }
   },
   "outputs": [],
   "source": [
    "zipped_sequence = list(zip(names, ages))\n",
    "zipped_sequence"
   ]
  },
  {
   "cell_type": "code",
   "execution_count": null,
   "id": "0edb77a5-bffe-41aa-81c3-92f0149b6ebd",
   "metadata": {
    "execution": {
     "iopub.execute_input": "2024-02-03T03:34:48.834967Z",
     "iopub.status.busy": "2024-02-03T03:34:48.834613Z",
     "iopub.status.idle": "2024-02-03T03:34:48.842560Z",
     "shell.execute_reply": "2024-02-03T03:34:48.840572Z",
     "shell.execute_reply.started": "2024-02-03T03:34:48.834933Z"
    }
   },
   "outputs": [],
   "source": [
    "print(tuple(zip(*zipped_sequence)))"
   ]
  },
  {
   "cell_type": "markdown",
   "id": "fc26dba5-b70d-4ec7-9c6c-3e64f7c0c89a",
   "metadata": {},
   "source": [
    "In this case, we can unpack the sequence then save it in a set of variables."
   ]
  },
  {
   "cell_type": "code",
   "execution_count": null,
   "id": "a1249046-facb-4013-8786-6f0b2b887b92",
   "metadata": {
    "execution": {
     "iopub.execute_input": "2024-02-03T03:34:48.845188Z",
     "iopub.status.busy": "2024-02-03T03:34:48.844687Z",
     "iopub.status.idle": "2024-02-03T03:34:48.854330Z",
     "shell.execute_reply": "2024-02-03T03:34:48.852199Z",
     "shell.execute_reply.started": "2024-02-03T03:34:48.845144Z"
    }
   },
   "outputs": [],
   "source": [
    "same_names, same_ages = zip(*zipped_sequence)\n",
    "print(same_names)\n",
    "print(same_ages)"
   ]
  },
  {
   "cell_type": "markdown",
   "id": "0dedba54",
   "metadata": {},
   "source": [
    "## 3 Dictionaries"
   ]
  },
  {
   "cell_type": "markdown",
   "id": "03d0b4a3",
   "metadata": {},
   "source": [
    "Unlike list which stores a collection of data which are not necessarily related with each other, *dictionaries* enables us to store a collection of data with some related information. For example, we can create a dictionary representing information about a pokemon then store as much information as we want about that pokemon such as their name, type, height, weight, abilities, and base experience.\n",
    "\n",
    "To define a dictionary, we use curly brackets `{}` then use `:` to denote a correspondence between information. Elements in the dictionary are separate by `,` just like lists."
   ]
  },
  {
   "cell_type": "code",
   "execution_count": null,
   "id": "94ba530a",
   "metadata": {
    "ExecuteTime": {
     "end_time": "2023-07-12T11:02:22.836536Z",
     "start_time": "2023-07-12T11:02:22.830328Z"
    },
    "execution": {
     "iopub.execute_input": "2024-02-03T05:59:18.989429Z",
     "iopub.status.busy": "2024-02-03T05:59:18.988610Z",
     "iopub.status.idle": "2024-02-03T05:59:18.998221Z",
     "shell.execute_reply": "2024-02-03T05:59:18.996360Z",
     "shell.execute_reply.started": "2024-02-03T05:59:18.989366Z"
    },
    "tags": []
   },
   "outputs": [],
   "source": [
    "my_pokemon = {\n",
    "    'Name': 'Evee',\n",
    "    'Type': 'Normal',\n",
    "    'Height': 0.30,\n",
    "    'Weight': 6.5,\n",
    "    'Abilities': ['Run Away', 'Adaptability'],\n",
    "    'Base Exp': 65\n",
    "}"
   ]
  },
  {
   "cell_type": "markdown",
   "id": "590dbb18-4363-4e97-b5a9-6ed6c3b7e666",
   "metadata": {},
   "source": [
    "<div class=\"alert alert-success\">\n",
    "\n",
    "**PEP 8: Lining up spaces in between braces/brackets/parenthesis**\n",
    "    \n",
    "The closing brace/bracket/parenthesis on multiline constructs may either line up under the first non-whitespace character of the last line of list or or it may be lined up under the first character of the line that starts the multiline construct.\n",
    "\n",
    "Source: https://peps.python.org/pep-0008/#indentation\n",
    "\n",
    "</div>"
   ]
  },
  {
   "cell_type": "markdown",
   "id": "cb56e3f0",
   "metadata": {},
   "source": [
    "A dictionary is a collection of *key-value* pairs. Each *key* is connected to a value, and you can use a key to access the value associated with that key. The *value* of a particular *key* can be of any type, however, *keys* should be types that are *immutable*. Meaning, their values cannot be change by assignment."
   ]
  },
  {
   "cell_type": "markdown",
   "id": "f055339b",
   "metadata": {},
   "source": [
    "### Accessing values in a dictionary"
   ]
  },
  {
   "cell_type": "markdown",
   "id": "0d4dd223",
   "metadata": {},
   "source": [
    "To get the value associated with a key, we give the name of the dictionary then place the key inside the square brackes after it."
   ]
  },
  {
   "cell_type": "code",
   "execution_count": null,
   "id": "b1a75a2f",
   "metadata": {
    "ExecuteTime": {
     "end_time": "2023-07-12T11:03:37.937894Z",
     "start_time": "2023-07-12T11:03:37.930325Z"
    },
    "execution": {
     "iopub.execute_input": "2024-02-03T03:34:48.870902Z",
     "iopub.status.busy": "2024-02-03T03:34:48.868134Z",
     "iopub.status.idle": "2024-02-03T03:34:48.880187Z",
     "shell.execute_reply": "2024-02-03T03:34:48.878463Z",
     "shell.execute_reply.started": "2024-02-03T03:34:48.870844Z"
    }
   },
   "outputs": [],
   "source": [
    "my_pokemon['Name']"
   ]
  },
  {
   "cell_type": "markdown",
   "id": "c2bd8f3b",
   "metadata": {},
   "source": [
    "We can also use the `get()` method to access values. This is much safer than just indexing a particular key since you can specify a default output if the key does not exist in the dictionary."
   ]
  },
  {
   "cell_type": "code",
   "execution_count": null,
   "id": "8a574e8a",
   "metadata": {
    "ExecuteTime": {
     "end_time": "2023-07-12T11:09:39.286761Z",
     "start_time": "2023-07-12T11:09:39.281687Z"
    },
    "execution": {
     "iopub.execute_input": "2024-02-03T03:34:48.882767Z",
     "iopub.status.busy": "2024-02-03T03:34:48.882179Z",
     "iopub.status.idle": "2024-02-03T03:34:48.892803Z",
     "shell.execute_reply": "2024-02-03T03:34:48.891002Z",
     "shell.execute_reply.started": "2024-02-03T03:34:48.882709Z"
    }
   },
   "outputs": [],
   "source": [
    "my_pokemon.get('Name')"
   ]
  },
  {
   "cell_type": "code",
   "execution_count": null,
   "id": "f0d45e2e",
   "metadata": {
    "ExecuteTime": {
     "end_time": "2023-07-12T11:09:09.280283Z",
     "start_time": "2023-07-12T11:09:09.251132Z"
    },
    "execution": {
     "iopub.execute_input": "2024-02-03T03:34:48.895725Z",
     "iopub.status.busy": "2024-02-03T03:34:48.894621Z",
     "iopub.status.idle": "2024-02-03T03:34:48.901544Z",
     "shell.execute_reply": "2024-02-03T03:34:48.899604Z",
     "shell.execute_reply.started": "2024-02-03T03:34:48.895676Z"
    }
   },
   "outputs": [],
   "source": [
    "# my_pokemon['Favorite Food']"
   ]
  },
  {
   "cell_type": "code",
   "execution_count": null,
   "id": "a3bebe9b",
   "metadata": {
    "ExecuteTime": {
     "end_time": "2023-07-12T11:10:05.534555Z",
     "start_time": "2023-07-12T11:10:05.529929Z"
    },
    "execution": {
     "iopub.execute_input": "2024-02-03T03:34:48.904084Z",
     "iopub.status.busy": "2024-02-03T03:34:48.903423Z",
     "iopub.status.idle": "2024-02-03T03:34:48.913662Z",
     "shell.execute_reply": "2024-02-03T03:34:48.911766Z",
     "shell.execute_reply.started": "2024-02-03T03:34:48.904035Z"
    }
   },
   "outputs": [],
   "source": [
    "my_pokemon.get('Favorite Food', 'Pizza')"
   ]
  },
  {
   "cell_type": "markdown",
   "id": "1d4c29c6-9d22-4637-b9c0-f1fec6f3e3c5",
   "metadata": {},
   "source": [
    "The `get` method is essentially equivalent to the following function:"
   ]
  },
  {
   "cell_type": "code",
   "execution_count": null,
   "id": "70ef0620-d22c-44dc-b772-5d6ed104f28f",
   "metadata": {
    "execution": {
     "iopub.execute_input": "2024-02-03T03:34:48.916172Z",
     "iopub.status.busy": "2024-02-03T03:34:48.915597Z",
     "iopub.status.idle": "2024-02-03T03:34:48.923710Z",
     "shell.execute_reply": "2024-02-03T03:34:48.922277Z",
     "shell.execute_reply.started": "2024-02-03T03:34:48.916116Z"
    }
   },
   "outputs": [],
   "source": [
    "def get_method(a_dict, key, default_value):\n",
    "    if key in a_dict:\n",
    "        return a_dict[key]\n",
    "    else:\n",
    "        return default_value"
   ]
  },
  {
   "cell_type": "code",
   "execution_count": null,
   "id": "4fde18e0-7c0d-4f17-b5d1-843466b74f72",
   "metadata": {
    "execution": {
     "iopub.execute_input": "2024-02-03T03:34:48.925808Z",
     "iopub.status.busy": "2024-02-03T03:34:48.925423Z",
     "iopub.status.idle": "2024-02-03T03:34:48.934465Z",
     "shell.execute_reply": "2024-02-03T03:34:48.933048Z",
     "shell.execute_reply.started": "2024-02-03T03:34:48.925772Z"
    }
   },
   "outputs": [],
   "source": [
    "get_method(my_pokemon, 'Favorite Food', 'Pizza')"
   ]
  },
  {
   "cell_type": "markdown",
   "id": "838494d2-673a-41b7-8b49-efb4ffef2c52",
   "metadata": {},
   "source": [
    "We can also obtain the same effect using the `setdefault()` method. However, when using `setdefault()`, we also insert the key with value of default if the key is not in the dictionary."
   ]
  },
  {
   "cell_type": "code",
   "execution_count": null,
   "id": "ada6147a-119f-49e0-ac3d-83a83b0827db",
   "metadata": {
    "execution": {
     "iopub.execute_input": "2024-02-03T03:34:48.936552Z",
     "iopub.status.busy": "2024-02-03T03:34:48.936143Z",
     "iopub.status.idle": "2024-02-03T03:34:48.945946Z",
     "shell.execute_reply": "2024-02-03T03:34:48.944022Z",
     "shell.execute_reply.started": "2024-02-03T03:34:48.936513Z"
    }
   },
   "outputs": [],
   "source": [
    "my_pokemon"
   ]
  },
  {
   "cell_type": "code",
   "execution_count": null,
   "id": "f4e79d72-6ff6-4562-9263-364929080e9a",
   "metadata": {
    "execution": {
     "iopub.execute_input": "2024-02-03T03:34:48.948102Z",
     "iopub.status.busy": "2024-02-03T03:34:48.947650Z",
     "iopub.status.idle": "2024-02-03T03:34:48.957410Z",
     "shell.execute_reply": "2024-02-03T03:34:48.955661Z",
     "shell.execute_reply.started": "2024-02-03T03:34:48.948058Z"
    }
   },
   "outputs": [],
   "source": [
    "my_pokemon.setdefault('Favorite Food', 'Pizza')"
   ]
  },
  {
   "cell_type": "code",
   "execution_count": null,
   "id": "2e806d81-188b-492d-bd05-28e26981e25a",
   "metadata": {
    "execution": {
     "iopub.execute_input": "2024-02-03T03:34:48.959685Z",
     "iopub.status.busy": "2024-02-03T03:34:48.959189Z",
     "iopub.status.idle": "2024-02-03T03:34:48.969256Z",
     "shell.execute_reply": "2024-02-03T03:34:48.967506Z",
     "shell.execute_reply.started": "2024-02-03T03:34:48.959638Z"
    }
   },
   "outputs": [],
   "source": [
    "my_pokemon"
   ]
  },
  {
   "cell_type": "markdown",
   "id": "7c5c5958",
   "metadata": {},
   "source": [
    "### Changing, Adding, and Removing Elements"
   ]
  },
  {
   "cell_type": "markdown",
   "id": "5438ba27",
   "metadata": {},
   "source": [
    "To change the value of a specific key pair, we can perform an assignment operation."
   ]
  },
  {
   "cell_type": "code",
   "execution_count": null,
   "id": "e283f6f7",
   "metadata": {
    "ExecuteTime": {
     "end_time": "2023-07-12T11:05:02.304569Z",
     "start_time": "2023-07-12T11:05:02.297519Z"
    },
    "execution": {
     "iopub.execute_input": "2024-02-03T03:34:48.971920Z",
     "iopub.status.busy": "2024-02-03T03:34:48.971308Z",
     "iopub.status.idle": "2024-02-03T03:34:48.980660Z",
     "shell.execute_reply": "2024-02-03T03:34:48.978647Z",
     "shell.execute_reply.started": "2024-02-03T03:34:48.971859Z"
    }
   },
   "outputs": [],
   "source": [
    "my_pokemon['Name'] = 'Jolteon'\n",
    "my_pokemon['Type'] = 'Electric'\n",
    "print(my_pokemon)"
   ]
  },
  {
   "cell_type": "markdown",
   "id": "445472b0",
   "metadata": {},
   "source": [
    "To add an element to our dictionary, we can perform an assignment to a key with no corresponding value."
   ]
  },
  {
   "cell_type": "code",
   "execution_count": null,
   "id": "9f30e15e",
   "metadata": {
    "ExecuteTime": {
     "end_time": "2023-07-12T11:06:01.044510Z",
     "start_time": "2023-07-12T11:06:01.040503Z"
    },
    "execution": {
     "iopub.execute_input": "2024-02-03T03:34:48.983642Z",
     "iopub.status.busy": "2024-02-03T03:34:48.982965Z",
     "iopub.status.idle": "2024-02-03T03:34:48.992021Z",
     "shell.execute_reply": "2024-02-03T03:34:48.990129Z",
     "shell.execute_reply.started": "2024-02-03T03:34:48.983575Z"
    }
   },
   "outputs": [],
   "source": [
    "my_pokemon['Species'] = 'Lightning Pokemon'\n",
    "print(my_pokemon)"
   ]
  },
  {
   "cell_type": "markdown",
   "id": "dbdaef3a",
   "metadata": {},
   "source": [
    "To remove a piece of information, we use the `del` operator."
   ]
  },
  {
   "cell_type": "code",
   "execution_count": null,
   "id": "9f7e868d",
   "metadata": {
    "ExecuteTime": {
     "end_time": "2023-07-12T11:07:08.302126Z",
     "start_time": "2023-07-12T11:07:08.295176Z"
    },
    "execution": {
     "iopub.execute_input": "2024-02-03T03:34:48.994427Z",
     "iopub.status.busy": "2024-02-03T03:34:48.993980Z",
     "iopub.status.idle": "2024-02-03T03:34:49.001961Z",
     "shell.execute_reply": "2024-02-03T03:34:49.000074Z",
     "shell.execute_reply.started": "2024-02-03T03:34:48.994385Z"
    }
   },
   "outputs": [],
   "source": [
    "del my_pokemon['Favorite Food']\n",
    "print(my_pokemon)"
   ]
  },
  {
   "cell_type": "markdown",
   "id": "5117bdde-6e88-4585-87da-f0cb0cdc244a",
   "metadata": {},
   "source": [
    "We can also add contents from another dictionary using the `update` method"
   ]
  },
  {
   "cell_type": "code",
   "execution_count": null,
   "id": "edf3f19d-31f5-4930-b245-ba2ba6fb657d",
   "metadata": {
    "execution": {
     "iopub.execute_input": "2024-02-03T03:34:49.004842Z",
     "iopub.status.busy": "2024-02-03T03:34:49.004002Z",
     "iopub.status.idle": "2024-02-03T03:34:49.012623Z",
     "shell.execute_reply": "2024-02-03T03:34:49.010692Z",
     "shell.execute_reply.started": "2024-02-03T03:34:49.004781Z"
    }
   },
   "outputs": [],
   "source": [
    "my_pokemon.update({'EV yield': '2 Speed', 'Base Friendship': 50,\n",
    "                   'Growth Rate': 'Medium Fast', 'Height': 0.8,\n",
    "                   'Weight': 24.5})"
   ]
  },
  {
   "cell_type": "code",
   "execution_count": null,
   "id": "f6614af8-5ade-440c-b1df-31502caf3ffe",
   "metadata": {
    "execution": {
     "iopub.execute_input": "2024-02-03T03:34:49.025688Z",
     "iopub.status.busy": "2024-02-03T03:34:49.024194Z",
     "iopub.status.idle": "2024-02-03T03:34:49.040694Z",
     "shell.execute_reply": "2024-02-03T03:34:49.039099Z",
     "shell.execute_reply.started": "2024-02-03T03:34:49.025585Z"
    }
   },
   "outputs": [],
   "source": [
    "my_pokemon"
   ]
  },
  {
   "cell_type": "markdown",
   "id": "b399f04a-a507-4f8e-aca2-6484efa34f8c",
   "metadata": {},
   "source": [
    "<div class=\"alert alert-success\">\n",
    "\n",
    "**PEP 8: Continuation Lines**\n",
    "    \n",
    "Continuation lines should align wrapped elements either vertically using Python’s implicit line joining inside parentheses, brackets and braces, or using a hanging indent.\n",
    "\n",
    "Source: https://peps.python.org/pep-0008/#indentation\n",
    "\n",
    "</div>"
   ]
  },
  {
   "cell_type": "markdown",
   "id": "09d512f7-ad74-4ce0-a19a-af070a93bbf3",
   "metadata": {},
   "source": [
    "### Processing Items in a Dictionary"
   ]
  },
  {
   "cell_type": "markdown",
   "id": "cec6a23f-adca-46dc-9f5b-6536847a72c2",
   "metadata": {},
   "source": [
    "We can also process items in a dictionary using a `for` loop in conjunction with the `dict`'s `item()` method."
   ]
  },
  {
   "cell_type": "code",
   "execution_count": null,
   "id": "f0a81e57-d2e4-42f0-b9c0-19e7ad14f8c6",
   "metadata": {
    "execution": {
     "iopub.execute_input": "2024-02-03T03:34:49.043357Z",
     "iopub.status.busy": "2024-02-03T03:34:49.042706Z",
     "iopub.status.idle": "2024-02-03T03:34:49.053442Z",
     "shell.execute_reply": "2024-02-03T03:34:49.051564Z",
     "shell.execute_reply.started": "2024-02-03T03:34:49.043291Z"
    }
   },
   "outputs": [],
   "source": [
    "for key, value in my_pokemon.items():\n",
    "    print(f\"{key}: {value}\")"
   ]
  },
  {
   "cell_type": "markdown",
   "id": "e2ae6f8a-2f8c-4be0-a674-9d99e22823a1",
   "metadata": {},
   "source": [
    "### Variable-length Keyword Arguments"
   ]
  },
  {
   "cell_type": "markdown",
   "id": "507db793-f967-4268-aaaf-fa9e564de294",
   "metadata": {},
   "source": [
    "When we place a `**` before a parameter name, it allows the function to **gather** an arbitrary number of keyword arguments into a corresponding dictionary."
   ]
  },
  {
   "cell_type": "code",
   "execution_count": null,
   "id": "8d478c30-ee2d-45c0-90fa-7468d53c152d",
   "metadata": {
    "execution": {
     "iopub.execute_input": "2024-02-03T03:34:49.055767Z",
     "iopub.status.busy": "2024-02-03T03:34:49.055275Z",
     "iopub.status.idle": "2024-02-03T03:34:49.064009Z",
     "shell.execute_reply": "2024-02-03T03:34:49.062046Z",
     "shell.execute_reply.started": "2024-02-03T03:34:49.055719Z"
    }
   },
   "outputs": [],
   "source": [
    "def print_pokemon(**kwargs):\n",
    "    for key, value in kwargs.items():\n",
    "        print(f\"{key}: {value}\")"
   ]
  },
  {
   "cell_type": "code",
   "execution_count": null,
   "id": "14139e3f-1515-4258-80da-27189083e20b",
   "metadata": {
    "execution": {
     "iopub.execute_input": "2024-02-03T03:34:49.065880Z",
     "iopub.status.busy": "2024-02-03T03:34:49.065518Z",
     "iopub.status.idle": "2024-02-03T03:34:49.073752Z",
     "shell.execute_reply": "2024-02-03T03:34:49.071801Z",
     "shell.execute_reply.started": "2024-02-03T03:34:49.065847Z"
    }
   },
   "outputs": [],
   "source": [
    "print_pokemon(Name='Evee', Height=0.30, Weight=6.5)"
   ]
  },
  {
   "cell_type": "markdown",
   "id": "ee4a0600-e95f-47b0-b72a-19d9931047e6",
   "metadata": {},
   "source": [
    "If we place a `**` before a dictionary during a function call, it **unpacks** or **scatters** the dictionary into the function's keyword parameters."
   ]
  },
  {
   "cell_type": "code",
   "execution_count": null,
   "id": "a05c8ff4-ccbe-4e94-9825-13b0082d09e1",
   "metadata": {
    "execution": {
     "iopub.execute_input": "2024-02-03T03:34:49.076889Z",
     "iopub.status.busy": "2024-02-03T03:34:49.075749Z",
     "iopub.status.idle": "2024-02-03T03:34:49.084213Z",
     "shell.execute_reply": "2024-02-03T03:34:49.082506Z",
     "shell.execute_reply.started": "2024-02-03T03:34:49.076842Z"
    }
   },
   "outputs": [],
   "source": [
    "print_pokemon(**my_pokemon)"
   ]
  },
  {
   "cell_type": "markdown",
   "id": "cc4428c4-c1d1-43c5-8923-18159d28a0e9",
   "metadata": {},
   "source": [
    "## 4 Sets"
   ]
  },
  {
   "cell_type": "markdown",
   "id": "7bbd922a-21e1-40b6-adff-164919441e8f",
   "metadata": {},
   "source": [
    "For cases where we want to operate on collections with unique values, we can define a **set** object which is an unordered collection of unique items. Sets behave like a collection of dictionary keys with no values. As such, we can only store immutable objects inside the sets.\n",
    "\n",
    "For example, here we define a set containing the vowel letters:"
   ]
  },
  {
   "cell_type": "code",
   "execution_count": null,
   "id": "c621f3d1-a60a-4b99-a56e-6524c3648ebe",
   "metadata": {
    "execution": {
     "iopub.execute_input": "2024-02-03T03:34:49.086371Z",
     "iopub.status.busy": "2024-02-03T03:34:49.085927Z",
     "iopub.status.idle": "2024-02-03T03:34:49.096037Z",
     "shell.execute_reply": "2024-02-03T03:34:49.094251Z",
     "shell.execute_reply.started": "2024-02-03T03:34:49.086328Z"
    }
   },
   "outputs": [],
   "source": [
    "vowels = {'a', 'e', 'i', 'o', 'u'}\n",
    "vowels"
   ]
  },
  {
   "cell_type": "markdown",
   "id": "c494eade-5687-4d78-b3ee-b8d0fe4d3449",
   "metadata": {},
   "source": [
    "Notice that if we include repeated items inside a set definition, duplicates are ignored:"
   ]
  },
  {
   "cell_type": "code",
   "execution_count": null,
   "id": "38d0bb8e-16f4-471a-b6a6-9ec87acd5688",
   "metadata": {
    "execution": {
     "iopub.execute_input": "2024-02-03T03:34:49.097993Z",
     "iopub.status.busy": "2024-02-03T03:34:49.097585Z",
     "iopub.status.idle": "2024-02-03T03:34:49.107515Z",
     "shell.execute_reply": "2024-02-03T03:34:49.105792Z",
     "shell.execute_reply.started": "2024-02-03T03:34:49.097954Z"
    }
   },
   "outputs": [],
   "source": [
    "vowels = {'a', 'o', 'o', 'i', 'e', 'u', 'a'}\n",
    "vowels"
   ]
  },
  {
   "cell_type": "markdown",
   "id": "2242be94-6731-433c-a84b-41be11abf42a",
   "metadata": {},
   "source": [
    "### Set operations"
   ]
  },
  {
   "cell_type": "markdown",
   "id": "b238a929-3f0f-4bb6-93a7-9150a49e1bf5",
   "metadata": {},
   "source": [
    "In mathematics, set operations include union, intersection, addition, and difference. In Python, we can implement this using methods or through the use of operators:"
   ]
  },
  {
   "cell_type": "code",
   "execution_count": null,
   "id": "854b7946-0160-4f4b-98bd-821b56975db1",
   "metadata": {
    "execution": {
     "iopub.execute_input": "2024-02-03T03:34:49.109795Z",
     "iopub.status.busy": "2024-02-03T03:34:49.109246Z",
     "iopub.status.idle": "2024-02-03T03:34:49.118457Z",
     "shell.execute_reply": "2024-02-03T03:34:49.116786Z",
     "shell.execute_reply.started": "2024-02-03T03:34:49.109754Z"
    }
   },
   "outputs": [],
   "source": [
    "vowels.add('y')\n",
    "vowels"
   ]
  },
  {
   "cell_type": "code",
   "execution_count": null,
   "id": "4c43a81e-093a-470e-afdd-514a8d27ec75",
   "metadata": {
    "execution": {
     "iopub.execute_input": "2024-02-03T03:34:49.121226Z",
     "iopub.status.busy": "2024-02-03T03:34:49.120525Z",
     "iopub.status.idle": "2024-02-03T03:34:49.130923Z",
     "shell.execute_reply": "2024-02-03T03:34:49.129082Z",
     "shell.execute_reply.started": "2024-02-03T03:34:49.121180Z"
    }
   },
   "outputs": [],
   "source": [
    "ten = set(range(10))\n",
    "lows = set(range(5))\n",
    "evens = set([i for i in range(10) if not i % 2])\n",
    "\n",
    "'''\n",
    "list comprehension is equivalent to:\n",
    "for i in range(10):     # Iterate through numbers 0-9\n",
    "    if not i % 2:       # Check if the number is even\n",
    "        evens.add(i)    # Add the even number to the set\n",
    "'''\n",
    "\n",
    "print(ten)\n",
    "print(lows)\n",
    "print(evens)"
   ]
  },
  {
   "cell_type": "code",
   "execution_count": null,
   "id": "605b6f0c-2bf8-404a-a3eb-49fb2c4ad932",
   "metadata": {
    "execution": {
     "iopub.execute_input": "2024-02-03T03:34:49.133509Z",
     "iopub.status.busy": "2024-02-03T03:34:49.133060Z",
     "iopub.status.idle": "2024-02-03T03:34:49.144427Z",
     "shell.execute_reply": "2024-02-03T03:34:49.142420Z",
     "shell.execute_reply.started": "2024-02-03T03:34:49.133466Z"
    }
   },
   "outputs": [],
   "source": [
    "lows.difference(evens)"
   ]
  },
  {
   "cell_type": "code",
   "execution_count": null,
   "id": "0653aeca-5c64-4e30-9b47-a176d6c2914b",
   "metadata": {
    "execution": {
     "iopub.execute_input": "2024-02-03T03:34:49.146833Z",
     "iopub.status.busy": "2024-02-03T03:34:49.146255Z",
     "iopub.status.idle": "2024-02-03T03:34:49.157498Z",
     "shell.execute_reply": "2024-02-03T03:34:49.155503Z",
     "shell.execute_reply.started": "2024-02-03T03:34:49.146792Z"
    }
   },
   "outputs": [],
   "source": [
    "lows.intersection(evens)"
   ]
  },
  {
   "cell_type": "code",
   "execution_count": null,
   "id": "f4c2cbae-1aba-4add-a32d-f282fee13347",
   "metadata": {
    "execution": {
     "iopub.execute_input": "2024-02-03T03:34:49.159112Z",
     "iopub.status.busy": "2024-02-03T03:34:49.158742Z",
     "iopub.status.idle": "2024-02-03T03:34:49.169369Z",
     "shell.execute_reply": "2024-02-03T03:34:49.167657Z",
     "shell.execute_reply.started": "2024-02-03T03:34:49.159076Z"
    }
   },
   "outputs": [],
   "source": [
    "lows & evens"
   ]
  },
  {
   "cell_type": "code",
   "execution_count": null,
   "id": "c90dc951-dc5b-4ebd-8df6-e3deffdfa740",
   "metadata": {
    "execution": {
     "iopub.execute_input": "2024-02-03T03:34:49.172051Z",
     "iopub.status.busy": "2024-02-03T03:34:49.171429Z",
     "iopub.status.idle": "2024-02-03T03:34:49.183436Z",
     "shell.execute_reply": "2024-02-03T03:34:49.182037Z",
     "shell.execute_reply.started": "2024-02-03T03:34:49.171993Z"
    }
   },
   "outputs": [],
   "source": [
    "lows.union(evens)"
   ]
  },
  {
   "cell_type": "code",
   "execution_count": null,
   "id": "530d0df4-8445-4a83-907c-7beda8791837",
   "metadata": {
    "execution": {
     "iopub.execute_input": "2024-02-03T03:34:49.186089Z",
     "iopub.status.busy": "2024-02-03T03:34:49.185348Z",
     "iopub.status.idle": "2024-02-03T03:34:49.195374Z",
     "shell.execute_reply": "2024-02-03T03:34:49.193788Z",
     "shell.execute_reply.started": "2024-02-03T03:34:49.186034Z"
    }
   },
   "outputs": [],
   "source": [
    "lows | evens"
   ]
  },
  {
   "cell_type": "code",
   "execution_count": null,
   "id": "f72a8df6-2154-4b67-a366-13489f7c3437",
   "metadata": {
    "execution": {
     "iopub.execute_input": "2024-02-03T03:34:49.197682Z",
     "iopub.status.busy": "2024-02-03T03:34:49.197231Z",
     "iopub.status.idle": "2024-02-03T03:34:49.207213Z",
     "shell.execute_reply": "2024-02-03T03:34:49.205347Z",
     "shell.execute_reply.started": "2024-02-03T03:34:49.197639Z"
    }
   },
   "outputs": [],
   "source": [
    "lows.issubset(ten)"
   ]
  },
  {
   "cell_type": "code",
   "execution_count": null,
   "id": "3027e520-20d0-4f60-84bb-c228ebcc2efc",
   "metadata": {
    "execution": {
     "iopub.execute_input": "2024-02-03T03:34:49.209689Z",
     "iopub.status.busy": "2024-02-03T03:34:49.209106Z",
     "iopub.status.idle": "2024-02-03T03:34:49.217679Z",
     "shell.execute_reply": "2024-02-03T03:34:49.216392Z",
     "shell.execute_reply.started": "2024-02-03T03:34:49.209649Z"
    }
   },
   "outputs": [],
   "source": [
    "lows.issuperset(evens)"
   ]
  },
  {
   "cell_type": "code",
   "execution_count": null,
   "id": "42642743-24a8-4d83-8d5e-a4475c6bed69",
   "metadata": {
    "execution": {
     "iopub.execute_input": "2024-02-03T03:34:49.219989Z",
     "iopub.status.busy": "2024-02-03T03:34:49.219369Z",
     "iopub.status.idle": "2024-02-03T03:34:49.228896Z",
     "shell.execute_reply": "2024-02-03T03:34:49.227459Z",
     "shell.execute_reply.started": "2024-02-03T03:34:49.219945Z"
    }
   },
   "outputs": [],
   "source": [
    "lows.remove(0)\n",
    "lows"
   ]
  },
  {
   "cell_type": "code",
   "execution_count": null,
   "id": "39cd4dc0-876d-4b0e-99fe-e4f9cbc71804",
   "metadata": {
    "execution": {
     "iopub.execute_input": "2024-02-03T03:34:49.231787Z",
     "iopub.status.busy": "2024-02-03T03:34:49.231104Z",
     "iopub.status.idle": "2024-02-03T03:34:49.243137Z",
     "shell.execute_reply": "2024-02-03T03:34:49.241537Z",
     "shell.execute_reply.started": "2024-02-03T03:34:49.231719Z"
    }
   },
   "outputs": [],
   "source": [
    "lows.symmetric_difference(evens)"
   ]
  },
  {
   "cell_type": "code",
   "execution_count": null,
   "id": "23490ed7-70a0-430e-9658-c7b6e1a1eba5",
   "metadata": {
    "execution": {
     "iopub.execute_input": "2024-02-03T03:34:49.246082Z",
     "iopub.status.busy": "2024-02-03T03:34:49.245292Z",
     "iopub.status.idle": "2024-02-03T03:34:49.258877Z",
     "shell.execute_reply": "2024-02-03T03:34:49.256928Z",
     "shell.execute_reply.started": "2024-02-03T03:34:49.246021Z"
    }
   },
   "outputs": [],
   "source": [
    "lows.union(evens).difference(lows.intersection(evens))"
   ]
  },
  {
   "cell_type": "code",
   "execution_count": null,
   "id": "27a6d71d-6392-4729-8904-ce70a6646022",
   "metadata": {
    "execution": {
     "iopub.execute_input": "2024-02-03T03:34:49.262503Z",
     "iopub.status.busy": "2024-02-03T03:34:49.261279Z",
     "iopub.status.idle": "2024-02-03T03:34:49.272467Z",
     "shell.execute_reply": "2024-02-03T03:34:49.270936Z",
     "shell.execute_reply.started": "2024-02-03T03:34:49.262435Z"
    }
   },
   "outputs": [],
   "source": [
    "(lows | evens) - (lows & evens)"
   ]
  },
  {
   "cell_type": "markdown",
   "id": "0a2cff78",
   "metadata": {},
   "source": [
    "## 5 Hands-on Exercises"
   ]
  },
  {
   "cell_type": "markdown",
   "id": "9a253e36",
   "metadata": {
    "deletable": false,
    "editable": false,
    "nbgrader": {
     "cell_type": "markdown",
     "checksum": "8643d95fa473b8e8d63570956bb5b4cc",
     "grade": false,
     "grade_id": "cell-fb970165ccdc2421",
     "locked": true,
     "schema_version": 3,
     "solution": false,
     "task": false
    }
   },
   "source": [
    "### Draw a card"
   ]
  },
  {
   "cell_type": "markdown",
   "id": "94fd0c1c",
   "metadata": {
    "deletable": false,
    "editable": false,
    "nbgrader": {
     "cell_type": "markdown",
     "checksum": "198f7fee7bd799f9e7b673261c26bc0c",
     "grade": false,
     "grade_id": "cell-6b5faabd1f32a532",
     "locked": true,
     "schema_version": 3,
     "solution": false,
     "task": false
    }
   },
   "source": [
    "Create a function `draw_card()` which simulates you to randomly drawing a card in a standard 52-deck. The function should not accept any parameters but should return a string representing the card that was drawn, including its suit and rank.\n",
    "\n",
    "Example output:\n",
    "\n",
    "```\n",
    ">>> draw_card()\n",
    "'Jack of Spades'\n",
    "```\n",
    "\n",
    "*Hint: Use the `choice` method of the `random` library*"
   ]
  },
  {
   "cell_type": "code",
   "execution_count": null,
   "id": "457994c3",
   "metadata": {
    "deletable": false,
    "execution": {
     "iopub.execute_input": "2024-02-03T06:06:58.265027Z",
     "iopub.status.busy": "2024-02-03T06:06:58.264230Z",
     "iopub.status.idle": "2024-02-03T06:06:58.280910Z",
     "shell.execute_reply": "2024-02-03T06:06:58.278749Z",
     "shell.execute_reply.started": "2024-02-03T06:06:58.264960Z"
    },
    "nbgrader": {
     "cell_type": "code",
     "checksum": "e59322a45b6961d6198687864aadfe0a",
     "grade": false,
     "grade_id": "cell-10fd12b092888dbc",
     "locked": false,
     "schema_version": 3,
     "solution": true,
     "task": false
    },
    "tags": []
   },
   "outputs": [
    {
     "data": {
      "text/plain": [
       "'4 of Clubs'"
      ]
     },
     "execution_count": 61,
     "metadata": {},
     "output_type": "execute_result"
    }
   ],
   "source": [
    "from random import choice\n",
    "\n",
    "def draw_card():\n",
    "    \"\"\"\n",
    "    Randomly draw a card from a standard 52-card deck.\n",
    "    \"\"\"\n",
    "    # Define the full lists of ranks and suits for a standard 52-card deck\n",
    "    ranks = ['2', '3', '4', '5', '6', '7', '8', '9', '10', 'J', 'Q', 'K', 'A']\n",
    "    suits = ['Hearts', 'Diamonds', 'Clubs', 'Spades']\n",
    "    \n",
    "    deck = []\n",
    "    \n",
    "    # Option 1: List Comprehension (concise way to build the deck)\n",
    "    deck = [f\"{r} of {s}\" for r in ranks for s in suits]\n",
    "    \n",
    "    # Option 2: Nested For Loops (explicit way to build the deck)\n",
    "    # for r in ranks:\n",
    "    #     for s in suits:\n",
    "    #         deck.append(f\"{r} of {s}\")\n",
    "    \n",
    "    # Randomly select and return one card from the full deck\n",
    "    return choice(deck)\n",
    "\n",
    "# Test the function\n",
    "draw_card()"
   ]
  },
  {
   "cell_type": "markdown",
   "id": "8701d1ad-48ad-4f66-b675-08717cb90e82",
   "metadata": {
    "deletable": false,
    "editable": false,
    "nbgrader": {
     "cell_type": "markdown",
     "checksum": "180b6b587529eeb83b8c0e7aa8b51b4f",
     "grade": false,
     "grade_id": "cell-14a19a7e307e8e36",
     "locked": true,
     "schema_version": 3,
     "solution": false,
     "task": false
    }
   },
   "source": [
    "### Anagrams"
   ]
  },
  {
   "cell_type": "markdown",
   "id": "6967547e-23a3-4978-976d-69cb25e1b945",
   "metadata": {
    "deletable": false,
    "editable": false,
    "nbgrader": {
     "cell_type": "markdown",
     "checksum": "e7b73b789a1bf55fcc56de965c2b2852",
     "grade": false,
     "grade_id": "cell-2067f14389462ab7",
     "locked": true,
     "schema_version": 3,
     "solution": false,
     "task": false
    }
   },
   "source": [
    "Two words are anagrams if you can rearrange the letters from one to spell the other. Write a function named `is_anagram` that takes in two strings and returns `True` if they are anagrams, `False` otherwise"
   ]
  },
  {
   "cell_type": "code",
   "execution_count": null,
   "id": "b1f7f81e-1563-4b5a-95a3-00697d72b342",
   "metadata": {
    "deletable": false,
    "execution": {
     "iopub.execute_input": "2024-02-03T06:37:58.358360Z",
     "iopub.status.busy": "2024-02-03T06:37:58.357647Z",
     "iopub.status.idle": "2024-02-03T06:37:58.371292Z",
     "shell.execute_reply": "2024-02-03T06:37:58.369630Z",
     "shell.execute_reply.started": "2024-02-03T06:37:58.358298Z"
    },
    "nbgrader": {
     "cell_type": "code",
     "checksum": "d694730aba57171c3e12fc1bd65bd4ba",
     "grade": false,
     "grade_id": "cell-64d5996d7b57f2c8",
     "locked": false,
     "schema_version": 3,
     "solution": true,
     "task": false
    },
    "tags": []
   },
   "outputs": [],
   "source": [
    "def is_anagram(word1, word2):\n",
    "    \"\"\"\n",
    "    Check if two words are anagrams of each other.\n",
    "    \"\"\"\n",
    "    return sorted(word1) == sorted(word2)"
   ]
  },
  {
   "cell_type": "code",
   "execution_count": null,
   "id": "8c3bbfb7",
   "metadata": {},
   "outputs": [],
   "source": [
    "# Test\n",
    "print(is_anagram('listen', 'silent'))   # True\n",
    "print(is_anagram('hello', 'world'))     # False\n",
    "print(is_anagram('listens', 'silent'))  # False\n",
    "print(is_anagram('', 'something'))      # False"
   ]
  },
  {
   "cell_type": "markdown",
   "id": "3fc5343a-27a5-446d-9b7c-c7322ac74f7f",
   "metadata": {
    "deletable": false,
    "editable": false,
    "nbgrader": {
     "cell_type": "markdown",
     "checksum": "724143af3ed0bd59c2cb5f8a66d2dff9",
     "grade": false,
     "grade_id": "cell-f4652a0fa3b828f9",
     "locked": true,
     "schema_version": 3,
     "solution": false,
     "task": false
    }
   },
   "source": [
    "### Roman Numerals"
   ]
  },
  {
   "cell_type": "markdown",
   "id": "102fb719-6c1b-4d75-acb0-8c969b6cb178",
   "metadata": {
    "deletable": false,
    "editable": false,
    "nbgrader": {
     "cell_type": "markdown",
     "checksum": "9b64f21a07a11054653d2a9d45d1340e",
     "grade": false,
     "grade_id": "cell-1e565d3e303f2e46",
     "locked": true,
     "schema_version": 3,
     "solution": false,
     "task": false
    }
   },
   "source": [
    "Create a function `roman_to_integer()` that takes in a roman numeral string `roman_numeral` then outputs the corresponding integer value of the `roman_numeral`"
   ]
  },
  {
   "cell_type": "code",
   "execution_count": 62,
   "id": "51728a73-9a48-4d94-b66d-96d1eac50053",
   "metadata": {
    "deletable": false,
    "execution": {
     "iopub.execute_input": "2024-02-04T13:28:58.102416Z",
     "iopub.status.busy": "2024-02-04T13:28:58.101674Z",
     "iopub.status.idle": "2024-02-04T13:28:58.118438Z",
     "shell.execute_reply": "2024-02-04T13:28:58.116668Z",
     "shell.execute_reply.started": "2024-02-04T13:28:58.102329Z"
    },
    "nbgrader": {
     "cell_type": "code",
     "checksum": "55d9797393c55c2e2d0a111541618f52",
     "grade": false,
     "grade_id": "cell-04346a8c16bd772a",
     "locked": false,
     "schema_version": 3,
     "solution": true,
     "task": false
    },
    "tags": []
   },
   "outputs": [],
   "source": [
    "def roman_to_integer(roman_numeral):\n",
    "    \"\"\"\n",
    "    Convert a Roman numeral to an integer.\n",
    "    \"\"\"\n",
    "    roman_dict = {\n",
    "        'I': 1,\n",
    "        'V': 5,\n",
    "        'X': 10,\n",
    "        'L': 50,\n",
    "        'C': 100,\n",
    "        'D': 500,\n",
    "        'M': 1000\n",
    "    }\n",
    "    total = 0\n",
    "    prev_value = 0\n",
    "    for char in reversed(roman_numeral):\n",
    "        curr_value = roman_dict.get(char, 0)\n",
    "        if curr_value < prev_value:\n",
    "            total -= curr_value\n",
    "        else:\n",
    "            total += curr_value\n",
    "        prev_value = curr_value\n",
    "    return total"
   ]
  },
  {
   "cell_type": "code",
   "execution_count": 63,
   "id": "50bb9982",
   "metadata": {},
   "outputs": [
    {
     "name": "stdout",
     "output_type": "stream",
     "text": [
      "14\n",
      "42\n",
      "2025\n"
     ]
    }
   ],
   "source": [
    "print(roman_to_integer('XIV'))  # 14\n",
    "print(roman_to_integer('XLII'))  # 42\n",
    "print(roman_to_integer('MMXXV')) # 2025"
   ]
  },
  {
   "cell_type": "markdown",
   "id": "e7c215d1-e894-4802-951f-4aa3ceec233e",
   "metadata": {
    "deletable": false,
    "editable": false,
    "nbgrader": {
     "cell_type": "markdown",
     "checksum": "6d5010fdd3c72e7328be2b1a6cb4438f",
     "grade": false,
     "grade_id": "cell-51d903aa440cfaa1",
     "locked": true,
     "schema_version": 3,
     "solution": false,
     "task": false
    }
   },
   "source": [
    "Create a function `integer_to_roman` that takes in an integer `n` then outputs the corresponding roman numeral string of the integer."
   ]
  },
  {
   "cell_type": "code",
   "execution_count": 64,
   "id": "d66922e2-e323-411f-8675-7827f3122207",
   "metadata": {
    "deletable": false,
    "execution": {
     "iopub.execute_input": "2024-02-04T13:29:05.275828Z",
     "iopub.status.busy": "2024-02-04T13:29:05.275118Z",
     "iopub.status.idle": "2024-02-04T13:29:05.288553Z",
     "shell.execute_reply": "2024-02-04T13:29:05.286800Z",
     "shell.execute_reply.started": "2024-02-04T13:29:05.275765Z"
    },
    "nbgrader": {
     "cell_type": "code",
     "checksum": "9ac161d579a70c14b04e1576e01faad3",
     "grade": false,
     "grade_id": "cell-d9823aad8de8f225",
     "locked": false,
     "schema_version": 3,
     "solution": true,
     "task": false
    },
    "tags": []
   },
   "outputs": [],
   "source": [
    "def integer_to_roman(n):\n",
    "    \"\"\"\n",
    "    Convert an integer to a Roman numeral.\n",
    "    \"\"\"\n",
    "    val = [\n",
    "        1000, 900, 500, 400,\n",
    "        100, 90, 50, 40,\n",
    "        10, 9, 5, 4,\n",
    "        1\n",
    "    ]\n",
    "    syms = [\n",
    "        \"M\", \"CM\", \"D\", \"CD\",\n",
    "        \"C\", \"XC\", \"L\", \"XL\",\n",
    "        \"X\", \"IX\", \"V\", \"IV\",\n",
    "        \"I\"\n",
    "    ]\n",
    "    roman_numeral = \"\"\n",
    "    for i in range(len(val)):\n",
    "        while n >= val[i]:\n",
    "            roman_numeral += syms[i]\n",
    "            n -= val[i]\n",
    "    return roman_numeral\n"
   ]
  },
  {
   "cell_type": "code",
   "execution_count": 65,
   "id": "9f7c6dd7",
   "metadata": {},
   "outputs": [
    {
     "name": "stdout",
     "output_type": "stream",
     "text": [
      "XIV\n",
      "XLII\n",
      "MMXXV\n"
     ]
    }
   ],
   "source": [
    "print(integer_to_roman(14))    # XIV\n",
    "print(integer_to_roman(42))    # XLII\n",
    "print(integer_to_roman(2025))  # MMXXV"
   ]
  },
  {
   "cell_type": "code",
   "execution_count": null,
   "id": "4cac1b0b",
   "metadata": {},
   "outputs": [],
   "source": []
  }
 ],
 "metadata": {
  "kernelspec": {
   "display_name": "mdcm",
   "language": "python",
   "name": "python3"
  },
  "language_info": {
   "codemirror_mode": {
    "name": "ipython",
    "version": 3
   },
   "file_extension": ".py",
   "mimetype": "text/x-python",
   "name": "python",
   "nbconvert_exporter": "python",
   "pygments_lexer": "ipython3",
   "version": "3.12.11"
  }
 },
 "nbformat": 4,
 "nbformat_minor": 5
}
