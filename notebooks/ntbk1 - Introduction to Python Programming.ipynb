{
 "cells": [
  {
   "cell_type": "markdown",
   "id": "e2cbc731",
   "metadata": {
    "deletable": false,
    "editable": false,
    "id": "e2cbc731",
    "nbgrader": {
     "cell_type": "markdown",
     "checksum": "37fef8c30ef77b66a28838a05ee8aca8",
     "grade": false,
     "grade_id": "cell-85a1c0d547f69511",
     "locked": true,
     "schema_version": 3,
     "solution": false,
     "task": false
    },
    "tags": []
   },
   "source": [
    "# Hello Python! 🐍"
   ]
  },
  {
   "cell_type": "markdown",
   "id": "f3fcbc08",
   "metadata": {
    "deletable": false,
    "editable": false,
    "id": "f3fcbc08",
    "nbgrader": {
     "cell_type": "markdown",
     "checksum": "8e76fc04be8bca850001662a615fdb0c",
     "grade": false,
     "grade_id": "cell-be66e01aa2e891b5",
     "locked": true,
     "schema_version": 3,
     "solution": false,
     "task": false
    },
    "tags": []
   },
   "source": [
    "## 1 The Ceremonial `hello world!`"
   ]
  },
  {
   "cell_type": "markdown",
   "id": "90418e94",
   "metadata": {
    "deletable": false,
    "editable": false,
    "id": "90418e94",
    "nbgrader": {
     "cell_type": "markdown",
     "checksum": "ba894965beaf750be69646ba7da53922",
     "grade": false,
     "grade_id": "cell-87651ee76e1a1c7e",
     "locked": true,
     "schema_version": 3,
     "solution": false,
     "task": false
    },
    "tags": []
   },
   "source": [
    "Let us know perform the ceremonial printing of `hello world!` using python!"
   ]
  },
  {
   "cell_type": "markdown",
   "id": "9618e105",
   "metadata": {
    "deletable": false,
    "editable": false,
    "id": "9618e105",
    "nbgrader": {
     "cell_type": "markdown",
     "checksum": "f68b24cfe8944ab9c6557a4c6e00f6f9",
     "grade": false,
     "grade_id": "cell-808089b76213ba07",
     "locked": true,
     "schema_version": 3,
     "solution": false,
     "task": false
    },
    "tags": []
   },
   "source": [
    "### Approach 1"
   ]
  },
  {
   "cell_type": "markdown",
   "id": "7f5ec81d",
   "metadata": {
    "deletable": false,
    "editable": false,
    "id": "7f5ec81d",
    "nbgrader": {
     "cell_type": "markdown",
     "checksum": "20fe5c264870fc629cca30f43c16fe79",
     "grade": false,
     "grade_id": "cell-1c4d790408f86d88",
     "locked": true,
     "schema_version": 3,
     "solution": false,
     "task": false
    },
    "tags": []
   },
   "source": [
    "```\n",
    "start\n",
    "print the string \"hello world!\"\n",
    "end\n",
    "```"
   ]
  },
  {
   "cell_type": "code",
   "execution_count": null,
   "id": "eb811409",
   "metadata": {
    "ExecuteTime": {
     "end_time": "2024-01-26T19:06:41.291576Z",
     "start_time": "2024-01-26T19:06:41.285044Z"
    },
    "execution": {
     "iopub.execute_input": "2024-01-27T03:09:53.323005Z",
     "iopub.status.busy": "2024-01-27T03:09:53.322300Z",
     "iopub.status.idle": "2024-01-27T03:09:53.342961Z",
     "shell.execute_reply": "2024-01-27T03:09:53.341472Z",
     "shell.execute_reply.started": "2024-01-27T03:09:53.322940Z"
    },
    "id": "eb811409"
   },
   "outputs": [],
   "source": [
    "print(\"hello world!\")"
   ]
  },
  {
   "cell_type": "markdown",
   "id": "7a4cf9f9",
   "metadata": {
    "deletable": false,
    "editable": false,
    "id": "7a4cf9f9",
    "nbgrader": {
     "cell_type": "markdown",
     "checksum": "09cbe2c87560a8c7ba2429bb1f911e6f",
     "grade": false,
     "grade_id": "cell-0ed1c7ff5406ca9f",
     "locked": true,
     "schema_version": 3,
     "solution": false,
     "task": false
    },
    "tags": []
   },
   "source": [
    "### Approach 2"
   ]
  },
  {
   "cell_type": "markdown",
   "id": "9ecb5b1d",
   "metadata": {
    "deletable": false,
    "editable": false,
    "id": "9ecb5b1d",
    "nbgrader": {
     "cell_type": "markdown",
     "checksum": "604110bd7812eb3bc95689862507a7a0",
     "grade": false,
     "grade_id": "cell-801e48ad6909757b",
     "locked": true,
     "schema_version": 3,
     "solution": false,
     "task": false
    },
    "tags": []
   },
   "source": [
    "```\n",
    "start\n",
    "set `message` as `\"hello world!\"`\n",
    "print `message`\n",
    "end\n",
    "```"
   ]
  },
  {
   "cell_type": "code",
   "execution_count": null,
   "id": "0353670a",
   "metadata": {
    "ExecuteTime": {
     "end_time": "2024-01-26T19:06:41.295125Z",
     "start_time": "2024-01-26T19:06:41.293452Z"
    },
    "execution": {
     "iopub.execute_input": "2024-01-27T03:09:53.346060Z",
     "iopub.status.busy": "2024-01-27T03:09:53.345589Z",
     "iopub.status.idle": "2024-01-27T03:09:53.355979Z",
     "shell.execute_reply": "2024-01-27T03:09:53.354062Z",
     "shell.execute_reply.started": "2024-01-27T03:09:53.346016Z"
    },
    "id": "0353670a"
   },
   "outputs": [],
   "source": [
    "message = \"hello world!\"\n",
    "print(message)"
   ]
  },
  {
   "cell_type": "markdown",
   "id": "6b690f3c",
   "metadata": {
    "deletable": false,
    "editable": false,
    "id": "6b690f3c",
    "nbgrader": {
     "cell_type": "markdown",
     "checksum": "752ec6ce671a6617b4dc2df3204e19ab",
     "grade": false,
     "grade_id": "cell-f6f156a9efae6812",
     "locked": true,
     "schema_version": 3,
     "solution": false,
     "task": false
    },
    "tags": []
   },
   "source": [
    "The difference is that in approach 2, we've set the *variable* `message` with the value `\"hello world!\"` then printed the `message` in our notebook."
   ]
  },
  {
   "cell_type": "markdown",
   "id": "ad9bb345-9513-4c0f-b62b-234cd79f93c8",
   "metadata": {
    "id": "ad9bb345-9513-4c0f-b62b-234cd79f93c8"
   },
   "source": [
    "<div class=\"alert alert-success\">\n",
    "\n",
    "**PEP 8: Assignment Statements**\n",
    "    \n",
    "Always surround these binary operators with a single space on either side: assignment (=), augmented assignment (+=, -= etc.), comparisons (==, <, >, !=, <>, <=, >=, in, not in, is, is not), Booleans (and, or, not).\n",
    "\n",
    "Source: https://peps.python.org/pep-0008/#other-recommendations\n",
    "\n",
    "</div>"
   ]
  },
  {
   "cell_type": "markdown",
   "id": "cb07668a",
   "metadata": {
    "deletable": false,
    "editable": false,
    "id": "cb07668a",
    "nbgrader": {
     "cell_type": "markdown",
     "checksum": "43195cf862f8b3567f107bd96f51f0d6",
     "grade": false,
     "grade_id": "cell-e2ba4e2e061e5106",
     "locked": true,
     "schema_version": 3,
     "solution": false,
     "task": false
    },
    "tags": []
   },
   "source": [
    "When we are using variables in Python, there are some rules and guidelines.\n",
    "\n",
    "1. Variable names can contain only letters, numbers, and underscores. They can start with a letter or an underscore, but not with a number. e.g., `message_1` is valid but `1_message` is not.\n",
    "2. Spaces are not allowed in variable names, but underscores can be used to separate words in variable names. e.g.,` greeting_message` works, but `greeting message` will cause errors.\n",
    "3. Avoid using Python keywords and function names as variable names; do not use words that Python has reserved for a particular purpose. e.g., `print`. See [Python Keywords](https://www.w3schools.com/python/python_ref_keywords.asp) for more examples.\n",
    "4. Variable names should be short but descriptive.\n",
    "5. Be careful when using lower case `l` and upper case `O`, because they can be confused with `1` and `0`."
   ]
  },
  {
   "cell_type": "markdown",
   "id": "e5c112b0-c459-4c33-9579-a30b0b161683",
   "metadata": {
    "id": "e5c112b0-c459-4c33-9579-a30b0b161683"
   },
   "source": [
    "<div class=\"alert alert-success\">\n",
    "\n",
    "**PEP 8: Function and Variable Names (Recommendation)**\n",
    "    \n",
    "Function names should be lowercase, with words separated by underscores as necessary to improve readability.\n",
    "\n",
    "Variable names follow the same convention as function names.\n",
    "\n",
    "mixedCase is allowed only in contexts where that’s already the prevailing style (e.g. threading.py), to retain backwards compatibility.\n",
    "\n",
    "Source: https://peps.python.org/pep-0008/#function-and-variable-names\n",
    "\n",
    "</div>"
   ]
  },
  {
   "cell_type": "markdown",
   "id": "8dc53d5f",
   "metadata": {
    "id": "8dc53d5f"
   },
   "source": [
    "## 2 Syntax"
   ]
  },
  {
   "cell_type": "markdown",
   "id": "7ac60faa",
   "metadata": {
    "id": "7ac60faa"
   },
   "source": [
    "### Indentation"
   ]
  },
  {
   "cell_type": "markdown",
   "id": "a94c3648",
   "metadata": {
    "id": "a94c3648"
   },
   "source": [
    "Indentation refers to the spaces at the beginning of a code line.\n",
    "\n",
    "Where in other programming languages the indentation in code is for readability only, the indentation in Python is very important.\n",
    "\n",
    "Python uses indentation to indicate a block of code.\n",
    "\n",
    "The number of spaces is up to you, the most common use is four, but it has to be at least one."
   ]
  },
  {
   "cell_type": "code",
   "execution_count": null,
   "id": "b6928a0c",
   "metadata": {
    "id": "b6928a0c"
   },
   "outputs": [],
   "source": [
    "if 5 > 2:\n",
    " print(\"Five is greater than two!\")\n",
    "if 5 > 2:\n",
    "    print(\"Five is greater than two!\")"
   ]
  },
  {
   "cell_type": "markdown",
   "id": "80d60565",
   "metadata": {
    "id": "80d60565"
   },
   "source": [
    "You have to use the same number of spaces in the same block of code, otherwise Python will give you an error"
   ]
  },
  {
   "cell_type": "markdown",
   "id": "3fe22951",
   "metadata": {
    "id": "3fe22951"
   },
   "source": [
    "### Variables"
   ]
  },
  {
   "cell_type": "markdown",
   "id": "93f30fd9",
   "metadata": {
    "id": "93f30fd9"
   },
   "source": [
    "In Python, variables are created when you assign a value to it:"
   ]
  },
  {
   "cell_type": "code",
   "execution_count": null,
   "id": "51e0b24a",
   "metadata": {
    "id": "51e0b24a"
   },
   "outputs": [],
   "source": [
    "x = 5\n",
    "y = \"Hello, World!\""
   ]
  },
  {
   "cell_type": "markdown",
   "id": "73668688",
   "metadata": {
    "id": "73668688"
   },
   "source": [
    "### Comments"
   ]
  },
  {
   "cell_type": "markdown",
   "id": "cdbefc60",
   "metadata": {
    "id": "cdbefc60"
   },
   "source": [
    "Python has commenting capability for the purpose of in-code documentation.\n",
    "\n",
    "Comments start with a **#**, and Python will render the rest of the line as a comment:"
   ]
  },
  {
   "cell_type": "code",
   "execution_count": null,
   "id": "573d5567",
   "metadata": {
    "id": "573d5567"
   },
   "outputs": [],
   "source": [
    "#This is a comment.\n",
    "print(\"Hello, World!\")"
   ]
  },
  {
   "cell_type": "markdown",
   "id": "161210c5",
   "metadata": {
    "id": "161210c5"
   },
   "source": [
    "Comments can be used to explain Python code.\n",
    "\n",
    "Comments can be used to make the code more readable.\n",
    "\n",
    "Comments can be used to prevent execution when testing code."
   ]
  },
  {
   "cell_type": "markdown",
   "id": "e9750fcc",
   "metadata": {
    "id": "e9750fcc"
   },
   "source": [
    "Comments can be placed at the end of a line, and Python will ignore the rest of the line:"
   ]
  },
  {
   "cell_type": "code",
   "execution_count": null,
   "id": "b76cd0a9",
   "metadata": {
    "id": "b76cd0a9"
   },
   "outputs": [],
   "source": [
    "print(\"Hello, World!\") #This is a comment"
   ]
  },
  {
   "cell_type": "markdown",
   "id": "52043bd4",
   "metadata": {
    "id": "52043bd4"
   },
   "source": [
    "A comment does not have to be text that explains the code, it can also be used to prevent Python from executing code:"
   ]
  },
  {
   "cell_type": "code",
   "execution_count": null,
   "id": "728f26d1",
   "metadata": {
    "id": "728f26d1"
   },
   "outputs": [],
   "source": [
    "#print(\"Hello, World!\")\n",
    "print(\"Cheers, Mate!\")"
   ]
  },
  {
   "cell_type": "markdown",
   "id": "b4abbd51",
   "metadata": {
    "id": "b4abbd51"
   },
   "source": [
    "#### Multiline Comments"
   ]
  },
  {
   "cell_type": "markdown",
   "id": "243b482b",
   "metadata": {
    "id": "243b482b"
   },
   "source": [
    "Python does not really have a syntax for multiline comments.\n",
    "\n",
    "To add a multiline comment you could insert a # for each line:"
   ]
  },
  {
   "cell_type": "code",
   "execution_count": null,
   "id": "c2d5145e",
   "metadata": {
    "id": "c2d5145e"
   },
   "outputs": [],
   "source": [
    "#This is a comment\n",
    "#written in\n",
    "#more than just one line\n",
    "print(\"Hello, World!\")"
   ]
  },
  {
   "cell_type": "markdown",
   "id": "a35d44de",
   "metadata": {
    "id": "a35d44de"
   },
   "source": [
    "Or, not quite as intended, you can use a multiline string.\n",
    "\n",
    "Since Python will ignore string literals that are not assigned to a variable, you can add a multiline string (triple quotes) in your code, and place your comment inside it:"
   ]
  },
  {
   "cell_type": "code",
   "execution_count": null,
   "id": "dce4d032",
   "metadata": {
    "id": "dce4d032"
   },
   "outputs": [],
   "source": [
    "\"\"\"\n",
    "This is a comment\n",
    "written in\n",
    "more than just one line\n",
    "\"\"\"\n",
    "print(\"Hello, World!\")"
   ]
  },
  {
   "cell_type": "markdown",
   "id": "cfd720d1",
   "metadata": {
    "id": "cfd720d1"
   },
   "source": [
    "As long as the string is not assigned to a variable, Python will read the code, but then ignore it, and you have made a multiline comment."
   ]
  },
  {
   "cell_type": "markdown",
   "id": "1dcc303d",
   "metadata": {
    "id": "1dcc303d"
   },
   "source": [
    "### Variables in more detail"
   ]
  },
  {
   "cell_type": "markdown",
   "id": "5ff23e8c",
   "metadata": {
    "id": "5ff23e8c"
   },
   "source": [
    "Python has no command for declaring a variable.\n",
    "\n",
    "A variable is created the moment you first assign a value to it."
   ]
  },
  {
   "cell_type": "code",
   "execution_count": null,
   "id": "00dac395",
   "metadata": {
    "id": "00dac395"
   },
   "outputs": [],
   "source": [
    "x = 5\n",
    "y = \"John\"\n",
    "print(x)\n",
    "print(y)"
   ]
  },
  {
   "cell_type": "markdown",
   "id": "8095c2e9",
   "metadata": {
    "id": "8095c2e9"
   },
   "source": [
    "Variables do not need to be declared with any particular type, and can even change type after they have been set."
   ]
  },
  {
   "cell_type": "code",
   "execution_count": null,
   "id": "0a4e5fea",
   "metadata": {
    "id": "0a4e5fea"
   },
   "outputs": [],
   "source": [
    "x = 4       # x is of type int\n",
    "x = \"Sally\" # x is now of type str\n",
    "print(x)"
   ]
  },
  {
   "cell_type": "markdown",
   "id": "212d2376",
   "metadata": {
    "id": "212d2376"
   },
   "source": [
    "#### Casting"
   ]
  },
  {
   "cell_type": "markdown",
   "id": "84cd4e32",
   "metadata": {
    "id": "84cd4e32"
   },
   "source": [
    "If you want to specify the data type of a variable, this can be done with casting."
   ]
  },
  {
   "cell_type": "code",
   "execution_count": null,
   "id": "79bd72d2",
   "metadata": {
    "id": "79bd72d2"
   },
   "outputs": [],
   "source": [
    "x = str(3)    # x will be '3'\n",
    "y = int(3)    # y will be 3\n",
    "z = float(3)  # z will be 3.0"
   ]
  },
  {
   "cell_type": "markdown",
   "id": "974ab58b",
   "metadata": {
    "id": "974ab58b"
   },
   "source": [
    "You can get the data type of a variable with the <code>type()</code> function."
   ]
  },
  {
   "cell_type": "code",
   "execution_count": null,
   "id": "be740082",
   "metadata": {
    "id": "be740082"
   },
   "outputs": [],
   "source": [
    "x = 5\n",
    "y = \"John\"\n",
    "print(type(x))\n",
    "print(type(y))"
   ]
  },
  {
   "cell_type": "markdown",
   "id": "cfbbaf24",
   "metadata": {
    "id": "cfbbaf24"
   },
   "source": [
    "#### Single or Double Quotes?"
   ]
  },
  {
   "cell_type": "markdown",
   "id": "5e354e35",
   "metadata": {
    "id": "5e354e35"
   },
   "source": [
    "String variables can be declared either by using single or double quotes"
   ]
  },
  {
   "cell_type": "code",
   "execution_count": null,
   "id": "4ab63933",
   "metadata": {
    "id": "4ab63933"
   },
   "outputs": [],
   "source": [
    "x = \"John\"\n",
    "# is the same as\n",
    "x = 'John'"
   ]
  },
  {
   "cell_type": "markdown",
   "id": "30512fa7",
   "metadata": {
    "id": "30512fa7"
   },
   "source": [
    "#### Case-Sensitive"
   ]
  },
  {
   "cell_type": "markdown",
   "id": "6b80f9f0",
   "metadata": {
    "id": "6b80f9f0"
   },
   "source": [
    "Variable names are case-sensitive."
   ]
  },
  {
   "cell_type": "code",
   "execution_count": null,
   "id": "e21ffa50",
   "metadata": {
    "id": "e21ffa50"
   },
   "outputs": [],
   "source": [
    "a = 4\n",
    "A = \"Sally\"\n",
    "#A will not overwrite a"
   ]
  },
  {
   "cell_type": "markdown",
   "id": "167349ea",
   "metadata": {
    "id": "167349ea"
   },
   "source": [
    "#### Variable Names"
   ]
  },
  {
   "cell_type": "markdown",
   "id": "ba1aea08",
   "metadata": {
    "id": "ba1aea08"
   },
   "source": [
    "A variable can have a short name (like x and y) or a more descriptive name (age, carname, total_volume).\n",
    "\n",
    "Rules for Python variables:\n",
    "\n",
    "- A variable name must start with a letter or the underscore character\n",
    "- A variable name cannot start with a number\n",
    "- A variable name can only contain alpha-numeric characters and underscores (A-z, 0-9, and _ )\n",
    "- Variable names are case-sensitive (age, Age and AGE are three different variables)\n",
    "- A variable name cannot be any of the [Python Keywords](https://www.w3schools.com/python/python_ref_keywords.asp)."
   ]
  },
  {
   "cell_type": "code",
   "execution_count": null,
   "id": "9ad81fe7",
   "metadata": {
    "id": "9ad81fe7"
   },
   "outputs": [],
   "source": [
    "# Legal variable names:\n",
    "\n",
    "myvar = \"John\"\n",
    "my_var = \"John\"\n",
    "_my_var = \"John\"\n",
    "myVar = \"John\"\n",
    "MYVAR = \"John\"\n",
    "myvar2 = \"John\""
   ]
  },
  {
   "cell_type": "markdown",
   "id": "5a8c5312",
   "metadata": {
    "id": "5a8c5312"
   },
   "source": [
    "Illegal variable names:\n",
    "\n",
    "- 2myvar = \"John\"\n",
    "- my-var = \"John\"\n",
    "- my var = \"John\""
   ]
  },
  {
   "cell_type": "markdown",
   "id": "91db5ed6",
   "metadata": {
    "id": "91db5ed6"
   },
   "source": [
    "#### Multi Words Variable Names"
   ]
  },
  {
   "cell_type": "markdown",
   "id": "ec351fd2",
   "metadata": {
    "id": "ec351fd2"
   },
   "source": [
    "Variable names with more than one word can be difficult to read.\n",
    "\n",
    "There are several techniques you can use to make them more readable:"
   ]
  },
  {
   "cell_type": "markdown",
   "id": "edbb01ae",
   "metadata": {
    "id": "edbb01ae"
   },
   "source": [
    "Camel Case\n",
    "\n",
    "Each word, except the first, starts with a capital letter:"
   ]
  },
  {
   "cell_type": "code",
   "execution_count": null,
   "id": "17ad33e6",
   "metadata": {
    "id": "17ad33e6"
   },
   "outputs": [],
   "source": [
    "myVariableName = \"John\""
   ]
  },
  {
   "cell_type": "markdown",
   "id": "c8a69a7d",
   "metadata": {
    "id": "c8a69a7d"
   },
   "source": [
    "Pascal Case\n",
    "\n",
    "Each word starts with a capital letter:"
   ]
  },
  {
   "cell_type": "code",
   "execution_count": null,
   "id": "77611e10",
   "metadata": {
    "id": "77611e10"
   },
   "outputs": [],
   "source": [
    "MyVariableName = \"John\""
   ]
  },
  {
   "cell_type": "markdown",
   "id": "b66b9c43",
   "metadata": {
    "id": "b66b9c43"
   },
   "source": [
    "Snake Case\n",
    "\n",
    "Each word is separated by an underscore character:"
   ]
  },
  {
   "cell_type": "code",
   "execution_count": null,
   "id": "30606b6d",
   "metadata": {
    "id": "30606b6d"
   },
   "outputs": [],
   "source": [
    "my_variable_name = \"John\""
   ]
  },
  {
   "cell_type": "markdown",
   "id": "fc7f67d1",
   "metadata": {
    "id": "fc7f67d1"
   },
   "source": [
    "#### Assign Multiple Values"
   ]
  },
  {
   "cell_type": "markdown",
   "id": "018b83cc",
   "metadata": {
    "id": "018b83cc"
   },
   "source": [
    "Python allows you to assign values to multiple variables in one line:"
   ]
  },
  {
   "cell_type": "code",
   "execution_count": null,
   "id": "b75e0863",
   "metadata": {
    "id": "b75e0863"
   },
   "outputs": [],
   "source": [
    "x, y, z = \"Orange\", \"Banana\", \"Cherry\"\n",
    "print(x)\n",
    "print(y)\n",
    "print(z)"
   ]
  },
  {
   "cell_type": "markdown",
   "id": "3473038a",
   "metadata": {
    "id": "3473038a"
   },
   "source": [
    "Note: Make sure the number of variables matches the number of values, or else you will get an error."
   ]
  },
  {
   "cell_type": "markdown",
   "id": "a2365ed4",
   "metadata": {
    "id": "a2365ed4"
   },
   "source": [
    "And you can assign the same value to multiple variables in one line:"
   ]
  },
  {
   "cell_type": "code",
   "execution_count": null,
   "id": "73477d68",
   "metadata": {
    "id": "73477d68"
   },
   "outputs": [],
   "source": [
    "x = y = z = \"Orange\"\n",
    "print(x)\n",
    "print(y)\n",
    "print(z)"
   ]
  },
  {
   "cell_type": "markdown",
   "id": "3db27f21",
   "metadata": {
    "id": "3db27f21"
   },
   "source": [
    "If you have a **collection** of values in a list, tuple etc. Python allows you to extract the values into variables. This is called **unpacking**."
   ]
  },
  {
   "cell_type": "code",
   "execution_count": null,
   "id": "08ef2a99",
   "metadata": {
    "id": "08ef2a99"
   },
   "outputs": [],
   "source": [
    "## Unpack a list\n",
    "\n",
    "fruits = [\"apple\", \"banana\", \"cherry\"]\n",
    "x, y, z = fruits\n",
    "print(x)\n",
    "print(y)\n",
    "print(z)"
   ]
  },
  {
   "cell_type": "markdown",
   "id": "3317d51d",
   "metadata": {
    "deletable": false,
    "editable": false,
    "id": "3317d51d",
    "nbgrader": {
     "cell_type": "markdown",
     "checksum": "3dbae6f73dd9d9164ec12f8d3ea66245",
     "grade": false,
     "grade_id": "cell-88d23d023bdf5403",
     "locked": true,
     "schema_version": 3,
     "solution": false,
     "task": false
    },
    "tags": []
   },
   "source": [
    "## 2 Strings"
   ]
  },
  {
   "cell_type": "markdown",
   "id": "26138239",
   "metadata": {
    "deletable": false,
    "editable": false,
    "id": "26138239",
    "nbgrader": {
     "cell_type": "markdown",
     "checksum": "0627913f96af19905062527fb64c3328",
     "grade": false,
     "grade_id": "cell-903e0962f14e1075",
     "locked": true,
     "schema_version": 3,
     "solution": false,
     "task": false
    },
    "tags": []
   },
   "source": [
    "A *string* is a series of characters. We can define strings in python using single or double quotes."
   ]
  },
  {
   "cell_type": "markdown",
   "id": "11a8391f",
   "metadata": {
    "deletable": false,
    "editable": false,
    "id": "11a8391f",
    "nbgrader": {
     "cell_type": "markdown",
     "checksum": "aee4fad046f8e310caf585a401ec9e7a",
     "grade": false,
     "grade_id": "cell-68914ff3a77ffa8a",
     "locked": true,
     "schema_version": 3,
     "solution": false,
     "task": false
    },
    "tags": []
   },
   "source": [
    "### Defining strings"
   ]
  },
  {
   "cell_type": "code",
   "execution_count": null,
   "id": "94398496",
   "metadata": {
    "ExecuteTime": {
     "end_time": "2024-01-26T19:06:41.301912Z",
     "start_time": "2024-01-26T19:06:41.296021Z"
    },
    "execution": {
     "iopub.execute_input": "2024-01-27T03:09:53.358979Z",
     "iopub.status.busy": "2024-01-27T03:09:53.358374Z",
     "iopub.status.idle": "2024-01-27T03:09:53.376535Z",
     "shell.execute_reply": "2024-01-27T03:09:53.374807Z",
     "shell.execute_reply.started": "2024-01-27T03:09:53.358922Z"
    },
    "id": "94398496"
   },
   "outputs": [],
   "source": [
    "\"This is a string\""
   ]
  },
  {
   "cell_type": "code",
   "execution_count": null,
   "id": "37b7cd4f",
   "metadata": {
    "ExecuteTime": {
     "end_time": "2024-01-26T19:06:41.305925Z",
     "start_time": "2024-01-26T19:06:41.304037Z"
    },
    "execution": {
     "iopub.execute_input": "2024-01-27T03:09:53.381099Z",
     "iopub.status.busy": "2024-01-27T03:09:53.380314Z",
     "iopub.status.idle": "2024-01-27T03:09:53.390541Z",
     "shell.execute_reply": "2024-01-27T03:09:53.388946Z",
     "shell.execute_reply.started": "2024-01-27T03:09:53.381045Z"
    },
    "id": "37b7cd4f"
   },
   "outputs": [],
   "source": [
    "'This is a string'"
   ]
  },
  {
   "cell_type": "code",
   "execution_count": null,
   "id": "ce54853e",
   "metadata": {
    "ExecuteTime": {
     "end_time": "2024-01-26T19:06:41.310612Z",
     "start_time": "2024-01-26T19:06:41.306890Z"
    },
    "execution": {
     "iopub.execute_input": "2024-01-27T03:09:53.392827Z",
     "iopub.status.busy": "2024-01-27T03:09:53.392301Z",
     "iopub.status.idle": "2024-01-27T03:09:53.403394Z",
     "shell.execute_reply": "2024-01-27T03:09:53.401675Z",
     "shell.execute_reply.started": "2024-01-27T03:09:53.392778Z"
    },
    "id": "ce54853e"
   },
   "outputs": [],
   "source": [
    "'I told my friend, \"My dream is to become a data science leader\"'"
   ]
  },
  {
   "cell_type": "code",
   "execution_count": null,
   "id": "7d00823d",
   "metadata": {
    "ExecuteTime": {
     "end_time": "2024-01-26T19:06:41.313745Z",
     "start_time": "2024-01-26T19:06:41.311669Z"
    },
    "execution": {
     "iopub.execute_input": "2024-01-27T03:09:53.405098Z",
     "iopub.status.busy": "2024-01-27T03:09:53.404634Z",
     "iopub.status.idle": "2024-01-27T03:09:53.414786Z",
     "shell.execute_reply": "2024-01-27T03:09:53.413212Z",
     "shell.execute_reply.started": "2024-01-27T03:09:53.405057Z"
    },
    "id": "7d00823d"
   },
   "outputs": [],
   "source": [
    "\"The language 'Python' is named after Monty Python\""
   ]
  },
  {
   "cell_type": "markdown",
   "id": "a49aa357-899e-4424-b4dd-826d9e51d644",
   "metadata": {
    "id": "a49aa357-899e-4424-b4dd-826d9e51d644"
   },
   "source": [
    "<div class=\"alert alert-success\">\n",
    "\n",
    "**PEP 8: String Quotes**\n",
    "    \n",
    "In Python, single-quoted strings and double-quoted strings are the same. This PEP does not make a recommendation for this. Pick a rule and stick to it. When a string contains single or double quote characters, however, use the other one to avoid backslashes in the string. It improves readability.\n",
    "\n",
    "For triple-quoted strings, always use double quote characters to be consistent with the docstring convention in PEP 257.\n",
    "\n",
    "Source: https://peps.python.org/pep-0008/#string-quotes\n",
    "\n",
    "</div>"
   ]
  },
  {
   "cell_type": "markdown",
   "id": "b9bc4307",
   "metadata": {
    "deletable": false,
    "editable": false,
    "id": "b9bc4307",
    "nbgrader": {
     "cell_type": "markdown",
     "checksum": "d51d9e8c4df0f82822d339f1c5760d78",
     "grade": false,
     "grade_id": "cell-dea11fe7af0e947a",
     "locked": true,
     "schema_version": 3,
     "solution": false,
     "task": false
    },
    "tags": []
   },
   "source": [
    "### String operations"
   ]
  },
  {
   "cell_type": "markdown",
   "id": "8ec078be",
   "metadata": {
    "deletable": false,
    "editable": false,
    "id": "8ec078be",
    "nbgrader": {
     "cell_type": "markdown",
     "checksum": "01bb12135fe88dea06a8493be8241cc1",
     "grade": false,
     "grade_id": "cell-704480db341a695e",
     "locked": true,
     "schema_version": 3,
     "solution": false,
     "task": false
    },
    "tags": []
   },
   "source": [
    "Here are some other operations that you can do with strings:"
   ]
  },
  {
   "cell_type": "code",
   "execution_count": null,
   "id": "3b9cbd1d",
   "metadata": {
    "ExecuteTime": {
     "end_time": "2024-01-26T19:06:41.317456Z",
     "start_time": "2024-01-26T19:06:41.314659Z"
    },
    "execution": {
     "iopub.execute_input": "2024-01-27T03:09:53.418191Z",
     "iopub.status.busy": "2024-01-27T03:09:53.417024Z",
     "iopub.status.idle": "2024-01-27T03:09:53.426724Z",
     "shell.execute_reply": "2024-01-27T03:09:53.425096Z",
     "shell.execute_reply.started": "2024-01-27T03:09:53.418132Z"
    },
    "id": "3b9cbd1d"
   },
   "outputs": [],
   "source": [
    "name = \"HeCToR bAndA\"\n",
    "\n",
    "print(name.title())\n",
    "print(name.upper())\n",
    "print(name.lower())"
   ]
  },
  {
   "cell_type": "code",
   "execution_count": null,
   "id": "8d52d51f",
   "metadata": {
    "ExecuteTime": {
     "end_time": "2024-01-26T19:06:41.329041Z",
     "start_time": "2024-01-26T19:06:41.318842Z"
    },
    "execution": {
     "iopub.execute_input": "2024-01-27T03:09:53.429204Z",
     "iopub.status.busy": "2024-01-27T03:09:53.428568Z",
     "iopub.status.idle": "2024-01-27T03:09:53.463303Z",
     "shell.execute_reply": "2024-01-27T03:09:53.462593Z",
     "shell.execute_reply.started": "2024-01-27T03:09:53.429151Z"
    },
    "id": "8d52d51f",
    "tags": []
   },
   "outputs": [],
   "source": [
    "help(str)"
   ]
  },
  {
   "cell_type": "code",
   "execution_count": null,
   "id": "c11e26bb",
   "metadata": {
    "ExecuteTime": {
     "end_time": "2024-01-26T19:06:41.353328Z",
     "start_time": "2024-01-26T19:06:41.330151Z"
    },
    "execution": {
     "iopub.execute_input": "2024-01-27T03:09:53.464294Z",
     "iopub.status.busy": "2024-01-27T03:09:53.464081Z",
     "iopub.status.idle": "2024-01-27T03:09:53.472696Z",
     "shell.execute_reply": "2024-01-27T03:09:53.471780Z",
     "shell.execute_reply.started": "2024-01-27T03:09:53.464273Z"
    },
    "id": "c11e26bb"
   },
   "outputs": [],
   "source": [
    "\"Hector\" + \" \" + \"Banda\""
   ]
  },
  {
   "cell_type": "code",
   "execution_count": null,
   "id": "A6Fe_5JX0BcW",
   "metadata": {
    "ExecuteTime": {
     "end_time": "2024-01-26T19:06:41.371181Z",
     "start_time": "2024-01-26T19:06:41.359232Z"
    },
    "execution": {
     "iopub.execute_input": "2024-01-27T03:09:53.476892Z",
     "iopub.status.busy": "2024-01-27T03:09:53.476432Z",
     "iopub.status.idle": "2024-01-27T03:09:53.485276Z",
     "shell.execute_reply": "2024-01-27T03:09:53.483789Z",
     "shell.execute_reply.started": "2024-01-27T03:09:53.476862Z"
    },
    "id": "A6Fe_5JX0BcW"
   },
   "outputs": [],
   "source": [
    "\"1\" + \"6\""
   ]
  },
  {
   "cell_type": "code",
   "execution_count": null,
   "id": "fb5e123f",
   "metadata": {
    "ExecuteTime": {
     "end_time": "2024-01-26T19:06:41.379432Z",
     "start_time": "2024-01-26T19:06:41.375373Z"
    },
    "execution": {
     "iopub.execute_input": "2024-01-27T03:09:53.486606Z",
     "iopub.status.busy": "2024-01-27T03:09:53.486313Z",
     "iopub.status.idle": "2024-01-27T03:09:53.498792Z",
     "shell.execute_reply": "2024-01-27T03:09:53.496903Z",
     "shell.execute_reply.started": "2024-01-27T03:09:53.486578Z"
    },
    "id": "fb5e123f"
   },
   "outputs": [],
   "source": [
    "'hec' in name"
   ]
  },
  {
   "cell_type": "code",
   "execution_count": null,
   "id": "3653c38d",
   "metadata": {
    "ExecuteTime": {
     "end_time": "2024-01-26T19:06:41.384168Z",
     "start_time": "2024-01-26T19:06:41.380821Z"
    },
    "execution": {
     "iopub.execute_input": "2024-01-27T03:09:53.501584Z",
     "iopub.status.busy": "2024-01-27T03:09:53.500877Z",
     "iopub.status.idle": "2024-01-27T03:09:53.510479Z",
     "shell.execute_reply": "2024-01-27T03:09:53.508939Z",
     "shell.execute_reply.started": "2024-01-27T03:09:53.501529Z"
    },
    "id": "3653c38d"
   },
   "outputs": [],
   "source": [
    "'hector' * 10"
   ]
  },
  {
   "cell_type": "code",
   "execution_count": null,
   "id": "8d8dbfd5",
   "metadata": {
    "ExecuteTime": {
     "end_time": "2024-01-26T19:06:41.389178Z",
     "start_time": "2024-01-26T19:06:41.385103Z"
    },
    "execution": {
     "iopub.execute_input": "2024-01-27T03:09:53.513000Z",
     "iopub.status.busy": "2024-01-27T03:09:53.512415Z",
     "iopub.status.idle": "2024-01-27T03:09:53.524369Z",
     "shell.execute_reply": "2024-01-27T03:09:53.522575Z",
     "shell.execute_reply.started": "2024-01-27T03:09:53.512947Z"
    },
    "id": "8d8dbfd5"
   },
   "outputs": [],
   "source": [
    "len('hector' * 10)"
   ]
  },
  {
   "cell_type": "code",
   "execution_count": null,
   "id": "f841078c",
   "metadata": {
    "ExecuteTime": {
     "end_time": "2024-01-26T19:06:41.392301Z",
     "start_time": "2024-01-26T19:06:41.390274Z"
    },
    "execution": {
     "iopub.execute_input": "2024-01-27T03:09:53.527641Z",
     "iopub.status.busy": "2024-01-27T03:09:53.526796Z",
     "iopub.status.idle": "2024-01-27T03:09:53.539301Z",
     "shell.execute_reply": "2024-01-27T03:09:53.537895Z",
     "shell.execute_reply.started": "2024-01-27T03:09:53.527558Z"
    },
    "id": "f841078c"
   },
   "outputs": [],
   "source": [
    "min('hector')"
   ]
  },
  {
   "cell_type": "code",
   "execution_count": null,
   "id": "3072b2b5",
   "metadata": {
    "ExecuteTime": {
     "end_time": "2024-01-26T19:06:41.395295Z",
     "start_time": "2024-01-26T19:06:41.393213Z"
    },
    "execution": {
     "iopub.execute_input": "2024-01-27T03:09:53.541884Z",
     "iopub.status.busy": "2024-01-27T03:09:53.541378Z",
     "iopub.status.idle": "2024-01-27T03:09:53.552895Z",
     "shell.execute_reply": "2024-01-27T03:09:53.550911Z",
     "shell.execute_reply.started": "2024-01-27T03:09:53.541838Z"
    },
    "id": "3072b2b5"
   },
   "outputs": [],
   "source": [
    "max('data science')"
   ]
  },
  {
   "cell_type": "code",
   "execution_count": null,
   "id": "612fcf4d",
   "metadata": {
    "ExecuteTime": {
     "end_time": "2024-01-26T19:06:41.406276Z",
     "start_time": "2024-01-26T19:06:41.396247Z"
    },
    "execution": {
     "iopub.execute_input": "2024-01-27T03:09:53.555216Z",
     "iopub.status.busy": "2024-01-27T03:09:53.554721Z",
     "iopub.status.idle": "2024-01-27T03:09:53.565763Z",
     "shell.execute_reply": "2024-01-27T03:09:53.564028Z",
     "shell.execute_reply.started": "2024-01-27T03:09:53.555170Z"
    },
    "id": "612fcf4d"
   },
   "outputs": [],
   "source": [
    "'data science'.index('e')"
   ]
  },
  {
   "cell_type": "code",
   "execution_count": null,
   "id": "eda958cb",
   "metadata": {
    "ExecuteTime": {
     "end_time": "2024-01-26T19:06:41.410957Z",
     "start_time": "2024-01-26T19:06:41.407513Z"
    },
    "execution": {
     "iopub.execute_input": "2024-01-27T03:09:53.569725Z",
     "iopub.status.busy": "2024-01-27T03:09:53.568484Z",
     "iopub.status.idle": "2024-01-27T03:09:53.579814Z",
     "shell.execute_reply": "2024-01-27T03:09:53.578072Z",
     "shell.execute_reply.started": "2024-01-27T03:09:53.569664Z"
    },
    "id": "eda958cb"
   },
   "outputs": [],
   "source": [
    "'data science'.count('e')"
   ]
  },
  {
   "cell_type": "markdown",
   "id": "f73aa5a1",
   "metadata": {
    "id": "f73aa5a1"
   },
   "source": [
    "#### String Slicing"
   ]
  },
  {
   "cell_type": "markdown",
   "id": "150fbcd9",
   "metadata": {
    "id": "150fbcd9"
   },
   "source": [
    "You can return a range of characters by using the slice syntax.\n",
    "\n",
    "Specify the start index and the end index, separated by a colon, to return a part of the string."
   ]
  },
  {
   "cell_type": "code",
   "execution_count": null,
   "id": "b797eed4",
   "metadata": {
    "id": "b797eed4"
   },
   "outputs": [],
   "source": [
    "b = \"Hello, World!\"\n",
    "print(b[2:5])"
   ]
  },
  {
   "cell_type": "markdown",
   "id": "0f2cc06f",
   "metadata": {
    "id": "0f2cc06f"
   },
   "source": [
    "Slice From the Start\n",
    "\n",
    "By leaving out the start index, the range will start at the first character:"
   ]
  },
  {
   "cell_type": "code",
   "execution_count": null,
   "id": "cef3cb35",
   "metadata": {
    "id": "cef3cb35"
   },
   "outputs": [],
   "source": [
    "# Get the characters from the start to position 5 (not included):\n",
    "\n",
    "b = \"Hello, World!\"\n",
    "print(b[:5])"
   ]
  },
  {
   "cell_type": "markdown",
   "id": "0a6478bb",
   "metadata": {
    "id": "0a6478bb"
   },
   "source": [
    "Slice To the End\n",
    "\n",
    "By leaving out the end index, the range will go to the end:"
   ]
  },
  {
   "cell_type": "code",
   "execution_count": null,
   "id": "59aff6bc",
   "metadata": {
    "id": "59aff6bc"
   },
   "outputs": [],
   "source": [
    "# Get the characters from position 2, and all the way to the end:\n",
    "\n",
    "b = \"Hello, World!\"\n",
    "print(b[2:])"
   ]
  },
  {
   "cell_type": "markdown",
   "id": "1f1f1b24",
   "metadata": {
    "id": "1f1f1b24"
   },
   "source": [
    "Negative Indexing\n",
    "\n",
    "Use negative indexes to start the slice from the end of the string:"
   ]
  },
  {
   "cell_type": "code",
   "execution_count": null,
   "id": "a54a146e",
   "metadata": {
    "id": "a54a146e"
   },
   "outputs": [],
   "source": [
    "# Get the characters:\n",
    "\n",
    "# From: \"o\" in \"World!\" (position -5)\n",
    "\n",
    "# To, but not included: \"d\" in \"World!\" (position -2):\n",
    "\n",
    "b = \"Hello, World!\"\n",
    "print(b[-5:-2])"
   ]
  },
  {
   "cell_type": "code",
   "execution_count": null,
   "id": "4e151112",
   "metadata": {
    "ExecuteTime": {
     "end_time": "2024-01-26T19:06:41.416304Z",
     "start_time": "2024-01-26T19:06:41.411804Z"
    },
    "execution": {
     "iopub.execute_input": "2024-01-27T03:09:53.582416Z",
     "iopub.status.busy": "2024-01-27T03:09:53.581868Z",
     "iopub.status.idle": "2024-01-27T03:09:53.591537Z",
     "shell.execute_reply": "2024-01-27T03:09:53.589742Z",
     "shell.execute_reply.started": "2024-01-27T03:09:53.582365Z"
    },
    "id": "4e151112"
   },
   "outputs": [],
   "source": [
    "name = \"Hector Banda\""
   ]
  },
  {
   "cell_type": "code",
   "execution_count": null,
   "id": "26c79737",
   "metadata": {
    "ExecuteTime": {
     "end_time": "2024-01-26T19:06:41.422634Z",
     "start_time": "2024-01-26T19:06:41.417347Z"
    },
    "execution": {
     "iopub.execute_input": "2024-01-27T03:09:53.594114Z",
     "iopub.status.busy": "2024-01-27T03:09:53.593559Z",
     "iopub.status.idle": "2024-01-27T03:09:53.604920Z",
     "shell.execute_reply": "2024-01-27T03:09:53.603327Z",
     "shell.execute_reply.started": "2024-01-27T03:09:53.594064Z"
    },
    "id": "26c79737"
   },
   "outputs": [],
   "source": [
    "name[0]"
   ]
  },
  {
   "cell_type": "code",
   "execution_count": null,
   "id": "5f5db9f0",
   "metadata": {
    "ExecuteTime": {
     "end_time": "2024-01-26T19:06:41.425523Z",
     "start_time": "2024-01-26T19:06:41.423553Z"
    },
    "execution": {
     "iopub.execute_input": "2024-01-27T03:09:53.607293Z",
     "iopub.status.busy": "2024-01-27T03:09:53.606802Z",
     "iopub.status.idle": "2024-01-27T03:09:53.617571Z",
     "shell.execute_reply": "2024-01-27T03:09:53.616035Z",
     "shell.execute_reply.started": "2024-01-27T03:09:53.607248Z"
    },
    "id": "5f5db9f0"
   },
   "outputs": [],
   "source": [
    "name[-1]"
   ]
  },
  {
   "cell_type": "code",
   "execution_count": null,
   "id": "44fa78cb",
   "metadata": {
    "ExecuteTime": {
     "end_time": "2024-01-26T19:06:41.430816Z",
     "start_time": "2024-01-26T19:06:41.426881Z"
    },
    "execution": {
     "iopub.execute_input": "2024-01-27T03:09:53.620767Z",
     "iopub.status.busy": "2024-01-27T03:09:53.619610Z",
     "iopub.status.idle": "2024-01-27T03:09:53.630251Z",
     "shell.execute_reply": "2024-01-27T03:09:53.628494Z",
     "shell.execute_reply.started": "2024-01-27T03:09:53.620691Z"
    },
    "id": "44fa78cb"
   },
   "outputs": [],
   "source": [
    "name[0:3]"
   ]
  },
  {
   "cell_type": "code",
   "execution_count": null,
   "id": "25e4333d",
   "metadata": {
    "ExecuteTime": {
     "end_time": "2024-01-26T19:06:41.434961Z",
     "start_time": "2024-01-26T19:06:41.431903Z"
    },
    "execution": {
     "iopub.execute_input": "2024-01-27T03:09:53.632938Z",
     "iopub.status.busy": "2024-01-27T03:09:53.632217Z",
     "iopub.status.idle": "2024-01-27T03:09:53.643748Z",
     "shell.execute_reply": "2024-01-27T03:09:53.642184Z",
     "shell.execute_reply.started": "2024-01-27T03:09:53.632886Z"
    },
    "id": "25e4333d"
   },
   "outputs": [],
   "source": [
    "name[:3]"
   ]
  },
  {
   "cell_type": "code",
   "execution_count": null,
   "id": "94304e63",
   "metadata": {
    "ExecuteTime": {
     "end_time": "2024-01-26T19:06:41.440044Z",
     "start_time": "2024-01-26T19:06:41.436129Z"
    },
    "execution": {
     "iopub.execute_input": "2024-01-27T03:09:53.646139Z",
     "iopub.status.busy": "2024-01-27T03:09:53.645654Z",
     "iopub.status.idle": "2024-01-27T03:09:53.656780Z",
     "shell.execute_reply": "2024-01-27T03:09:53.655029Z",
     "shell.execute_reply.started": "2024-01-27T03:09:53.646093Z"
    },
    "id": "94304e63"
   },
   "outputs": [],
   "source": [
    "name[0:-1]"
   ]
  },
  {
   "cell_type": "code",
   "execution_count": null,
   "id": "b24dbbd6",
   "metadata": {
    "ExecuteTime": {
     "end_time": "2024-01-26T19:06:41.443996Z",
     "start_time": "2024-01-26T19:06:41.441059Z"
    },
    "execution": {
     "iopub.execute_input": "2024-01-27T03:09:53.659914Z",
     "iopub.status.busy": "2024-01-27T03:09:53.658898Z",
     "iopub.status.idle": "2024-01-27T03:09:53.669676Z",
     "shell.execute_reply": "2024-01-27T03:09:53.667911Z",
     "shell.execute_reply.started": "2024-01-27T03:09:53.659854Z"
    },
    "id": "b24dbbd6"
   },
   "outputs": [],
   "source": [
    "name[::-1]"
   ]
  },
  {
   "cell_type": "code",
   "execution_count": null,
   "id": "ed9f5c63",
   "metadata": {
    "ExecuteTime": {
     "end_time": "2024-01-26T19:06:41.448698Z",
     "start_time": "2024-01-26T19:06:41.445627Z"
    },
    "execution": {
     "iopub.execute_input": "2024-01-27T03:09:53.672152Z",
     "iopub.status.busy": "2024-01-27T03:09:53.671602Z",
     "iopub.status.idle": "2024-01-27T03:09:53.683073Z",
     "shell.execute_reply": "2024-01-27T03:09:53.681629Z",
     "shell.execute_reply.started": "2024-01-27T03:09:53.672101Z"
    },
    "id": "ed9f5c63"
   },
   "outputs": [],
   "source": [
    "name.center(30)"
   ]
  },
  {
   "cell_type": "code",
   "execution_count": null,
   "id": "cfce898c",
   "metadata": {
    "ExecuteTime": {
     "end_time": "2024-01-26T19:06:41.454111Z",
     "start_time": "2024-01-26T19:06:41.450454Z"
    },
    "execution": {
     "iopub.execute_input": "2024-01-27T03:09:53.685675Z",
     "iopub.status.busy": "2024-01-27T03:09:53.685130Z",
     "iopub.status.idle": "2024-01-27T03:09:53.695786Z",
     "shell.execute_reply": "2024-01-27T03:09:53.694145Z",
     "shell.execute_reply.started": "2024-01-27T03:09:53.685626Z"
    },
    "id": "cfce898c"
   },
   "outputs": [],
   "source": [
    "name.ljust(30)"
   ]
  },
  {
   "cell_type": "code",
   "execution_count": null,
   "id": "dda2c0be",
   "metadata": {
    "ExecuteTime": {
     "end_time": "2024-01-26T19:06:41.458359Z",
     "start_time": "2024-01-26T19:06:41.455255Z"
    },
    "execution": {
     "iopub.execute_input": "2024-01-27T03:09:53.698224Z",
     "iopub.status.busy": "2024-01-27T03:09:53.697579Z",
     "iopub.status.idle": "2024-01-27T03:09:53.712165Z",
     "shell.execute_reply": "2024-01-27T03:09:53.710349Z",
     "shell.execute_reply.started": "2024-01-27T03:09:53.698140Z"
    },
    "id": "dda2c0be"
   },
   "outputs": [],
   "source": [
    "name.rjust(30)"
   ]
  },
  {
   "cell_type": "markdown",
   "id": "b29ecaba",
   "metadata": {
    "deletable": false,
    "editable": false,
    "id": "b29ecaba",
    "nbgrader": {
     "cell_type": "markdown",
     "checksum": "6a895406d87065bfb4533968e39bfbb8",
     "grade": false,
     "grade_id": "cell-61df0f9ff9d5a8aa",
     "locked": true,
     "schema_version": 3,
     "solution": false,
     "task": false
    },
    "tags": []
   },
   "source": [
    "### Using variables in strings"
   ]
  },
  {
   "cell_type": "code",
   "execution_count": null,
   "id": "94b071ba",
   "metadata": {
    "ExecuteTime": {
     "end_time": "2024-01-26T19:06:41.468249Z",
     "start_time": "2024-01-26T19:06:41.465428Z"
    },
    "execution": {
     "iopub.execute_input": "2024-01-27T03:09:53.726042Z",
     "iopub.status.busy": "2024-01-27T03:09:53.725491Z",
     "iopub.status.idle": "2024-01-27T03:09:53.733654Z",
     "shell.execute_reply": "2024-01-27T03:09:53.732331Z",
     "shell.execute_reply.started": "2024-01-27T03:09:53.725993Z"
    },
    "id": "94b071ba"
   },
   "outputs": [],
   "source": [
    "first_name = 'hector'\n",
    "last_name = 'banda'\n",
    "full_name = f'{first_name} {last_name}' # F-string\n",
    "\n",
    "print(full_name)"
   ]
  },
  {
   "cell_type": "code",
   "execution_count": null,
   "id": "6dacae4b",
   "metadata": {
    "ExecuteTime": {
     "end_time": "2024-01-26T19:06:41.474704Z",
     "start_time": "2024-01-26T19:06:41.469492Z"
    },
    "execution": {
     "iopub.execute_input": "2024-01-27T03:09:53.735676Z",
     "iopub.status.busy": "2024-01-27T03:09:53.734909Z",
     "iopub.status.idle": "2024-01-27T03:09:53.742424Z",
     "shell.execute_reply": "2024-01-27T03:09:53.740914Z",
     "shell.execute_reply.started": "2024-01-27T03:09:53.735629Z"
    },
    "id": "6dacae4b"
   },
   "outputs": [],
   "source": [
    "print(\"{} {}\".format(first_name, last_name)) # format method"
   ]
  },
  {
   "cell_type": "code",
   "execution_count": null,
   "id": "1548a088",
   "metadata": {
    "ExecuteTime": {
     "end_time": "2024-01-26T19:06:41.477561Z",
     "start_time": "2024-01-26T19:06:41.475633Z"
    },
    "execution": {
     "iopub.execute_input": "2024-01-27T03:09:53.744005Z",
     "iopub.status.busy": "2024-01-27T03:09:53.743654Z",
     "iopub.status.idle": "2024-01-27T03:09:53.750563Z",
     "shell.execute_reply": "2024-01-27T03:09:53.749031Z",
     "shell.execute_reply.started": "2024-01-27T03:09:53.743955Z"
    },
    "id": "1548a088"
   },
   "outputs": [],
   "source": [
    "print(\"%s %s\"%(first_name, last_name)) # traditional"
   ]
  },
  {
   "cell_type": "markdown",
   "id": "eb9a297e",
   "metadata": {
    "deletable": false,
    "editable": false,
    "id": "eb9a297e",
    "nbgrader": {
     "cell_type": "markdown",
     "checksum": "458975a8cce50fb859612f8312bfafad",
     "grade": false,
     "grade_id": "cell-ca2c58aa09c00b9f",
     "locked": true,
     "schema_version": 3,
     "solution": false,
     "task": false
    },
    "tags": []
   },
   "source": [
    "## 3 Numbers"
   ]
  },
  {
   "cell_type": "markdown",
   "id": "8d7cf644",
   "metadata": {
    "deletable": false,
    "editable": false,
    "id": "8d7cf644",
    "nbgrader": {
     "cell_type": "markdown",
     "checksum": "0033c73a7f8ba48addc52813cb32c3f4",
     "grade": false,
     "grade_id": "cell-7a5c53cc744a77e2",
     "locked": true,
     "schema_version": 3,
     "solution": false,
     "task": false
    },
    "tags": []
   },
   "source": [
    "Now, let's look at how numbers are defined in Python."
   ]
  },
  {
   "cell_type": "markdown",
   "id": "d9759d52",
   "metadata": {
    "deletable": false,
    "editable": false,
    "id": "d9759d52",
    "nbgrader": {
     "cell_type": "markdown",
     "checksum": "619c50372e217c899487a8ab3488eca6",
     "grade": false,
     "grade_id": "cell-0540df7731799f25",
     "locked": true,
     "schema_version": 3,
     "solution": false,
     "task": false
    },
    "tags": []
   },
   "source": [
    "### Defining numbers"
   ]
  },
  {
   "cell_type": "markdown",
   "id": "41a40c9b",
   "metadata": {
    "deletable": false,
    "editable": false,
    "id": "41a40c9b",
    "nbgrader": {
     "cell_type": "markdown",
     "checksum": "ab10b514e7215d59880538dc7cab7a26",
     "grade": false,
     "grade_id": "cell-d615a170fbcb530b",
     "locked": true,
     "schema_version": 3,
     "solution": false,
     "task": false
    },
    "tags": []
   },
   "source": [
    "Numbers can be any of the following type:\n",
    "\n",
    "1. `int` - Integers (a number that is not a fraction; a whole number)\n",
    "2. `float` - Any number with a decimal point\n",
    "3. `complex` - Any number with an imaginary component"
   ]
  },
  {
   "cell_type": "code",
   "execution_count": null,
   "id": "77a06855",
   "metadata": {
    "ExecuteTime": {
     "end_time": "2024-01-26T19:06:41.486540Z",
     "start_time": "2024-01-26T19:06:41.479072Z"
    },
    "execution": {
     "iopub.execute_input": "2024-01-27T03:09:53.752675Z",
     "iopub.status.busy": "2024-01-27T03:09:53.752139Z",
     "iopub.status.idle": "2024-01-27T03:09:53.761352Z",
     "shell.execute_reply": "2024-01-27T03:09:53.759663Z",
     "shell.execute_reply.started": "2024-01-27T03:09:53.752613Z"
    },
    "id": "77a06855"
   },
   "outputs": [],
   "source": [
    "1"
   ]
  },
  {
   "cell_type": "code",
   "execution_count": null,
   "id": "KBCPOR3W1TmM",
   "metadata": {
    "ExecuteTime": {
     "end_time": "2024-01-26T19:06:41.493576Z",
     "start_time": "2024-01-26T19:06:41.488945Z"
    },
    "execution": {
     "iopub.execute_input": "2024-01-27T03:09:53.764403Z",
     "iopub.status.busy": "2024-01-27T03:09:53.763890Z",
     "iopub.status.idle": "2024-01-27T03:09:53.773184Z",
     "shell.execute_reply": "2024-01-27T03:09:53.771340Z",
     "shell.execute_reply.started": "2024-01-27T03:09:53.764356Z"
    },
    "id": "KBCPOR3W1TmM"
   },
   "outputs": [],
   "source": [
    "1."
   ]
  },
  {
   "cell_type": "code",
   "execution_count": null,
   "id": "4aa5347f",
   "metadata": {
    "ExecuteTime": {
     "end_time": "2024-01-26T19:06:41.504361Z",
     "start_time": "2024-01-26T19:06:41.496375Z"
    },
    "execution": {
     "iopub.execute_input": "2024-01-27T03:09:53.775791Z",
     "iopub.status.busy": "2024-01-27T03:09:53.775202Z",
     "iopub.status.idle": "2024-01-27T03:09:53.784307Z",
     "shell.execute_reply": "2024-01-27T03:09:53.782758Z",
     "shell.execute_reply.started": "2024-01-27T03:09:53.775734Z"
    },
    "id": "4aa5347f"
   },
   "outputs": [],
   "source": [
    "type(1)"
   ]
  },
  {
   "cell_type": "code",
   "execution_count": null,
   "id": "811b8e04",
   "metadata": {
    "ExecuteTime": {
     "end_time": "2024-01-26T19:06:41.514575Z",
     "start_time": "2024-01-26T19:06:41.508873Z"
    },
    "execution": {
     "iopub.execute_input": "2024-01-27T03:09:53.786043Z",
     "iopub.status.busy": "2024-01-27T03:09:53.785640Z",
     "iopub.status.idle": "2024-01-27T03:09:53.795603Z",
     "shell.execute_reply": "2024-01-27T03:09:53.794101Z",
     "shell.execute_reply.started": "2024-01-27T03:09:53.786006Z"
    },
    "id": "811b8e04"
   },
   "outputs": [],
   "source": [
    "type(1.)"
   ]
  },
  {
   "cell_type": "code",
   "execution_count": null,
   "id": "eb34298b",
   "metadata": {
    "id": "eb34298b"
   },
   "outputs": [],
   "source": [
    "type(1j)"
   ]
  },
  {
   "cell_type": "markdown",
   "id": "2e428b92",
   "metadata": {
    "deletable": false,
    "editable": false,
    "id": "2e428b92",
    "nbgrader": {
     "cell_type": "markdown",
     "checksum": "01ab99f35f564b34b110a3f84439833f",
     "grade": false,
     "grade_id": "cell-5f1fed3bd1e48a17",
     "locked": true,
     "schema_version": 3,
     "solution": false,
     "task": false
    },
    "tags": []
   },
   "source": [
    "When you divide any two numbers, the result is always a float"
   ]
  },
  {
   "cell_type": "code",
   "execution_count": null,
   "id": "162cf072",
   "metadata": {
    "ExecuteTime": {
     "end_time": "2024-01-26T19:06:41.523613Z",
     "start_time": "2024-01-26T19:06:41.516314Z"
    },
    "execution": {
     "iopub.execute_input": "2024-01-27T03:09:53.797643Z",
     "iopub.status.busy": "2024-01-27T03:09:53.797231Z",
     "iopub.status.idle": "2024-01-27T03:09:53.807470Z",
     "shell.execute_reply": "2024-01-27T03:09:53.805864Z",
     "shell.execute_reply.started": "2024-01-27T03:09:53.797605Z"
    },
    "id": "162cf072"
   },
   "outputs": [],
   "source": [
    "1 / 1"
   ]
  },
  {
   "cell_type": "markdown",
   "id": "6250dc53",
   "metadata": {
    "deletable": false,
    "editable": false,
    "id": "6250dc53",
    "nbgrader": {
     "cell_type": "markdown",
     "checksum": "ca1a17cded68c9d0213fd54833828a11",
     "grade": false,
     "grade_id": "cell-4f81fab83fbfbb0c",
     "locked": true,
     "schema_version": 3,
     "solution": false,
     "task": false
    },
    "tags": []
   },
   "source": [
    "But you can force the output to be of a specific type by using the `float` or `int` functions"
   ]
  },
  {
   "cell_type": "code",
   "execution_count": null,
   "id": "ee66ebaa",
   "metadata": {
    "ExecuteTime": {
     "end_time": "2024-01-26T19:06:41.529127Z",
     "start_time": "2024-01-26T19:06:41.524543Z"
    },
    "execution": {
     "iopub.execute_input": "2024-01-27T03:09:53.810136Z",
     "iopub.status.busy": "2024-01-27T03:09:53.809678Z",
     "iopub.status.idle": "2024-01-27T03:09:53.819182Z",
     "shell.execute_reply": "2024-01-27T03:09:53.817111Z",
     "shell.execute_reply.started": "2024-01-27T03:09:53.810093Z"
    },
    "id": "ee66ebaa"
   },
   "outputs": [],
   "source": [
    "int(1 / 1)"
   ]
  },
  {
   "cell_type": "markdown",
   "id": "254e870b",
   "metadata": {
    "id": "254e870b"
   },
   "source": [
    "Float can also be scientific numbers with an **\"e\"** to indicate the power of 10"
   ]
  },
  {
   "cell_type": "code",
   "execution_count": null,
   "id": "348ff087",
   "metadata": {
    "id": "348ff087"
   },
   "outputs": [],
   "source": [
    "x = 35e3\n",
    "y = 12E4\n",
    "z = -87.7e100\n",
    "\n",
    "print(type(x))\n",
    "print(type(y))\n",
    "print(type(z))"
   ]
  },
  {
   "cell_type": "markdown",
   "id": "82cbf9c8",
   "metadata": {
    "deletable": false,
    "editable": false,
    "id": "82cbf9c8",
    "nbgrader": {
     "cell_type": "markdown",
     "checksum": "80cf3fd1740cdcbca1d5a249b40d1ebb",
     "grade": false,
     "grade_id": "cell-55c3fba55bbedb7b",
     "locked": true,
     "schema_version": 3,
     "solution": false,
     "task": false
    },
    "tags": []
   },
   "source": [
    "To make numbers more readable, you can also use `_` to group digits."
   ]
  },
  {
   "cell_type": "code",
   "execution_count": null,
   "id": "2fKK5h0I1ttb",
   "metadata": {
    "ExecuteTime": {
     "end_time": "2024-01-26T19:06:41.532787Z",
     "start_time": "2024-01-26T19:06:41.530040Z"
    },
    "execution": {
     "iopub.execute_input": "2024-01-27T03:09:53.821607Z",
     "iopub.status.busy": "2024-01-27T03:09:53.821193Z",
     "iopub.status.idle": "2024-01-27T03:09:53.830891Z",
     "shell.execute_reply": "2024-01-27T03:09:53.829518Z",
     "shell.execute_reply.started": "2024-01-27T03:09:53.821568Z"
    },
    "id": "2fKK5h0I1ttb"
   },
   "outputs": [],
   "source": [
    "1000000000"
   ]
  },
  {
   "cell_type": "code",
   "execution_count": null,
   "id": "981cc121",
   "metadata": {
    "ExecuteTime": {
     "end_time": "2024-01-26T19:06:41.544844Z",
     "start_time": "2024-01-26T19:06:41.540421Z"
    },
    "execution": {
     "iopub.execute_input": "2024-01-27T03:09:53.833414Z",
     "iopub.status.busy": "2024-01-27T03:09:53.832580Z",
     "iopub.status.idle": "2024-01-27T03:09:53.840429Z",
     "shell.execute_reply": "2024-01-27T03:09:53.839056Z",
     "shell.execute_reply.started": "2024-01-27T03:09:53.833372Z"
    },
    "id": "981cc121"
   },
   "outputs": [],
   "source": [
    "1_000_000_000"
   ]
  },
  {
   "cell_type": "markdown",
   "id": "f9725959",
   "metadata": {
    "id": "f9725959"
   },
   "source": [
    "Or print them with a specific formatting"
   ]
  },
  {
   "cell_type": "code",
   "execution_count": null,
   "id": "bfd27f12",
   "metadata": {
    "ExecuteTime": {
     "end_time": "2024-01-26T19:06:41.547434Z",
     "start_time": "2024-01-26T19:06:41.545619Z"
    },
    "execution": {
     "iopub.execute_input": "2024-01-27T03:09:53.842139Z",
     "iopub.status.busy": "2024-01-27T03:09:53.841759Z",
     "iopub.status.idle": "2024-01-27T03:09:53.849174Z",
     "shell.execute_reply": "2024-01-27T03:09:53.847559Z",
     "shell.execute_reply.started": "2024-01-27T03:09:53.842104Z"
    },
    "id": "bfd27f12"
   },
   "outputs": [],
   "source": [
    "large_number = 1_000_000_000\n",
    "print(f\"{large_number:,}\")"
   ]
  },
  {
   "cell_type": "markdown",
   "id": "ef8cc6b7",
   "metadata": {
    "deletable": false,
    "editable": false,
    "id": "ef8cc6b7",
    "nbgrader": {
     "cell_type": "markdown",
     "checksum": "1037dd740bf86894abacc60f35cfd688",
     "grade": false,
     "grade_id": "cell-2a6873548b4210c0",
     "locked": true,
     "schema_version": 3,
     "solution": false,
     "task": false
    },
    "tags": []
   },
   "source": [
    "### Number operations"
   ]
  },
  {
   "cell_type": "markdown",
   "id": "b9543b3f",
   "metadata": {
    "deletable": false,
    "editable": false,
    "id": "b9543b3f",
    "nbgrader": {
     "cell_type": "markdown",
     "checksum": "b7744b1729d6420a2fd7ecadf3143c77",
     "grade": false,
     "grade_id": "cell-643b24979206b356",
     "locked": true,
     "schema_version": 3,
     "solution": false,
     "task": false
    },
    "tags": []
   },
   "source": [
    "Here are some arithmetic operators that we can use with numeric values\n",
    "\n",
    "| Operator | Name |\n",
    "| ------ | ----- |\n",
    "| + | Addition |\n",
    "| - | Subtraction |\n",
    "| * | Multiplication |\n",
    "| / | Division |\n",
    "| % | Modulus |\n",
    "| ** | Exponentiation |\n",
    "| // | Floor division |"
   ]
  },
  {
   "cell_type": "code",
   "execution_count": null,
   "id": "5c49e081",
   "metadata": {
    "ExecuteTime": {
     "end_time": "2024-01-26T19:06:41.553410Z",
     "start_time": "2024-01-26T19:06:41.548376Z"
    },
    "execution": {
     "iopub.execute_input": "2024-01-27T03:09:53.851822Z",
     "iopub.status.busy": "2024-01-27T03:09:53.851322Z",
     "iopub.status.idle": "2024-01-27T03:09:53.869320Z",
     "shell.execute_reply": "2024-01-27T03:09:53.867187Z",
     "shell.execute_reply.started": "2024-01-27T03:09:53.851776Z"
    },
    "id": "5c49e081"
   },
   "outputs": [],
   "source": [
    "9 - 3"
   ]
  },
  {
   "cell_type": "code",
   "execution_count": null,
   "id": "16746bff",
   "metadata": {
    "ExecuteTime": {
     "end_time": "2024-01-26T19:06:41.557851Z",
     "start_time": "2024-01-26T19:06:41.554824Z"
    },
    "execution": {
     "iopub.execute_input": "2024-01-27T03:09:53.872144Z",
     "iopub.status.busy": "2024-01-27T03:09:53.871500Z",
     "iopub.status.idle": "2024-01-27T03:09:53.882208Z",
     "shell.execute_reply": "2024-01-27T03:09:53.880766Z",
     "shell.execute_reply.started": "2024-01-27T03:09:53.872084Z"
    },
    "id": "16746bff"
   },
   "outputs": [],
   "source": [
    "8 * 2.5"
   ]
  },
  {
   "cell_type": "code",
   "execution_count": null,
   "id": "a816521e",
   "metadata": {
    "ExecuteTime": {
     "end_time": "2024-01-26T19:06:41.561939Z",
     "start_time": "2024-01-26T19:06:41.559708Z"
    },
    "execution": {
     "iopub.execute_input": "2024-01-27T03:09:53.884611Z",
     "iopub.status.busy": "2024-01-27T03:09:53.884003Z",
     "iopub.status.idle": "2024-01-27T03:09:53.893789Z",
     "shell.execute_reply": "2024-01-27T03:09:53.892160Z",
     "shell.execute_reply.started": "2024-01-27T03:09:53.884543Z"
    },
    "id": "a816521e"
   },
   "outputs": [],
   "source": [
    "9 / 2"
   ]
  },
  {
   "cell_type": "code",
   "execution_count": null,
   "id": "c389fb76",
   "metadata": {
    "ExecuteTime": {
     "end_time": "2024-01-26T19:06:41.564851Z",
     "start_time": "2024-01-26T19:06:41.562837Z"
    },
    "execution": {
     "iopub.execute_input": "2024-01-27T03:09:53.896525Z",
     "iopub.status.busy": "2024-01-27T03:09:53.895960Z",
     "iopub.status.idle": "2024-01-27T03:09:53.905123Z",
     "shell.execute_reply": "2024-01-27T03:09:53.903548Z",
     "shell.execute_reply.started": "2024-01-27T03:09:53.896470Z"
    },
    "id": "c389fb76"
   },
   "outputs": [],
   "source": [
    "9 / -2"
   ]
  },
  {
   "cell_type": "code",
   "execution_count": null,
   "id": "39fd1f77",
   "metadata": {
    "ExecuteTime": {
     "end_time": "2024-01-26T19:06:41.573158Z",
     "start_time": "2024-01-26T19:06:41.565803Z"
    },
    "execution": {
     "iopub.execute_input": "2024-01-27T03:09:53.907455Z",
     "iopub.status.busy": "2024-01-27T03:09:53.906867Z",
     "iopub.status.idle": "2024-01-27T03:09:53.916676Z",
     "shell.execute_reply": "2024-01-27T03:09:53.914924Z",
     "shell.execute_reply.started": "2024-01-27T03:09:53.907398Z"
    },
    "id": "39fd1f77"
   },
   "outputs": [],
   "source": [
    "9 // 2"
   ]
  },
  {
   "cell_type": "code",
   "execution_count": null,
   "id": "1bde217a",
   "metadata": {
    "ExecuteTime": {
     "end_time": "2024-01-26T19:06:41.577878Z",
     "start_time": "2024-01-26T19:06:41.575219Z"
    },
    "execution": {
     "iopub.execute_input": "2024-01-27T03:09:53.918893Z",
     "iopub.status.busy": "2024-01-27T03:09:53.918433Z",
     "iopub.status.idle": "2024-01-27T03:09:53.928188Z",
     "shell.execute_reply": "2024-01-27T03:09:53.926661Z",
     "shell.execute_reply.started": "2024-01-27T03:09:53.918847Z"
    },
    "id": "1bde217a"
   },
   "outputs": [],
   "source": [
    "9 // -2"
   ]
  },
  {
   "cell_type": "code",
   "execution_count": null,
   "id": "496ae66a",
   "metadata": {
    "ExecuteTime": {
     "end_time": "2024-01-26T19:06:41.580828Z",
     "start_time": "2024-01-26T19:06:41.578800Z"
    },
    "execution": {
     "iopub.execute_input": "2024-01-27T03:09:53.930456Z",
     "iopub.status.busy": "2024-01-27T03:09:53.929944Z",
     "iopub.status.idle": "2024-01-27T03:09:53.940090Z",
     "shell.execute_reply": "2024-01-27T03:09:53.938470Z",
     "shell.execute_reply.started": "2024-01-27T03:09:53.930410Z"
    },
    "id": "496ae66a"
   },
   "outputs": [],
   "source": [
    "9 % 2"
   ]
  },
  {
   "cell_type": "code",
   "execution_count": null,
   "id": "0003191a",
   "metadata": {
    "ExecuteTime": {
     "end_time": "2024-01-26T19:06:41.587713Z",
     "start_time": "2024-01-26T19:06:41.581704Z"
    },
    "execution": {
     "iopub.execute_input": "2024-01-27T03:09:53.942296Z",
     "iopub.status.busy": "2024-01-27T03:09:53.941845Z",
     "iopub.status.idle": "2024-01-27T03:09:53.951612Z",
     "shell.execute_reply": "2024-01-27T03:09:53.949972Z",
     "shell.execute_reply.started": "2024-01-27T03:09:53.942254Z"
    },
    "id": "0003191a"
   },
   "outputs": [],
   "source": [
    "9.0 % 2"
   ]
  },
  {
   "cell_type": "code",
   "execution_count": null,
   "id": "620ea624",
   "metadata": {
    "ExecuteTime": {
     "end_time": "2024-01-26T19:06:41.593017Z",
     "start_time": "2024-01-26T19:06:41.589031Z"
    },
    "execution": {
     "iopub.execute_input": "2024-01-27T03:09:53.953850Z",
     "iopub.status.busy": "2024-01-27T03:09:53.953399Z",
     "iopub.status.idle": "2024-01-27T03:09:53.963096Z",
     "shell.execute_reply": "2024-01-27T03:09:53.961379Z",
     "shell.execute_reply.started": "2024-01-27T03:09:53.953808Z"
    },
    "id": "620ea624"
   },
   "outputs": [],
   "source": [
    "9 % 2.0"
   ]
  },
  {
   "cell_type": "code",
   "execution_count": null,
   "id": "43b4b211",
   "metadata": {
    "ExecuteTime": {
     "end_time": "2024-01-26T19:06:41.596650Z",
     "start_time": "2024-01-26T19:06:41.594005Z"
    },
    "execution": {
     "iopub.execute_input": "2024-01-27T03:09:53.973445Z",
     "iopub.status.busy": "2024-01-27T03:09:53.971860Z",
     "iopub.status.idle": "2024-01-27T03:09:53.986885Z",
     "shell.execute_reply": "2024-01-27T03:09:53.985134Z",
     "shell.execute_reply.started": "2024-01-27T03:09:53.973377Z"
    },
    "id": "43b4b211"
   },
   "outputs": [],
   "source": [
    "-9 % 2"
   ]
  },
  {
   "cell_type": "code",
   "execution_count": null,
   "id": "sOTZAYgm2gzg",
   "metadata": {
    "ExecuteTime": {
     "end_time": "2024-01-26T19:06:41.601714Z",
     "start_time": "2024-01-26T19:06:41.597715Z"
    },
    "execution": {
     "iopub.execute_input": "2024-01-27T03:09:53.989028Z",
     "iopub.status.busy": "2024-01-27T03:09:53.988677Z",
     "iopub.status.idle": "2024-01-27T03:09:53.999068Z",
     "shell.execute_reply": "2024-01-27T03:09:53.997280Z",
     "shell.execute_reply.started": "2024-01-27T03:09:53.988980Z"
    },
    "id": "sOTZAYgm2gzg"
   },
   "outputs": [],
   "source": [
    "9 % 4"
   ]
  },
  {
   "cell_type": "code",
   "execution_count": null,
   "id": "7280bc2e",
   "metadata": {
    "ExecuteTime": {
     "end_time": "2024-01-26T19:06:41.606450Z",
     "start_time": "2024-01-26T19:06:41.603111Z"
    },
    "execution": {
     "iopub.execute_input": "2024-01-27T03:09:54.002056Z",
     "iopub.status.busy": "2024-01-27T03:09:54.001484Z",
     "iopub.status.idle": "2024-01-27T03:09:54.011808Z",
     "shell.execute_reply": "2024-01-27T03:09:54.010380Z",
     "shell.execute_reply.started": "2024-01-27T03:09:54.002004Z"
    },
    "id": "7280bc2e"
   },
   "outputs": [],
   "source": [
    "-9 % 4"
   ]
  },
  {
   "cell_type": "code",
   "execution_count": null,
   "id": "1foOdJIz2qnf",
   "metadata": {
    "ExecuteTime": {
     "end_time": "2024-01-26T19:06:41.609924Z",
     "start_time": "2024-01-26T19:06:41.607738Z"
    },
    "execution": {
     "iopub.execute_input": "2024-01-27T03:09:54.013079Z",
     "iopub.status.busy": "2024-01-27T03:09:54.012861Z",
     "iopub.status.idle": "2024-01-27T03:09:54.019967Z",
     "shell.execute_reply": "2024-01-27T03:09:54.018825Z",
     "shell.execute_reply.started": "2024-01-27T03:09:54.013059Z"
    },
    "id": "1foOdJIz2qnf"
   },
   "outputs": [],
   "source": [
    "6 - (9 % 6)"
   ]
  },
  {
   "cell_type": "code",
   "execution_count": null,
   "id": "Y7uaxnl82sre",
   "metadata": {
    "ExecuteTime": {
     "end_time": "2024-01-26T19:06:41.612762Z",
     "start_time": "2024-01-26T19:06:41.610817Z"
    },
    "execution": {
     "iopub.execute_input": "2024-01-27T03:09:54.021176Z",
     "iopub.status.busy": "2024-01-27T03:09:54.020961Z",
     "iopub.status.idle": "2024-01-27T03:09:54.028660Z",
     "shell.execute_reply": "2024-01-27T03:09:54.027508Z",
     "shell.execute_reply.started": "2024-01-27T03:09:54.021156Z"
    },
    "id": "Y7uaxnl82sre"
   },
   "outputs": [],
   "source": [
    "-9 % 6"
   ]
  },
  {
   "cell_type": "code",
   "execution_count": null,
   "id": "Dwfc66tv2nBm",
   "metadata": {
    "ExecuteTime": {
     "end_time": "2024-01-26T19:06:41.615967Z",
     "start_time": "2024-01-26T19:06:41.613476Z"
    },
    "execution": {
     "iopub.execute_input": "2024-01-27T03:09:54.030067Z",
     "iopub.status.busy": "2024-01-27T03:09:54.029778Z",
     "iopub.status.idle": "2024-01-27T03:09:54.038267Z",
     "shell.execute_reply": "2024-01-27T03:09:54.037187Z",
     "shell.execute_reply.started": "2024-01-27T03:09:54.030039Z"
    },
    "id": "Dwfc66tv2nBm"
   },
   "outputs": [],
   "source": [
    "4 - (9 % 4)"
   ]
  },
  {
   "cell_type": "code",
   "execution_count": null,
   "id": "48f64a65",
   "metadata": {
    "ExecuteTime": {
     "end_time": "2024-01-26T19:06:41.622541Z",
     "start_time": "2024-01-26T19:06:41.619836Z"
    },
    "execution": {
     "iopub.execute_input": "2024-01-27T03:09:54.039618Z",
     "iopub.status.busy": "2024-01-27T03:09:54.039329Z",
     "iopub.status.idle": "2024-01-27T03:09:54.046416Z",
     "shell.execute_reply": "2024-01-27T03:09:54.044888Z",
     "shell.execute_reply.started": "2024-01-27T03:09:54.039589Z"
    },
    "id": "48f64a65"
   },
   "outputs": [],
   "source": [
    "9 / -2.0"
   ]
  },
  {
   "cell_type": "code",
   "execution_count": null,
   "id": "cdb34f8e",
   "metadata": {
    "ExecuteTime": {
     "end_time": "2024-01-26T19:06:41.625829Z",
     "start_time": "2024-01-26T19:06:41.623461Z"
    },
    "execution": {
     "iopub.execute_input": "2024-01-27T03:09:54.047804Z",
     "iopub.status.busy": "2024-01-27T03:09:54.047510Z",
     "iopub.status.idle": "2024-01-27T03:09:54.055331Z",
     "shell.execute_reply": "2024-01-27T03:09:54.053894Z",
     "shell.execute_reply.started": "2024-01-27T03:09:54.047776Z"
    },
    "id": "cdb34f8e"
   },
   "outputs": [],
   "source": [
    "4 + 3*5"
   ]
  },
  {
   "cell_type": "code",
   "execution_count": null,
   "id": "684f4690",
   "metadata": {
    "ExecuteTime": {
     "end_time": "2024-01-26T19:06:41.628813Z",
     "start_time": "2024-01-26T19:06:41.626673Z"
    },
    "execution": {
     "iopub.execute_input": "2024-01-27T03:09:54.056875Z",
     "iopub.status.busy": "2024-01-27T03:09:54.056568Z",
     "iopub.status.idle": "2024-01-27T03:09:54.065063Z",
     "shell.execute_reply": "2024-01-27T03:09:54.063550Z",
     "shell.execute_reply.started": "2024-01-27T03:09:54.056846Z"
    },
    "id": "684f4690"
   },
   "outputs": [],
   "source": [
    "(4 + 3)*5"
   ]
  },
  {
   "cell_type": "markdown",
   "id": "247e7a53",
   "metadata": {
    "deletable": false,
    "editable": false,
    "id": "247e7a53",
    "nbgrader": {
     "cell_type": "markdown",
     "checksum": "3241e675421ef6c27e1c9f685ed2906c",
     "grade": false,
     "grade_id": "cell-7d2c641af0e98765",
     "locked": true,
     "schema_version": 3,
     "solution": false,
     "task": false
    },
    "tags": []
   },
   "source": [
    "But, wait, there's more!\n",
    "\n",
    "| Operations | Name |\n",
    "| ------ | ----- |\n",
    "| abs(x) | Absolute value of x |\n",
    "| int(x) | Converts x into an integer |\n",
    "| float(x) | Converts x into floating point |\n",
    "| complex(x, y) | Defines a complex number x + iy |\n",
    "| c.conjugate() | Conjugates complex number c |\n",
    "| divmod(x, y) | the pair (x // y, x % y) |\n",
    "| pow(x, y) | x to the power of y |\n",
    "| x ** y | x to the power of y |\n",
    "\n"
   ]
  },
  {
   "cell_type": "code",
   "execution_count": null,
   "id": "e7b0cea9",
   "metadata": {
    "ExecuteTime": {
     "end_time": "2024-01-26T19:06:41.632316Z",
     "start_time": "2024-01-26T19:06:41.629712Z"
    },
    "execution": {
     "iopub.execute_input": "2024-01-27T03:09:54.066382Z",
     "iopub.status.busy": "2024-01-27T03:09:54.066094Z",
     "iopub.status.idle": "2024-01-27T03:09:54.074076Z",
     "shell.execute_reply": "2024-01-27T03:09:54.072417Z",
     "shell.execute_reply.started": "2024-01-27T03:09:54.066354Z"
    },
    "id": "e7b0cea9"
   },
   "outputs": [],
   "source": [
    "abs(-1)"
   ]
  },
  {
   "cell_type": "code",
   "execution_count": null,
   "id": "75f63485",
   "metadata": {
    "ExecuteTime": {
     "end_time": "2024-01-26T19:06:41.639436Z",
     "start_time": "2024-01-26T19:06:41.635137Z"
    },
    "execution": {
     "iopub.execute_input": "2024-01-27T03:09:54.075235Z",
     "iopub.status.busy": "2024-01-27T03:09:54.074949Z",
     "iopub.status.idle": "2024-01-27T03:09:54.082673Z",
     "shell.execute_reply": "2024-01-27T03:09:54.081202Z",
     "shell.execute_reply.started": "2024-01-27T03:09:54.075207Z"
    },
    "id": "75f63485"
   },
   "outputs": [],
   "source": [
    "int(1.23)"
   ]
  },
  {
   "cell_type": "code",
   "execution_count": null,
   "id": "bc469f23",
   "metadata": {
    "ExecuteTime": {
     "end_time": "2024-01-26T19:06:41.642483Z",
     "start_time": "2024-01-26T19:06:41.640463Z"
    },
    "execution": {
     "iopub.execute_input": "2024-01-27T03:09:54.084038Z",
     "iopub.status.busy": "2024-01-27T03:09:54.083743Z",
     "iopub.status.idle": "2024-01-27T03:09:54.099373Z",
     "shell.execute_reply": "2024-01-27T03:09:54.098097Z",
     "shell.execute_reply.started": "2024-01-27T03:09:54.084010Z"
    },
    "id": "bc469f23"
   },
   "outputs": [],
   "source": [
    "float('1.34')"
   ]
  },
  {
   "cell_type": "code",
   "execution_count": null,
   "id": "718e36d6",
   "metadata": {
    "ExecuteTime": {
     "end_time": "2024-01-26T19:06:41.645486Z",
     "start_time": "2024-01-26T19:06:41.643404Z"
    },
    "execution": {
     "iopub.execute_input": "2024-01-27T03:09:54.100476Z",
     "iopub.status.busy": "2024-01-27T03:09:54.100196Z",
     "iopub.status.idle": "2024-01-27T03:09:54.109521Z",
     "shell.execute_reply": "2024-01-27T03:09:54.108497Z",
     "shell.execute_reply.started": "2024-01-27T03:09:54.100452Z"
    },
    "id": "718e36d6"
   },
   "outputs": [],
   "source": [
    "z = complex(1, 2)\n",
    "z"
   ]
  },
  {
   "cell_type": "code",
   "execution_count": null,
   "id": "b0b0aaf2",
   "metadata": {
    "ExecuteTime": {
     "end_time": "2024-01-26T19:06:41.648185Z",
     "start_time": "2024-01-26T19:06:41.646214Z"
    },
    "execution": {
     "iopub.execute_input": "2024-01-27T03:09:54.110673Z",
     "iopub.status.busy": "2024-01-27T03:09:54.110391Z",
     "iopub.status.idle": "2024-01-27T03:09:54.119264Z",
     "shell.execute_reply": "2024-01-27T03:09:54.116700Z",
     "shell.execute_reply.started": "2024-01-27T03:09:54.110649Z"
    },
    "id": "b0b0aaf2"
   },
   "outputs": [],
   "source": [
    "z.conjugate()"
   ]
  },
  {
   "cell_type": "code",
   "execution_count": null,
   "id": "891aa57c",
   "metadata": {
    "ExecuteTime": {
     "end_time": "2024-01-26T19:06:41.655015Z",
     "start_time": "2024-01-26T19:06:41.649010Z"
    },
    "execution": {
     "iopub.execute_input": "2024-01-27T03:09:54.120715Z",
     "iopub.status.busy": "2024-01-27T03:09:54.120427Z",
     "iopub.status.idle": "2024-01-27T03:09:54.128433Z",
     "shell.execute_reply": "2024-01-27T03:09:54.127520Z",
     "shell.execute_reply.started": "2024-01-27T03:09:54.120687Z"
    },
    "id": "891aa57c"
   },
   "outputs": [],
   "source": [
    "divmod(11, 5)"
   ]
  },
  {
   "cell_type": "code",
   "execution_count": null,
   "id": "f9965e35",
   "metadata": {
    "ExecuteTime": {
     "end_time": "2024-01-26T19:06:41.658389Z",
     "start_time": "2024-01-26T19:06:41.656134Z"
    },
    "execution": {
     "iopub.execute_input": "2024-01-27T03:09:54.129673Z",
     "iopub.status.busy": "2024-01-27T03:09:54.129458Z",
     "iopub.status.idle": "2024-01-27T03:09:54.136072Z",
     "shell.execute_reply": "2024-01-27T03:09:54.135177Z",
     "shell.execute_reply.started": "2024-01-27T03:09:54.129653Z"
    },
    "id": "f9965e35"
   },
   "outputs": [],
   "source": [
    "pow(2, 3)"
   ]
  },
  {
   "cell_type": "code",
   "execution_count": null,
   "id": "e80cdbf0",
   "metadata": {
    "ExecuteTime": {
     "end_time": "2024-01-26T19:06:41.662075Z",
     "start_time": "2024-01-26T19:06:41.659961Z"
    },
    "execution": {
     "iopub.execute_input": "2024-01-27T03:09:54.137486Z",
     "iopub.status.busy": "2024-01-27T03:09:54.137196Z",
     "iopub.status.idle": "2024-01-27T03:09:54.144695Z",
     "shell.execute_reply": "2024-01-27T03:09:54.143596Z",
     "shell.execute_reply.started": "2024-01-27T03:09:54.137458Z"
    },
    "id": "e80cdbf0"
   },
   "outputs": [],
   "source": [
    "2**3"
   ]
  },
  {
   "cell_type": "markdown",
   "id": "4d802e95",
   "metadata": {
    "deletable": false,
    "editable": false,
    "id": "4d802e95",
    "nbgrader": {
     "cell_type": "markdown",
     "checksum": "3cfc236303470b59413877485874b996",
     "grade": false,
     "grade_id": "cell-8d37987ecc18c3be",
     "locked": true,
     "schema_version": 3,
     "solution": false,
     "task": false
    },
    "tags": []
   },
   "source": [
    "## 4 Hands-on Exercises"
   ]
  },
  {
   "cell_type": "markdown",
   "id": "029daeed",
   "metadata": {
    "deletable": false,
    "editable": false,
    "id": "029daeed",
    "nbgrader": {
     "cell_type": "markdown",
     "checksum": "527b18f9033d2dc8583b9e67a103137d",
     "grade": false,
     "grade_id": "cell-b72b64956477f278",
     "locked": true,
     "schema_version": 3,
     "solution": false,
     "task": false
    },
    "tags": []
   },
   "source": [
    "### Famous Quote"
   ]
  },
  {
   "cell_type": "markdown",
   "id": "7a863593",
   "metadata": {
    "deletable": false,
    "editable": false,
    "id": "7a863593",
    "nbgrader": {
     "cell_type": "markdown",
     "checksum": "dcc84bb0149f880e55395e3fcd2b812a",
     "grade": false,
     "grade_id": "cell-71f536c27ff700e1",
     "locked": true,
     "schema_version": 3,
     "solution": false,
     "task": false
    },
    "tags": []
   },
   "source": [
    "Find a famous quote from a famouse person you admire. Represent the famous person's name using a variable `famous_person`. Then compose your message and represent it with a new variable called `message`. Print your `message`.\n",
    "\n",
    "The output should look like the following (including the quotation marks):\n",
    "\n",
    "```\n",
    "Albert Einstein once said, \"A person who never made a mistake never tried anything new.\"\n",
    "```"
   ]
  },
  {
   "cell_type": "code",
   "execution_count": null,
   "id": "f82d28d9",
   "metadata": {
    "ExecuteTime": {
     "end_time": "2024-01-26T19:06:41.664872Z",
     "start_time": "2024-01-26T19:06:41.662926Z"
    },
    "colab": {
     "base_uri": "https://localhost:8080/"
    },
    "deletable": false,
    "execution": {
     "iopub.execute_input": "2024-01-28T10:10:10.882181Z",
     "iopub.status.busy": "2024-01-28T10:10:10.880574Z",
     "iopub.status.idle": "2024-01-28T10:10:10.895344Z",
     "shell.execute_reply": "2024-01-28T10:10:10.893293Z",
     "shell.execute_reply.started": "2024-01-28T10:10:10.882092Z"
    },
    "executionInfo": {
     "elapsed": 13,
     "status": "ok",
     "timestamp": 1756178433753,
     "user": {
      "displayName": "HECTOR LOUIS O. BANDA",
      "userId": "10737061043116032216"
     },
     "user_tz": -480
    },
    "id": "f82d28d9",
    "nbgrader": {
     "cell_type": "code",
     "checksum": "69bc4206944defb8ecc4f046e2f03b94",
     "grade": false,
     "grade_id": "cell-47268e81109fbb26",
     "locked": false,
     "schema_version": 3,
     "solution": true,
     "task": false
    },
    "outputId": "2509be00-4bc2-4994-cc9a-331ef2db8357",
    "tags": []
   },
   "outputs": [],
   "source": [
    "# YOUR CODE HERE\n",
    "person = 'Albert Einstein'\n",
    "quote = 'A person who never made a mistake never tried anything new.'\n",
    "message = f'{person} once said, \"{quote}\"'\n",
    "print(message)"
   ]
  },
  {
   "cell_type": "markdown",
   "id": "630be415",
   "metadata": {
    "deletable": false,
    "editable": false,
    "id": "630be415",
    "nbgrader": {
     "cell_type": "markdown",
     "checksum": "b00b95b271271b152ef0eee1331fe35c",
     "grade": false,
     "grade_id": "cell-8bd501b393f6d4e1",
     "locked": true,
     "schema_version": 3,
     "solution": false,
     "task": false
    },
    "tags": []
   },
   "source": [
    "### Temperature converter"
   ]
  },
  {
   "cell_type": "markdown",
   "id": "23def775",
   "metadata": {
    "deletable": false,
    "editable": false,
    "id": "23def775",
    "nbgrader": {
     "cell_type": "markdown",
     "checksum": "fbb09a4eb3389aa31d8f913d26979efc",
     "grade": false,
     "grade_id": "cell-a75dab0e26828855",
     "locked": true,
     "schema_version": 3,
     "solution": false,
     "task": false
    },
    "tags": []
   },
   "source": [
    "Given a temperature in variable `celsius_temp` in degrees celsius, convert this temperature value into the fahrenheit scale then represent it using a new variable called `fahrenheit_temp`. The conversion between degrees celsius and fahrenheit is shown by the equation below:\n",
    "\n",
    "\n",
    "$$\n",
    "F = \\frac{9}{5} C + 32\n",
    "$$"
   ]
  },
  {
   "cell_type": "code",
   "execution_count": null,
   "id": "dc50f39b",
   "metadata": {
    "ExecuteTime": {
     "end_time": "2024-01-26T19:06:41.669748Z",
     "start_time": "2024-01-26T19:06:41.666088Z"
    },
    "colab": {
     "base_uri": "https://localhost:8080/"
    },
    "deletable": false,
    "execution": {
     "iopub.execute_input": "2024-01-27T04:06:12.760379Z",
     "iopub.status.busy": "2024-01-27T04:06:12.759668Z",
     "iopub.status.idle": "2024-01-27T04:06:12.769735Z",
     "shell.execute_reply": "2024-01-27T04:06:12.768061Z",
     "shell.execute_reply.started": "2024-01-27T04:06:12.760314Z"
    },
    "executionInfo": {
     "elapsed": 6,
     "status": "ok",
     "timestamp": 1756178441469,
     "user": {
      "displayName": "HECTOR LOUIS O. BANDA",
      "userId": "10737061043116032216"
     },
     "user_tz": -480
    },
    "id": "dc50f39b",
    "nbgrader": {
     "cell_type": "code",
     "checksum": "9eceb75fc592843ad44604be403835a5",
     "grade": false,
     "grade_id": "cell-8fa7e97d208bdf8c",
     "locked": false,
     "schema_version": 3,
     "solution": true,
     "task": false
    },
    "outputId": "af5cc69f-f575-4a97-d69e-4ed11132756d",
    "tags": []
   },
   "outputs": [],
   "source": [
    "# YOUR CODE HERE\n",
    "celsius_temp = 25\n",
    "fahrenheit_temp = (9/5) * celsius_temp + 32\n",
    "print(fahrenheit_temp)"
   ]
  },
  {
   "cell_type": "markdown",
   "id": "6434dedc",
   "metadata": {
    "deletable": false,
    "editable": false,
    "id": "6434dedc",
    "nbgrader": {
     "cell_type": "markdown",
     "checksum": "8725deed575ffe1b8c9d48fd422afea0",
     "grade": false,
     "grade_id": "cell-ea6a3f6a724efacb",
     "locked": true,
     "schema_version": 3,
     "solution": false,
     "task": false
    },
    "tags": []
   },
   "source": [
    "### Measuring distances"
   ]
  },
  {
   "cell_type": "markdown",
   "id": "266a636c",
   "metadata": {
    "deletable": false,
    "editable": false,
    "id": "266a636c",
    "nbgrader": {
     "cell_type": "markdown",
     "checksum": "cd5b03286888b73f6d3ca05565e4397f",
     "grade": false,
     "grade_id": "cell-858b612a46d85ff5",
     "locked": true,
     "schema_version": 3,
     "solution": false,
     "task": false
    },
    "tags": []
   },
   "source": [
    "Create a code that prints the Pythagorean (euclidean) `distance` between the two points. Represent the x and y coordinate of the first point as `x1` and `y1`, while set `x2` and `y2` the coordinate of the second point."
   ]
  },
  {
   "cell_type": "code",
   "execution_count": null,
   "id": "267d3613",
   "metadata": {
    "ExecuteTime": {
     "end_time": "2024-01-26T19:06:41.673873Z",
     "start_time": "2024-01-26T19:06:41.671625Z"
    },
    "colab": {
     "base_uri": "https://localhost:8080/"
    },
    "deletable": false,
    "execution": {
     "iopub.execute_input": "2024-01-27T04:05:53.470310Z",
     "iopub.status.busy": "2024-01-27T04:05:53.469601Z",
     "iopub.status.idle": "2024-01-27T04:05:53.481805Z",
     "shell.execute_reply": "2024-01-27T04:05:53.479620Z",
     "shell.execute_reply.started": "2024-01-27T04:05:53.470247Z"
    },
    "executionInfo": {
     "elapsed": 14,
     "status": "ok",
     "timestamp": 1756178453537,
     "user": {
      "displayName": "HECTOR LOUIS O. BANDA",
      "userId": "10737061043116032216"
     },
     "user_tz": -480
    },
    "id": "267d3613",
    "nbgrader": {
     "cell_type": "code",
     "checksum": "57ee058ce1b240b5bb4f27d1a621d963",
     "grade": false,
     "grade_id": "cell-29aba1b592bc2566",
     "locked": false,
     "schema_version": 3,
     "solution": true,
     "task": false
    },
    "outputId": "ad5584c6-e012-4091-bb3b-1625209681eb",
    "tags": []
   },
   "outputs": [],
   "source": [
    "# YOUR CODE HERE\n",
    "x1 = 1\n",
    "y1 = 2\n",
    "x2 = 3\n",
    "y2 = 4\n",
    "distance = ((x2 - x1)**2 + (y2 - y1)**2)**0.5\n",
    "print(distance)"
   ]
  },
  {
   "cell_type": "markdown",
   "id": "4358fd80",
   "metadata": {
    "deletable": false,
    "editable": false,
    "id": "4358fd80",
    "nbgrader": {
     "cell_type": "markdown",
     "checksum": "4deee279adc559ad8f52b76051e263bc",
     "grade": false,
     "grade_id": "cell-0e4fc78a7f0af153",
     "locked": true,
     "schema_version": 3,
     "solution": false,
     "task": false
    },
    "tags": []
   },
   "source": [
    "### Time converter"
   ]
  },
  {
   "cell_type": "markdown",
   "id": "94729cc3",
   "metadata": {
    "deletable": false,
    "editable": false,
    "id": "94729cc3",
    "nbgrader": {
     "cell_type": "markdown",
     "checksum": "a787d6ae1b8bfad86e7c76cda1090bf3",
     "grade": false,
     "grade_id": "cell-90e5bf2d532707a7",
     "locked": true,
     "schema_version": 3,
     "solution": false,
     "task": false
    },
    "tags": []
   },
   "source": [
    "Create a code that accepts a user input `time_secs` in seconds then displays this the value in minutes and seconds.\n",
    "\n",
    "For example, if the elapsed time was `130` seconds, the output would be\n",
    "\n",
    "```\n",
    "2 minutes 10 seconds\n",
    "```"
   ]
  },
  {
   "cell_type": "code",
   "execution_count": null,
   "id": "Dt6OuP-gAnqu",
   "metadata": {
    "ExecuteTime": {
     "end_time": "2024-01-26T19:06:41.676791Z",
     "start_time": "2024-01-26T19:06:41.674972Z"
    },
    "colab": {
     "base_uri": "https://localhost:8080/"
    },
    "deletable": false,
    "execution": {
     "iopub.execute_input": "2024-01-27T04:08:25.202746Z",
     "iopub.status.busy": "2024-01-27T04:08:25.201704Z",
     "iopub.status.idle": "2024-01-27T04:08:25.215285Z",
     "shell.execute_reply": "2024-01-27T04:08:25.213420Z",
     "shell.execute_reply.started": "2024-01-27T04:08:25.202646Z"
    },
    "executionInfo": {
     "elapsed": 14,
     "status": "ok",
     "timestamp": 1756178460694,
     "user": {
      "displayName": "HECTOR LOUIS O. BANDA",
      "userId": "10737061043116032216"
     },
     "user_tz": -480
    },
    "id": "Dt6OuP-gAnqu",
    "nbgrader": {
     "cell_type": "code",
     "checksum": "ca0373b6fa0caa14a977f6dd8226d908",
     "grade": false,
     "grade_id": "cell-490569c100e77829",
     "locked": false,
     "schema_version": 3,
     "solution": true,
     "task": false
    },
    "outputId": "2c70c69d-4af5-48cb-cdf2-2c606b70e4bd",
    "tags": []
   },
   "outputs": [],
   "source": [
    "# YOUR CODE HERE\n",
    "time_secs = 130\n",
    "minutes = time_secs // 60\n",
    "seconds = time_secs % 60\n",
    "print(f'{minutes} minutes {seconds} seconds')"
   ]
  }
 ],
 "metadata": {
  "colab": {
   "provenance": []
  },
  "kernelspec": {
   "display_name": "Python 3",
   "name": "python3"
  },
  "language_info": {
   "name": "python"
  }
 },
 "nbformat": 4,
 "nbformat_minor": 5
}
