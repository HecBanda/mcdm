{
 "cells": [
  {
   "cell_type": "markdown",
   "id": "b19aa380",
   "metadata": {},
   "source": [
    "# ELECTRE Method in Multi-Criteria Decision Making\n",
    "\n",
    "## Introduction\n",
    "\n",
    "**ELECTRE** (ELimination Et Choix Traduisant la REalité - Elimination and Choice Expressing Reality) is a family of multi-criteria decision analysis (MCDA) methods developed by Bernard Roy in the 1960s. ELECTRE methods are particularly useful for decision problems involving conflicting criteria and help decision-makers handle uncertainty and incomparability between alternatives.\n",
    "\n",
    "The ELECTRE family includes several variants:\n",
    "- **ELECTRE I**: For selection problems (choosing the best alternative)\n",
    "- **ELECTRE II**: For ranking problems  \n",
    "- **ELECTRE III**: For ranking with pseudo-criteria\n",
    "- **ELECTRE IV**: For ranking without weights\n",
    "- **ELECTRE TRI**: For sorting problems\n",
    "\n",
    "In this notebook, we'll focus on **ELECTRE I**, which is the foundation for understanding other ELECTRE methods."
   ]
  },
  {
   "cell_type": "markdown",
   "id": "d7ae20e9",
   "metadata": {},
   "source": [
    "## Key Concepts and Characteristics\n",
    "\n",
    "### What Makes ELECTRE Unique?\n",
    "\n",
    "1. **Outranking Relations**: Unlike other MCDA methods that assign scores, ELECTRE builds outranking relations between alternatives (A outranks B if A is at least as good as B).\n",
    "\n",
    "2. **Handling Incomparability**: ELECTRE explicitly recognizes that some alternatives may be incomparable, which is more realistic than forcing a complete ranking.\n",
    "\n",
    "3. **Threshold-based Approach**: Uses concordance and discordance thresholds to handle uncertainty and preference modeling.\n",
    "\n",
    "4. **No Compensation**: ELECTRE is a non-compensatory method - a very poor performance on one criterion cannot be completely offset by excellent performance on another.\n",
    "\n",
    "### Core Principles\n",
    "\n",
    "- **Concordance**: Measures the strength of evidence supporting the hypothesis that alternative A outranks alternative B\n",
    "- **Discordance**: Measures the strength of evidence against the hypothesis that A outranks B\n",
    "- **Veto Threshold**: A criterion can \"veto\" an outranking relation if the difference in performance is too large"
   ]
  },
  {
   "cell_type": "markdown",
   "id": "d1ee2279",
   "metadata": {},
   "source": [
    "## Mathematical Foundation\n",
    "\n",
    "### Notation\n",
    "\n",
    "Let's define our decision problem:\n",
    "\n",
    "- **A** = {a₁, a₂, ..., aₘ}: Set of m alternatives\n",
    "- **C** = {c₁, c₂, ..., cₙ}: Set of n criteria  \n",
    "- **W** = {w₁, w₂, ..., wₙ}: Set of criteria weights where Σwⱼ = 1\n",
    "- **gⱼ(aᵢ)**: Performance of alternative aᵢ on criterion cⱼ\n",
    "- **X**: Decision matrix where xᵢⱼ = gⱼ(aᵢ)\n",
    "\n",
    "### Preference Structure\n",
    "\n",
    "For each criterion cⱼ, we can define:\n",
    "- **Indifference threshold (qⱼ)**: Below this difference, alternatives are considered indifferent\n",
    "- **Preference threshold (pⱼ)**: Above this difference, strict preference is established  \n",
    "- **Veto threshold (vⱼ)**: Above this difference, one alternative completely dominates\n",
    "\n",
    "### Decision Matrix Example\n",
    "\n",
    "|         | Criterion 1 | Criterion 2 | Criterion 3 |\n",
    "|---------|-------------|-------------|-------------|\n",
    "| Alt A   | x₁₁         | x₁₂         | x₁₃         |\n",
    "| Alt B   | x₂₁         | x₂₂         | x₂₃         |\n",
    "| Alt C   | x₃₁         | x₃₂         | x₃₃         |"
   ]
  },
  {
   "cell_type": "markdown",
   "id": "baa3efd7",
   "metadata": {},
   "source": [
    "## ELECTRE I Algorithm\n",
    "\n",
    "The ELECTRE I method follows these main steps:\n",
    "\n",
    "### Step 1: Normalize the Decision Matrix\n",
    "Convert all criteria to a comparable scale (usually 0-1).\n",
    "\n",
    "The vector normalization formula used in ELECTRE I for each criterion j is:\n",
    "\n",
    "$$r_{ij} = \\frac{x_{ij}}{\\sqrt{\\sum_{k=1}^{m} x_{kj}^2}}$$\n",
    "\n",
    "Where:\n",
    "- $r_{ij}$ = normalized value for alternative i on criterion j\n",
    "- $x_{ij}$ = original value for alternative i on criterion j  \n",
    "- $m$ = number of alternatives\n",
    "- $\\sqrt{\\sum_{k=1}^{m} x_{kj}^2}$ = Euclidean norm (length) of the criterion j vector\n",
    "\n",
    "**Special handling for minimization criteria:**\n",
    "1. First convert to maximization: $x'_{ij} = \\frac{1}{x_{ij}}$\n",
    "2. Then apply vector normalization: $r_{ij} = \\frac{x'_{ij}}{\\sqrt{\\sum_{k=1}^{m} (x'_{kj})^2}}$\n",
    "\n",
    "**Properties:**\n",
    "- Ensures $\\sum_{i=1}^{m} r_{ij}^2 = 1$ for each criterion j\n",
    "- Preserves relative differences between alternatives\n",
    "- Makes all criteria dimensionless and comparable\n",
    "\n",
    "### Step 2: Calculate Weighted Normalized Matrix  \n",
    "Apply criteria weights to the normalized values.\n",
    "\n",
    "### Step 3: Calculate Concordance Index\n",
    "For each pair of alternatives (aᵢ, aₖ):\n",
    "\n",
    "**Concordance Index C(i,k)**:\n",
    "$$C(i,k) = \\frac{\\sum_{j \\in J^+} w_j}{\\sum_{j=1}^{n} w_j}$$\n",
    "\n",
    "Where J⁺ is the set of criteria for which alternative aᵢ is at least as good as aₖ.\n",
    "\n",
    "### Step 4: Calculate Discordance Index\n",
    "For each pair of alternatives (aᵢ, aₖ):\n",
    "\n",
    "**Discordance Index D(i,k)**:\n",
    "$$D(i,k) = \\frac{\\max_{j \\in J^-} |g_j(a_i) - g_j(a_k)|}{\\max_{j=1,...,n} |g_j(a_i) - g_j(a_k)|}$$\n",
    "\n",
    "Where J⁻ is the set of criteria for which alternative aᵢ is worse than aₖ.\n",
    "\n",
    "### Step 5: Determine Outranking Relations\n",
    "Alternative aᵢ outranks aₖ if:\n",
    "- C(i,k) ≥ concordance threshold (usually ≥ 0.5)\n",
    "- D(i,k) ≤ discordance threshold (usually ≤ 0.5)"
   ]
  },
  {
   "cell_type": "markdown",
   "id": "2ebce050",
   "metadata": {},
   "source": [
    "## Advantages and Limitations\n",
    "\n",
    "### Advantages\n",
    "\n",
    "1. **Realistic Decision Modeling**: Acknowledges that some alternatives may be incomparable\n",
    "2. **No Compensation Effects**: Poor performance on one criterion cannot be completely offset\n",
    "3. **Handles Uncertainty**: Uses thresholds to model decision-maker uncertainty\n",
    "4. **Flexible Framework**: Different variants for different types of problems\n",
    "5. **Transparent Process**: Clear distinction between concordance and discordance\n",
    "6. **Robust Results**: Less sensitive to small changes in input data\n",
    "\n",
    "### Limitations\n",
    "\n",
    "1. **Complex Parameter Setting**: Requires careful selection of concordance/discordance thresholds\n",
    "2. **No Clear Ranking**: May result in multiple non-dominated alternatives\n",
    "3. **Computational Complexity**: Increases significantly with number of alternatives\n",
    "4. **Subjective Thresholds**: Threshold values can significantly affect results\n",
    "5. **Limited Sensitivity Analysis**: Difficult to assess impact of parameter changes\n",
    "6. **Learning Curve**: More complex to understand than simple scoring methods\n",
    "\n",
    "### When to Use ELECTRE\n",
    "\n",
    "- When compensation between criteria is not acceptable\n",
    "- When dealing with conflicting criteria\n",
    "- When uncertainty in preferences exists\n",
    "- When incomparability between alternatives is realistic\n",
    "- For selection problems rather than detailed ranking"
   ]
  },
  {
   "cell_type": "markdown",
   "id": "e6070c0e",
   "metadata": {},
   "source": [
    "## Practical Example: Hospital Location Selection in the Philippines\n",
    "\n",
    "### Problem Description\n",
    "\n",
    "**Objective**: Select the optimal location for a new hospital from 4 potential sites in the Philippines based on multiple engineering and operational criteria.\n",
    "\n",
    "**Alternatives**:\n",
    "- L1: Metro Manila Site (Quezon City)\n",
    "- L2: Cebu City Site\n",
    "- L3: Davao City Site  \n",
    "- L4: Iloilo City Site\n",
    "\n",
    "**Criteria** (with optimization direction):\n",
    "1. **Construction Cost** - Lower is better (Million PHP)\n",
    "2. **Population Density** - Higher accessibility to patients\n",
    "3. **Transportation Access** - Connectivity and logistics\n",
    "4. **Medical Infrastructure** - Existing healthcare facilities nearby\n",
    "5. **Regulatory Compliance** - Ease of permits and compliance"
   ]
  },
  {
   "cell_type": "code",
   "execution_count": null,
   "id": "e91f127d",
   "metadata": {},
   "outputs": [],
   "source": [
    "# Import Required Libraries\n",
    "import numpy as np\n",
    "import pandas as pd\n",
    "import warnings\n",
    "\n",
    "warnings.filterwarnings(\"ignore\")\n",
    "\n",
    "# Set display options for better output\n",
    "pd.set_option(\"display.precision\", 4)\n",
    "np.set_printoptions(precision=4, suppress=True)"
   ]
  },
  {
   "cell_type": "code",
   "execution_count": 5,
   "id": "e5e5022b",
   "metadata": {},
   "outputs": [
    {
     "name": "stdout",
     "output_type": "stream",
     "text": [
      "Decision Matrix:\n",
      "==================================================\n",
      "                   Construction Cost (M PHP)  Population Density  \\\n",
      "Metro Manila Site                     2500.0                 9.8   \n",
      "Cebu City Site                        1800.0                 8.2   \n",
      "Davao City Site                       1600.0                 7.5   \n",
      "Iloilo City Site                      1400.0                 6.8   \n",
      "\n",
      "                   Transportation Access  Medical Infrastructure  \\\n",
      "Metro Manila Site                    9.5                     9.2   \n",
      "Cebu City Site                       8.8                     8.0   \n",
      "Davao City Site                      7.8                     7.2   \n",
      "Iloilo City Site                     7.2                     6.5   \n",
      "\n",
      "                   Regulatory Compliance  \n",
      "Metro Manila Site                    7.5  \n",
      "Cebu City Site                       8.5  \n",
      "Davao City Site                      8.8  \n",
      "Iloilo City Site                     9.2  \n",
      "\n",
      "Matrix shape: (4, 5)\n",
      "Alternatives: 4\n",
      "Criteria: 5\n"
     ]
    }
   ],
   "source": [
    "# Create the Decision Matrix\n",
    "alternatives = [\n",
    "    \"Metro Manila Site\",\n",
    "    \"Cebu City Site\",\n",
    "    \"Davao City Site\",\n",
    "    \"Iloilo City Site\",\n",
    "]\n",
    "criteria = [\n",
    "    \"Construction Cost (M PHP)\",\n",
    "    \"Population Density\",\n",
    "    \"Transportation Access\",\n",
    "    \"Medical Infrastructure\",\n",
    "    \"Regulatory Compliance\",\n",
    "]\n",
    "\n",
    "# Decision matrix with actual values\n",
    "# Construction cost in Million PHP, others on 1-10 scale\n",
    "decision_matrix = np.array(\n",
    "    [\n",
    "        [2500, 9.8, 9.5, 9.2, 7.5],  # Metro Manila Site\n",
    "        [1800, 8.2, 8.8, 8.0, 8.5],  # Cebu City Site\n",
    "        [1600, 7.5, 7.8, 7.2, 8.8],  # Davao City Site\n",
    "        [1400, 6.8, 7.2, 6.5, 9.2],  # Iloilo City Site\n",
    "    ]\n",
    ")\n",
    "\n",
    "# Create DataFrame for better visualization\n",
    "df_decision = pd.DataFrame(\n",
    "    decision_matrix, index=alternatives, columns=criteria\n",
    ")\n",
    "\n",
    "print(\"Decision Matrix:\")\n",
    "print(\"=\" * 50)\n",
    "print(df_decision)\n",
    "print(f\"\\nMatrix shape: {decision_matrix.shape}\")\n",
    "print(f\"Alternatives: {len(alternatives)}\")\n",
    "print(f\"Criteria: {len(criteria)}\")"
   ]
  },
  {
   "cell_type": "code",
   "execution_count": 6,
   "id": "261f0496",
   "metadata": {},
   "outputs": [
    {
     "name": "stdout",
     "output_type": "stream",
     "text": [
      "Criteria Information:\n",
      "==================================================\n",
      "Construction Cost (M PHP): Weight = 0.30, Direction = Minimize\n",
      "Population Density       : Weight = 0.25, Direction = Maximize\n",
      "Transportation Access    : Weight = 0.20, Direction = Maximize\n",
      "Medical Infrastructure   : Weight = 0.15, Direction = Maximize\n",
      "Regulatory Compliance    : Weight = 0.10, Direction = Maximize\n",
      "\n",
      "Sum of weights: 1.00\n",
      "✓ Weights validation passed!\n"
     ]
    }
   ],
   "source": [
    "# Define Criteria Weights and Optimization Direction\n",
    "weights = np.array([0.30, 0.25, 0.20, 0.15, 0.10])  # Sum = 1.0\n",
    "\n",
    "# Optimization direction: 1 for maximize, -1 for minimize\n",
    "optimization_direction = np.array(\n",
    "    [-1, 1, 1, 1, 1]\n",
    ")  # Construction cost is minimized, others maximized\n",
    "\n",
    "print(\"Criteria Information:\")\n",
    "print(\"=\" * 50)\n",
    "for i, (criterion, weight, direction) in enumerate(\n",
    "    zip(criteria, weights, optimization_direction)\n",
    "):\n",
    "    opt_dir = \"Minimize\" if direction == -1 else \"Maximize\"\n",
    "    print(f\"{criterion:<25}: Weight = {weight:.2f}, Direction = {opt_dir}\")\n",
    "\n",
    "print(f\"\\nSum of weights: {weights.sum():.2f}\")\n",
    "\n",
    "# Verify weights sum to 1\n",
    "assert abs(weights.sum() - 1.0) < 1e-10, \"Weights must sum to 1.0\"\n",
    "print(\"✓ Weights validation passed!\")"
   ]
  },
  {
   "cell_type": "code",
   "execution_count": null,
   "id": "538cce35",
   "metadata": {},
   "outputs": [
    {
     "name": "stdout",
     "output_type": "stream",
     "text": [
      "Normalized Decision Matrix:\n"
     ]
    },
    {
     "data": {
      "application/vnd.microsoft.datawrangler.viewer.v0+json": {
       "columns": [
        {
         "name": "index",
         "rawType": "object",
         "type": "string"
        },
        {
         "name": "Construction Cost (M PHP)",
         "rawType": "float64",
         "type": "float"
        },
        {
         "name": "Population Density",
         "rawType": "float64",
         "type": "float"
        },
        {
         "name": "Transportation Access",
         "rawType": "float64",
         "type": "float"
        },
        {
         "name": "Medical Infrastructure",
         "rawType": "float64",
         "type": "float"
        },
        {
         "name": "Regulatory Compliance",
         "rawType": "float64",
         "type": "float"
        }
       ],
       "ref": "562db652-1997-4f45-80b8-74dfa2ef68bb",
       "rows": [
        [
         "Metro Manila Site",
         "0.3418090539556399",
         "0.6011364987384425",
         "0.5673588510924111",
         "0.5905084265871157",
         "0.439975408995024"
        ],
        [
         "Cebu City Site",
         "0.4747347971606109",
         "0.5029917642505335",
         "0.5255534620645493",
         "0.5134855883366223",
         "0.49863879686102724"
        ],
        [
         "Davao City Site",
         "0.5340766468056873",
         "0.4600534429120733",
         "0.46583147773903233",
         "0.4621370295029601",
         "0.5162378132208283"
        ],
        [
         "Iloilo City Site",
         "0.6103733106350712",
         "0.41711512157361313",
         "0.4299982871437221",
         "0.41720704052350566",
         "0.5397031683672294"
        ]
       ],
       "shape": {
        "columns": 5,
        "rows": 4
       }
      },
      "text/html": [
       "<div>\n",
       "<style scoped>\n",
       "    .dataframe tbody tr th:only-of-type {\n",
       "        vertical-align: middle;\n",
       "    }\n",
       "\n",
       "    .dataframe tbody tr th {\n",
       "        vertical-align: top;\n",
       "    }\n",
       "\n",
       "    .dataframe thead th {\n",
       "        text-align: right;\n",
       "    }\n",
       "</style>\n",
       "<table border=\"1\" class=\"dataframe\">\n",
       "  <thead>\n",
       "    <tr style=\"text-align: right;\">\n",
       "      <th></th>\n",
       "      <th>Construction Cost (M PHP)</th>\n",
       "      <th>Population Density</th>\n",
       "      <th>Transportation Access</th>\n",
       "      <th>Medical Infrastructure</th>\n",
       "      <th>Regulatory Compliance</th>\n",
       "    </tr>\n",
       "  </thead>\n",
       "  <tbody>\n",
       "    <tr>\n",
       "      <th>Metro Manila Site</th>\n",
       "      <td>0.3418</td>\n",
       "      <td>0.6011</td>\n",
       "      <td>0.5674</td>\n",
       "      <td>0.5905</td>\n",
       "      <td>0.4400</td>\n",
       "    </tr>\n",
       "    <tr>\n",
       "      <th>Cebu City Site</th>\n",
       "      <td>0.4747</td>\n",
       "      <td>0.5030</td>\n",
       "      <td>0.5256</td>\n",
       "      <td>0.5135</td>\n",
       "      <td>0.4986</td>\n",
       "    </tr>\n",
       "    <tr>\n",
       "      <th>Davao City Site</th>\n",
       "      <td>0.5341</td>\n",
       "      <td>0.4601</td>\n",
       "      <td>0.4658</td>\n",
       "      <td>0.4621</td>\n",
       "      <td>0.5162</td>\n",
       "    </tr>\n",
       "    <tr>\n",
       "      <th>Iloilo City Site</th>\n",
       "      <td>0.6104</td>\n",
       "      <td>0.4171</td>\n",
       "      <td>0.4300</td>\n",
       "      <td>0.4172</td>\n",
       "      <td>0.5397</td>\n",
       "    </tr>\n",
       "  </tbody>\n",
       "</table>\n",
       "</div>"
      ],
      "text/plain": [
       "                   Construction Cost (M PHP)  Population Density  \\\n",
       "Metro Manila Site                     0.3418              0.6011   \n",
       "Cebu City Site                        0.4747              0.5030   \n",
       "Davao City Site                       0.5341              0.4601   \n",
       "Iloilo City Site                      0.6104              0.4171   \n",
       "\n",
       "                   Transportation Access  Medical Infrastructure  \\\n",
       "Metro Manila Site                 0.5674                  0.5905   \n",
       "Cebu City Site                    0.5256                  0.5135   \n",
       "Davao City Site                   0.4658                  0.4621   \n",
       "Iloilo City Site                  0.4300                  0.4172   \n",
       "\n",
       "                   Regulatory Compliance  \n",
       "Metro Manila Site                 0.4400  \n",
       "Cebu City Site                    0.4986  \n",
       "Davao City Site                   0.5162  \n",
       "Iloilo City Site                  0.5397  "
      ]
     },
     "execution_count": 32,
     "metadata": {},
     "output_type": "execute_result"
    }
   ],
   "source": [
    "# Step 1: Normalize the Decision Matrix\n",
    "def normalize_matrix(matrix, optimization_direction):\n",
    "    \"\"\"\n",
    "    Normalize the decision matrix using vector normalization.\n",
    "    For minimization criteria, we use 1/value before normalization.\n",
    "    \"\"\"\n",
    "    normalized = matrix.copy().astype(float)\n",
    "\n",
    "    for j in range(matrix.shape[1]):\n",
    "        if optimization_direction[j] == -1:  # Minimize (like price)\n",
    "            # For minimization: use reciprocal then normalize\n",
    "            normalized[:, j] = 1 / matrix[:, j]\n",
    "\n",
    "        # Vector normalization\n",
    "        column_norm = np.sqrt(np.sum(normalized[:, j] ** 2))\n",
    "        normalized[:, j] = normalized[:, j] / column_norm\n",
    "\n",
    "    return normalized\n",
    "\n",
    "\n",
    "# Apply normalization\n",
    "normalized_matrix = normalize_matrix(decision_matrix, optimization_direction)\n",
    "\n",
    "# Create DataFrame for better visualization\n",
    "df_normalized = pd.DataFrame(\n",
    "    normalized_matrix, index=alternatives, columns=criteria\n",
    ")\n",
    "\n",
    "print(\"Normalized Decision Matrix:\")\n",
    "df_normalized"
   ]
  },
  {
   "cell_type": "code",
   "execution_count": 37,
   "id": "00ba82cc",
   "metadata": {},
   "outputs": [
    {
     "name": "stdout",
     "output_type": "stream",
     "text": [
      "Weighted Normalized Matrix:\n"
     ]
    },
    {
     "data": {
      "application/vnd.microsoft.datawrangler.viewer.v0+json": {
       "columns": [
        {
         "name": "index",
         "rawType": "object",
         "type": "string"
        },
        {
         "name": "Construction Cost (M PHP)",
         "rawType": "float64",
         "type": "float"
        },
        {
         "name": "Population Density",
         "rawType": "float64",
         "type": "float"
        },
        {
         "name": "Transportation Access",
         "rawType": "float64",
         "type": "float"
        },
        {
         "name": "Medical Infrastructure",
         "rawType": "float64",
         "type": "float"
        },
        {
         "name": "Regulatory Compliance",
         "rawType": "float64",
         "type": "float"
        }
       ],
       "ref": "c2f8b802-9dc1-4cb3-8ec1-8d88e41b41e8",
       "rows": [
        [
         "Metro Manila Site",
         "0.10254271618669196",
         "0.15028412468461064",
         "0.11347177021848223",
         "0.08857626398806735",
         "0.043997540899502405"
        ],
        [
         "Cebu City Site",
         "0.14242043914818325",
         "0.12574794106263337",
         "0.10511069241290988",
         "0.07702283825049334",
         "0.04986387968610273"
        ],
        [
         "Davao City Site",
         "0.1602229940417062",
         "0.11501336072801832",
         "0.09316629554780648",
         "0.069320554425444",
         "0.05162378132208283"
        ],
        [
         "Iloilo City Site",
         "0.18311199319052135",
         "0.10427878039340328",
         "0.08599965742874444",
         "0.06258105607852585",
         "0.053970316836722945"
        ]
       ],
       "shape": {
        "columns": 5,
        "rows": 4
       }
      },
      "text/html": [
       "<div>\n",
       "<style scoped>\n",
       "    .dataframe tbody tr th:only-of-type {\n",
       "        vertical-align: middle;\n",
       "    }\n",
       "\n",
       "    .dataframe tbody tr th {\n",
       "        vertical-align: top;\n",
       "    }\n",
       "\n",
       "    .dataframe thead th {\n",
       "        text-align: right;\n",
       "    }\n",
       "</style>\n",
       "<table border=\"1\" class=\"dataframe\">\n",
       "  <thead>\n",
       "    <tr style=\"text-align: right;\">\n",
       "      <th></th>\n",
       "      <th>Construction Cost (M PHP)</th>\n",
       "      <th>Population Density</th>\n",
       "      <th>Transportation Access</th>\n",
       "      <th>Medical Infrastructure</th>\n",
       "      <th>Regulatory Compliance</th>\n",
       "    </tr>\n",
       "  </thead>\n",
       "  <tbody>\n",
       "    <tr>\n",
       "      <th>Metro Manila Site</th>\n",
       "      <td>0.1025</td>\n",
       "      <td>0.1503</td>\n",
       "      <td>0.1135</td>\n",
       "      <td>0.0886</td>\n",
       "      <td>0.0440</td>\n",
       "    </tr>\n",
       "    <tr>\n",
       "      <th>Cebu City Site</th>\n",
       "      <td>0.1424</td>\n",
       "      <td>0.1257</td>\n",
       "      <td>0.1051</td>\n",
       "      <td>0.0770</td>\n",
       "      <td>0.0499</td>\n",
       "    </tr>\n",
       "    <tr>\n",
       "      <th>Davao City Site</th>\n",
       "      <td>0.1602</td>\n",
       "      <td>0.1150</td>\n",
       "      <td>0.0932</td>\n",
       "      <td>0.0693</td>\n",
       "      <td>0.0516</td>\n",
       "    </tr>\n",
       "    <tr>\n",
       "      <th>Iloilo City Site</th>\n",
       "      <td>0.1831</td>\n",
       "      <td>0.1043</td>\n",
       "      <td>0.0860</td>\n",
       "      <td>0.0626</td>\n",
       "      <td>0.0540</td>\n",
       "    </tr>\n",
       "  </tbody>\n",
       "</table>\n",
       "</div>"
      ],
      "text/plain": [
       "                   Construction Cost (M PHP)  Population Density  \\\n",
       "Metro Manila Site                     0.1025              0.1503   \n",
       "Cebu City Site                        0.1424              0.1257   \n",
       "Davao City Site                       0.1602              0.1150   \n",
       "Iloilo City Site                      0.1831              0.1043   \n",
       "\n",
       "                   Transportation Access  Medical Infrastructure  \\\n",
       "Metro Manila Site                 0.1135                  0.0886   \n",
       "Cebu City Site                    0.1051                  0.0770   \n",
       "Davao City Site                   0.0932                  0.0693   \n",
       "Iloilo City Site                  0.0860                  0.0626   \n",
       "\n",
       "                   Regulatory Compliance  \n",
       "Metro Manila Site                 0.0440  \n",
       "Cebu City Site                    0.0499  \n",
       "Davao City Site                   0.0516  \n",
       "Iloilo City Site                  0.0540  "
      ]
     },
     "execution_count": 37,
     "metadata": {},
     "output_type": "execute_result"
    }
   ],
   "source": [
    "# Step 2: Apply Weights to Create Weighted Normalized Matrix\n",
    "weighted_matrix = normalized_matrix * weights\n",
    "\n",
    "# Create DataFrame for weighted matrix\n",
    "df_weighted = pd.DataFrame(\n",
    "    weighted_matrix, index=alternatives, columns=criteria\n",
    ")\n",
    "\n",
    "print(\"Weighted Normalized Matrix:\")\n",
    "df_weighted"
   ]
  },
  {
   "cell_type": "code",
   "execution_count": 51,
   "id": "5f026fbf",
   "metadata": {},
   "outputs": [
    {
     "name": "stdout",
     "output_type": "stream",
     "text": [
      "Concordance Matrix:\n"
     ]
    },
    {
     "data": {
      "application/vnd.microsoft.datawrangler.viewer.v0+json": {
       "columns": [
        {
         "name": "index",
         "rawType": "object",
         "type": "string"
        },
        {
         "name": "Metro Manila Site",
         "rawType": "float64",
         "type": "float"
        },
        {
         "name": "Cebu City Site",
         "rawType": "float64",
         "type": "float"
        },
        {
         "name": "Davao City Site",
         "rawType": "float64",
         "type": "float"
        },
        {
         "name": "Iloilo City Site",
         "rawType": "float64",
         "type": "float"
        }
       ],
       "ref": "b0a29f7b-ee20-4036-b430-c6ca12336696",
       "rows": [
        [
         "Metro Manila Site",
         "0.0",
         "0.6",
         "0.6",
         "0.6"
        ],
        [
         "Cebu City Site",
         "0.4",
         "0.0",
         "0.6",
         "0.6"
        ],
        [
         "Davao City Site",
         "0.4",
         "0.4",
         "0.0",
         "0.6"
        ],
        [
         "Iloilo City Site",
         "0.4",
         "0.4",
         "0.4",
         "0.0"
        ]
       ],
       "shape": {
        "columns": 4,
        "rows": 4
       }
      },
      "text/html": [
       "<div>\n",
       "<style scoped>\n",
       "    .dataframe tbody tr th:only-of-type {\n",
       "        vertical-align: middle;\n",
       "    }\n",
       "\n",
       "    .dataframe tbody tr th {\n",
       "        vertical-align: top;\n",
       "    }\n",
       "\n",
       "    .dataframe thead th {\n",
       "        text-align: right;\n",
       "    }\n",
       "</style>\n",
       "<table border=\"1\" class=\"dataframe\">\n",
       "  <thead>\n",
       "    <tr style=\"text-align: right;\">\n",
       "      <th></th>\n",
       "      <th>Metro Manila Site</th>\n",
       "      <th>Cebu City Site</th>\n",
       "      <th>Davao City Site</th>\n",
       "      <th>Iloilo City Site</th>\n",
       "    </tr>\n",
       "  </thead>\n",
       "  <tbody>\n",
       "    <tr>\n",
       "      <th>Metro Manila Site</th>\n",
       "      <td>0.0</td>\n",
       "      <td>0.6</td>\n",
       "      <td>0.6</td>\n",
       "      <td>0.6</td>\n",
       "    </tr>\n",
       "    <tr>\n",
       "      <th>Cebu City Site</th>\n",
       "      <td>0.4</td>\n",
       "      <td>0.0</td>\n",
       "      <td>0.6</td>\n",
       "      <td>0.6</td>\n",
       "    </tr>\n",
       "    <tr>\n",
       "      <th>Davao City Site</th>\n",
       "      <td>0.4</td>\n",
       "      <td>0.4</td>\n",
       "      <td>0.0</td>\n",
       "      <td>0.6</td>\n",
       "    </tr>\n",
       "    <tr>\n",
       "      <th>Iloilo City Site</th>\n",
       "      <td>0.4</td>\n",
       "      <td>0.4</td>\n",
       "      <td>0.4</td>\n",
       "      <td>0.0</td>\n",
       "    </tr>\n",
       "  </tbody>\n",
       "</table>\n",
       "</div>"
      ],
      "text/plain": [
       "                   Metro Manila Site  Cebu City Site  Davao City Site  \\\n",
       "Metro Manila Site                0.0             0.6              0.6   \n",
       "Cebu City Site                   0.4             0.0              0.6   \n",
       "Davao City Site                  0.4             0.4              0.0   \n",
       "Iloilo City Site                 0.4             0.4              0.4   \n",
       "\n",
       "                   Iloilo City Site  \n",
       "Metro Manila Site               0.6  \n",
       "Cebu City Site                  0.6  \n",
       "Davao City Site                 0.6  \n",
       "Iloilo City Site                0.0  "
      ]
     },
     "execution_count": 51,
     "metadata": {},
     "output_type": "execute_result"
    }
   ],
   "source": [
    "# Step 3: Calculate Concordance Index\n",
    "def calculate_concordance_matrix(weighted_matrix, weights):\n",
    "    \"\"\"\n",
    "    Calculate concordance matrix for all pairs of alternatives.\n",
    "    C(i,k) = sum of weights where alternative i >= alternative k\n",
    "    \"\"\"\n",
    "    n_alternatives = weighted_matrix.shape[0]\n",
    "    concordance_matrix = np.zeros((n_alternatives, n_alternatives))\n",
    "\n",
    "    for i in range(n_alternatives):\n",
    "        for k in range(n_alternatives):\n",
    "            if i != k:\n",
    "                # Find criteria where alternative i >= alternative k\n",
    "                concordant_criteria = weighted_matrix[i] >= weighted_matrix[k]\n",
    "                # Sum weights of concordant criteria\n",
    "                concordance_matrix[i, k] = np.sum(weights[concordant_criteria])\n",
    "\n",
    "    return concordance_matrix\n",
    "\n",
    "\n",
    "# Calculate concordance matrix\n",
    "concordance_matrix = calculate_concordance_matrix(weighted_matrix, weights)\n",
    "\n",
    "# Create DataFrame for better visualization\n",
    "df_concordance = pd.DataFrame(\n",
    "    concordance_matrix, index=alternatives, columns=alternatives\n",
    ")\n",
    "\n",
    "print(\"Concordance Matrix:\")\n",
    "df_concordance"
   ]
  },
  {
   "cell_type": "code",
   "execution_count": 54,
   "id": "86e4ab69",
   "metadata": {},
   "outputs": [
    {
     "name": "stdout",
     "output_type": "stream",
     "text": [
      "Discordance Matrix:\n"
     ]
    },
    {
     "data": {
      "application/vnd.microsoft.datawrangler.viewer.v0+json": {
       "columns": [
        {
         "name": "index",
         "rawType": "object",
         "type": "string"
        },
        {
         "name": "Metro Manila Site",
         "rawType": "float64",
         "type": "float"
        },
        {
         "name": "Cebu City Site",
         "rawType": "float64",
         "type": "float"
        },
        {
         "name": "Davao City Site",
         "rawType": "float64",
         "type": "float"
        },
        {
         "name": "Iloilo City Site",
         "rawType": "float64",
         "type": "float"
        }
       ],
       "ref": "58f123ef-d2a7-4966-aae4-dee64f758b03",
       "rows": [
        [
         "Metro Manila Site",
         "0.0",
         "0.4949494949494947",
         "0.7159090909090912",
         "1.0"
        ],
        [
         "Cebu City Site",
         "0.3045352339553833",
         "0.0",
         "0.22095959595959647",
         "0.5050505050505053"
        ],
        [
         "Davao City Site",
         "0.4377693988108634",
         "0.14825001922923664",
         "0.0",
         "0.28409090909090884"
        ],
        [
         "Iloilo City Site",
         "0.5710035636663434",
         "0.26646832971096013",
         "0.13323416485547998",
         "0.0"
        ]
       ],
       "shape": {
        "columns": 4,
        "rows": 4
       }
      },
      "text/html": [
       "<div>\n",
       "<style scoped>\n",
       "    .dataframe tbody tr th:only-of-type {\n",
       "        vertical-align: middle;\n",
       "    }\n",
       "\n",
       "    .dataframe tbody tr th {\n",
       "        vertical-align: top;\n",
       "    }\n",
       "\n",
       "    .dataframe thead th {\n",
       "        text-align: right;\n",
       "    }\n",
       "</style>\n",
       "<table border=\"1\" class=\"dataframe\">\n",
       "  <thead>\n",
       "    <tr style=\"text-align: right;\">\n",
       "      <th></th>\n",
       "      <th>Metro Manila Site</th>\n",
       "      <th>Cebu City Site</th>\n",
       "      <th>Davao City Site</th>\n",
       "      <th>Iloilo City Site</th>\n",
       "    </tr>\n",
       "  </thead>\n",
       "  <tbody>\n",
       "    <tr>\n",
       "      <th>Metro Manila Site</th>\n",
       "      <td>0.0000</td>\n",
       "      <td>0.4949</td>\n",
       "      <td>0.7159</td>\n",
       "      <td>1.0000</td>\n",
       "    </tr>\n",
       "    <tr>\n",
       "      <th>Cebu City Site</th>\n",
       "      <td>0.3045</td>\n",
       "      <td>0.0000</td>\n",
       "      <td>0.2210</td>\n",
       "      <td>0.5051</td>\n",
       "    </tr>\n",
       "    <tr>\n",
       "      <th>Davao City Site</th>\n",
       "      <td>0.4378</td>\n",
       "      <td>0.1483</td>\n",
       "      <td>0.0000</td>\n",
       "      <td>0.2841</td>\n",
       "    </tr>\n",
       "    <tr>\n",
       "      <th>Iloilo City Site</th>\n",
       "      <td>0.5710</td>\n",
       "      <td>0.2665</td>\n",
       "      <td>0.1332</td>\n",
       "      <td>0.0000</td>\n",
       "    </tr>\n",
       "  </tbody>\n",
       "</table>\n",
       "</div>"
      ],
      "text/plain": [
       "                   Metro Manila Site  Cebu City Site  Davao City Site  \\\n",
       "Metro Manila Site             0.0000          0.4949           0.7159   \n",
       "Cebu City Site                0.3045          0.0000           0.2210   \n",
       "Davao City Site               0.4378          0.1483           0.0000   \n",
       "Iloilo City Site              0.5710          0.2665           0.1332   \n",
       "\n",
       "                   Iloilo City Site  \n",
       "Metro Manila Site            1.0000  \n",
       "Cebu City Site               0.5051  \n",
       "Davao City Site              0.2841  \n",
       "Iloilo City Site             0.0000  "
      ]
     },
     "execution_count": 54,
     "metadata": {},
     "output_type": "execute_result"
    }
   ],
   "source": [
    "# Step 4: Calculate Discordance Index\n",
    "def calculate_discordance_matrix(weighted_matrix):\n",
    "    \"\"\"\n",
    "    Calculate discordance matrix for all pairs of alternatives.\n",
    "    D(i,k) = max difference where i < k / max overall difference\n",
    "    \"\"\"\n",
    "    n_alternatives = weighted_matrix.shape[0]\n",
    "    discordance_matrix = np.zeros((n_alternatives, n_alternatives))\n",
    "\n",
    "    # Find maximum difference across all criteria and pairs\n",
    "    max_diff_overall = 0\n",
    "    for i in range(n_alternatives):\n",
    "        for k in range(n_alternatives):\n",
    "            if i != k:\n",
    "                max_diff = np.max(\n",
    "                    np.abs(weighted_matrix[i] - weighted_matrix[k])\n",
    "                )\n",
    "                max_diff_overall = max(max_diff_overall, max_diff)\n",
    "\n",
    "    for i in range(n_alternatives):\n",
    "        for k in range(n_alternatives):\n",
    "            if i != k:\n",
    "                # Find criteria where alternative i < alternative k (discordant)\n",
    "                discordant_criteria = weighted_matrix[i] < weighted_matrix[k]\n",
    "\n",
    "                if np.any(discordant_criteria):\n",
    "                    # Maximum difference among discordant criteria\n",
    "                    max_diff_discordant = np.max(\n",
    "                        np.abs(weighted_matrix[i] - weighted_matrix[k])[\n",
    "                            discordant_criteria\n",
    "                        ]\n",
    "                    )\n",
    "                    discordance_matrix[i, k] = (\n",
    "                        max_diff_discordant / max_diff_overall\n",
    "                    )\n",
    "                else:\n",
    "                    discordance_matrix[i, k] = 0\n",
    "\n",
    "    return discordance_matrix\n",
    "\n",
    "\n",
    "# Calculate discordance matrix\n",
    "discordance_matrix = calculate_discordance_matrix(weighted_matrix)\n",
    "\n",
    "# Create DataFrame for better visualization\n",
    "df_discordance = pd.DataFrame(\n",
    "    discordance_matrix, index=alternatives, columns=alternatives\n",
    ")\n",
    "\n",
    "print(\"Discordance Matrix:\")\n",
    "df_discordance"
   ]
  },
  {
   "cell_type": "code",
   "execution_count": 60,
   "id": "6f69d28a",
   "metadata": {},
   "outputs": [
    {
     "name": "stdout",
     "output_type": "stream",
     "text": [
      "Thresholds:\n",
      "- Concordance threshold: 0.5\n",
      "- Discordance threshold: 0.5\n",
      "\n",
      "Outranking Matrix (1 = outranks, 0 = does not outrank):\n"
     ]
    },
    {
     "data": {
      "application/vnd.microsoft.datawrangler.viewer.v0+json": {
       "columns": [
        {
         "name": "index",
         "rawType": "object",
         "type": "string"
        },
        {
         "name": "Metro Manila Site",
         "rawType": "int64",
         "type": "integer"
        },
        {
         "name": "Cebu City Site",
         "rawType": "int64",
         "type": "integer"
        },
        {
         "name": "Davao City Site",
         "rawType": "int64",
         "type": "integer"
        },
        {
         "name": "Iloilo City Site",
         "rawType": "int64",
         "type": "integer"
        }
       ],
       "ref": "f8b94ae0-b353-486c-9299-b9d1e338411e",
       "rows": [
        [
         "Metro Manila Site",
         "0",
         "1",
         "0",
         "0"
        ],
        [
         "Cebu City Site",
         "0",
         "0",
         "1",
         "0"
        ],
        [
         "Davao City Site",
         "0",
         "0",
         "0",
         "1"
        ],
        [
         "Iloilo City Site",
         "0",
         "0",
         "0",
         "0"
        ]
       ],
       "shape": {
        "columns": 4,
        "rows": 4
       }
      },
      "text/html": [
       "<div>\n",
       "<style scoped>\n",
       "    .dataframe tbody tr th:only-of-type {\n",
       "        vertical-align: middle;\n",
       "    }\n",
       "\n",
       "    .dataframe tbody tr th {\n",
       "        vertical-align: top;\n",
       "    }\n",
       "\n",
       "    .dataframe thead th {\n",
       "        text-align: right;\n",
       "    }\n",
       "</style>\n",
       "<table border=\"1\" class=\"dataframe\">\n",
       "  <thead>\n",
       "    <tr style=\"text-align: right;\">\n",
       "      <th></th>\n",
       "      <th>Metro Manila Site</th>\n",
       "      <th>Cebu City Site</th>\n",
       "      <th>Davao City Site</th>\n",
       "      <th>Iloilo City Site</th>\n",
       "    </tr>\n",
       "  </thead>\n",
       "  <tbody>\n",
       "    <tr>\n",
       "      <th>Metro Manila Site</th>\n",
       "      <td>0</td>\n",
       "      <td>1</td>\n",
       "      <td>0</td>\n",
       "      <td>0</td>\n",
       "    </tr>\n",
       "    <tr>\n",
       "      <th>Cebu City Site</th>\n",
       "      <td>0</td>\n",
       "      <td>0</td>\n",
       "      <td>1</td>\n",
       "      <td>0</td>\n",
       "    </tr>\n",
       "    <tr>\n",
       "      <th>Davao City Site</th>\n",
       "      <td>0</td>\n",
       "      <td>0</td>\n",
       "      <td>0</td>\n",
       "      <td>1</td>\n",
       "    </tr>\n",
       "    <tr>\n",
       "      <th>Iloilo City Site</th>\n",
       "      <td>0</td>\n",
       "      <td>0</td>\n",
       "      <td>0</td>\n",
       "      <td>0</td>\n",
       "    </tr>\n",
       "  </tbody>\n",
       "</table>\n",
       "</div>"
      ],
      "text/plain": [
       "                   Metro Manila Site  Cebu City Site  Davao City Site  \\\n",
       "Metro Manila Site                  0               1                0   \n",
       "Cebu City Site                     0               0                1   \n",
       "Davao City Site                    0               0                0   \n",
       "Iloilo City Site                   0               0                0   \n",
       "\n",
       "                   Iloilo City Site  \n",
       "Metro Manila Site                 0  \n",
       "Cebu City Site                    0  \n",
       "Davao City Site                   1  \n",
       "Iloilo City Site                  0  "
      ]
     },
     "execution_count": 60,
     "metadata": {},
     "output_type": "execute_result"
    }
   ],
   "source": [
    "# Step 5: Determine Outranking Relations\n",
    "def determine_outranking_relations(\n",
    "    concordance_matrix,\n",
    "    discordance_matrix,\n",
    "    concordance_threshold=0.5,\n",
    "    discordance_threshold=0.5,\n",
    "):\n",
    "    \"\"\"\n",
    "    Determine outranking relations based on concordance and discordance thresholds.\n",
    "    Alternative i outranks alternative k if:\n",
    "    - C(i,k) >= concordance_threshold AND\n",
    "    - D(i,k) <= discordance_threshold\n",
    "    \"\"\"\n",
    "    n_alternatives = concordance_matrix.shape[0]\n",
    "    outranking_matrix = np.zeros((n_alternatives, n_alternatives), dtype=int)\n",
    "\n",
    "    for i in range(n_alternatives):\n",
    "        for k in range(n_alternatives):\n",
    "            if i != k:\n",
    "                concordance_condition = (\n",
    "                    concordance_matrix[i, k] >= concordance_threshold\n",
    "                )\n",
    "                discordance_condition = (\n",
    "                    discordance_matrix[i, k] <= discordance_threshold\n",
    "                )\n",
    "\n",
    "                if concordance_condition and discordance_condition:\n",
    "                    outranking_matrix[i, k] = 1\n",
    "\n",
    "    return outranking_matrix\n",
    "\n",
    "\n",
    "# Set thresholds\n",
    "concordance_threshold = 0.5\n",
    "discordance_threshold = 0.5\n",
    "\n",
    "print(\"Thresholds:\")\n",
    "print(f\"- Concordance threshold: {concordance_threshold}\")\n",
    "print(f\"- Discordance threshold: {discordance_threshold}\")\n",
    "print()\n",
    "\n",
    "# Calculate outranking relations\n",
    "outranking_matrix = determine_outranking_relations(\n",
    "    concordance_matrix,\n",
    "    discordance_matrix,\n",
    "    concordance_threshold,\n",
    "    discordance_threshold,\n",
    ")\n",
    "\n",
    "# Create DataFrame for outranking matrix\n",
    "df_outranking = pd.DataFrame(\n",
    "    outranking_matrix, index=alternatives, columns=alternatives\n",
    ")\n",
    "\n",
    "print(\"Outranking Matrix (1 = outranks, 0 = does not outrank):\")\n",
    "df_outranking"
   ]
  },
  {
   "cell_type": "code",
   "execution_count": 61,
   "id": "99031cfd",
   "metadata": {},
   "outputs": [
    {
     "name": "stdout",
     "output_type": "stream",
     "text": [
      "ELECTRE I Results Summary:\n",
      "         Alternative  Outranks Count  Outranked By Count In Kernel\n",
      "0  Metro Manila Site               1                   0       Yes\n",
      "1     Cebu City Site               1                   1        No\n",
      "2    Davao City Site               1                   1        No\n",
      "3   Iloilo City Site               0                   1        No\n",
      "Kernel (Best Alternatives):\n",
      "Metro Manila Site\n",
      "\n",
      "Interpretation:\n",
      "- 'Outranks Count': Number of alternatives this one outranks\n",
      "- 'Outranked By Count': Number of alternatives that outrank this one\n",
      "- 'In Kernel': Alternatives not outranked by any other (best choices)\n"
     ]
    }
   ],
   "source": [
    "# Analyze Results and Find the Kernel (Best Alternatives)\n",
    "def analyze_outranking_results(outranking_matrix, alternatives):\n",
    "    \"\"\"\n",
    "    Analyze the outranking matrix to find dominated and non-dominated alternatives.\n",
    "    The kernel consists of alternatives that are not outranked by any other alternative.\n",
    "    \"\"\"\n",
    "    n_alternatives = len(alternatives)\n",
    "\n",
    "    # Count how many alternatives each one outranks\n",
    "    outranks_count = np.sum(outranking_matrix, axis=1)\n",
    "\n",
    "    # Count how many alternatives outrank each one\n",
    "    outranked_by_count = np.sum(outranking_matrix, axis=0)\n",
    "\n",
    "    # Find the kernel (non-dominated alternatives)\n",
    "    kernel = []\n",
    "    for i in range(n_alternatives):\n",
    "        if outranked_by_count[i] == 0:  # Not outranked by any alternative\n",
    "            kernel.append(i)\n",
    "\n",
    "    return outranks_count, outranked_by_count, kernel\n",
    "\n",
    "\n",
    "# Analyze results\n",
    "outranks_count, outranked_by_count, kernel_indices = (\n",
    "    analyze_outranking_results(outranking_matrix, alternatives)\n",
    ")\n",
    "\n",
    "# Create summary DataFrame\n",
    "summary_data = {\n",
    "    \"Alternative\": alternatives,\n",
    "    \"Outranks Count\": outranks_count,\n",
    "    \"Outranked By Count\": outranked_by_count,\n",
    "    \"In Kernel\": [\n",
    "        \"Yes\" if i in kernel_indices else \"No\"\n",
    "        for i in range(len(alternatives))\n",
    "    ],\n",
    "}\n",
    "\n",
    "df_summary = pd.DataFrame(summary_data)\n",
    "\n",
    "print(\"ELECTRE I Results Summary:\")\n",
    "print(df_summary)\n",
    "\n",
    "print(\"Kernel (Best Alternatives):\")\n",
    "if kernel_indices:\n",
    "    for i in kernel_indices:\n",
    "        print(f\"{alternatives[i]}\")\n",
    "else:\n",
    "    print(\"No alternatives in the kernel (all are dominated)\")\n",
    "\n",
    "print()\n",
    "print(\"Interpretation:\")\n",
    "print(\"- 'Outranks Count': Number of alternatives this one outranks\")\n",
    "print(\"- 'Outranked By Count': Number of alternatives that outrank this one\")\n",
    "print(\"- 'In Kernel': Alternatives not outranked by any other (best choices)\")"
   ]
  },
  {
   "cell_type": "markdown",
   "id": "d09f1aaa",
   "metadata": {},
   "source": [
    "## Summary and Conclusions\n",
    "\n",
    "### Key Takeaways from Our ELECTRE Analysis\n",
    "\n",
    "1. **Method Understanding**: ELECTRE I uses outranking relations rather than scoring, making it suitable for decisions where compensation between criteria is not acceptable.\n",
    "\n",
    "2. **Threshold Sensitivity**: The choice of concordance and discordance thresholds significantly affects the final ranking. This highlights the importance of careful parameter selection.\n",
    "\n",
    "3. **Non-Compensatory Nature**: Unlike methods like SAW or TOPSIS, ELECTRE I does not allow poor performance on one criterion to be completely offset by excellence in another.\n",
    "\n",
    "### When to Use ELECTRE I\n",
    "\n",
    "**Best suited for:**\n",
    "- Selection problems (choosing the best from a set)\n",
    "- Situations where trade-offs between criteria are limited\n",
    "- Problems with qualitative and quantitative criteria mixed\n",
    "- When incomparability between alternatives is acceptable\n",
    "\n",
    "**Not ideal for:**\n",
    "- Problems requiring complete ranking of all alternatives\n",
    "- Situations where computational simplicity is paramount\n",
    "- When stakeholders prefer compensatory decision models"
   ]
  }
 ],
 "metadata": {
  "kernelspec": {
   "display_name": "mdcm",
   "language": "python",
   "name": "python3"
  },
  "language_info": {
   "codemirror_mode": {
    "name": "ipython",
    "version": 3
   },
   "file_extension": ".py",
   "mimetype": "text/x-python",
   "name": "python",
   "nbconvert_exporter": "python",
   "pygments_lexer": "ipython3",
   "version": "3.12.11"
  }
 },
 "nbformat": 4,
 "nbformat_minor": 5
}
