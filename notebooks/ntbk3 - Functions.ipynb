{
 "cells": [
  {
   "cell_type": "markdown",
   "id": "5ccde3c8",
   "metadata": {
    "id": "5ccde3c8"
   },
   "source": [
    "# Functions"
   ]
  },
  {
   "cell_type": "markdown",
   "id": "81ed3770",
   "metadata": {
    "id": "81ed3770"
   },
   "source": [
    "## 1 Functions in Python"
   ]
  },
  {
   "cell_type": "markdown",
   "id": "e79e98d6",
   "metadata": {
    "id": "e79e98d6"
   },
   "source": [
    "A function is a block of code which only runs when it is called.\n",
    "\n",
    "You can pass data, known as parameters, into a function.\n",
    "\n",
    "A function can return data as a result."
   ]
  },
  {
   "cell_type": "markdown",
   "id": "cc2c838c",
   "metadata": {
    "id": "cc2c838c"
   },
   "source": [
    "One way to improve the modularity of your code is to adhere to the **DRY** principle, which means *Don't repeat yourself*. In other words, whenever you found yourself doing the same thing over and over again, do consider replacing it with abstraction or modules to avoid redundancy in your code."
   ]
  },
  {
   "cell_type": "markdown",
   "id": "6776e523",
   "metadata": {
    "id": "6776e523"
   },
   "source": [
    "### Defining functions in Python"
   ]
  },
  {
   "cell_type": "markdown",
   "id": "e9831fca",
   "metadata": {
    "id": "e9831fca"
   },
   "source": [
    "Say for example we have a friend that lives in the other side of the world (United States), and you're always talking about the weather and how hot it is in your respective place. The US typically uses `Fahrenheit` as their unit of temperature measurement, thus, we typically need to convert fahrenheit to celcius and back a lot. It would be nice to be able to do convert these units easily given any number."
   ]
  },
  {
   "cell_type": "code",
   "execution_count": null,
   "id": "0f8fb1e2",
   "metadata": {
    "ExecuteTime": {
     "end_time": "2024-01-26T19:04:38.677371Z",
     "start_time": "2024-01-26T19:04:38.668758Z"
    },
    "execution": {
     "iopub.execute_input": "2024-01-27T06:01:11.389881Z",
     "iopub.status.busy": "2024-01-27T06:01:11.388964Z",
     "iopub.status.idle": "2024-01-27T06:01:11.409154Z",
     "shell.execute_reply": "2024-01-27T06:01:11.407618Z",
     "shell.execute_reply.started": "2024-01-27T06:01:11.389814Z"
    },
    "executionInfo": {
     "elapsed": 16,
     "status": "ok",
     "timestamp": 1756184605346,
     "user": {
      "displayName": "HECTOR LOUIS O. BANDA",
      "userId": "10737061043116032216"
     },
     "user_tz": -480
    },
    "id": "0f8fb1e2"
   },
   "outputs": [],
   "source": [
    "def convert_to_fahrenheit(celsius):\n",
    "    \"\"\"Convert a given temperature in celsius to fahrenheit\"\"\"\n",
    "    fahrenheit = 9/5*celsius + 32\n",
    "\n",
    "    return fahrenheit\n",
    "\n",
    "\n",
    "def convert_to_celsius(fahrenheit):\n",
    "    \"\"\"Convert a given temperature in fahrenheit to celsius\"\"\"\n",
    "    celsius = (fahrenheit - 32) * 5/9\n",
    "\n",
    "    return celsius"
   ]
  },
  {
   "cell_type": "markdown",
   "id": "188eef5d",
   "metadata": {
    "id": "188eef5d"
   },
   "source": [
    "The above code block are examples of *function definitions* in Python. Here the *function body* which contains the code that will be executed upon function *call* is indented.\n",
    "\n",
    "The first line of the function definition is called the *function header*. which contains the *function name* and its corresponding *arguments*. Arguments are expressions that appears between the parenthesis of a function that the function needs to execute the code block defined inside it. We input it upon *calling* the function.\n",
    "\n",
    "The general form of a function definitoin is as follows:\n",
    "\n",
    "```python\n",
    "def <<function_name>>(<<arguments>>):\n",
    "    <<function_body>>\n",
    "    return <<expression>>\n",
    "```"
   ]
  },
  {
   "cell_type": "markdown",
   "id": "dfd2a520",
   "metadata": {
    "id": "dfd2a520"
   },
   "source": [
    "Defining a function creates a function object, which has the type `function`"
   ]
  },
  {
   "cell_type": "code",
   "execution_count": null,
   "id": "0bd5142d",
   "metadata": {
    "ExecuteTime": {
     "end_time": "2024-01-26T19:04:38.687916Z",
     "start_time": "2024-01-26T19:04:38.678959Z"
    },
    "colab": {
     "base_uri": "https://localhost:8080/"
    },
    "execution": {
     "iopub.execute_input": "2024-01-27T06:01:11.411702Z",
     "iopub.status.busy": "2024-01-27T06:01:11.411348Z",
     "iopub.status.idle": "2024-01-27T06:01:11.428068Z",
     "shell.execute_reply": "2024-01-27T06:01:11.426521Z",
     "shell.execute_reply.started": "2024-01-27T06:01:11.411670Z"
    },
    "executionInfo": {
     "elapsed": 31,
     "status": "ok",
     "timestamp": 1756184605379,
     "user": {
      "displayName": "HECTOR LOUIS O. BANDA",
      "userId": "10737061043116032216"
     },
     "user_tz": -480
    },
    "id": "0bd5142d",
    "outputId": "b1370dea-9243-410a-daba-850a0ac26a22"
   },
   "outputs": [],
   "source": [
    "type(convert_to_celsius)"
   ]
  },
  {
   "cell_type": "markdown",
   "id": "9c5dbcb2",
   "metadata": {
    "id": "9c5dbcb2"
   },
   "source": [
    "You then call the function by using its name together with the required parameters enclosed in a parenthesis"
   ]
  },
  {
   "cell_type": "code",
   "execution_count": null,
   "id": "a383fd76",
   "metadata": {
    "ExecuteTime": {
     "end_time": "2024-01-26T19:04:38.691424Z",
     "start_time": "2024-01-26T19:04:38.689007Z"
    },
    "colab": {
     "base_uri": "https://localhost:8080/"
    },
    "execution": {
     "iopub.execute_input": "2024-01-27T06:01:11.429970Z",
     "iopub.status.busy": "2024-01-27T06:01:11.429492Z",
     "iopub.status.idle": "2024-01-27T06:01:11.439902Z",
     "shell.execute_reply": "2024-01-27T06:01:11.438444Z",
     "shell.execute_reply.started": "2024-01-27T06:01:11.429897Z"
    },
    "executionInfo": {
     "elapsed": 32,
     "status": "ok",
     "timestamp": 1756184605421,
     "user": {
      "displayName": "HECTOR LOUIS O. BANDA",
      "userId": "10737061043116032216"
     },
     "user_tz": -480
    },
    "id": "a383fd76",
    "outputId": "b02ed106-a0e7-4940-d52e-d31a7b4e72f6"
   },
   "outputs": [],
   "source": [
    "convert_to_celsius(98.6)"
   ]
  },
  {
   "cell_type": "code",
   "execution_count": null,
   "id": "46115d07",
   "metadata": {
    "ExecuteTime": {
     "end_time": "2024-01-26T19:04:38.695075Z",
     "start_time": "2024-01-26T19:04:38.693002Z"
    },
    "colab": {
     "base_uri": "https://localhost:8080/"
    },
    "execution": {
     "iopub.execute_input": "2024-01-27T06:01:11.442842Z",
     "iopub.status.busy": "2024-01-27T06:01:11.442535Z",
     "iopub.status.idle": "2024-01-27T06:01:11.450803Z",
     "shell.execute_reply": "2024-01-27T06:01:11.449563Z",
     "shell.execute_reply.started": "2024-01-27T06:01:11.442812Z"
    },
    "executionInfo": {
     "elapsed": 25,
     "status": "ok",
     "timestamp": 1756184605447,
     "user": {
      "displayName": "HECTOR LOUIS O. BANDA",
      "userId": "10737061043116032216"
     },
     "user_tz": -480
    },
    "id": "46115d07",
    "outputId": "9b754b2e-98a3-4f00-fb76-59bf066c4b81"
   },
   "outputs": [],
   "source": [
    "convert_to_fahrenheit(29.0)"
   ]
  },
  {
   "cell_type": "markdown",
   "id": "d1f210b7",
   "metadata": {
    "id": "d1f210b7"
   },
   "source": [
    "Most function definitions have a `return` statement, that when executed, ends the function and produces a *value*.\n",
    "\n",
    "```python\n",
    "return <<expression>>\n",
    "```\n",
    "\n",
    "When Python executes a `return` statement, it evaluates the expression then produces the result of that expression as the result of the function call."
   ]
  },
  {
   "cell_type": "code",
   "execution_count": null,
   "id": "2e9d3ce3",
   "metadata": {
    "colab": {
     "base_uri": "https://localhost:8080/"
    },
    "executionInfo": {
     "elapsed": 11,
     "status": "ok",
     "timestamp": 1756184605641,
     "user": {
      "displayName": "HECTOR LOUIS O. BANDA",
      "userId": "10737061043116032216"
     },
     "user_tz": -480
    },
    "id": "2e9d3ce3",
    "outputId": "0a6c60ac-9a36-471b-b039-f638420a9f31"
   },
   "outputs": [],
   "source": [
    "def age_check(age):\n",
    "    if age < 18:\n",
    "        print(\"You are a minor.\")\n",
    "    elif age >= 18 and age < 65:\n",
    "        print(\"You are an adult.\")\n",
    "    else:\n",
    "        print(\"You are a senior.\")\n",
    "    return None\n",
    "\n",
    "\n",
    "x = age_check(17)"
   ]
  },
  {
   "cell_type": "markdown",
   "id": "128c7c77",
   "metadata": {
    "id": "128c7c77"
   },
   "source": [
    "To let a function return a value,\n",
    "```python\n",
    "use the return statement:\n",
    "```"
   ]
  },
  {
   "cell_type": "markdown",
   "id": "0b0671f9",
   "metadata": {
    "id": "0b0671f9"
   },
   "source": [
    "The function above checks the age category of a person: minor, adult, or senior. It prints the corresponding message based on the input age. But if we assign a variable to the function call, it will return the value of the `return` statement."
   ]
  },
  {
   "cell_type": "code",
   "execution_count": null,
   "id": "e0a88ad4",
   "metadata": {
    "colab": {
     "base_uri": "https://localhost:8080/"
    },
    "executionInfo": {
     "elapsed": 4,
     "status": "ok",
     "timestamp": 1756184605646,
     "user": {
      "displayName": "HECTOR LOUIS O. BANDA",
      "userId": "10737061043116032216"
     },
     "user_tz": -480
    },
    "id": "e0a88ad4",
    "outputId": "667a42b5-dce7-4380-c39e-550aa4fc7b54"
   },
   "outputs": [],
   "source": [
    "print(x)  # variable x has will not display the print statement because the function does not return anything"
   ]
  },
  {
   "cell_type": "markdown",
   "id": "8cd07ed3",
   "metadata": {
    "id": "8cd07ed3"
   },
   "source": [
    "The print statement returns a value of 'None' which is the return value of the function."
   ]
  },
  {
   "cell_type": "code",
   "execution_count": null,
   "id": "f19ee86b",
   "metadata": {},
   "outputs": [],
   "source": [
    "# First function definition: This version prints the input and returns None.\n",
    "# When called, it outputs the value to the console but doesn't return anything useful.\n",
    "# This is useful for side effects like logging, but the caller gets None.\n",
    "def print_info(x):\n",
    "    print(x)\n",
    "    return None\n",
    "\n",
    "# Example usage\n",
    "x = print_info(\"Hello, World!\")  # Prints \"Hello, World!\" and assigns None to x\n",
    "\n",
    "print(x)  # Prints 'None' since the function returns None\n",
    "\n",
    "# Second function definition: This version returns the input value directly.\n",
    "# It doesn't print anything; it just returns the value for further use.\n",
    "# This is useful when you need the value back, e.g., for assignment or computation.\n",
    "def print_info2(x):\n",
    "    return x\n",
    "\n",
    "y = print_info2(\"Hello, World!\")  # No print output; assigns \"Hello, World!\" to y\n",
    "\n",
    "print(y)  # Prints 'Hello, World!' since the function returns the value"
   ]
  },
  {
   "cell_type": "markdown",
   "id": "21e7635d",
   "metadata": {
    "id": "21e7635d"
   },
   "source": [
    "### Function Arguments"
   ]
  },
  {
   "cell_type": "markdown",
   "id": "44f70ebb",
   "metadata": {
    "id": "44f70ebb"
   },
   "source": [
    "Information can be passed into functions as arguments.\n",
    "\n",
    "Arguments are specified after the function name, inside the parentheses. You can add as many arguments as you want, just separate them with a comma.\n",
    "\n",
    "The following example has a function with one argument (fname). When the function is called, we pass along a first name, which is used inside the function to print the full name:"
   ]
  },
  {
   "cell_type": "code",
   "execution_count": null,
   "id": "7b43bcd4",
   "metadata": {
    "colab": {
     "base_uri": "https://localhost:8080/"
    },
    "executionInfo": {
     "elapsed": 23,
     "status": "ok",
     "timestamp": 1756184605675,
     "user": {
      "displayName": "HECTOR LOUIS O. BANDA",
      "userId": "10737061043116032216"
     },
     "user_tz": -480
    },
    "id": "7b43bcd4",
    "outputId": "9e03734f-03f4-4810-afc0-ab3fe72103f0"
   },
   "outputs": [],
   "source": [
    "def my_function(fname):\n",
    "    print(fname + \" Doe\")\n",
    "\n",
    "\n",
    "my_function(\"Emil\")\n",
    "my_function(\"Tobias\")\n",
    "my_function(\"Linus\")"
   ]
  },
  {
   "cell_type": "markdown",
   "id": "0430aac0",
   "metadata": {
    "id": "0430aac0"
   },
   "source": [
    "Arguments are often shortened to *args* in Python documentations."
   ]
  },
  {
   "cell_type": "markdown",
   "id": "c15946db",
   "metadata": {
    "id": "c15946db"
   },
   "source": [
    "### Parameters or Arguments?"
   ]
  },
  {
   "cell_type": "markdown",
   "id": "535acb06",
   "metadata": {
    "id": "535acb06"
   },
   "source": [
    "The terms parameter and argument can be used for the same thing: information that are passed into a function.\n",
    "\n",
    "From a function's perspective:\n",
    "\n",
    "A parameter is the variable listed inside the parentheses in the function definition.\n",
    "\n",
    "An argument is the value that is sent to the function when it is called."
   ]
  },
  {
   "cell_type": "markdown",
   "id": "18efe965",
   "metadata": {
    "id": "18efe965"
   },
   "source": [
    "When you pass arguments to a function, Python matches those arguments to the function's parameters depending on the way you specify them. You can pass arguments in a number of ways. You can use *positional arguments*, which need to be in the same order in which the parameters were written; *keyword arguments*, where each argument constists of a variable name and value."
   ]
  },
  {
   "cell_type": "code",
   "execution_count": null,
   "id": "6a7499dd",
   "metadata": {
    "ExecuteTime": {
     "end_time": "2024-01-26T19:04:38.699946Z",
     "start_time": "2024-01-26T19:04:38.697080Z"
    },
    "execution": {
     "iopub.execute_input": "2024-01-27T06:01:11.452348Z",
     "iopub.status.busy": "2024-01-27T06:01:11.452006Z",
     "iopub.status.idle": "2024-01-27T06:01:11.458291Z",
     "shell.execute_reply": "2024-01-27T06:01:11.457102Z",
     "shell.execute_reply.started": "2024-01-27T06:01:11.452315Z"
    },
    "executionInfo": {
     "elapsed": 158,
     "status": "ok",
     "timestamp": 1756184605854,
     "user": {
      "displayName": "HECTOR LOUIS O. BANDA",
      "userId": "10737061043116032216"
     },
     "user_tz": -480
    },
    "id": "6a7499dd"
   },
   "outputs": [],
   "source": [
    "def describe_pet(animal_type, pet_name):\n",
    "    \"\"\"Display information about a pet.\"\"\"\n",
    "    print(f\"I have a {animal_type}.\")\n",
    "    print(f\"My {animal_type}'s name is {pet_name.title()}.\")"
   ]
  },
  {
   "cell_type": "code",
   "execution_count": null,
   "id": "73d2698d",
   "metadata": {
    "ExecuteTime": {
     "end_time": "2024-01-26T19:04:38.703841Z",
     "start_time": "2024-01-26T19:04:38.700933Z"
    },
    "colab": {
     "base_uri": "https://localhost:8080/"
    },
    "execution": {
     "iopub.execute_input": "2024-01-27T06:01:11.459756Z",
     "iopub.status.busy": "2024-01-27T06:01:11.459430Z",
     "iopub.status.idle": "2024-01-27T06:01:11.466210Z",
     "shell.execute_reply": "2024-01-27T06:01:11.464975Z",
     "shell.execute_reply.started": "2024-01-27T06:01:11.459724Z"
    },
    "executionInfo": {
     "elapsed": 21,
     "status": "ok",
     "timestamp": 1756184605876,
     "user": {
      "displayName": "HECTOR LOUIS O. BANDA",
      "userId": "10737061043116032216"
     },
     "user_tz": -480
    },
    "id": "73d2698d",
    "outputId": "62845ae7-9cd0-4056-d1a2-8ade5d37632e"
   },
   "outputs": [],
   "source": [
    "describe_pet('dog', 'Maki')"
   ]
  },
  {
   "cell_type": "code",
   "execution_count": null,
   "id": "14433499",
   "metadata": {
    "ExecuteTime": {
     "end_time": "2024-01-26T19:04:38.706494Z",
     "start_time": "2024-01-26T19:04:38.704644Z"
    },
    "colab": {
     "base_uri": "https://localhost:8080/"
    },
    "execution": {
     "iopub.execute_input": "2024-01-27T06:01:11.467712Z",
     "iopub.status.busy": "2024-01-27T06:01:11.467385Z",
     "iopub.status.idle": "2024-01-27T06:01:11.473806Z",
     "shell.execute_reply": "2024-01-27T06:01:11.472482Z",
     "shell.execute_reply.started": "2024-01-27T06:01:11.467680Z"
    },
    "executionInfo": {
     "elapsed": 5,
     "status": "ok",
     "timestamp": 1756184605882,
     "user": {
      "displayName": "HECTOR LOUIS O. BANDA",
      "userId": "10737061043116032216"
     },
     "user_tz": -480
    },
    "id": "14433499",
    "outputId": "836eaa36-b2d5-42a3-e42a-4f098db7143d"
   },
   "outputs": [],
   "source": [
    "describe_pet(animal_type='cat', pet_name='Midnight')"
   ]
  },
  {
   "cell_type": "code",
   "execution_count": null,
   "id": "935e3254",
   "metadata": {
    "ExecuteTime": {
     "end_time": "2024-01-26T19:04:38.708922Z",
     "start_time": "2024-01-26T19:04:38.707280Z"
    },
    "colab": {
     "base_uri": "https://localhost:8080/"
    },
    "execution": {
     "iopub.execute_input": "2024-01-27T06:01:11.475327Z",
     "iopub.status.busy": "2024-01-27T06:01:11.474989Z",
     "iopub.status.idle": "2024-01-27T06:01:11.481576Z",
     "shell.execute_reply": "2024-01-27T06:01:11.480329Z",
     "shell.execute_reply.started": "2024-01-27T06:01:11.475291Z"
    },
    "executionInfo": {
     "elapsed": 4,
     "status": "ok",
     "timestamp": 1756184605887,
     "user": {
      "displayName": "HECTOR LOUIS O. BANDA",
      "userId": "10737061043116032216"
     },
     "user_tz": -480
    },
    "id": "935e3254",
    "outputId": "b0f8885e-849f-45f9-8fb9-8c49eacb4f33"
   },
   "outputs": [],
   "source": [
    "describe_pet('Maki', 'dog')"
   ]
  },
  {
   "cell_type": "code",
   "execution_count": null,
   "id": "64fbf9c8",
   "metadata": {
    "ExecuteTime": {
     "end_time": "2024-01-26T19:04:38.711929Z",
     "start_time": "2024-01-26T19:04:38.709834Z"
    },
    "colab": {
     "base_uri": "https://localhost:8080/"
    },
    "execution": {
     "iopub.execute_input": "2024-01-27T06:01:11.483192Z",
     "iopub.status.busy": "2024-01-27T06:01:11.482864Z",
     "iopub.status.idle": "2024-01-27T06:01:11.489425Z",
     "shell.execute_reply": "2024-01-27T06:01:11.488167Z",
     "shell.execute_reply.started": "2024-01-27T06:01:11.483161Z"
    },
    "executionInfo": {
     "elapsed": 29,
     "status": "ok",
     "timestamp": 1756184605916,
     "user": {
      "displayName": "HECTOR LOUIS O. BANDA",
      "userId": "10737061043116032216"
     },
     "user_tz": -480
    },
    "id": "64fbf9c8",
    "outputId": "6817ff16-279a-4bdc-85f5-dc8791a2fd4b"
   },
   "outputs": [],
   "source": [
    "describe_pet(pet_name='Midnight', animal_type='cat')"
   ]
  },
  {
   "cell_type": "markdown",
   "id": "726e3b9a",
   "metadata": {
    "id": "726e3b9a"
   },
   "source": [
    "Sometimes it makes sense to give an argument a default value, for example, in a scenario where you want to make the argument optional."
   ]
  },
  {
   "cell_type": "code",
   "execution_count": null,
   "id": "fdd9bd7b",
   "metadata": {
    "ExecuteTime": {
     "end_time": "2024-01-26T19:04:38.720616Z",
     "start_time": "2024-01-26T19:04:38.718160Z"
    },
    "execution": {
     "iopub.execute_input": "2024-01-27T06:01:11.494054Z",
     "iopub.status.busy": "2024-01-27T06:01:11.493579Z",
     "iopub.status.idle": "2024-01-27T06:01:11.500504Z",
     "shell.execute_reply": "2024-01-27T06:01:11.499292Z",
     "shell.execute_reply.started": "2024-01-27T06:01:11.493990Z"
    },
    "executionInfo": {
     "elapsed": 1,
     "status": "ok",
     "timestamp": 1756184605918,
     "user": {
      "displayName": "HECTOR LOUIS O. BANDA",
      "userId": "10737061043116032216"
     },
     "user_tz": -480
    },
    "id": "fdd9bd7b"
   },
   "outputs": [],
   "source": [
    "def get_formatted_name(first_name, last_name, middle_name=''):\n",
    "    \"\"\"Return full name, neatly formatted written last name first.\"\"\"\n",
    "    if middle_name:\n",
    "        full_name = f\"{last_name}, {first_name} {middle_name}\"\n",
    "    else:\n",
    "        full_name = f\"{last_name}, {first_name}\"\n",
    "\n",
    "    return full_name.title()"
   ]
  },
  {
   "cell_type": "code",
   "execution_count": null,
   "id": "0ed660b5",
   "metadata": {
    "ExecuteTime": {
     "end_time": "2024-01-26T19:04:38.725853Z",
     "start_time": "2024-01-26T19:04:38.722020Z"
    },
    "colab": {
     "base_uri": "https://localhost:8080/",
     "height": 35
    },
    "execution": {
     "iopub.execute_input": "2024-01-27T06:01:11.501970Z",
     "iopub.status.busy": "2024-01-27T06:01:11.501641Z",
     "iopub.status.idle": "2024-01-27T06:01:11.510011Z",
     "shell.execute_reply": "2024-01-27T06:01:11.508768Z",
     "shell.execute_reply.started": "2024-01-27T06:01:11.501937Z"
    },
    "executionInfo": {
     "elapsed": 3,
     "status": "ok",
     "timestamp": 1756184605921,
     "user": {
      "displayName": "HECTOR LOUIS O. BANDA",
      "userId": "10737061043116032216"
     },
     "user_tz": -480
    },
    "id": "0ed660b5",
    "outputId": "4097f157-de67-4836-a471-f19f76529e67"
   },
   "outputs": [],
   "source": [
    "get_formatted_name(\"Hector\", \"Banda\")"
   ]
  },
  {
   "cell_type": "code",
   "execution_count": null,
   "id": "16f8388e",
   "metadata": {
    "ExecuteTime": {
     "end_time": "2024-01-26T19:04:38.728846Z",
     "start_time": "2024-01-26T19:04:38.726755Z"
    },
    "colab": {
     "base_uri": "https://localhost:8080/",
     "height": 35
    },
    "execution": {
     "iopub.execute_input": "2024-01-27T06:01:11.511441Z",
     "iopub.status.busy": "2024-01-27T06:01:11.511111Z",
     "iopub.status.idle": "2024-01-27T06:01:11.518942Z",
     "shell.execute_reply": "2024-01-27T06:01:11.517651Z",
     "shell.execute_reply.started": "2024-01-27T06:01:11.511409Z"
    },
    "executionInfo": {
     "elapsed": 2,
     "status": "ok",
     "timestamp": 1756184605923,
     "user": {
      "displayName": "HECTOR LOUIS O. BANDA",
      "userId": "10737061043116032216"
     },
     "user_tz": -480
    },
    "id": "16f8388e",
    "outputId": "4dbc4fb4-f9b6-485f-c709-6af1d6f61840"
   },
   "outputs": [],
   "source": [
    "get_formatted_name(\"Hector\", \"Banda\", \"Louis\")"
   ]
  },
  {
   "cell_type": "markdown",
   "id": "925ef4c3",
   "metadata": {
    "id": "925ef4c3"
   },
   "source": [
    "Caution: All positinal arguments must be explicit defined or else Python will raise an error"
   ]
  },
  {
   "cell_type": "code",
   "execution_count": null,
   "id": "ec846b8b",
   "metadata": {
    "colab": {
     "base_uri": "https://localhost:8080/",
     "height": 176
    },
    "executionInfo": {
     "elapsed": 2,
     "status": "error",
     "timestamp": 1756184605925,
     "user": {
      "displayName": "HECTOR LOUIS O. BANDA",
      "userId": "10737061043116032216"
     },
     "user_tz": -480
    },
    "id": "ec846b8b",
    "outputId": "bbc2a609-32d2-4ea7-9556-fb34f1f1350a"
   },
   "outputs": [],
   "source": [
    "def profile(gender, age=30, *args, **kwargs):\n",
    "    print(age)\n",
    "\n",
    "\n",
    "profile(age=30)"
   ]
  },
  {
   "cell_type": "markdown",
   "id": "01cacb76",
   "metadata": {
    "id": "01cacb76"
   },
   "source": [
    "### Arbitrary Arguments\n",
    "\n"
   ]
  },
  {
   "cell_type": "markdown",
   "id": "85133e4f",
   "metadata": {
    "id": "85133e4f"
   },
   "source": [
    "If you do not know how many arguments that will be passed into your function, add a * before the parameter name in the function definition.\n",
    "\n",
    "This way the function will receive a tuple of arguments, and can access the items accordingly:"
   ]
  },
  {
   "cell_type": "code",
   "execution_count": null,
   "id": "21929054",
   "metadata": {
    "executionInfo": {
     "elapsed": 720,
     "status": "aborted",
     "timestamp": 1756184605709,
     "user": {
      "displayName": "HECTOR LOUIS O. BANDA",
      "userId": "10737061043116032216"
     },
     "user_tz": -480
    },
    "id": "21929054"
   },
   "outputs": [],
   "source": [
    "def my_function(*pets):\n",
    "    print(\"The youngest pet is \" + pets[2])\n",
    "\n",
    "\n",
    "my_function(\"Apple\", \"Banana\", \"Cherry\")"
   ]
  },
  {
   "cell_type": "markdown",
   "id": "899f57d9",
   "metadata": {
    "id": "899f57d9"
   },
   "source": [
    "### Keyword Arguments"
   ]
  },
  {
   "cell_type": "markdown",
   "id": "ba37093f",
   "metadata": {
    "id": "ba37093f"
   },
   "source": [
    "You can also send arguments with the key = value syntax.\n",
    "\n",
    "This way the order of the arguments does not matter."
   ]
  },
  {
   "cell_type": "code",
   "execution_count": null,
   "id": "9192009b",
   "metadata": {
    "executionInfo": {
     "elapsed": 754,
     "status": "aborted",
     "timestamp": 1756184605743,
     "user": {
      "displayName": "HECTOR LOUIS O. BANDA",
      "userId": "10737061043116032216"
     },
     "user_tz": -480
    },
    "id": "9192009b"
   },
   "outputs": [],
   "source": [
    "def my_function(pet3, pet2, pet1):\n",
    "    print(\"The youngest pet is \" + pet3)\n",
    "\n",
    "\n",
    "my_function(pet1=\"Emil\", pet2=\"Tobias\", pet3=\"Linus\")"
   ]
  },
  {
   "cell_type": "markdown",
   "id": "66535839",
   "metadata": {
    "id": "66535839"
   },
   "source": [
    "Arbitrary Arguments are often shortened to *kwargs* in Python documentations."
   ]
  },
  {
   "cell_type": "markdown",
   "id": "3151999a",
   "metadata": {
    "id": "3151999a"
   },
   "source": [
    "### Arbitrary Keyword Arguments"
   ]
  },
  {
   "cell_type": "markdown",
   "id": "5053cf15",
   "metadata": {
    "id": "5053cf15"
   },
   "source": [
    "If you do not know how many keyword arguments that will be passed into your function, add two asterisk: ** before the parameter name in the function definition.\n",
    "\n",
    "This way the function will receive a dictionary of arguments, and can access the items accordingly:"
   ]
  },
  {
   "cell_type": "code",
   "execution_count": null,
   "id": "4690e237",
   "metadata": {
    "executionInfo": {
     "elapsed": 767,
     "status": "aborted",
     "timestamp": 1756184605756,
     "user": {
      "displayName": "HECTOR LOUIS O. BANDA",
      "userId": "10737061043116032216"
     },
     "user_tz": -480
    },
    "id": "4690e237"
   },
   "outputs": [],
   "source": [
    "def my_function(**pet):\n",
    "    print(\"His last name is \" + pet[\"lname\"])\n",
    "\n",
    "\n",
    "my_function(fname=\"Tobias\", lname=\"Refsnes\")"
   ]
  },
  {
   "cell_type": "markdown",
   "id": "cfa534e8",
   "metadata": {
    "id": "cfa534e8"
   },
   "source": [
    "If not enough arguments are passed into the function, Python will raise an error. For example:"
   ]
  },
  {
   "cell_type": "code",
   "execution_count": null,
   "id": "fcb934bb",
   "metadata": {
    "executionInfo": {
     "elapsed": 770,
     "status": "aborted",
     "timestamp": 1756184605759,
     "user": {
      "displayName": "HECTOR LOUIS O. BANDA",
      "userId": "10737061043116032216"
     },
     "user_tz": -480
    },
    "id": "fcb934bb"
   },
   "outputs": [],
   "source": [
    "def my_function(fname, lname):\n",
    "    print(fname + \" \" + lname)\n",
    "\n",
    "\n",
    "my_function(\"Emil\")"
   ]
  },
  {
   "cell_type": "markdown",
   "id": "2c05a5ab",
   "metadata": {
    "id": "2c05a5ab"
   },
   "source": [
    "### Using Local Variables for Temporary Storage"
   ]
  },
  {
   "cell_type": "markdown",
   "id": "f0652085",
   "metadata": {
    "id": "f0652085"
   },
   "source": [
    "Another very common operation that we do in our academic life is solving the roots of a quadratic polynomial $ax^2 + bx + c$ using the quadratic formula $\\frac{-b \\pm \\sqrt{b^2 - 4ac}}{2a}$. Let's define this as the function `quadratic_formula` to demonstrate local variables:"
   ]
  },
  {
   "cell_type": "code",
   "execution_count": null,
   "id": "cfd501be",
   "metadata": {
    "ExecuteTime": {
     "end_time": "2024-01-26T19:04:38.735513Z",
     "start_time": "2024-01-26T19:04:38.730883Z"
    },
    "execution": {
     "iopub.execute_input": "2024-01-27T06:01:11.520383Z",
     "iopub.status.busy": "2024-01-27T06:01:11.520055Z",
     "iopub.status.idle": "2024-01-27T06:01:11.527398Z",
     "shell.execute_reply": "2024-01-27T06:01:11.526186Z",
     "shell.execute_reply.started": "2024-01-27T06:01:11.520352Z"
    },
    "executionInfo": {
     "elapsed": 771,
     "status": "aborted",
     "timestamp": 1756184605760,
     "user": {
      "displayName": "HECTOR LOUIS O. BANDA",
      "userId": "10737061043116032216"
     },
     "user_tz": -480
    },
    "id": "cfd501be"
   },
   "outputs": [],
   "source": [
    "def quadratic_formula(a, b, c):\n",
    "    \"\"\"Compute for the roots of a quadratic polynomial using the\n",
    "    quadratic formula\"\"\"\n",
    "    root_1 = (-b + (b**2 - 4*a*c)**0.5) / (2*a)\n",
    "    root_2 = (-b - (b**2 - 4*a*c)**0.5) / (2*a)\n",
    "\n",
    "    return root_1, root_2"
   ]
  },
  {
   "cell_type": "markdown",
   "id": "01ab9abe",
   "metadata": {
    "id": "01ab9abe"
   },
   "source": [
    "**Example**: Solve for the roots of the polynomial $x^2 + x - 6$"
   ]
  },
  {
   "cell_type": "code",
   "execution_count": null,
   "id": "74c39c96",
   "metadata": {
    "ExecuteTime": {
     "end_time": "2024-01-26T19:04:38.740059Z",
     "start_time": "2024-01-26T19:04:38.737667Z"
    },
    "execution": {
     "iopub.execute_input": "2024-01-27T06:01:11.529040Z",
     "iopub.status.busy": "2024-01-27T06:01:11.528694Z",
     "iopub.status.idle": "2024-01-27T06:01:11.536648Z",
     "shell.execute_reply": "2024-01-27T06:01:11.535386Z",
     "shell.execute_reply.started": "2024-01-27T06:01:11.529007Z"
    },
    "executionInfo": {
     "elapsed": 771,
     "status": "aborted",
     "timestamp": 1756184605760,
     "user": {
      "displayName": "HECTOR LOUIS O. BANDA",
      "userId": "10737061043116032216"
     },
     "user_tz": -480
    },
    "id": "74c39c96"
   },
   "outputs": [],
   "source": [
    "quadratic_formula(1, 1, -6)"
   ]
  },
  {
   "cell_type": "code",
   "execution_count": null,
   "id": "3a1adf80",
   "metadata": {
    "ExecuteTime": {
     "end_time": "2024-01-26T19:04:38.742999Z",
     "start_time": "2024-01-26T19:04:38.740944Z"
    },
    "execution": {
     "iopub.execute_input": "2024-01-27T06:01:11.537990Z",
     "iopub.status.busy": "2024-01-27T06:01:11.537661Z",
     "iopub.status.idle": "2024-01-27T06:01:11.544850Z",
     "shell.execute_reply": "2024-01-27T06:01:11.543583Z",
     "shell.execute_reply.started": "2024-01-27T06:01:11.537957Z"
    },
    "executionInfo": {
     "elapsed": 772,
     "status": "aborted",
     "timestamp": 1756184605761,
     "user": {
      "displayName": "HECTOR LOUIS O. BANDA",
      "userId": "10737061043116032216"
     },
     "user_tz": -480
    },
    "id": "3a1adf80"
   },
   "outputs": [],
   "source": [
    "first_root, second_root = quadratic_formula(1, 1, -6)\n",
    "\n",
    "print(f\"The first root is: {first_root}\")\n",
    "print(f\"The second root is: {second_root}\")"
   ]
  },
  {
   "cell_type": "markdown",
   "id": "2365cb84",
   "metadata": {
    "id": "2365cb84"
   },
   "source": [
    "`root_1` and `root_2` are local variables that are defined only inside the function definition. Thus, we get an error if we try to use them outside of a function definition.\n",
    "\n",
    "The area of a program that can be used in is called the variable's *scope*."
   ]
  },
  {
   "cell_type": "markdown",
   "id": "b1d1e4a6",
   "metadata": {
    "id": "b1d1e4a6"
   },
   "source": [
    "### Recursive Functions"
   ]
  },
  {
   "cell_type": "markdown",
   "id": "5ba2b551",
   "metadata": {
    "id": "5ba2b551"
   },
   "source": [
    "Recursive functions are functions that calls itself in the body. Knowing how to write recursive functions has a benefit of creating repetitions without the use of loops. However, be cautious when implementing recursive functions as you can easily make a recursive function that doesn't terminate itself, or one that uses an excessive amount of memory or processing power. Nonetheless, when used correctly, it allows for an elegant approach to programming."
   ]
  },
  {
   "cell_type": "markdown",
   "id": "89361e7e",
   "metadata": {
    "id": "89361e7e"
   },
   "source": [
    "An example of a recursive function is the factorial definition, which mathematically can be written as:\n",
    "\n",
    "$$n! = n \\times (n-1)!$$"
   ]
  },
  {
   "cell_type": "code",
   "execution_count": null,
   "id": "13c3f2e5",
   "metadata": {
    "ExecuteTime": {
     "end_time": "2024-01-26T19:04:38.746968Z",
     "start_time": "2024-01-26T19:04:38.744900Z"
    },
    "execution": {
     "iopub.execute_input": "2024-01-27T06:01:11.546507Z",
     "iopub.status.busy": "2024-01-27T06:01:11.546176Z",
     "iopub.status.idle": "2024-01-27T06:01:11.552122Z",
     "shell.execute_reply": "2024-01-27T06:01:11.550853Z",
     "shell.execute_reply.started": "2024-01-27T06:01:11.546475Z"
    },
    "executionInfo": {
     "elapsed": 772,
     "status": "aborted",
     "timestamp": 1756184605761,
     "user": {
      "displayName": "HECTOR LOUIS O. BANDA",
      "userId": "10737061043116032216"
     },
     "user_tz": -480
    },
    "id": "13c3f2e5"
   },
   "outputs": [],
   "source": [
    "def factorial(n):\n",
    "    \"\"\"Return the factorial of integer value n\"\"\"\n",
    "    if n == 0:\n",
    "        return 1\n",
    "    else:\n",
    "        return n * factorial(n-1)"
   ]
  },
  {
   "cell_type": "code",
   "execution_count": null,
   "id": "0e0835fe",
   "metadata": {
    "ExecuteTime": {
     "end_time": "2024-01-26T19:04:38.751251Z",
     "start_time": "2024-01-26T19:04:38.748273Z"
    },
    "execution": {
     "iopub.execute_input": "2024-01-27T06:01:11.554387Z",
     "iopub.status.busy": "2024-01-27T06:01:11.553426Z",
     "iopub.status.idle": "2024-01-27T06:01:11.561008Z",
     "shell.execute_reply": "2024-01-27T06:01:11.559772Z",
     "shell.execute_reply.started": "2024-01-27T06:01:11.554350Z"
    },
    "executionInfo": {
     "elapsed": 772,
     "status": "aborted",
     "timestamp": 1756184605762,
     "user": {
      "displayName": "HECTOR LOUIS O. BANDA",
      "userId": "10737061043116032216"
     },
     "user_tz": -480
    },
    "id": "0e0835fe"
   },
   "outputs": [],
   "source": [
    "factorial(4)"
   ]
  },
  {
   "cell_type": "markdown",
   "id": "4d2464a8",
   "metadata": {
    "id": "4d2464a8"
   },
   "source": [
    "Another example is the definition of the Fibonacci numbers:"
   ]
  },
  {
   "cell_type": "markdown",
   "id": "d8f01c00",
   "metadata": {
    "id": "d8f01c00"
   },
   "source": [
    "$$F_0 = 0, F_1 = 1$$\n",
    "$$F_n = F_{n-1} + F_{n-2}$$"
   ]
  },
  {
   "cell_type": "markdown",
   "id": "dd04c428",
   "metadata": {
    "id": "dd04c428"
   },
   "source": [
    "The first 6 Fibonacci numbers are:\n",
    "\n",
    "$$F_0 = 0$$\n",
    "$$F_1 = 1$$\n",
    "$$F_2 = 1$$\n",
    "$$F_3 = 2$$\n",
    "$$F_4 = 3$$\n",
    "$$F_5 = 5$$"
   ]
  },
  {
   "cell_type": "code",
   "execution_count": null,
   "id": "39b1ac92",
   "metadata": {
    "ExecuteTime": {
     "end_time": "2024-01-26T19:04:38.754761Z",
     "start_time": "2024-01-26T19:04:38.752070Z"
    },
    "execution": {
     "iopub.execute_input": "2024-01-27T06:01:11.562528Z",
     "iopub.status.busy": "2024-01-27T06:01:11.562199Z",
     "iopub.status.idle": "2024-01-27T06:01:11.568712Z",
     "shell.execute_reply": "2024-01-27T06:01:11.567481Z",
     "shell.execute_reply.started": "2024-01-27T06:01:11.562497Z"
    },
    "executionInfo": {
     "elapsed": 772,
     "status": "aborted",
     "timestamp": 1756184605762,
     "user": {
      "displayName": "HECTOR LOUIS O. BANDA",
      "userId": "10737061043116032216"
     },
     "user_tz": -480
    },
    "id": "39b1ac92"
   },
   "outputs": [],
   "source": [
    "def fibonacci(n):\n",
    "    \"\"\"Return the fibonacci number F_n\"\"\"\n",
    "    if n == 0:\n",
    "        return 0\n",
    "    elif n == 1:\n",
    "        return 1\n",
    "    else:\n",
    "        return fibonacci(n-1) + fibonacci(n-2)"
   ]
  },
  {
   "cell_type": "code",
   "execution_count": null,
   "id": "e56d7edb",
   "metadata": {
    "ExecuteTime": {
     "end_time": "2024-01-26T19:04:38.758997Z",
     "start_time": "2024-01-26T19:04:38.756310Z"
    },
    "execution": {
     "iopub.execute_input": "2024-01-27T06:01:11.570353Z",
     "iopub.status.busy": "2024-01-27T06:01:11.570016Z",
     "iopub.status.idle": "2024-01-27T06:01:11.578401Z",
     "shell.execute_reply": "2024-01-27T06:01:11.577008Z",
     "shell.execute_reply.started": "2024-01-27T06:01:11.570318Z"
    },
    "executionInfo": {
     "elapsed": 773,
     "status": "aborted",
     "timestamp": 1756184605763,
     "user": {
      "displayName": "HECTOR LOUIS O. BANDA",
      "userId": "10737061043116032216"
     },
     "user_tz": -480
    },
    "id": "e56d7edb"
   },
   "outputs": [],
   "source": [
    "fibonacci(5)"
   ]
  },
  {
   "cell_type": "markdown",
   "id": "c23dfb5e",
   "metadata": {
    "id": "c23dfb5e"
   },
   "source": [
    "### Pass Statements"
   ]
  },
  {
   "cell_type": "markdown",
   "id": "014f20fa",
   "metadata": {
    "id": "014f20fa"
   },
   "source": [
    "function definitions cannot be empty, but if you for some reason have a function definition with no content, put in the pass statement to avoid getting an error."
   ]
  },
  {
   "cell_type": "code",
   "execution_count": null,
   "id": "7a456bf9",
   "metadata": {
    "executionInfo": {
     "elapsed": 773,
     "status": "aborted",
     "timestamp": 1756184605763,
     "user": {
      "displayName": "HECTOR LOUIS O. BANDA",
      "userId": "10737061043116032216"
     },
     "user_tz": -480
    },
    "id": "7a456bf9"
   },
   "outputs": [],
   "source": [
    "def myfunction():\n",
    "    pass"
   ]
  },
  {
   "cell_type": "markdown",
   "id": "a2a8de64",
   "metadata": {
    "id": "a2a8de64"
   },
   "source": [
    "## 2 Designing New Functions: A Recipe"
   ]
  },
  {
   "cell_type": "markdown",
   "id": "5dd6cc45",
   "metadata": {
    "id": "5dd6cc45"
   },
   "source": [
    "Everytime you write a function, do figure out the answers to the following questions:\n",
    "\n",
    "1. What is an appropriate and informative name for the function?\n",
    "2. What are the parameters, and what types of information do they refer to?\n",
    "3. What calculations are you doing with that information?\n",
    "4. What information does the function return?\n",
    "5. Does it work like you expect it to?\n",
    "\n",
    "Part of the outcome upon completing this questions should be a working function. But equally important is the *documentation* for the function. Use three double quotes `\"\"\"` to start and end this documentation. This notation is called the *docstring* or the *documentation string*.\n",
    "\n",
    "Let's improve our temperature converter functions according to this framework.\n",
    "\n",
    "*Note: the docstring format we specifically use is the [numpy](https://numpydoc.readthedocs.io/en/latest/format.html) docstring format. Which is the common notation for many data science libraries that you'll eventually be using*"
   ]
  },
  {
   "cell_type": "code",
   "execution_count": null,
   "id": "0dbfdff5",
   "metadata": {
    "ExecuteTime": {
     "end_time": "2024-01-26T19:04:38.762192Z",
     "start_time": "2024-01-26T19:04:38.760034Z"
    },
    "execution": {
     "iopub.execute_input": "2024-01-27T06:01:11.699719Z",
     "iopub.status.busy": "2024-01-27T06:01:11.699048Z",
     "iopub.status.idle": "2024-01-27T06:01:11.711764Z",
     "shell.execute_reply": "2024-01-27T06:01:11.709762Z",
     "shell.execute_reply.started": "2024-01-27T06:01:11.699660Z"
    },
    "executionInfo": {
     "elapsed": 793,
     "status": "aborted",
     "timestamp": 1756184605783,
     "user": {
      "displayName": "HECTOR LOUIS O. BANDA",
      "userId": "10737061043116032216"
     },
     "user_tz": -480
    },
    "id": "0dbfdff5"
   },
   "outputs": [],
   "source": [
    "def convert_to_fahrenheit(celsius: float) -> float:\n",
    "    \"\"\"Convert a given temperature in celsius to fahrenheit\n",
    "\n",
    "    Parameters\n",
    "    ----------\n",
    "    celsius : float\n",
    "        Input temperature in celsius\n",
    "\n",
    "    Returns\n",
    "    -------\n",
    "    fahrenheit : float\n",
    "        Temperature of the input in fahrenheit\n",
    "\n",
    "    Examples\n",
    "    --------\n",
    "    >>> convert_to_fahrenheit(37.0)\n",
    "    98.6\n",
    "    \"\"\"\n",
    "    fahrenheit = 9/5*celsius + 32\n",
    "\n",
    "    return fahrenheit\n",
    "\n",
    "\n",
    "def convert_to_celsius(fahrenheit: float) -> float:\n",
    "    \"\"\"Convert a given temperature in fahrenheit to celsius\n",
    "\n",
    "    Parameters\n",
    "    ----------\n",
    "    fahrenheit : float\n",
    "        Input temperature in fahrenheit\n",
    "\n",
    "    Returns\n",
    "    -------\n",
    "    celsius : float\n",
    "        Temperature of the input in celsius\n",
    "\n",
    "    Examples\n",
    "    --------\n",
    "    >>> convert_to_celsius(98.6)\n",
    "    37.0\n",
    "    \"\"\"\n",
    "    celsius = (fahrenheit - 32) * 5/9\n",
    "\n",
    "    return celsius"
   ]
  },
  {
   "cell_type": "markdown",
   "id": "e11ffb6d",
   "metadata": {
    "id": "e11ffb6d"
   },
   "source": [
    "### Functions That Python Provides"
   ]
  },
  {
   "cell_type": "markdown",
   "id": "1fb8da34",
   "metadata": {
    "id": "1fb8da34"
   },
   "source": [
    "To improve also the readability and conciseness of your code, consider using built-in functions to perform common operations. We've already encountered some of these functions in the previous session which includes `print`, `float`, `int`, `help`, and `input`.\n",
    "\n",
    "Found [here](https://www.w3schools.com/python/python_ref_functions.asp) are other common built-in functions in Python:"
   ]
  },
  {
   "cell_type": "code",
   "execution_count": null,
   "id": "338b1487",
   "metadata": {
    "ExecuteTime": {
     "end_time": "2024-01-26T19:04:38.771842Z",
     "start_time": "2024-01-26T19:04:38.763724Z"
    },
    "execution": {
     "iopub.execute_input": "2024-01-27T06:01:12.076699Z",
     "iopub.status.busy": "2024-01-27T06:01:12.075762Z",
     "iopub.status.idle": "2024-01-27T06:01:12.089045Z",
     "shell.execute_reply": "2024-01-27T06:01:12.087440Z",
     "shell.execute_reply.started": "2024-01-27T06:01:12.076612Z"
    },
    "executionInfo": {
     "elapsed": 794,
     "status": "aborted",
     "timestamp": 1756184605784,
     "user": {
      "displayName": "HECTOR LOUIS O. BANDA",
      "userId": "10737061043116032216"
     },
     "user_tz": -480
    },
    "id": "338b1487"
   },
   "outputs": [],
   "source": [
    "abs(-9)"
   ]
  },
  {
   "cell_type": "code",
   "execution_count": null,
   "id": "9a73d407",
   "metadata": {
    "ExecuteTime": {
     "end_time": "2024-01-26T19:04:38.775513Z",
     "start_time": "2024-01-26T19:04:38.773061Z"
    },
    "execution": {
     "iopub.execute_input": "2024-01-27T06:01:12.093108Z",
     "iopub.status.busy": "2024-01-27T06:01:12.092460Z",
     "iopub.status.idle": "2024-01-27T06:01:12.101671Z",
     "shell.execute_reply": "2024-01-27T06:01:12.100248Z",
     "shell.execute_reply.started": "2024-01-27T06:01:12.093048Z"
    },
    "executionInfo": {
     "elapsed": 795,
     "status": "aborted",
     "timestamp": 1756184605785,
     "user": {
      "displayName": "HECTOR LOUIS O. BANDA",
      "userId": "10737061043116032216"
     },
     "user_tz": -480
    },
    "id": "9a73d407"
   },
   "outputs": [],
   "source": [
    "round(1.337, 2)"
   ]
  },
  {
   "cell_type": "code",
   "execution_count": null,
   "id": "d3c3f1bf",
   "metadata": {
    "ExecuteTime": {
     "end_time": "2024-01-26T19:04:38.778900Z",
     "start_time": "2024-01-26T19:04:38.776405Z"
    },
    "execution": {
     "iopub.execute_input": "2024-01-27T06:01:12.103451Z",
     "iopub.status.busy": "2024-01-27T06:01:12.103059Z",
     "iopub.status.idle": "2024-01-27T06:01:12.110829Z",
     "shell.execute_reply": "2024-01-27T06:01:12.109565Z",
     "shell.execute_reply.started": "2024-01-27T06:01:12.103412Z"
    },
    "executionInfo": {
     "elapsed": 796,
     "status": "aborted",
     "timestamp": 1756184605786,
     "user": {
      "displayName": "HECTOR LOUIS O. BANDA",
      "userId": "10737061043116032216"
     },
     "user_tz": -480
    },
    "id": "d3c3f1bf"
   },
   "outputs": [],
   "source": [
    "help(round)"
   ]
  },
  {
   "cell_type": "code",
   "execution_count": null,
   "id": "37e1b66a",
   "metadata": {
    "ExecuteTime": {
     "end_time": "2024-01-26T19:04:38.788319Z",
     "start_time": "2024-01-26T19:04:38.779836Z"
    },
    "execution": {
     "iopub.execute_input": "2024-01-27T06:01:12.112142Z",
     "iopub.status.busy": "2024-01-27T06:01:12.111813Z",
     "iopub.status.idle": "2024-01-27T06:01:12.121261Z",
     "shell.execute_reply": "2024-01-27T06:01:12.119436Z",
     "shell.execute_reply.started": "2024-01-27T06:01:12.112110Z"
    },
    "executionInfo": {
     "elapsed": 898,
     "status": "aborted",
     "timestamp": 1756184605888,
     "user": {
      "displayName": "HECTOR LOUIS O. BANDA",
      "userId": "10737061043116032216"
     },
     "user_tz": -480
    },
    "id": "37e1b66a"
   },
   "outputs": [],
   "source": [
    "pow(25, 0.5)"
   ]
  },
  {
   "cell_type": "markdown",
   "id": "02af5d32",
   "metadata": {
    "id": "02af5d32"
   },
   "source": [
    "## 3 A Modular Approach to Program Organization"
   ]
  },
  {
   "cell_type": "markdown",
   "id": "f2bfaf68",
   "metadata": {
    "id": "f2bfaf68"
   },
   "source": [
    "> *Mathematicians don't prove every theorem from scratch. Instead, they build their proofs on truths their predecessors have already established. In the same way, it's rare for someone to write all of a program alone; it's much more common-and productive to make use of the millions of lines of code that other programmers have written before*"
   ]
  },
  {
   "cell_type": "markdown",
   "id": "4935b157",
   "metadata": {
    "id": "4935b157"
   },
   "source": [
    "In Python, a *module* is a collection of variables and functions grouped together in a single file. These variables and functions usually help you accomplish a certain task. For example, the `math` module contains variables such as `pi` and mathematical functions such as `cos` (cosine) and `sqrt` (square root)."
   ]
  },
  {
   "cell_type": "markdown",
   "id": "352b01b1",
   "metadata": {
    "id": "352b01b1"
   },
   "source": [
    "### Importing Modules"
   ]
  },
  {
   "cell_type": "markdown",
   "id": "ff4b92eb",
   "metadata": {
    "id": "ff4b92eb"
   },
   "source": [
    "To gain access to the variables and functions defined in a module, we use the `import` statement."
   ]
  },
  {
   "cell_type": "markdown",
   "id": "00a396b5",
   "metadata": {
    "id": "00a396b5"
   },
   "source": [
    "#### `math` module"
   ]
  },
  {
   "cell_type": "code",
   "execution_count": null,
   "id": "088c440c",
   "metadata": {
    "ExecuteTime": {
     "end_time": "2024-01-26T19:04:38.792275Z",
     "start_time": "2024-01-26T19:04:38.790205Z"
    },
    "execution": {
     "iopub.execute_input": "2024-01-27T06:01:12.124861Z",
     "iopub.status.busy": "2024-01-27T06:01:12.124505Z",
     "iopub.status.idle": "2024-01-27T06:01:12.130657Z",
     "shell.execute_reply": "2024-01-27T06:01:12.129331Z",
     "shell.execute_reply.started": "2024-01-27T06:01:12.124828Z"
    },
    "executionInfo": {
     "elapsed": 897,
     "status": "aborted",
     "timestamp": 1756184605888,
     "user": {
      "displayName": "HECTOR LOUIS O. BANDA",
      "userId": "10737061043116032216"
     },
     "user_tz": -480
    },
    "id": "088c440c"
   },
   "outputs": [],
   "source": [
    "import math"
   ]
  },
  {
   "cell_type": "code",
   "execution_count": null,
   "id": "f5db7955",
   "metadata": {
    "ExecuteTime": {
     "end_time": "2024-01-26T19:04:38.795625Z",
     "start_time": "2024-01-26T19:04:38.793545Z"
    },
    "execution": {
     "iopub.execute_input": "2024-01-27T06:01:12.131967Z",
     "iopub.status.busy": "2024-01-27T06:01:12.131634Z",
     "iopub.status.idle": "2024-01-27T06:01:12.138044Z",
     "shell.execute_reply": "2024-01-27T06:01:12.137306Z",
     "shell.execute_reply.started": "2024-01-27T06:01:12.131934Z"
    },
    "executionInfo": {
     "elapsed": 898,
     "status": "aborted",
     "timestamp": 1756184605889,
     "user": {
      "displayName": "HECTOR LOUIS O. BANDA",
      "userId": "10737061043116032216"
     },
     "user_tz": -480
    },
    "id": "f5db7955"
   },
   "outputs": [],
   "source": [
    "type(math)"
   ]
  },
  {
   "cell_type": "code",
   "execution_count": null,
   "id": "3bc60a3e",
   "metadata": {
    "ExecuteTime": {
     "end_time": "2024-01-26T19:04:38.804775Z",
     "start_time": "2024-01-26T19:04:38.796721Z"
    },
    "execution": {
     "iopub.execute_input": "2024-01-27T06:01:12.139211Z",
     "iopub.status.busy": "2024-01-27T06:01:12.138997Z",
     "iopub.status.idle": "2024-01-27T06:01:12.157771Z",
     "shell.execute_reply": "2024-01-27T06:01:12.157037Z",
     "shell.execute_reply.started": "2024-01-27T06:01:12.139191Z"
    },
    "executionInfo": {
     "elapsed": 898,
     "status": "aborted",
     "timestamp": 1756184605889,
     "user": {
      "displayName": "HECTOR LOUIS O. BANDA",
      "userId": "10737061043116032216"
     },
     "user_tz": -480
    },
    "id": "3bc60a3e"
   },
   "outputs": [],
   "source": [
    "help(math)"
   ]
  },
  {
   "cell_type": "code",
   "execution_count": null,
   "id": "1b99137f",
   "metadata": {
    "ExecuteTime": {
     "end_time": "2024-01-26T19:04:38.812922Z",
     "start_time": "2024-01-26T19:04:38.810730Z"
    },
    "colab": {
     "base_uri": "https://localhost:8080/",
     "height": 141
    },
    "execution": {
     "iopub.execute_input": "2024-01-27T06:01:12.158757Z",
     "iopub.status.busy": "2024-01-27T06:01:12.158543Z",
     "iopub.status.idle": "2024-01-27T06:01:12.166073Z",
     "shell.execute_reply": "2024-01-27T06:01:12.163438Z",
     "shell.execute_reply.started": "2024-01-27T06:01:12.158736Z"
    },
    "executionInfo": {
     "elapsed": 3,
     "status": "error",
     "timestamp": 1756184606048,
     "user": {
      "displayName": "HECTOR LOUIS O. BANDA",
      "userId": "10737061043116032216"
     },
     "user_tz": -480
    },
    "id": "1b99137f",
    "outputId": "c0ff717a-5065-44cf-8215-94107ca07dae"
   },
   "outputs": [],
   "source": [
    "math.sqrt(9)"
   ]
  },
  {
   "cell_type": "markdown",
   "id": "5e6c4651",
   "metadata": {
    "id": "5e6c4651"
   },
   "source": [
    "#### `this` module"
   ]
  },
  {
   "cell_type": "markdown",
   "id": "9add88a9",
   "metadata": {
    "id": "9add88a9"
   },
   "source": [
    "The `this` module is an Easter Egg in Python which shows 20 guidelines written by Tim Peters for the design of the Python language."
   ]
  },
  {
   "cell_type": "code",
   "execution_count": null,
   "id": "40205b09",
   "metadata": {
    "ExecuteTime": {
     "end_time": "2024-01-26T19:04:38.818946Z",
     "start_time": "2024-01-26T19:04:38.814114Z"
    },
    "execution": {
     "iopub.execute_input": "2024-01-27T06:01:12.167301Z",
     "iopub.status.busy": "2024-01-27T06:01:12.167024Z",
     "iopub.status.idle": "2024-01-27T06:01:12.179146Z",
     "shell.execute_reply": "2024-01-27T06:01:12.177874Z",
     "shell.execute_reply.started": "2024-01-27T06:01:12.167275Z"
    },
    "executionInfo": {
     "elapsed": 898,
     "status": "aborted",
     "timestamp": 1756184605889,
     "user": {
      "displayName": "HECTOR LOUIS O. BANDA",
      "userId": "10737061043116032216"
     },
     "user_tz": -480
    },
    "id": "40205b09"
   },
   "outputs": [],
   "source": [
    "import this"
   ]
  },
  {
   "cell_type": "markdown",
   "id": "87188576",
   "metadata": {
    "deletable": false,
    "editable": false,
    "id": "87188576",
    "nbgrader": {
     "cell_type": "markdown",
     "checksum": "8e5b12235cf97cb6a49aa3652a2cbaa1",
     "grade": false,
     "grade_id": "cell-475abeaafe09fdad",
     "locked": true,
     "schema_version": 3,
     "solution": false,
     "task": false
    },
    "tags": []
   },
   "source": [
    "## 4 Hands-on Exercises"
   ]
  },
  {
   "cell_type": "markdown",
   "id": "04a99745",
   "metadata": {
    "deletable": false,
    "editable": false,
    "id": "04a99745",
    "nbgrader": {
     "cell_type": "markdown",
     "checksum": "e638b44b3dbf447664ddea8a102831e9",
     "grade": false,
     "grade_id": "cell-0a1ae32657112e6f",
     "locked": true,
     "schema_version": 3,
     "solution": false,
     "task": false
    },
    "tags": []
   },
   "source": [
    "### City names"
   ]
  },
  {
   "cell_type": "markdown",
   "id": "c77bb124",
   "metadata": {
    "deletable": false,
    "editable": false,
    "id": "c77bb124",
    "nbgrader": {
     "cell_type": "markdown",
     "checksum": "0d9d79b59ff25fd80db5c644d4e61cdc",
     "grade": false,
     "grade_id": "cell-0b93c8b53390bd67",
     "locked": true,
     "schema_version": 3,
     "solution": false,
     "task": false
    },
    "tags": []
   },
   "source": [
    "Write a function called `city_country()` that takes in a name of a `city` and its `country`. The function should return a string formatted like this:\n",
    "\n",
    "```\n",
    "\"Makati City, Philippines\"\n",
    "```"
   ]
  },
  {
   "cell_type": "code",
   "execution_count": 4,
   "id": "93a682d6",
   "metadata": {
    "ExecuteTime": {
     "end_time": "2024-01-26T19:04:38.821839Z",
     "start_time": "2024-01-26T19:04:38.820168Z"
    },
    "deletable": false,
    "execution": {
     "iopub.execute_input": "2024-01-27T06:49:15.214330Z",
     "iopub.status.busy": "2024-01-27T06:49:15.213609Z",
     "iopub.status.idle": "2024-01-27T06:49:15.223434Z",
     "shell.execute_reply": "2024-01-27T06:49:15.221616Z",
     "shell.execute_reply.started": "2024-01-27T06:49:15.214267Z"
    },
    "executionInfo": {
     "elapsed": 893,
     "status": "aborted",
     "timestamp": 1756184605890,
     "user": {
      "displayName": "HECTOR LOUIS O. BANDA",
      "userId": "10737061043116032216"
     },
     "user_tz": -480
    },
    "id": "93a682d6",
    "nbgrader": {
     "cell_type": "code",
     "checksum": "7f62ad0026ff716a23c8f7e74d5a6f9a",
     "grade": false,
     "grade_id": "cell-667d20c714a10725",
     "locked": false,
     "schema_version": 3,
     "solution": true,
     "task": false
    },
    "tags": []
   },
   "outputs": [
    {
     "name": "stdout",
     "output_type": "stream",
     "text": [
      "\"Makati City, Philippines\"\n"
     ]
    }
   ],
   "source": [
    "# YOUR CODE HERE\n",
    "\n",
    "def city_country(city, country):\n",
    "    \"\"\"\n",
    "    Return a formatted string for a city and country.\n",
    "    \"\"\"\n",
    "    return f'\"{city} City, {country}\"'\n",
    "\n",
    "print(city_country(\"Makati\", \"Philippines\"))"
   ]
  },
  {
   "cell_type": "markdown",
   "id": "e786fca9",
   "metadata": {
    "deletable": false,
    "editable": false,
    "id": "e786fca9",
    "nbgrader": {
     "cell_type": "markdown",
     "checksum": "d00d21aa5cd0ddcff2098447470ff504",
     "grade": false,
     "grade_id": "cell-b6865884372adadf",
     "locked": true,
     "schema_version": 3,
     "solution": false,
     "task": false
    },
    "tags": []
   },
   "source": [
    "### Sum digits"
   ]
  },
  {
   "cell_type": "markdown",
   "id": "ad9daf37",
   "metadata": {
    "deletable": false,
    "editable": false,
    "id": "ad9daf37",
    "nbgrader": {
     "cell_type": "markdown",
     "checksum": "cecebaad4eda50a4b01aa0a27ff2b40c",
     "grade": false,
     "grade_id": "cell-22ee1186821eafa8",
     "locked": true,
     "schema_version": 3,
     "solution": false,
     "task": false
    },
    "tags": []
   },
   "source": [
    "Given a number `n`, create a function that computes the sum of the digits of this number."
   ]
  },
  {
   "cell_type": "code",
   "execution_count": 6,
   "id": "aa0c1469",
   "metadata": {
    "ExecuteTime": {
     "end_time": "2024-01-26T19:04:38.829276Z",
     "start_time": "2024-01-26T19:04:38.827197Z"
    },
    "deletable": false,
    "execution": {
     "iopub.execute_input": "2024-01-27T06:48:57.379898Z",
     "iopub.status.busy": "2024-01-27T06:48:57.379188Z",
     "iopub.status.idle": "2024-01-27T06:48:57.389204Z",
     "shell.execute_reply": "2024-01-27T06:48:57.387155Z",
     "shell.execute_reply.started": "2024-01-27T06:48:57.379838Z"
    },
    "executionInfo": {
     "elapsed": 890,
     "status": "aborted",
     "timestamp": 1756184605890,
     "user": {
      "displayName": "HECTOR LOUIS O. BANDA",
      "userId": "10737061043116032216"
     },
     "user_tz": -480
    },
    "id": "aa0c1469",
    "nbgrader": {
     "cell_type": "code",
     "checksum": "ebe049fd33e653728725f25ba494c850",
     "grade": false,
     "grade_id": "cell-69f87e694fdcb34e",
     "locked": false,
     "schema_version": 3,
     "solution": true,
     "task": false
    },
    "tags": []
   },
   "outputs": [
    {
     "name": "stdout",
     "output_type": "stream",
     "text": [
      "10\n"
     ]
    }
   ],
   "source": [
    "# YOUR CODE HERE\n",
    "\n",
    "def sum_digits(n):\n",
    "    \"\"\"\n",
    "    Sum the digits of a number.\n",
    "    \"\"\"\n",
    "    return sum(int(digit) for digit in str(n))\n",
    "\n",
    "print(sum_digits(1234))"
   ]
  },
  {
   "cell_type": "markdown",
   "id": "5d050a5d",
   "metadata": {
    "deletable": false,
    "editable": false,
    "id": "5d050a5d",
    "nbgrader": {
     "cell_type": "markdown",
     "checksum": "74d4463c6d87149b496f1418d4cf7bda",
     "grade": false,
     "grade_id": "cell-4cc29e499cdc5a06",
     "locked": true,
     "schema_version": 3,
     "solution": false,
     "task": false
    },
    "tags": []
   },
   "source": [
    "### The Ackermann function"
   ]
  },
  {
   "cell_type": "markdown",
   "id": "d30c5d54",
   "metadata": {
    "deletable": false,
    "editable": false,
    "id": "d30c5d54",
    "nbgrader": {
     "cell_type": "markdown",
     "checksum": "0af6214e3127cf766a784f089ca1377f",
     "grade": false,
     "grade_id": "cell-1fab59ab59068981",
     "locked": true,
     "schema_version": 3,
     "solution": false,
     "task": false
    },
    "tags": []
   },
   "source": [
    "The [Ackermann function](https://en.wikipedia.org/wiki/Ackermann_function), $A(m, n)$ is defined as:\n",
    "\n",
    "$$\n",
    "A(m, n) = \\begin{cases} n + 1 & \\text{ if } m = 0 \\\\ A(m-1, 1) & \\text{ if } m > 0 \\text{ and } n = 0 \\\\ A(m-1, A(m, n-1)) & \\text{ if } m > 0 \\text{ and } n > 0 \\end{cases}\n",
    "$$\n",
    "\n",
    "Write a function `ack` that evaluates the Ackermann function."
   ]
  },
  {
   "cell_type": "code",
   "execution_count": null,
   "id": "1914fc56",
   "metadata": {
    "ExecuteTime": {
     "end_time": "2024-01-26T19:04:38.837832Z",
     "start_time": "2024-01-26T19:04:38.835263Z"
    },
    "deletable": false,
    "execution": {
     "iopub.execute_input": "2024-01-27T06:46:43.590135Z",
     "iopub.status.busy": "2024-01-27T06:46:43.589149Z",
     "iopub.status.idle": "2024-01-27T06:46:43.600890Z",
     "shell.execute_reply": "2024-01-27T06:46:43.598691Z",
     "shell.execute_reply.started": "2024-01-27T06:46:43.590065Z"
    },
    "executionInfo": {
     "elapsed": 889,
     "status": "aborted",
     "timestamp": 1756184605890,
     "user": {
      "displayName": "HECTOR LOUIS O. BANDA",
      "userId": "10737061043116032216"
     },
     "user_tz": -480
    },
    "id": "1914fc56",
    "nbgrader": {
     "cell_type": "code",
     "checksum": "9597dfbfbee0fe1145ae5d8587fa77bb",
     "grade": false,
     "grade_id": "cell-a1f035d85db41e73",
     "locked": false,
     "schema_version": 3,
     "solution": true,
     "task": false
    },
    "tags": []
   },
   "outputs": [],
   "source": [
    "# YOUR CODE HERE\n",
    "def ack(m,n):\n",
    "    \"\"\"\n",
    "    Compute the Ackermann function.\n",
    "    \"\"\"\n",
    "    if m == 0:\n",
    "        return n +1\n",
    "    elif m > 0 and n == 0:\n",
    "        return ack(m - 1, 1)\n",
    "    elif m > 0 and n > 0:\n",
    "        return ack(m - 1, ack(m, n - 1))\n",
    "    \n"
   ]
  }
 ],
 "metadata": {
  "colab": {
   "provenance": []
  },
  "kernelspec": {
   "display_name": "mdcm",
   "language": "python",
   "name": "python3"
  },
  "language_info": {
   "codemirror_mode": {
    "name": "ipython",
    "version": 3
   },
   "file_extension": ".py",
   "mimetype": "text/x-python",
   "name": "python",
   "nbconvert_exporter": "python",
   "pygments_lexer": "ipython3",
   "version": "3.12.11"
  }
 },
 "nbformat": 4,
 "nbformat_minor": 5
}
