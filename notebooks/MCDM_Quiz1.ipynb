{
 "cells": [
  {
   "cell_type": "markdown",
   "id": "90c2c487",
   "metadata": {},
   "source": [
    "# QUIZ: Multi-Criteria Decision Making (MCDM) Methods\n",
    "\n",
    "## Instructions\n",
    "- Answer all questions completely\n",
    "- Show your work with clear calculations\n",
    "- Ensure your code runs end to end without errors.\n",
    "  - Code cells that do not run will receive a zero score.\n",
    "- Round final answers to 4 decimal places\n",
    "- **When submitting: Rename this file to include your name (e.g., MCDM_Quiz1_LastName_FirstName.ipynb)**\n",
    "  - Deductions will be applied for incorrect file naming\n",
    "\n",
    "## Grading Breakdown\n",
    "- **SAW Method (30 points)**\n",
    "  - Min-Max Normalization (10 points)\n",
    "  - Linear Scale Normalization (10 points)\n",
    "  - Sensitivity Analysis (10 points)\n",
    "- **AHP Method (35 points)**\n",
    "  - Criteria Weights Calculation (15 points)\n",
    "  - Alternative Rankings (10 points)\n",
    "  - Monte Carlo Sensitivity Analysis (10 points)\n",
    "- **ANP Method (35 points)**\n",
    "  - Network Structure Setup (20 points)\n",
    "  - Final Rankings (15 points)"
   ]
  },
  {
   "cell_type": "markdown",
   "id": "5a5ebff6",
   "metadata": {},
   "source": [
    "## Problem Statement: Manufacturing Facility Location Selection in the Philippines\n",
    "\n",
    "### Background\n",
    "You are a Senior Industrial Engineer for **PinoyManufacturing Solutions Inc.**, a growing Filipino company that specializes in automotive parts manufacturing. The company supplies components to major automotive assemblers in the Philippines including Toyota Motor Philippines, Mitsubishi Motors Philippines, and Nissan Philippines.\n",
    "\n",
    "Due to increasing demand and the government's Comprehensive Automotive Resurgence Strategy (CARS) program incentives, the company has decided to establish a new state-of-the-art manufacturing facility. The facility will produce critical automotive components including engine parts, transmission components, and electronic control units.\n",
    "\n",
    "### Company Context\n",
    "- **Current Revenue**: ₱2.5 billion annually\n",
    "- **Target Production**: 1.2 million components annually\n",
    "- **Investment Budget**: ₱800 million for new facility\n",
    "- **Employment Target**: 500 new jobs\n",
    "- **Compliance Requirements**: DOE, DENR, DTI, and automotive industry standards\n",
    "- **Strategic Goals**: Support local automotive industry growth and export potential\n",
    "\n",
    "### Location Alternatives\n",
    "\n",
    "After extensive preliminary analysis, four potential locations have been identified:\n",
    "\n",
    "#### 1. **Laguna Techno Park (LTP)**\n",
    "- **Location**: Santa Rosa, Laguna\n",
    "- **Type**: Established industrial park with automotive cluster\n",
    "- **Infrastructure**: Excellent road access, proximity to CALAX\n",
    "- **Proximity to Markets**: 45 km from Metro Manila, close to existing automotive plants\n",
    "- **Special Features**: PEZA-registered, established automotive supplier ecosystem\n",
    "\n",
    "#### 2. **Bataan Economic Zone (BEZ)**\n",
    "- **Location**: Mariveles, Bataan\n",
    "- **Type**: Freeport zone with port facilities\n",
    "- **Infrastructure**: Direct port access, SCTEX connectivity\n",
    "- **Proximity to Markets**: 120 km from Metro Manila, excellent export capabilities\n",
    "- **Special Features**: Tax incentives, existing heavy industry cluster\n",
    "\n",
    "#### 3. **Clark Freeport Zone (CFZ)**\n",
    "- **Location**: Angeles, Pampanga\n",
    "- **Type**: Special economic zone with airport proximity\n",
    "- **Infrastructure**: International airport, excellent highway connections\n",
    "- **Proximity to Markets**: 80 km from Metro Manila, central Luzon access\n",
    "- **Special Features**: Former US base, modern infrastructure, skilled workforce\n",
    "\n",
    "#### 4. **Cebu Industrial Park (CIP)**\n",
    "- **Location**: Lapu-Lapu, Cebu\n",
    "- **Type**: Island-based industrial complex\n",
    "- **Infrastructure**: Airport and seaport proximity\n",
    "- **Proximity to Markets**: Visayas and Mindanao market access\n",
    "- **Special Features**: Lower labor costs, government incentives for regional development\n",
    "\n",
    "### Decision Criteria\n",
    "\n",
    "Based on stakeholder consultation and strategic analysis, five key criteria have been identified:\n",
    "\n",
    "1. **Infrastructure & Logistics** - Transportation networks, utilities, connectivity\n",
    "2. **Economic Factors** - Setup costs, operational costs, tax incentives\n",
    "3. **Human Resources** - Skilled workforce availability, labor costs, training facilities\n",
    "4. **Market Access** - Proximity to customers, suppliers, and transportation hubs\n",
    "5. **Regulatory Environment** - Government support, permits, compliance ease"
   ]
  },
  {
   "cell_type": "markdown",
   "id": "e7251fe5",
   "metadata": {},
   "source": [
    "---\n",
    "\n",
    "## PART I: Simple Additive Weighting (SAW) Method (30 Points)\n",
    "\n",
    "### Performance Data Matrix\n",
    "\n",
    "The evaluation team has collected the following quantitative performance data for each location:\n",
    "\n",
    "| Location | Infrastructure Score (1-10) | Setup Cost (₱ millions) | Labor Cost Index (1-10) | Market Access Score (1-10) | Regulatory Score (1-10) |\n",
    "|----------|----------------------------|--------------------------|---------------------------|----------------------------|--------------------------|\n",
    "| **LTP**  | 9.2                       | 320                      | 7.8                      | 8.5                       | 8.0                     |\n",
    "| **BEZ**  | 8.5                       | 280                      | 6.2                      | 7.2                       | 9.2                     |\n",
    "| **CFZ**  | 8.8                       | 350                      | 6.8                      | 7.8                       | 8.5                     |\n",
    "| **CIP**  | 7.2                       | 260                      | 8.5                      | 6.5                       | 7.8                     |\n",
    "\n",
    "**Note**: Lower setup costs and labor costs are better; higher scores are better for other criteria.\n",
    "\n",
    "### Criteria Weights\n",
    "\n",
    "Based on strategic priorities and stakeholder input using the Delphi method:\n",
    "\n",
    "| Criterion | Weight |\n",
    "|-----------|--------|\n",
    "| Infrastructure & Logistics | 0.30 |\n",
    "| Economic Factors (Setup Cost) | 0.25 |\n",
    "| Human Resources (Labor Cost) | 0.20 |\n",
    "| Market Access | 0.15 |\n",
    "| Regulatory Environment | 0.10 |\n",
    "| **Total** | **1.00** |"
   ]
  },
  {
   "cell_type": "markdown",
   "id": "10094099",
   "metadata": {},
   "source": [
    "### SAW (30 points total)"
   ]
  },
  {
   "cell_type": "markdown",
   "id": "e690069f",
   "metadata": {},
   "source": [
    "#### Question 1: Min-Max Normalization (10 points)\n",
    "1. **[5 points]** Create the normalized decision matrix using Min-Max normalization. Show the normalized values for all alternatives and criteria."
   ]
  },
  {
   "cell_type": "code",
   "execution_count": null,
   "id": "2d47f92b",
   "metadata": {},
   "outputs": [],
   "source": [
    "# Your code here"
   ]
  },
  {
   "cell_type": "markdown",
   "id": "0ccd1080",
   "metadata": {},
   "source": [
    "2. **[5 points]** Calculate the final SAW scores and rank the locations. What is the recommended location and its final score?"
   ]
  },
  {
   "cell_type": "code",
   "execution_count": null,
   "id": "91c27829",
   "metadata": {},
   "outputs": [],
   "source": [
    "# Your code here"
   ]
  },
  {
   "cell_type": "markdown",
   "id": "91290130",
   "metadata": {},
   "source": [
    "#### Question 2: Linear Scale Normalization (10 points)\n",
    "1. **[5 points]** Create the normalized decision matrix using Linear Scale normalization. Show the normalized values for all alternatives and criteria."
   ]
  },
  {
   "cell_type": "code",
   "execution_count": null,
   "id": "bcbfc938",
   "metadata": {},
   "outputs": [],
   "source": [
    "# Your code here"
   ]
  },
  {
   "cell_type": "markdown",
   "id": "a5849e0b",
   "metadata": {},
   "source": [
    "2. **[5 points]** Calculate the final SAW scores and rank the locations. What is the recommended location and its final score?"
   ]
  },
  {
   "cell_type": "code",
   "execution_count": null,
   "id": "cfeb8202",
   "metadata": {},
   "outputs": [],
   "source": [
    "# Your code here"
   ]
  },
  {
   "cell_type": "markdown",
   "id": "ee727452",
   "metadata": {},
   "source": [
    "#### Question 3: Sensitivity Analysis (10 points)\n",
    "1. **[5 points]** Using Min-Max normalization, perform sensitivity analysis on the weight of the \"Economic Factors (Setup Cost)\" criterion. Vary the weight from 0.05 to 0.95 in increments of 0.05, adjusting other weights proportionally."
   ]
  },
  {
   "cell_type": "code",
   "execution_count": null,
   "id": "8e603050",
   "metadata": {},
   "outputs": [],
   "source": [
    "# Your code here"
   ]
  },
  {
   "cell_type": "markdown",
   "id": "acf41538",
   "metadata": {},
   "source": [
    "2. **[5 points]** At what weight value does the ranking change? Which location becomes the top choice when the Economic Factors weight exceeds this threshold?"
   ]
  },
  {
   "cell_type": "code",
   "execution_count": null,
   "id": "8e889c29",
   "metadata": {},
   "outputs": [],
   "source": [
    "# Your code here"
   ]
  },
  {
   "cell_type": "markdown",
   "id": "f4c53a28",
   "metadata": {},
   "source": [
    "---\n",
    "\n",
    "## PART II: Analytical Hierarchy Process (AHP) Method (35 Points)\n",
    "\n",
    "### Decision Hierarchy\n",
    "\n",
    "**Goal**: Select the best manufacturing facility location for PinoyManufacturing Solutions Inc.\n",
    "\n",
    "**Criteria**: Infrastructure & Logistics, Economic Factors, Human Resources, Market Access, Regulatory Environment\n",
    "\n",
    "**Alternatives**: LTP, BEZ, CFZ, CIP\n",
    "\n",
    "### Criteria Pairwise Comparison Matrix\n",
    "\n",
    "Based on management team discussions and strategic planning sessions:\n",
    "\n",
    "|                  | Infrastructure | Economic | Human Resources | Market Access | Regulatory |\n",
    "|------------------|----------------|----------|-----------------|---------------|------------|\n",
    "| **Infrastructure** | 1              | 2        | 3               | 4             | 5          |\n",
    "| **Economic**       | 1/2            | 1        | 2               | 3             | 4          |\n",
    "| **Human Resources** | 1/3            | 1/2      | 1               | 2             | 3          |\n",
    "| **Market Access**   | 1/4            | 1/3      | 1/2             | 1             | 2          |\n",
    "| **Regulatory**      | 1/5            | 1/4      | 1/3             | 1/2           | 1          |\n",
    "\n",
    "### Alternative Pairwise Comparison Matrices\n",
    "\n",
    "#### Under \"Infrastructure & Logistics\" Criterion\n",
    "|         | LTP | BEZ | CFZ | CIP |\n",
    "|---------|-----|-----|-----|-----|\n",
    "| **LTP** | 1   | 2   | 1/2 | 5   |\n",
    "| **BEZ** | 1/2 | 1   | 1/3 | 3   |\n",
    "| **CFZ** | 2   | 3   | 1   | 6   |\n",
    "| **CIP** | 1/5 | 1/3 | 1/6 | 1   |\n",
    "\n",
    "#### Under \"Economic Factors\" Criterion\n",
    "|         | LTP | BEZ | CFZ | CIP |\n",
    "|---------|-----|-----|-----|-----|\n",
    "| **LTP** | 1   | 1/2 | 2   | 1/3 |\n",
    "| **BEZ** | 2   | 1   | 4   | 1/2 |\n",
    "| **CFZ** | 1/2 | 1/4 | 1   | 1/4 |\n",
    "| **CIP** | 3   | 2   | 4   | 1   |\n",
    "\n",
    "#### Under \"Human Resources\" Criterion\n",
    "|         | LTP | BEZ | CFZ | CIP |\n",
    "|---------|-----|-----|-----|-----|\n",
    "| **LTP** | 1   | 3   | 2   | 1/2 |\n",
    "| **BEZ** | 1/3 | 1   | 1/2 | 1/4 |\n",
    "| **CFZ** | 1/2 | 2   | 1   | 1/3 |\n",
    "| **CIP** | 2   | 4   | 3   | 1   |\n",
    "\n",
    "#### Under \"Market Access\" Criterion\n",
    "|         | LTP | BEZ | CFZ | CIP |\n",
    "|---------|-----|-----|-----|-----|\n",
    "| **LTP** | 1   | 3   | 2   | 4   |\n",
    "| **BEZ** | 1/3 | 1   | 1/2 | 2   |\n",
    "| **CFZ** | 1/2 | 2   | 1   | 3   |\n",
    "| **CIP** | 1/4 | 1/2 | 1/3 | 1   |\n",
    "\n",
    "#### Under \"Regulatory Environment\" Criterion\n",
    "|         | LTP | BEZ | CFZ | CIP |\n",
    "|---------|-----|-----|-----|-----|\n",
    "| **LTP** | 1   | 1/2 | 1/2 | 2   |\n",
    "| **BEZ** | 2   | 1   | 1   | 3   |\n",
    "| **CFZ** | 2   | 1   | 1   | 3   |\n",
    "| **CIP** | 1/2 | 1/3 | 1/3 | 1   |"
   ]
  },
  {
   "cell_type": "markdown",
   "id": "b6304894",
   "metadata": {},
   "source": [
    "### AHP Questions (35 points total)"
   ]
  },
  {
   "cell_type": "markdown",
   "id": "b0ca029a",
   "metadata": {},
   "source": [
    "#### Question 4: Criteria Weights Calculation (15 points)\n",
    "1. **[8 points]** Calculate the priority weights for each criterion using the eigenvector method. Show your work including the normalized principal eigenvector."
   ]
  },
  {
   "cell_type": "code",
   "execution_count": null,
   "id": "2216296c",
   "metadata": {},
   "outputs": [],
   "source": [
    "# Your code here"
   ]
  },
  {
   "cell_type": "markdown",
   "id": "3a0fa1b3",
   "metadata": {},
   "source": [
    "2. **[4 points]** Calculate the Consistency Index (CI) and Consistency Ratio (CR). Is the matrix acceptably consistent? (CR < 0.10)"
   ]
  },
  {
   "cell_type": "code",
   "execution_count": null,
   "id": "7651243b",
   "metadata": {},
   "outputs": [],
   "source": [
    "# Your code here\n"
   ]
  },
  {
   "cell_type": "markdown",
   "id": "6f5518f9",
   "metadata": {},
   "source": [
    "3. **[3 points]** What are the final criteria weights? Which criterion is most important?"
   ]
  },
  {
   "cell_type": "code",
   "execution_count": null,
   "id": "e1870a47",
   "metadata": {},
   "outputs": [],
   "source": [
    "# Your code here\n"
   ]
  },
  {
   "cell_type": "markdown",
   "id": "cdc2c362",
   "metadata": {},
   "source": [
    "#### Question 5: Alternative Rankings (10 points)\n",
    "1. **[6 points]** Calculate the local priority weights for each alternative under each criterion using the eigenvector method."
   ]
  },
  {
   "cell_type": "code",
   "execution_count": null,
   "id": "dcd4b748",
   "metadata": {},
   "outputs": [],
   "source": [
    "# Your code here\n"
   ]
  },
  {
   "cell_type": "markdown",
   "id": "3096cf54",
   "metadata": {},
   "source": [
    "2. **[4 points]** Calculate the global priority scores and final ranking of the locations. What is the recommended location?"
   ]
  },
  {
   "cell_type": "code",
   "execution_count": null,
   "id": "cef03777",
   "metadata": {},
   "outputs": [],
   "source": [
    "# Your code here\n"
   ]
  },
  {
   "cell_type": "markdown",
   "id": "eedd894d",
   "metadata": {},
   "source": [
    "#### Question 6: Monte Carlo Sensitivity Analysis (10 points)\n",
    "1. **[6 points]** Implement a Monte Carlo simulation with 10,000 iterations. Add random noise (±10%) to each pairwise comparison value while maintaining reciprocity."
   ]
  },
  {
   "cell_type": "code",
   "execution_count": null,
   "id": "8b30feec",
   "metadata": {},
   "outputs": [],
   "source": [
    "# Your code here\n"
   ]
  },
  {
   "cell_type": "markdown",
   "id": "fc5167b8",
   "metadata": {},
   "source": [
    "2. **[4 points]** What is the probability of each location being ranked first? Which location is most robust to uncertainties in expert judgments?"
   ]
  },
  {
   "cell_type": "code",
   "execution_count": null,
   "id": "c41a978a",
   "metadata": {},
   "outputs": [],
   "source": [
    "# Your code here\n"
   ]
  },
  {
   "cell_type": "markdown",
   "id": "4bc2a232",
   "metadata": {},
   "source": [
    "---\n",
    "\n",
    "## PART III: Analytic Network Process (ANP) Method (25 Points)\n",
    "\n",
    "### Network Structure\n",
    "\n",
    "**Goal**: Select the best manufacturing facility location for PinoyManufacturing Solutions Inc.\n",
    "\n",
    "**Criteria**: Infrastructure & Logistics, Economic Factors, Human Resources, Market Access, Regulatory Environment\n",
    "\n",
    "**Alternatives**: LTP, BEZ, CFZ, CIP\n",
    "\n",
    "The ANP extends AHP by considering interdependencies between criteria and alternatives. In our facility location problem, we recognize that:\n",
    "- Economic factors influence infrastructure development\n",
    "- Market access affects human resources availability\n",
    "- Regulatory environment impacts economic factors\n",
    "- Infrastructure quality affects market access\n",
    "\n",
    "### Criteria Interdependency Matrix\n",
    "\n",
    "Based on expert judgment about how criteria influence each other:\n",
    "\n",
    "|                    | Infrastructure | Economic | Human Resources | Market Access | Regulatory |\n",
    "|--------------------|----------------|----------|-----------------|---------------|------------|\n",
    "| **Infrastructure** | 0              | 3        | 2               | 5             | 1          |\n",
    "| **Economic**       | 4              | 0        | 3               | 2             | 6          |\n",
    "| **Human Resources** | 2              | 4        | 0               | 3             | 1          |\n",
    "| **Market Access**   | 5              | 2        | 4               | 0             | 2          |\n",
    "| **Regulatory**      | 1              | 7        | 2               | 3             | 0          |\n",
    "\n",
    "### Supermatrix Components\n",
    "\n",
    "#### 1. Criteria-to-Criteria Relationships\n",
    "Using the same criteria comparison matrix from AHP:\n",
    "\n",
    "|                    | Infrastructure | Economic | Human Resources | Market Access | Regulatory |\n",
    "|--------------------|----------------|----------|-----------------|---------------|------------|\n",
    "| **Infrastructure** | 1              | 2        | 3               | 4             | 5          |\n",
    "| **Economic**       | 1/2            | 1        | 2               | 3             | 4          |\n",
    "| **Human Resources** | 1/3            | 1/2      | 1               | 2             | 3          |\n",
    "| **Market Access**   | 1/4            | 1/3      | 1/2             | 1             | 2          |\n",
    "| **Regulatory**      | 1/5            | 1/4      | 1/3             | 1/2           | 1          |\n",
    "\n",
    "#### 2. Alternatives-to-Criteria Relationships\n",
    "Same as AHP alternative comparison matrices under each criterion.\n",
    "\n",
    "#### 3. Alternatives-to-Alternatives Relationships\n",
    "Based on competitive relationships and synergies between locations:\n",
    "\n",
    "|         | LTP | BEZ | CFZ | CIP |\n",
    "|---------|-----|-----|-----|-----|\n",
    "| **LTP** | 1   | 1/2 | 2   | 3   |\n",
    "| **BEZ** | 2   | 1   | 3   | 4   |\n",
    "| **CFZ** | 1/2 | 1/3 | 1   | 2   |\n",
    "| **CIP** | 1/3 | 1/4 | 1/2 | 1   |\n",
    "\n",
    "### Cluster Priority Matrix\n",
    "\n",
    "Based on the relative importance of criteria and alternatives clusters:\n",
    "\n",
    "|              | Criteria | Alternatives |\n",
    "|--------------|----------|--------------|\n",
    "| **Criteria** | 0.7      | 0.3          |\n",
    "| **Alternatives** | 0.6  | 0.4          |"
   ]
  },
  {
   "cell_type": "markdown",
   "id": "902f765e",
   "metadata": {},
   "source": [
    "### ANP Questions (25 points total)"
   ]
  },
  {
   "cell_type": "markdown",
   "id": "f41f2ac4",
   "metadata": {},
   "source": [
    "#### Question 7: Network Structure Setup (10 points)\n",
    "1. **[5 points]** Construct the unweighted supermatrix using the criteria weights from AHP, alternative weights under each criterion, and the alternative-to-alternative comparison matrix."
   ]
  },
  {
   "cell_type": "code",
   "execution_count": null,
   "id": "1070d4ec",
   "metadata": {},
   "outputs": [],
   "source": [
    "# Your code here"
   ]
  },
  {
   "cell_type": "markdown",
   "id": "a7cb7bf8",
   "metadata": {},
   "source": [
    "2. **[5 points]** Apply the cluster priority matrix to create the weighted supermatrix. Show the structure of your weighted supermatrix."
   ]
  },
  {
   "cell_type": "code",
   "execution_count": null,
   "id": "4bd739fd",
   "metadata": {},
   "outputs": [],
   "source": [
    "# Your code here\n"
   ]
  },
  {
   "cell_type": "markdown",
   "id": "b69cdf36",
   "metadata": {},
   "source": [
    "#### Question 8: Final ANP Rankings (15 points)\n",
    "1. **[8 points]** Compute the limit supermatrix by raising the weighted supermatrix to sufficient power until convergence (difference < 0.001 between iterations)."
   ]
  },
  {
   "cell_type": "code",
   "execution_count": null,
   "id": "ca26ffa3",
   "metadata": {},
   "outputs": [],
   "source": [
    "# Your code here\n"
   ]
  },
  {
   "cell_type": "markdown",
   "id": "431fbfeb",
   "metadata": {},
   "source": [
    "2. **[4 points]** Extract the final priority weights for the alternatives from the limit supermatrix. What is the final ranking of the locations?"
   ]
  },
  {
   "cell_type": "code",
   "execution_count": null,
   "id": "3953090f",
   "metadata": {},
   "outputs": [],
   "source": [
    "# Your code here\n"
   ]
  },
  {
   "cell_type": "markdown",
   "id": "a6d94b9c",
   "metadata": {},
   "source": [
    "3. **[3 points]** Compare the ANP results with the AHP results. Which method gives a different ranking, and why might this occur in the context of facility location selection?"
   ]
  },
  {
   "cell_type": "code",
   "execution_count": null,
   "id": "6e53fe97",
   "metadata": {},
   "outputs": [],
   "source": [
    "# Your code here\n"
   ]
  }
 ],
 "metadata": {
  "language_info": {
   "name": "python"
  }
 },
 "nbformat": 4,
 "nbformat_minor": 5
}
