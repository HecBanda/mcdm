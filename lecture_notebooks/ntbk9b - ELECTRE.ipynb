{
 "cells": [
  {
   "cell_type": "code",
   "execution_count": 2,
   "id": "e91f127d",
   "metadata": {},
   "outputs": [],
   "source": [
    "# Import Required Libraries\n",
    "import warnings\n",
    "\n",
    "import numpy as np\n",
    "import pandas as pd\n",
    "\n",
    "warnings.filterwarnings(\"ignore\")\n",
    "\n",
    "# Set display options for better output\n",
    "pd.set_option(\"display.precision\", 4)\n",
    "np.set_printoptions(precision=4, suppress=True)"
   ]
  },
  {
   "cell_type": "code",
   "execution_count": 3,
   "id": "e5e5022b",
   "metadata": {},
   "outputs": [
    {
     "name": "stdout",
     "output_type": "stream",
     "text": [
      "Decision Matrix:\n",
      "==================================================\n",
      "     Cost per Unit  Delivery Time  Quality Score  Innovation Index  \\\n",
      "GTS         4550.0           12.0           94.2               6.5   \n",
      "ISC         5230.0            8.0           91.8               9.2   \n",
      "RCI         5870.0           15.0           98.5               5.8   \n",
      "ETP         6120.0           18.0           89.3               8.7   \n",
      "\n",
      "     Sustainability Score  \n",
      "GTS                  72.0  \n",
      "ISC                  68.0  \n",
      "RCI                  85.0  \n",
      "ETP                  96.0  \n",
      "\n",
      "Matrix shape: (4, 5)\n",
      "Alternatives: 4\n",
      "Criteria: 5\n"
     ]
    }
   ],
   "source": [
    "# Create the Decision Matrix\n",
    "criteria = [\n",
    "    \"Cost per Unit\",\n",
    "    \"Delivery Time\",\n",
    "    \"Quality Score\",\n",
    "    \"Innovation Index\",\n",
    "    \"Sustainability Score\",\n",
    "]\n",
    "alternatives = [\"GTS\", \"ISC\", \"RCI\", \"ETP\"]\n",
    "\n",
    "# Decision matrix with actual values\n",
    "# Construction cost in Million PHP, others on 1-10 scale\n",
    "decision_matrix = np.array(\n",
    "    [\n",
    "        [4550, 12, 94.2, 6.5, 72],\n",
    "        [5230, 8, 91.8, 9.2, 68],\n",
    "        [5870, 15, 98.5, 5.8, 85],\n",
    "        [6120, 18, 89.3, 8.7, 96],\n",
    "    ]\n",
    ")\n",
    "\n",
    "# Create DataFrame for better visualization\n",
    "df_decision = pd.DataFrame(\n",
    "    decision_matrix, index=alternatives, columns=criteria\n",
    ")\n",
    "\n",
    "print(\"Decision Matrix:\")\n",
    "print(\"=\" * 50)\n",
    "print(df_decision)\n",
    "print(f\"\\nMatrix shape: {decision_matrix.shape}\")\n",
    "print(f\"Alternatives: {len(alternatives)}\")\n",
    "print(f\"Criteria: {len(criteria)}\")"
   ]
  },
  {
   "cell_type": "code",
   "execution_count": 4,
   "id": "261f0496",
   "metadata": {},
   "outputs": [
    {
     "name": "stdout",
     "output_type": "stream",
     "text": [
      "Criteria Information:\n",
      "==================================================\n",
      "Cost per Unit            : Weight = 0.25, Direction = Minimize\n",
      "Delivery Time            : Weight = 0.20, Direction = Minimize\n",
      "Quality Score            : Weight = 0.30, Direction = Maximize\n",
      "Innovation Index         : Weight = 0.15, Direction = Maximize\n",
      "Sustainability Score     : Weight = 0.10, Direction = Maximize\n",
      "\n",
      "Sum of weights: 1.00\n",
      "✓ Weights validation passed!\n"
     ]
    }
   ],
   "source": [
    "# Define Criteria Weights and Optimization Direction\n",
    "weights = np.array([0.25, 0.20, 0.30, 0.15, 0.10])\n",
    "\n",
    "# Optimization direction: 1 for maximize, -1 for minimize\n",
    "optimization_direction = np.array(\n",
    "    [-1, -1, 1, 1, 1]\n",
    ")\n",
    "\n",
    "print(\"Criteria Information:\")\n",
    "print(\"=\" * 50)\n",
    "for i, (criterion, weight, direction) in enumerate(\n",
    "    zip(criteria, weights, optimization_direction)\n",
    "):\n",
    "    opt_dir = \"Minimize\" if direction == -1 else \"Maximize\"\n",
    "    print(f\"{criterion:<25}: Weight = {weight:.2f}, Direction = {opt_dir}\")\n",
    "\n",
    "print(f\"\\nSum of weights: {weights.sum():.2f}\")\n",
    "\n",
    "# Verify weights sum to 1\n",
    "assert abs(weights.sum() - 1.0) < 1e-10, \"Weights must sum to 1.0\"\n",
    "print(\"✓ Weights validation passed!\")"
   ]
  },
  {
   "cell_type": "code",
   "execution_count": 5,
   "id": "538cce35",
   "metadata": {},
   "outputs": [
    {
     "name": "stdout",
     "output_type": "stream",
     "text": [
      "Normalized Decision Matrix:\n"
     ]
    },
    {
     "data": {
      "application/vnd.microsoft.datawrangler.viewer.v0+json": {
       "columns": [
        {
         "name": "index",
         "rawType": "object",
         "type": "string"
        },
        {
         "name": "Cost per Unit",
         "rawType": "float64",
         "type": "float"
        },
        {
         "name": "Delivery Time",
         "rawType": "float64",
         "type": "float"
        },
        {
         "name": "Quality Score",
         "rawType": "float64",
         "type": "float"
        },
        {
         "name": "Innovation Index",
         "rawType": "float64",
         "type": "float"
        },
        {
         "name": "Sustainability Score",
         "rawType": "float64",
         "type": "float"
        }
       ],
       "ref": "d6df0571-8a1c-4727-9999-8de40a9ce26e",
       "rows": [
        [
         "GTS",
         "0.5861672179735324",
         "0.4803228855050661",
         "0.5036812396014371",
         "0.42291688432919705",
         "0.4444021127735915"
        ],
        [
         "ISC",
         "0.5099542718507787",
         "0.7204843282575991",
         "0.4908485965542667",
         "0.5985900516659404",
         "0.41971310650839194"
        ],
        [
         "RCI",
         "0.45435448752633256",
         "0.38425830840405284",
         "0.526673058394284",
         "0.37737198909374503",
         "0.5246413831354899"
        ],
        [
         "ETP",
         "0.43579425519274056",
         "0.3202152570033774",
         "0.47748126004679753",
         "0.5660579836406175",
         "0.5925361503647886"
        ]
       ],
       "shape": {
        "columns": 5,
        "rows": 4
       }
      },
      "text/html": [
       "<div>\n",
       "<style scoped>\n",
       "    .dataframe tbody tr th:only-of-type {\n",
       "        vertical-align: middle;\n",
       "    }\n",
       "\n",
       "    .dataframe tbody tr th {\n",
       "        vertical-align: top;\n",
       "    }\n",
       "\n",
       "    .dataframe thead th {\n",
       "        text-align: right;\n",
       "    }\n",
       "</style>\n",
       "<table border=\"1\" class=\"dataframe\">\n",
       "  <thead>\n",
       "    <tr style=\"text-align: right;\">\n",
       "      <th></th>\n",
       "      <th>Cost per Unit</th>\n",
       "      <th>Delivery Time</th>\n",
       "      <th>Quality Score</th>\n",
       "      <th>Innovation Index</th>\n",
       "      <th>Sustainability Score</th>\n",
       "    </tr>\n",
       "  </thead>\n",
       "  <tbody>\n",
       "    <tr>\n",
       "      <th>GTS</th>\n",
       "      <td>0.5862</td>\n",
       "      <td>0.4803</td>\n",
       "      <td>0.5037</td>\n",
       "      <td>0.4229</td>\n",
       "      <td>0.4444</td>\n",
       "    </tr>\n",
       "    <tr>\n",
       "      <th>ISC</th>\n",
       "      <td>0.5100</td>\n",
       "      <td>0.7205</td>\n",
       "      <td>0.4908</td>\n",
       "      <td>0.5986</td>\n",
       "      <td>0.4197</td>\n",
       "    </tr>\n",
       "    <tr>\n",
       "      <th>RCI</th>\n",
       "      <td>0.4544</td>\n",
       "      <td>0.3843</td>\n",
       "      <td>0.5267</td>\n",
       "      <td>0.3774</td>\n",
       "      <td>0.5246</td>\n",
       "    </tr>\n",
       "    <tr>\n",
       "      <th>ETP</th>\n",
       "      <td>0.4358</td>\n",
       "      <td>0.3202</td>\n",
       "      <td>0.4775</td>\n",
       "      <td>0.5661</td>\n",
       "      <td>0.5925</td>\n",
       "    </tr>\n",
       "  </tbody>\n",
       "</table>\n",
       "</div>"
      ],
      "text/plain": [
       "     Cost per Unit  Delivery Time  Quality Score  Innovation Index  \\\n",
       "GTS         0.5862         0.4803         0.5037            0.4229   \n",
       "ISC         0.5100         0.7205         0.4908            0.5986   \n",
       "RCI         0.4544         0.3843         0.5267            0.3774   \n",
       "ETP         0.4358         0.3202         0.4775            0.5661   \n",
       "\n",
       "     Sustainability Score  \n",
       "GTS                0.4444  \n",
       "ISC                0.4197  \n",
       "RCI                0.5246  \n",
       "ETP                0.5925  "
      ]
     },
     "execution_count": 5,
     "metadata": {},
     "output_type": "execute_result"
    }
   ],
   "source": [
    "# Step 1: Normalize the Decision Matrix\n",
    "def normalize_matrix(matrix, optimization_direction):\n",
    "    \"\"\"\n",
    "    Normalize the decision matrix using vector normalization.\n",
    "    For minimization criteria, we use 1/value before normalization.\n",
    "    \"\"\"\n",
    "    normalized = matrix.copy().astype(float)\n",
    "\n",
    "    for j in range(matrix.shape[1]):\n",
    "        if optimization_direction[j] == -1:  # Minimize (like price)\n",
    "            # For minimization: use reciprocal then normalize\n",
    "            normalized[:, j] = 1 / matrix[:, j]\n",
    "\n",
    "        # Vector normalization\n",
    "        column_norm = np.sqrt(np.sum(normalized[:, j] ** 2))\n",
    "        normalized[:, j] = normalized[:, j] / column_norm\n",
    "\n",
    "    return normalized\n",
    "\n",
    "\n",
    "# Apply normalization\n",
    "normalized_matrix = normalize_matrix(decision_matrix, optimization_direction)\n",
    "\n",
    "# Create DataFrame for better visualization\n",
    "df_normalized = pd.DataFrame(\n",
    "    normalized_matrix, index=alternatives, columns=criteria\n",
    ")\n",
    "\n",
    "print(\"Normalized Decision Matrix:\")\n",
    "df_normalized"
   ]
  },
  {
   "cell_type": "code",
   "execution_count": 6,
   "id": "00ba82cc",
   "metadata": {},
   "outputs": [
    {
     "name": "stdout",
     "output_type": "stream",
     "text": [
      "Weighted Normalized Matrix:\n"
     ]
    },
    {
     "data": {
      "application/vnd.microsoft.datawrangler.viewer.v0+json": {
       "columns": [
        {
         "name": "index",
         "rawType": "object",
         "type": "string"
        },
        {
         "name": "Cost per Unit",
         "rawType": "float64",
         "type": "float"
        },
        {
         "name": "Delivery Time",
         "rawType": "float64",
         "type": "float"
        },
        {
         "name": "Quality Score",
         "rawType": "float64",
         "type": "float"
        },
        {
         "name": "Innovation Index",
         "rawType": "float64",
         "type": "float"
        },
        {
         "name": "Sustainability Score",
         "rawType": "float64",
         "type": "float"
        }
       ],
       "ref": "83b30c18-1cb9-4b77-8eac-c4da0269cb59",
       "rows": [
        [
         "GTS",
         "0.1465418044933831",
         "0.09606457710101322",
         "0.1511043718804311",
         "0.06343753264937955",
         "0.04444021127735915"
        ],
        [
         "ISC",
         "0.12748856796269467",
         "0.14409686565151983",
         "0.14725457896628",
         "0.08978850774989106",
         "0.0419713106508392"
        ],
        [
         "RCI",
         "0.11358862188158314",
         "0.07685166168081058",
         "0.1580019175182852",
         "0.05660579836406175",
         "0.05246413831354899"
        ],
        [
         "ETP",
         "0.10894856379818514",
         "0.06404305140067548",
         "0.14324437801403925",
         "0.08490869754609263",
         "0.05925361503647886"
        ]
       ],
       "shape": {
        "columns": 5,
        "rows": 4
       }
      },
      "text/html": [
       "<div>\n",
       "<style scoped>\n",
       "    .dataframe tbody tr th:only-of-type {\n",
       "        vertical-align: middle;\n",
       "    }\n",
       "\n",
       "    .dataframe tbody tr th {\n",
       "        vertical-align: top;\n",
       "    }\n",
       "\n",
       "    .dataframe thead th {\n",
       "        text-align: right;\n",
       "    }\n",
       "</style>\n",
       "<table border=\"1\" class=\"dataframe\">\n",
       "  <thead>\n",
       "    <tr style=\"text-align: right;\">\n",
       "      <th></th>\n",
       "      <th>Cost per Unit</th>\n",
       "      <th>Delivery Time</th>\n",
       "      <th>Quality Score</th>\n",
       "      <th>Innovation Index</th>\n",
       "      <th>Sustainability Score</th>\n",
       "    </tr>\n",
       "  </thead>\n",
       "  <tbody>\n",
       "    <tr>\n",
       "      <th>GTS</th>\n",
       "      <td>0.1465</td>\n",
       "      <td>0.0961</td>\n",
       "      <td>0.1511</td>\n",
       "      <td>0.0634</td>\n",
       "      <td>0.0444</td>\n",
       "    </tr>\n",
       "    <tr>\n",
       "      <th>ISC</th>\n",
       "      <td>0.1275</td>\n",
       "      <td>0.1441</td>\n",
       "      <td>0.1473</td>\n",
       "      <td>0.0898</td>\n",
       "      <td>0.0420</td>\n",
       "    </tr>\n",
       "    <tr>\n",
       "      <th>RCI</th>\n",
       "      <td>0.1136</td>\n",
       "      <td>0.0769</td>\n",
       "      <td>0.1580</td>\n",
       "      <td>0.0566</td>\n",
       "      <td>0.0525</td>\n",
       "    </tr>\n",
       "    <tr>\n",
       "      <th>ETP</th>\n",
       "      <td>0.1089</td>\n",
       "      <td>0.0640</td>\n",
       "      <td>0.1432</td>\n",
       "      <td>0.0849</td>\n",
       "      <td>0.0593</td>\n",
       "    </tr>\n",
       "  </tbody>\n",
       "</table>\n",
       "</div>"
      ],
      "text/plain": [
       "     Cost per Unit  Delivery Time  Quality Score  Innovation Index  \\\n",
       "GTS         0.1465         0.0961         0.1511            0.0634   \n",
       "ISC         0.1275         0.1441         0.1473            0.0898   \n",
       "RCI         0.1136         0.0769         0.1580            0.0566   \n",
       "ETP         0.1089         0.0640         0.1432            0.0849   \n",
       "\n",
       "     Sustainability Score  \n",
       "GTS                0.0444  \n",
       "ISC                0.0420  \n",
       "RCI                0.0525  \n",
       "ETP                0.0593  "
      ]
     },
     "execution_count": 6,
     "metadata": {},
     "output_type": "execute_result"
    }
   ],
   "source": [
    "# Step 2: Apply Weights to Create Weighted Normalized Matrix\n",
    "weighted_matrix = normalized_matrix * weights\n",
    "\n",
    "# Create DataFrame for weighted matrix\n",
    "df_weighted = pd.DataFrame(\n",
    "    weighted_matrix, index=alternatives, columns=criteria\n",
    ")\n",
    "\n",
    "print(\"Weighted Normalized Matrix:\")\n",
    "df_weighted"
   ]
  },
  {
   "cell_type": "code",
   "execution_count": 7,
   "id": "5f026fbf",
   "metadata": {},
   "outputs": [
    {
     "name": "stdout",
     "output_type": "stream",
     "text": [
      "Concordance Matrix:\n"
     ]
    },
    {
     "data": {
      "application/vnd.microsoft.datawrangler.viewer.v0+json": {
       "columns": [
        {
         "name": "index",
         "rawType": "object",
         "type": "string"
        },
        {
         "name": "GTS",
         "rawType": "float64",
         "type": "float"
        },
        {
         "name": "ISC",
         "rawType": "float64",
         "type": "float"
        },
        {
         "name": "RCI",
         "rawType": "float64",
         "type": "float"
        },
        {
         "name": "ETP",
         "rawType": "float64",
         "type": "float"
        }
       ],
       "ref": "b0faffd6-5454-4c8d-b5e6-a47eea90dd8d",
       "rows": [
        [
         "GTS",
         "0.0",
         "0.65",
         "0.6",
         "0.75"
        ],
        [
         "ISC",
         "0.35",
         "0.0",
         "0.6",
         "0.9"
        ],
        [
         "RCI",
         "0.4",
         "0.4",
         "0.0",
         "0.75"
        ],
        [
         "ETP",
         "0.25",
         "0.1",
         "0.25",
         "0.0"
        ]
       ],
       "shape": {
        "columns": 4,
        "rows": 4
       }
      },
      "text/html": [
       "<div>\n",
       "<style scoped>\n",
       "    .dataframe tbody tr th:only-of-type {\n",
       "        vertical-align: middle;\n",
       "    }\n",
       "\n",
       "    .dataframe tbody tr th {\n",
       "        vertical-align: top;\n",
       "    }\n",
       "\n",
       "    .dataframe thead th {\n",
       "        text-align: right;\n",
       "    }\n",
       "</style>\n",
       "<table border=\"1\" class=\"dataframe\">\n",
       "  <thead>\n",
       "    <tr style=\"text-align: right;\">\n",
       "      <th></th>\n",
       "      <th>GTS</th>\n",
       "      <th>ISC</th>\n",
       "      <th>RCI</th>\n",
       "      <th>ETP</th>\n",
       "    </tr>\n",
       "  </thead>\n",
       "  <tbody>\n",
       "    <tr>\n",
       "      <th>GTS</th>\n",
       "      <td>0.00</td>\n",
       "      <td>0.65</td>\n",
       "      <td>0.60</td>\n",
       "      <td>0.75</td>\n",
       "    </tr>\n",
       "    <tr>\n",
       "      <th>ISC</th>\n",
       "      <td>0.35</td>\n",
       "      <td>0.00</td>\n",
       "      <td>0.60</td>\n",
       "      <td>0.90</td>\n",
       "    </tr>\n",
       "    <tr>\n",
       "      <th>RCI</th>\n",
       "      <td>0.40</td>\n",
       "      <td>0.40</td>\n",
       "      <td>0.00</td>\n",
       "      <td>0.75</td>\n",
       "    </tr>\n",
       "    <tr>\n",
       "      <th>ETP</th>\n",
       "      <td>0.25</td>\n",
       "      <td>0.10</td>\n",
       "      <td>0.25</td>\n",
       "      <td>0.00</td>\n",
       "    </tr>\n",
       "  </tbody>\n",
       "</table>\n",
       "</div>"
      ],
      "text/plain": [
       "      GTS   ISC   RCI   ETP\n",
       "GTS  0.00  0.65  0.60  0.75\n",
       "ISC  0.35  0.00  0.60  0.90\n",
       "RCI  0.40  0.40  0.00  0.75\n",
       "ETP  0.25  0.10  0.25  0.00"
      ]
     },
     "execution_count": 7,
     "metadata": {},
     "output_type": "execute_result"
    }
   ],
   "source": [
    "# Step 3: Calculate Concordance Index\n",
    "def calculate_concordance_matrix(weighted_matrix, weights):\n",
    "    \"\"\"\n",
    "    Calculate concordance matrix for all pairs of alternatives.\n",
    "    C(i,k) = sum of weights where alternative i >= alternative k\n",
    "    \"\"\"\n",
    "    n_alternatives = weighted_matrix.shape[0]\n",
    "    concordance_matrix = np.zeros((n_alternatives, n_alternatives))\n",
    "\n",
    "    for i in range(n_alternatives):\n",
    "        for k in range(n_alternatives):\n",
    "            if i != k:\n",
    "                # Find criteria where alternative i >= alternative k\n",
    "                concordant_criteria = weighted_matrix[i] >= weighted_matrix[k]\n",
    "                # Sum weights of concordant criteria\n",
    "                concordance_matrix[i, k] = np.sum(weights[concordant_criteria])\n",
    "\n",
    "    return concordance_matrix\n",
    "\n",
    "\n",
    "# Calculate concordance matrix\n",
    "concordance_matrix = calculate_concordance_matrix(weighted_matrix, weights)\n",
    "\n",
    "# Create DataFrame for better visualization\n",
    "df_concordance = pd.DataFrame(\n",
    "    concordance_matrix, index=alternatives, columns=alternatives\n",
    ")\n",
    "\n",
    "print(\"Concordance Matrix:\")\n",
    "df_concordance"
   ]
  },
  {
   "cell_type": "code",
   "execution_count": 8,
   "id": "86e4ab69",
   "metadata": {},
   "outputs": [
    {
     "name": "stdout",
     "output_type": "stream",
     "text": [
      "Discordance Matrix:\n"
     ]
    },
    {
     "data": {
      "application/vnd.microsoft.datawrangler.viewer.v0+json": {
       "columns": [
        {
         "name": "index",
         "rawType": "object",
         "type": "string"
        },
        {
         "name": "GTS",
         "rawType": "float64",
         "type": "float"
        },
        {
         "name": "ISC",
         "rawType": "float64",
         "type": "float"
        },
        {
         "name": "RCI",
         "rawType": "float64",
         "type": "float"
        },
        {
         "name": "ETP",
         "rawType": "float64",
         "type": "float"
        }
       ],
       "ref": "bce29c3e-0a57-4d4b-ab3d-b5ca72657d62",
       "rows": [
        [
         "GTS",
         "0.0",
         "0.6",
         "0.10023166430330598",
         "0.2682091427828077"
        ],
        [
         "ISC",
         "0.23800535563472516",
         "0.0",
         "0.1342514239025389",
         "0.21588358465327437"
        ],
        [
         "RCI",
         "0.41163788284394465",
         "0.84",
         "0.0",
         "0.35354841548642846"
        ],
        [
         "ETP",
         "0.46959961929361116",
         "1.0",
         "0.18434523879154593",
         "0.0"
        ]
       ],
       "shape": {
        "columns": 4,
        "rows": 4
       }
      },
      "text/html": [
       "<div>\n",
       "<style scoped>\n",
       "    .dataframe tbody tr th:only-of-type {\n",
       "        vertical-align: middle;\n",
       "    }\n",
       "\n",
       "    .dataframe tbody tr th {\n",
       "        vertical-align: top;\n",
       "    }\n",
       "\n",
       "    .dataframe thead th {\n",
       "        text-align: right;\n",
       "    }\n",
       "</style>\n",
       "<table border=\"1\" class=\"dataframe\">\n",
       "  <thead>\n",
       "    <tr style=\"text-align: right;\">\n",
       "      <th></th>\n",
       "      <th>GTS</th>\n",
       "      <th>ISC</th>\n",
       "      <th>RCI</th>\n",
       "      <th>ETP</th>\n",
       "    </tr>\n",
       "  </thead>\n",
       "  <tbody>\n",
       "    <tr>\n",
       "      <th>GTS</th>\n",
       "      <td>0.0000</td>\n",
       "      <td>0.60</td>\n",
       "      <td>0.1002</td>\n",
       "      <td>0.2682</td>\n",
       "    </tr>\n",
       "    <tr>\n",
       "      <th>ISC</th>\n",
       "      <td>0.2380</td>\n",
       "      <td>0.00</td>\n",
       "      <td>0.1343</td>\n",
       "      <td>0.2159</td>\n",
       "    </tr>\n",
       "    <tr>\n",
       "      <th>RCI</th>\n",
       "      <td>0.4116</td>\n",
       "      <td>0.84</td>\n",
       "      <td>0.0000</td>\n",
       "      <td>0.3535</td>\n",
       "    </tr>\n",
       "    <tr>\n",
       "      <th>ETP</th>\n",
       "      <td>0.4696</td>\n",
       "      <td>1.00</td>\n",
       "      <td>0.1843</td>\n",
       "      <td>0.0000</td>\n",
       "    </tr>\n",
       "  </tbody>\n",
       "</table>\n",
       "</div>"
      ],
      "text/plain": [
       "        GTS   ISC     RCI     ETP\n",
       "GTS  0.0000  0.60  0.1002  0.2682\n",
       "ISC  0.2380  0.00  0.1343  0.2159\n",
       "RCI  0.4116  0.84  0.0000  0.3535\n",
       "ETP  0.4696  1.00  0.1843  0.0000"
      ]
     },
     "execution_count": 8,
     "metadata": {},
     "output_type": "execute_result"
    }
   ],
   "source": [
    "# Step 4: Calculate Discordance Index\n",
    "def calculate_discordance_matrix(weighted_matrix):\n",
    "    \"\"\"\n",
    "    Calculate discordance matrix for all pairs of alternatives.\n",
    "    D(i,k) = max difference where i < k / max overall difference\n",
    "    \"\"\"\n",
    "    n_alternatives = weighted_matrix.shape[0]\n",
    "    discordance_matrix = np.zeros((n_alternatives, n_alternatives))\n",
    "\n",
    "    # Find maximum difference across all criteria and pairs\n",
    "    max_diff_overall = 0\n",
    "    for i in range(n_alternatives):\n",
    "        for k in range(n_alternatives):\n",
    "            if i != k:\n",
    "                max_diff = np.max(\n",
    "                    np.abs(weighted_matrix[i] - weighted_matrix[k])\n",
    "                )\n",
    "                max_diff_overall = max(max_diff_overall, max_diff)\n",
    "\n",
    "    for i in range(n_alternatives):\n",
    "        for k in range(n_alternatives):\n",
    "            if i != k:\n",
    "                # Find criteria where alternative i < alternative k (discordant)\n",
    "                discordant_criteria = weighted_matrix[i] < weighted_matrix[k]\n",
    "\n",
    "                if np.any(discordant_criteria):\n",
    "                    # Maximum difference among discordant criteria\n",
    "                    max_diff_discordant = np.max(\n",
    "                        np.abs(weighted_matrix[i] - weighted_matrix[k])[\n",
    "                            discordant_criteria\n",
    "                        ]\n",
    "                    )\n",
    "                    discordance_matrix[i, k] = (\n",
    "                        max_diff_discordant / max_diff_overall\n",
    "                    )\n",
    "                else:\n",
    "                    discordance_matrix[i, k] = 0\n",
    "\n",
    "    return discordance_matrix\n",
    "\n",
    "\n",
    "# Calculate discordance matrix\n",
    "discordance_matrix = calculate_discordance_matrix(weighted_matrix)\n",
    "\n",
    "# Create DataFrame for better visualization\n",
    "df_discordance = pd.DataFrame(\n",
    "    discordance_matrix, index=alternatives, columns=alternatives\n",
    ")\n",
    "\n",
    "print(\"Discordance Matrix:\")\n",
    "df_discordance"
   ]
  },
  {
   "cell_type": "code",
   "execution_count": 22,
   "id": "6f69d28a",
   "metadata": {},
   "outputs": [
    {
     "name": "stdout",
     "output_type": "stream",
     "text": [
      "Thresholds:\n",
      "- Concordance threshold: 0.5\n",
      "- Discordance threshold: 0.5\n",
      "\n",
      "Outranking Matrix (1 = outranks, 0 = does not outrank):\n"
     ]
    },
    {
     "data": {
      "application/vnd.microsoft.datawrangler.viewer.v0+json": {
       "columns": [
        {
         "name": "index",
         "rawType": "object",
         "type": "string"
        },
        {
         "name": "GTS",
         "rawType": "int64",
         "type": "integer"
        },
        {
         "name": "ISC",
         "rawType": "int64",
         "type": "integer"
        },
        {
         "name": "RCI",
         "rawType": "int64",
         "type": "integer"
        },
        {
         "name": "ETP",
         "rawType": "int64",
         "type": "integer"
        }
       ],
       "ref": "35993e89-4d2c-487e-a574-9c09dc02bbf5",
       "rows": [
        [
         "GTS",
         "0",
         "0",
         "1",
         "1"
        ],
        [
         "ISC",
         "0",
         "0",
         "1",
         "1"
        ],
        [
         "RCI",
         "0",
         "0",
         "0",
         "1"
        ],
        [
         "ETP",
         "0",
         "0",
         "0",
         "0"
        ]
       ],
       "shape": {
        "columns": 4,
        "rows": 4
       }
      },
      "text/html": [
       "<div>\n",
       "<style scoped>\n",
       "    .dataframe tbody tr th:only-of-type {\n",
       "        vertical-align: middle;\n",
       "    }\n",
       "\n",
       "    .dataframe tbody tr th {\n",
       "        vertical-align: top;\n",
       "    }\n",
       "\n",
       "    .dataframe thead th {\n",
       "        text-align: right;\n",
       "    }\n",
       "</style>\n",
       "<table border=\"1\" class=\"dataframe\">\n",
       "  <thead>\n",
       "    <tr style=\"text-align: right;\">\n",
       "      <th></th>\n",
       "      <th>GTS</th>\n",
       "      <th>ISC</th>\n",
       "      <th>RCI</th>\n",
       "      <th>ETP</th>\n",
       "    </tr>\n",
       "  </thead>\n",
       "  <tbody>\n",
       "    <tr>\n",
       "      <th>GTS</th>\n",
       "      <td>0</td>\n",
       "      <td>0</td>\n",
       "      <td>1</td>\n",
       "      <td>1</td>\n",
       "    </tr>\n",
       "    <tr>\n",
       "      <th>ISC</th>\n",
       "      <td>0</td>\n",
       "      <td>0</td>\n",
       "      <td>1</td>\n",
       "      <td>1</td>\n",
       "    </tr>\n",
       "    <tr>\n",
       "      <th>RCI</th>\n",
       "      <td>0</td>\n",
       "      <td>0</td>\n",
       "      <td>0</td>\n",
       "      <td>1</td>\n",
       "    </tr>\n",
       "    <tr>\n",
       "      <th>ETP</th>\n",
       "      <td>0</td>\n",
       "      <td>0</td>\n",
       "      <td>0</td>\n",
       "      <td>0</td>\n",
       "    </tr>\n",
       "  </tbody>\n",
       "</table>\n",
       "</div>"
      ],
      "text/plain": [
       "     GTS  ISC  RCI  ETP\n",
       "GTS    0    0    1    1\n",
       "ISC    0    0    1    1\n",
       "RCI    0    0    0    1\n",
       "ETP    0    0    0    0"
      ]
     },
     "execution_count": 22,
     "metadata": {},
     "output_type": "execute_result"
    }
   ],
   "source": [
    "# Step 5: Determine Outranking Relations\n",
    "def determine_outranking_relations(\n",
    "    concordance_matrix,\n",
    "    discordance_matrix,\n",
    "    concordance_threshold=0.5,\n",
    "    discordance_threshold=0.5,\n",
    "):\n",
    "    \"\"\"\n",
    "    Determine outranking relations based on concordance and discordance thresholds.\n",
    "    Alternative i outranks alternative k if:\n",
    "    - C(i,k) >= concordance_threshold AND\n",
    "    - D(i,k) <= discordance_threshold\n",
    "    \"\"\"\n",
    "    n_alternatives = concordance_matrix.shape[0]\n",
    "    outranking_matrix = np.zeros((n_alternatives, n_alternatives), dtype=int)\n",
    "\n",
    "    for i in range(n_alternatives):\n",
    "        for k in range(n_alternatives):\n",
    "            if i != k:\n",
    "                concordance_condition = (\n",
    "                    concordance_matrix[i, k] >= concordance_threshold\n",
    "                )\n",
    "                discordance_condition = (\n",
    "                    discordance_matrix[i, k] <= discordance_threshold\n",
    "                )\n",
    "\n",
    "                if concordance_condition and discordance_condition:\n",
    "                    outranking_matrix[i, k] = 1\n",
    "\n",
    "    return outranking_matrix\n",
    "\n",
    "\n",
    "# Set thresholds\n",
    "concordance_threshold = 0.5\n",
    "discordance_threshold = 0.5\n",
    "\n",
    "print(\"Thresholds:\")\n",
    "print(f\"- Concordance threshold: {concordance_threshold}\")\n",
    "print(f\"- Discordance threshold: {discordance_threshold}\")\n",
    "print()\n",
    "\n",
    "# Calculate outranking relations\n",
    "outranking_matrix = determine_outranking_relations(\n",
    "    concordance_matrix,\n",
    "    discordance_matrix,\n",
    "    concordance_threshold,\n",
    "    discordance_threshold,\n",
    ")\n",
    "\n",
    "# Create DataFrame for outranking matrix\n",
    "df_outranking = pd.DataFrame(\n",
    "    outranking_matrix, index=alternatives, columns=alternatives\n",
    ")\n",
    "\n",
    "print(\"Outranking Matrix (1 = outranks, 0 = does not outrank):\")\n",
    "df_outranking"
   ]
  },
  {
   "cell_type": "code",
   "execution_count": 24,
   "id": "99031cfd",
   "metadata": {},
   "outputs": [
    {
     "name": "stdout",
     "output_type": "stream",
     "text": [
      "ELECTRE I Results Summary:\n",
      "  Alternative  Outranks Count  Outranked By Count In Kernel\n",
      "0         GTS               2                   0       Yes\n",
      "1         ISC               2                   0       Yes\n",
      "2         RCI               1                   2        No\n",
      "3         ETP               0                   3        No\n",
      "Kernel (Best Alternatives):\n",
      "GTS\n",
      "ISC\n"
     ]
    }
   ],
   "source": [
    "# Analyze Results and Find the Kernel (Best Alternatives)\n",
    "def analyze_outranking_results(outranking_matrix, alternatives):\n",
    "    \"\"\"\n",
    "    Analyze the outranking matrix to find dominated and non-dominated alternatives.\n",
    "    The kernel consists of alternatives that are not outranked by any other alternative.\n",
    "    \"\"\"\n",
    "    n_alternatives = len(alternatives)\n",
    "\n",
    "    # Count how many alternatives each one outranks\n",
    "    outranks_count = np.sum(outranking_matrix, axis=1)\n",
    "\n",
    "    # Count how many alternatives outrank each one\n",
    "    outranked_by_count = np.sum(outranking_matrix, axis=0)\n",
    "\n",
    "    # Find the kernel (non-dominated alternatives)\n",
    "    kernel = []\n",
    "    for i in range(n_alternatives):\n",
    "        if outranked_by_count[i] == 0:  # Not outranked by any alternative\n",
    "            kernel.append(i)\n",
    "\n",
    "    return outranks_count, outranked_by_count, kernel\n",
    "\n",
    "\n",
    "# Analyze results\n",
    "outranks_count, outranked_by_count, kernel_indices = (\n",
    "    analyze_outranking_results(outranking_matrix, alternatives)\n",
    ")\n",
    "\n",
    "# Create summary DataFrame\n",
    "summary_data = {\n",
    "    \"Alternative\": alternatives,\n",
    "    \"Outranks Count\": outranks_count,\n",
    "    \"Outranked By Count\": outranked_by_count,\n",
    "    \"In Kernel\": [\n",
    "        \"Yes\" if i in kernel_indices else \"No\"\n",
    "        for i in range(len(alternatives))\n",
    "    ],\n",
    "}\n",
    "\n",
    "df_summary = pd.DataFrame(summary_data)\n",
    "\n",
    "print(\"ELECTRE I Results Summary:\")\n",
    "print(df_summary)\n",
    "\n",
    "print(\"Kernel (Best Alternatives):\")\n",
    "if kernel_indices:\n",
    "    for i in kernel_indices:\n",
    "        print(f\"{alternatives[i]}\")\n",
    "else:\n",
    "    print(\"No alternatives in the kernel (all are dominated)\")"
   ]
  },
  {
   "cell_type": "code",
   "execution_count": null,
   "id": "90482c34",
   "metadata": {},
   "outputs": [],
   "source": []
  }
 ],
 "metadata": {
  "kernelspec": {
   "display_name": "mdcm",
   "language": "python",
   "name": "python3"
  },
  "language_info": {
   "codemirror_mode": {
    "name": "ipython",
    "version": 3
   },
   "file_extension": ".py",
   "mimetype": "text/x-python",
   "name": "python",
   "nbconvert_exporter": "python",
   "pygments_lexer": "ipython3",
   "version": "3.12.11"
  }
 },
 "nbformat": 4,
 "nbformat_minor": 5
}
