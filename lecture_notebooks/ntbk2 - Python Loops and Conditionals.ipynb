{
 "cells": [
  {
   "cell_type": "markdown",
   "id": "6e0eab0a",
   "metadata": {
    "id": "6e0eab0a"
   },
   "source": [
    "# Loops and Conditionals"
   ]
  },
  {
   "cell_type": "markdown",
   "id": "0ae86318",
   "metadata": {
    "id": "0ae86318"
   },
   "source": [
    "## 1 Conditionals"
   ]
  },
  {
   "cell_type": "markdown",
   "id": "d586622b",
   "metadata": {
    "id": "d586622b"
   },
   "source": [
    "Programming often involves examining a set of conditions then deciding which action to take based on those conditions. In the following section, we'll discuss the building blocks that we need to integrate conditional logic to our code."
   ]
  },
  {
   "cell_type": "markdown",
   "id": "d5c5450d",
   "metadata": {
    "id": "d5c5450d"
   },
   "source": [
    "### Conditional tests"
   ]
  },
  {
   "cell_type": "markdown",
   "id": "d4bcb0e2",
   "metadata": {
    "id": "d4bcb0e2"
   },
   "source": [
    "First thing that we need are expressions that can be evaluated as `True` or `False`. In Python, these are expressed as *conditional tests*. Most of these tests compare the current value of a variable to a specific value of interest."
   ]
  },
  {
   "cell_type": "markdown",
   "id": "1469d8a0",
   "metadata": {
    "id": "1469d8a0"
   },
   "source": [
    "#### Checking for equality"
   ]
  },
  {
   "cell_type": "markdown",
   "id": "890372fa",
   "metadata": {
    "id": "890372fa"
   },
   "source": [
    "For example, to check for equality between two values, we use the equality operation denoted by `==`. This operator returns `True` if the values on the left and right side of the operator match, and `False` if they don't match."
   ]
  },
  {
   "cell_type": "code",
   "execution_count": null,
   "id": "9a14fc38",
   "metadata": {
    "ExecuteTime": {
     "end_time": "2024-01-26T19:05:43.539362Z",
     "start_time": "2024-01-26T19:05:43.528016Z"
    },
    "colab": {
     "base_uri": "https://localhost:8080/"
    },
    "execution": {
     "iopub.execute_input": "2024-01-28T10:12:52.198288Z",
     "iopub.status.busy": "2024-01-28T10:12:52.197659Z",
     "iopub.status.idle": "2024-01-28T10:12:52.223922Z",
     "shell.execute_reply": "2024-01-28T10:12:52.222015Z",
     "shell.execute_reply.started": "2024-01-28T10:12:52.198205Z"
    },
    "executionInfo": {
     "elapsed": 75,
     "status": "ok",
     "timestamp": 1756178844162,
     "user": {
      "displayName": "HECTOR LOUIS O. BANDA",
      "userId": "10737061043116032216"
     },
     "user_tz": -480
    },
    "id": "9a14fc38",
    "outputId": "96ab0010-a4c8-4174-eb97-97777cdd181b"
   },
   "outputs": [],
   "source": [
    "1 == 2"
   ]
  },
  {
   "cell_type": "code",
   "execution_count": null,
   "id": "7f4aab9e",
   "metadata": {
    "ExecuteTime": {
     "end_time": "2024-01-26T19:05:43.543985Z",
     "start_time": "2024-01-26T19:05:43.541349Z"
    },
    "colab": {
     "base_uri": "https://localhost:8080/"
    },
    "execution": {
     "iopub.execute_input": "2024-01-28T10:12:52.228434Z",
     "iopub.status.busy": "2024-01-28T10:12:52.227839Z",
     "iopub.status.idle": "2024-01-28T10:12:52.241311Z",
     "shell.execute_reply": "2024-01-28T10:12:52.238165Z",
     "shell.execute_reply.started": "2024-01-28T10:12:52.228403Z"
    },
    "executionInfo": {
     "elapsed": 4,
     "status": "ok",
     "timestamp": 1756178846959,
     "user": {
      "displayName": "HECTOR LOUIS O. BANDA",
      "userId": "10737061043116032216"
     },
     "user_tz": -480
    },
    "id": "7f4aab9e",
    "outputId": "4cf0ac43-a05b-444d-ea26-6f8cee6fcb1b"
   },
   "outputs": [],
   "source": [
    "2 == 2"
   ]
  },
  {
   "cell_type": "code",
   "execution_count": null,
   "id": "1118690f",
   "metadata": {
    "ExecuteTime": {
     "end_time": "2024-01-26T19:05:43.546624Z",
     "start_time": "2024-01-26T19:05:43.544875Z"
    },
    "colab": {
     "base_uri": "https://localhost:8080/"
    },
    "execution": {
     "iopub.execute_input": "2024-01-28T10:12:52.242657Z",
     "iopub.status.busy": "2024-01-28T10:12:52.242431Z",
     "iopub.status.idle": "2024-01-28T10:12:52.250773Z",
     "shell.execute_reply": "2024-01-28T10:12:52.249056Z",
     "shell.execute_reply.started": "2024-01-28T10:12:52.242635Z"
    },
    "executionInfo": {
     "elapsed": 5,
     "status": "ok",
     "timestamp": 1756178849081,
     "user": {
      "displayName": "HECTOR LOUIS O. BANDA",
      "userId": "10737061043116032216"
     },
     "user_tz": -480
    },
    "id": "1118690f",
    "outputId": "2dfec0ac-9b77-4c9a-c57f-ba987458d01f"
   },
   "outputs": [],
   "source": [
    "car = 'toyota'\n",
    "print(car == 'honda')"
   ]
  },
  {
   "cell_type": "markdown",
   "id": "986e8ff2",
   "metadata": {
    "id": "986e8ff2"
   },
   "source": [
    "Note that when comparing string, testing for equality is case sensitive. This means that strings with different capitalization are not considered equal"
   ]
  },
  {
   "cell_type": "code",
   "execution_count": null,
   "id": "ffd790ff",
   "metadata": {
    "ExecuteTime": {
     "end_time": "2024-01-26T19:05:43.551291Z",
     "start_time": "2024-01-26T19:05:43.548674Z"
    },
    "colab": {
     "base_uri": "https://localhost:8080/"
    },
    "execution": {
     "iopub.execute_input": "2024-01-28T10:12:52.254448Z",
     "iopub.status.busy": "2024-01-28T10:12:52.252924Z",
     "iopub.status.idle": "2024-01-28T10:12:52.262197Z",
     "shell.execute_reply": "2024-01-28T10:12:52.260372Z",
     "shell.execute_reply.started": "2024-01-28T10:12:52.254386Z"
    },
    "executionInfo": {
     "elapsed": 9,
     "status": "ok",
     "timestamp": 1756178858703,
     "user": {
      "displayName": "HECTOR LOUIS O. BANDA",
      "userId": "10737061043116032216"
     },
     "user_tz": -480
    },
    "id": "ffd790ff",
    "outputId": "441098f2-d64b-45ea-e5d9-2c3510c6c7e2"
   },
   "outputs": [],
   "source": [
    "car = 'Toyota'\n",
    "print(car == 'toyota')"
   ]
  },
  {
   "cell_type": "markdown",
   "id": "1e3e861f",
   "metadata": {
    "id": "1e3e861f"
   },
   "source": [
    "What we can do to mediate this is to normalize the case of a variable's value just before doing the comparison."
   ]
  },
  {
   "cell_type": "code",
   "execution_count": null,
   "id": "36cda26b",
   "metadata": {
    "ExecuteTime": {
     "end_time": "2024-01-26T19:05:43.555170Z",
     "start_time": "2024-01-26T19:05:43.552424Z"
    },
    "colab": {
     "base_uri": "https://localhost:8080/"
    },
    "execution": {
     "iopub.execute_input": "2024-01-28T10:12:52.265338Z",
     "iopub.status.busy": "2024-01-28T10:12:52.264539Z",
     "iopub.status.idle": "2024-01-28T10:12:52.275544Z",
     "shell.execute_reply": "2024-01-28T10:12:52.274067Z",
     "shell.execute_reply.started": "2024-01-28T10:12:52.265278Z"
    },
    "executionInfo": {
     "elapsed": 3,
     "status": "ok",
     "timestamp": 1756178859791,
     "user": {
      "displayName": "HECTOR LOUIS O. BANDA",
      "userId": "10737061043116032216"
     },
     "user_tz": -480
    },
    "id": "36cda26b",
    "outputId": "ef10030f-d1be-4e45-b48c-16b928477e1d"
   },
   "outputs": [],
   "source": [
    "car.lower() == 'toyota'"
   ]
  },
  {
   "cell_type": "markdown",
   "id": "22b6a6ad",
   "metadata": {
    "id": "22b6a6ad"
   },
   "source": [
    "#### Checking for Inequality"
   ]
  },
  {
   "cell_type": "markdown",
   "id": "91140e8e",
   "metadata": {
    "id": "91140e8e"
   },
   "source": [
    "When we want to determine if two values are not equal, we can use the not equal operator. This is denoted by the `!=` operator."
   ]
  },
  {
   "cell_type": "code",
   "execution_count": null,
   "id": "c21dfa1e",
   "metadata": {
    "ExecuteTime": {
     "end_time": "2024-01-26T19:05:43.558678Z",
     "start_time": "2024-01-26T19:05:43.556155Z"
    },
    "colab": {
     "base_uri": "https://localhost:8080/"
    },
    "execution": {
     "iopub.execute_input": "2024-01-28T10:12:52.278183Z",
     "iopub.status.busy": "2024-01-28T10:12:52.277508Z",
     "iopub.status.idle": "2024-01-28T10:12:52.286199Z",
     "shell.execute_reply": "2024-01-28T10:12:52.284463Z",
     "shell.execute_reply.started": "2024-01-28T10:12:52.278129Z"
    },
    "executionInfo": {
     "elapsed": 10,
     "status": "ok",
     "timestamp": 1756178866879,
     "user": {
      "displayName": "HECTOR LOUIS O. BANDA",
      "userId": "10737061043116032216"
     },
     "user_tz": -480
    },
    "id": "c21dfa1e",
    "outputId": "62b5993a-d0d8-4858-e043-1ee05cceba29"
   },
   "outputs": [],
   "source": [
    "customer_order = 'ramen'\n",
    "print(customer_order != 'pho')"
   ]
  },
  {
   "cell_type": "markdown",
   "id": "9c435d11",
   "metadata": {
    "id": "9c435d11"
   },
   "source": [
    "#### Numerical comparisons"
   ]
  },
  {
   "cell_type": "markdown",
   "id": "949de615",
   "metadata": {
    "id": "949de615"
   },
   "source": [
    "Testing numerical values is also straightforward, refer to the table below for the different comparison you can make and the corresponding operators.\n",
    "\n",
    "| Operator | Description |\n",
    "| -------- | ----------- |\n",
    "| `==` | If the values of the operands are equal, then the condition becomes `True` |\n",
    "| `!=` | If the values of the operands are NOT equal, then this will return `True` |\n",
    "| `>` | If the value of the left operand is greater than the value of right operand, this will return `True` |\n",
    "| `<` | If the value of the left operand is less than the value of the right operand, this will return `False` |\n",
    "| `>=` | If the value of the left operand is greater than or equal to the value of right operand, this will return `True` |\n",
    "| `<=` | If the value of the left operand is less than or equal to the value of right operand, this will return `True` |"
   ]
  },
  {
   "cell_type": "markdown",
   "id": "56085e1c",
   "metadata": {
    "id": "56085e1c"
   },
   "source": [
    "For example, you are trying to check the age of a particular person, you can do:"
   ]
  },
  {
   "cell_type": "code",
   "execution_count": null,
   "id": "2dbd8f6c",
   "metadata": {
    "ExecuteTime": {
     "end_time": "2024-01-26T19:05:43.561905Z",
     "start_time": "2024-01-26T19:05:43.559574Z"
    },
    "colab": {
     "base_uri": "https://localhost:8080/"
    },
    "execution": {
     "iopub.execute_input": "2024-01-28T10:12:52.294322Z",
     "iopub.status.busy": "2024-01-28T10:12:52.292644Z",
     "iopub.status.idle": "2024-01-28T10:12:52.305104Z",
     "shell.execute_reply": "2024-01-28T10:12:52.303335Z",
     "shell.execute_reply.started": "2024-01-28T10:12:52.294259Z"
    },
    "executionInfo": {
     "elapsed": 5,
     "status": "ok",
     "timestamp": 1756178881337,
     "user": {
      "displayName": "HECTOR LOUIS O. BANDA",
      "userId": "10737061043116032216"
     },
     "user_tz": -480
    },
    "id": "2dbd8f6c",
    "outputId": "cad188d8-377e-4bc1-9d6a-84537c73762e"
   },
   "outputs": [],
   "source": [
    "age = 26\n",
    "print(\"Age is equal to 18: {}\".format(age == 18))\n",
    "print(\"Age is NOT equal to 18: {}\".format(age != 18))\n",
    "print(\"Age is < 18: {}\".format(age < 18))\n",
    "print(\"Age is > 18: {}\".format(age > 18))\n",
    "print(\"Age is ≥ 18: {}\".format(age >= 18))\n",
    "print(\"Age is ≤ 18: {}\".format(age <= 18))"
   ]
  },
  {
   "cell_type": "markdown",
   "id": "c74805c1",
   "metadata": {
    "id": "c74805c1"
   },
   "source": [
    "#### Checking multiple conditions"
   ]
  },
  {
   "cell_type": "markdown",
   "id": "acec468a",
   "metadata": {
    "id": "acec468a"
   },
   "source": [
    "To check for multiple conditions, you can use the `and` and `or` operator. The `and` operator returns `True` if the operands are both `True`. Meanwhile, the `or` operator returns `True` if at least one of the operand is `True`."
   ]
  },
  {
   "cell_type": "code",
   "execution_count": null,
   "id": "430aa674",
   "metadata": {
    "ExecuteTime": {
     "end_time": "2024-01-26T19:05:43.565401Z",
     "start_time": "2024-01-26T19:05:43.562746Z"
    },
    "execution": {
     "iopub.execute_input": "2024-01-28T10:12:52.307498Z",
     "iopub.status.busy": "2024-01-28T10:12:52.306888Z",
     "iopub.status.idle": "2024-01-28T10:12:52.315424Z",
     "shell.execute_reply": "2024-01-28T10:12:52.313676Z",
     "shell.execute_reply.started": "2024-01-28T10:12:52.307455Z"
    },
    "id": "430aa674",
    "outputId": "d43e9405-25bd-4e3b-8e94-2daf456cb0a8"
   },
   "outputs": [],
   "source": [
    "age = 26\n",
    "\n",
    "print(age >= 18 and age < 30)"
   ]
  },
  {
   "cell_type": "code",
   "execution_count": null,
   "id": "3a0e9c2d",
   "metadata": {
    "ExecuteTime": {
     "end_time": "2024-01-26T19:05:43.569830Z",
     "start_time": "2024-01-26T19:05:43.567028Z"
    },
    "execution": {
     "iopub.execute_input": "2024-01-28T10:12:52.317821Z",
     "iopub.status.busy": "2024-01-28T10:12:52.317340Z",
     "iopub.status.idle": "2024-01-28T10:12:52.327318Z",
     "shell.execute_reply": "2024-01-28T10:12:52.326477Z",
     "shell.execute_reply.started": "2024-01-28T10:12:52.317778Z"
    },
    "id": "3a0e9c2d",
    "outputId": "c4b7ff86-23f1-439c-a009-857d9bacafa8"
   },
   "outputs": [],
   "source": [
    "age < 18 or age > 30"
   ]
  },
  {
   "cell_type": "markdown",
   "id": "91d19cb9",
   "metadata": {
    "id": "91d19cb9"
   },
   "source": [
    "#### Boolean Expressions"
   ]
  },
  {
   "cell_type": "markdown",
   "id": "b2413aa2",
   "metadata": {
    "id": "b2413aa2"
   },
   "source": [
    "Notice that the printed values for the above conditionals correspond to the value of either `True` or `False`. This kind of value is what we call a `Boolean value`."
   ]
  },
  {
   "cell_type": "code",
   "execution_count": null,
   "id": "33e644b5",
   "metadata": {
    "ExecuteTime": {
     "end_time": "2024-01-26T19:05:43.575575Z",
     "start_time": "2024-01-26T19:05:43.572634Z"
    },
    "execution": {
     "iopub.execute_input": "2024-01-28T10:12:52.328617Z",
     "iopub.status.busy": "2024-01-28T10:12:52.328329Z",
     "iopub.status.idle": "2024-01-28T10:12:52.336465Z",
     "shell.execute_reply": "2024-01-28T10:12:52.335284Z",
     "shell.execute_reply.started": "2024-01-28T10:12:52.328589Z"
    },
    "id": "33e644b5",
    "outputId": "5cad6862-9c1c-4cd7-ff4e-19cbe067c3a7"
   },
   "outputs": [],
   "source": [
    "type(age < 18)"
   ]
  },
  {
   "cell_type": "markdown",
   "id": "1adf4743",
   "metadata": {
    "id": "1adf4743"
   },
   "source": [
    "Boolean values are often used to keep track of certain conditions such as whether a person is active or whether a person has certain permissions."
   ]
  },
  {
   "cell_type": "code",
   "execution_count": null,
   "id": "a1c7ac54",
   "metadata": {
    "ExecuteTime": {
     "end_time": "2024-01-26T19:05:43.579685Z",
     "start_time": "2024-01-26T19:05:43.576886Z"
    },
    "execution": {
     "iopub.execute_input": "2024-01-28T10:12:52.337688Z",
     "iopub.status.busy": "2024-01-28T10:12:52.337397Z",
     "iopub.status.idle": "2024-01-28T10:12:52.348979Z",
     "shell.execute_reply": "2024-01-28T10:12:52.346438Z",
     "shell.execute_reply.started": "2024-01-28T10:12:52.337660Z"
    },
    "id": "a1c7ac54"
   },
   "outputs": [],
   "source": [
    "is_active = True\n",
    "can_view = True\n",
    "can_upload = False\n",
    "can_edit = False"
   ]
  },
  {
   "cell_type": "markdown",
   "id": "f171ade2",
   "metadata": {
    "id": "f171ade2"
   },
   "source": [
    "#### Using the `not` keyword"
   ]
  },
  {
   "cell_type": "markdown",
   "id": "8f6a205f",
   "metadata": {
    "id": "8f6a205f"
   },
   "source": [
    "The `not` keyword can also be used to negate any *boolean* value."
   ]
  },
  {
   "cell_type": "code",
   "execution_count": null,
   "id": "f164b981",
   "metadata": {
    "ExecuteTime": {
     "end_time": "2024-01-26T19:05:43.585006Z",
     "start_time": "2024-01-26T19:05:43.581217Z"
    },
    "colab": {
     "base_uri": "https://localhost:8080/"
    },
    "execution": {
     "iopub.execute_input": "2024-01-28T10:12:52.350208Z",
     "iopub.status.busy": "2024-01-28T10:12:52.349848Z",
     "iopub.status.idle": "2024-01-28T10:12:52.358669Z",
     "shell.execute_reply": "2024-01-28T10:12:52.357408Z",
     "shell.execute_reply.started": "2024-01-28T10:12:52.350177Z"
    },
    "executionInfo": {
     "elapsed": 46,
     "status": "ok",
     "timestamp": 1756178909718,
     "user": {
      "displayName": "HECTOR LOUIS O. BANDA",
      "userId": "10737061043116032216"
     },
     "user_tz": -480
    },
    "id": "f164b981",
    "outputId": "2864dd39-7d60-4a7c-e93d-196277626115"
   },
   "outputs": [],
   "source": [
    "not (age >= 18)"
   ]
  },
  {
   "cell_type": "code",
   "execution_count": null,
   "id": "e8746e6d",
   "metadata": {
    "ExecuteTime": {
     "end_time": "2024-01-26T19:05:43.588638Z",
     "start_time": "2024-01-26T19:05:43.586034Z"
    },
    "execution": {
     "iopub.execute_input": "2024-01-28T10:12:52.360699Z",
     "iopub.status.busy": "2024-01-28T10:12:52.360212Z",
     "iopub.status.idle": "2024-01-28T10:12:52.368642Z",
     "shell.execute_reply": "2024-01-28T10:12:52.367100Z",
     "shell.execute_reply.started": "2024-01-28T10:12:52.360651Z"
    },
    "id": "e8746e6d",
    "outputId": "b4d12fd8-fdd2-41f5-a144-96697b05762a"
   },
   "outputs": [],
   "source": [
    "age = 26\n",
    "\n",
    "print(not (age > 30))"
   ]
  },
  {
   "cell_type": "markdown",
   "id": "2af089e2",
   "metadata": {
    "id": "2af089e2"
   },
   "source": [
    "## 2 `if` Statements"
   ]
  },
  {
   "cell_type": "markdown",
   "id": "5f58fb5d",
   "metadata": {
    "id": "5f58fb5d"
   },
   "source": [
    "Now we understand how to make conditional tests, we can start to integrate logic to our code."
   ]
  },
  {
   "cell_type": "markdown",
   "id": "c4518ed0",
   "metadata": {
    "id": "c4518ed0"
   },
   "source": [
    "### Simple `if` Statements"
   ]
  },
  {
   "cell_type": "markdown",
   "id": "e8ee336d",
   "metadata": {
    "id": "e8ee336d"
   },
   "source": [
    "The simplest kind of `if` statement has one test and one action:\n",
    "\n",
    "```python\n",
    "if conditional_test:\n",
    "    do something\n",
    "```"
   ]
  },
  {
   "cell_type": "code",
   "execution_count": null,
   "id": "f2875bb4",
   "metadata": {
    "ExecuteTime": {
     "end_time": "2024-01-26T19:05:43.592678Z",
     "start_time": "2024-01-26T19:05:43.590810Z"
    },
    "execution": {
     "iopub.execute_input": "2024-01-28T10:12:52.370603Z",
     "iopub.status.busy": "2024-01-28T10:12:52.370223Z",
     "iopub.status.idle": "2024-01-28T10:12:52.379058Z",
     "shell.execute_reply": "2024-01-28T10:12:52.377302Z",
     "shell.execute_reply.started": "2024-01-28T10:12:52.370566Z"
    },
    "id": "f2875bb4",
    "outputId": "ca849b0c-aeb9-4749-a6a4-b3d5901184d2"
   },
   "outputs": [],
   "source": [
    "age = 17\n",
    "if age >= 17:\n",
    "    print(\"You are eligible to apply for a professional driver's license!\")"
   ]
  },
  {
   "cell_type": "markdown",
   "id": "a311efbc",
   "metadata": {
    "id": "a311efbc"
   },
   "source": [
    "### `if`-`else` statements"
   ]
  },
  {
   "cell_type": "markdown",
   "id": "c030db7e",
   "metadata": {
    "id": "c030db7e"
   },
   "source": [
    "Oftentimes, you'll want to take one action when a conditional test passes and a different action in all other cases. We can use Python's `if`-`else` syntax to make this possible.\n",
    "\n",
    "```python\n",
    "if conditional_test:\n",
    "    # Do something if `conditional_test` is True\n",
    "else:\n",
    "    # Do something if `conditional_test` is False\n",
    "```"
   ]
  },
  {
   "cell_type": "code",
   "execution_count": null,
   "id": "00f48a63",
   "metadata": {
    "ExecuteTime": {
     "end_time": "2024-01-26T19:05:43.597615Z",
     "start_time": "2024-01-26T19:05:43.594240Z"
    },
    "execution": {
     "iopub.execute_input": "2024-01-28T10:12:52.381570Z",
     "iopub.status.busy": "2024-01-28T10:12:52.381024Z",
     "iopub.status.idle": "2024-01-28T10:12:52.389113Z",
     "shell.execute_reply": "2024-01-28T10:12:52.387627Z",
     "shell.execute_reply.started": "2024-01-28T10:12:52.381519Z"
    },
    "id": "00f48a63",
    "outputId": "599a9af9-5182-4c0d-bcd4-0059bdefdfe1"
   },
   "outputs": [],
   "source": [
    "age = 20\n",
    "if age >= 17:\n",
    "    print(\"You are eligible to apply for a professional driver's license!\")\n",
    "else:\n",
    "    print(\"I'm sorry, you cannot apply for a professional driver's license.\")"
   ]
  },
  {
   "cell_type": "markdown",
   "id": "4c1d089b",
   "metadata": {
    "id": "4c1d089b"
   },
   "source": [
    "### `if`-`elif`-`else` chain"
   ]
  },
  {
   "cell_type": "markdown",
   "id": "68885ea9",
   "metadata": {
    "id": "68885ea9"
   },
   "source": [
    "In other times, you'll need to test more than two possible situations. To evaluate this, you can use the Python's `if-elif-else` syntax. Python will execute only one block in the `if-elif-else` chain. It runs each conditional test in order until one passes. When a test passes, the code following that test is executed and Python skips the rest of the tests."
   ]
  },
  {
   "cell_type": "markdown",
   "id": "b8695cd1",
   "metadata": {
    "id": "b8695cd1"
   },
   "source": [
    "A real world example of this is typhoon classification."
   ]
  },
  {
   "cell_type": "code",
   "execution_count": null,
   "id": "a93fdb83",
   "metadata": {
    "ExecuteTime": {
     "end_time": "2024-01-26T19:05:43.602351Z",
     "start_time": "2024-01-26T19:05:43.598996Z"
    },
    "colab": {
     "base_uri": "https://localhost:8080/"
    },
    "execution": {
     "iopub.execute_input": "2024-01-28T10:12:52.392020Z",
     "iopub.status.busy": "2024-01-28T10:12:52.391033Z",
     "iopub.status.idle": "2024-01-28T10:12:52.400949Z",
     "shell.execute_reply": "2024-01-28T10:12:52.399776Z",
     "shell.execute_reply.started": "2024-01-28T10:12:52.391964Z"
    },
    "executionInfo": {
     "elapsed": 1156,
     "status": "ok",
     "timestamp": 1756178966414,
     "user": {
      "displayName": "HECTOR LOUIS O. BANDA",
      "userId": "10737061043116032216"
     },
     "user_tz": -480
    },
    "id": "a93fdb83",
    "outputId": "dde95125-7bd0-4193-fe28-04a025e3c53d"
   },
   "outputs": [],
   "source": [
    "wind_speed = 120  # wind speed in kilometers per hour\n",
    "\n",
    "if wind_speed < 62:\n",
    "    classification = \"TROPICAL DEPRESSION (TD)\"\n",
    "elif wind_speed < 88:\n",
    "    classification = \"TROPICAL STORM (TS)\"\n",
    "elif wind_speed < 117:\n",
    "    classification = \"SEVERE TROPICAL STORM (STS)\"\n",
    "elif wind_speed < 184:\n",
    "    classification = \"TYPHOON (TY)\"\n",
    "else:\n",
    "    classification = \"SUPER TYPHOON (STY)\"\n",
    "\n",
    "print(f\"The classification of the typhoon is {classification}\")"
   ]
  },
  {
   "cell_type": "markdown",
   "id": "61825d6a",
   "metadata": {
    "id": "61825d6a"
   },
   "source": [
    "Note that Python does not require an `else` block at the end of the `if-elif` chain. Sometimes an else block can be useful, sometimes it is clearer to use an additional `elif` statement that catches the specific condition of interest."
   ]
  },
  {
   "cell_type": "markdown",
   "id": "84cb8ecb",
   "metadata": {
    "id": "84cb8ecb"
   },
   "source": [
    "### Fizz Buzz Fuzz"
   ]
  },
  {
   "cell_type": "markdown",
   "id": "80271b24",
   "metadata": {
    "id": "80271b24"
   },
   "source": [
    "Create a code that checks the value of an integer `n`, then prints a string output according to the following conditions:\n",
    "\n",
    "1. Print `'Fizz'` if `n` is divisble by 3.\n",
    "2. Print `'Buzz'` if `n` is divisible by 5.\n",
    "3. Print `'Fuzz'` if `n` is divisble by 15.\n",
    "4. Print the value `n` as a string if none of the above conditions are true."
   ]
  },
  {
   "cell_type": "code",
   "execution_count": null,
   "id": "216d4116",
   "metadata": {
    "colab": {
     "base_uri": "https://localhost:8080/"
    },
    "executionInfo": {
     "elapsed": 4,
     "status": "ok",
     "timestamp": 1756179250092,
     "user": {
      "displayName": "HECTOR LOUIS O. BANDA",
      "userId": "10737061043116032216"
     },
     "user_tz": -480
    },
    "id": "216d4116",
    "outputId": "c47fa898-00ac-4351-afe0-59c3262f4bc6"
   },
   "outputs": [],
   "source": [
    "# YOUR CODE HERE\n",
    "\n",
    "n = 5\n",
    "\n",
    "if n % 15 == 0:\n",
    "    print(\"Fuzz\")\n",
    "elif n % 5 == 0:\n",
    "    print(\"Buzz\")\n",
    "elif n % 3 == 0:\n",
    "    print(\"Fizz\")\n",
    "else:\n",
    "    print(str(n))"
   ]
  },
  {
   "cell_type": "markdown",
   "id": "c2db2afc",
   "metadata": {
    "id": "c2db2afc"
   },
   "source": [
    "## 3 Loops"
   ]
  },
  {
   "cell_type": "markdown",
   "id": "7a571dc2",
   "metadata": {
    "id": "7a571dc2"
   },
   "source": [
    "Up until know, if we want to execute a code two hundred times, you would need to run that specific code block/cell two hundred times. For this section, we will introduce another fundamental kind of control flow: repetition. We'll see how we can write an instruction once and use loops to repeat that code the desired number of times.\n",
    "\n",
    "There are two ways to use loops: the first one is using an iterable which allows us to process items in a collection of data; the second one is to use conditionals as trigger when to stop executing the code in the loop. We'll consider both of these in the next subsections."
   ]
  },
  {
   "cell_type": "markdown",
   "id": "f44fce69",
   "metadata": {
    "id": "f44fce69"
   },
   "source": [
    "### Looping through an entire collection"
   ]
  },
  {
   "cell_type": "markdown",
   "id": "318d28fa",
   "metadata": {
    "id": "318d28fa"
   },
   "source": [
    "We'll often would want to run through different elements in an iterable, performing the same task in each item. As an example, consider a task wherein we are to check whether a particular letter in a string is in uppercase. We can use Python's `for` loop syntax to process each character, without having to write one statement per element."
   ]
  },
  {
   "cell_type": "code",
   "execution_count": null,
   "id": "40ac9cbd",
   "metadata": {
    "ExecuteTime": {
     "end_time": "2024-01-26T19:05:43.607482Z",
     "start_time": "2024-01-26T19:05:43.604042Z"
    },
    "colab": {
     "base_uri": "https://localhost:8080/"
    },
    "execution": {
     "iopub.execute_input": "2024-01-28T10:12:52.403125Z",
     "iopub.status.busy": "2024-01-28T10:12:52.402527Z",
     "iopub.status.idle": "2024-01-28T10:12:52.409271Z",
     "shell.execute_reply": "2024-01-28T10:12:52.408110Z",
     "shell.execute_reply.started": "2024-01-28T10:12:52.403080Z"
    },
    "executionInfo": {
     "elapsed": 17,
     "status": "ok",
     "timestamp": 1756179846512,
     "user": {
      "displayName": "HECTOR LOUIS O. BANDA",
      "userId": "10737061043116032216"
     },
     "user_tz": -480
    },
    "id": "40ac9cbd",
    "outputId": "56f02515-d874-4692-f924-886661916c88"
   },
   "outputs": [],
   "source": [
    "message = 'I am a Data Science Leader'\n",
    "for ch in message:\n",
    "    if ch.isupper():\n",
    "        print(ch)"
   ]
  },
  {
   "cell_type": "markdown",
   "id": "1a112789",
   "metadata": {
    "id": "1a112789"
   },
   "source": [
    "The general form of a `for` loop is as follows:\n",
    "\n",
    "```python\n",
    "for <<loop_variable>> in <<list>>:\n",
    "    <<block>>\n",
    "```"
   ]
  },
  {
   "cell_type": "markdown",
   "id": "7a960139",
   "metadata": {
    "id": "7a960139"
   },
   "source": [
    "The way a `for` loop is executed is as follows:\n",
    "1. The loop variable is assigned the first item in the list, and the loop block is executed.\n",
    "2. The loop variable is then assigned to the second item in the list and the loop body is executed again\n",
    "3. This is repeated until the loop variable is assigned the last item in the list and the loop body is executed one last time.\n",
    "\n",
    "Always remember to indent the line after the `for` statement in a loop. If you forget, Python will remind you by throwing off and error."
   ]
  },
  {
   "cell_type": "markdown",
   "id": "ca9a11c0",
   "metadata": {
    "id": "ca9a11c0"
   },
   "source": [
    "#### Using the `range()` function"
   ]
  },
  {
   "cell_type": "markdown",
   "id": "27b3f60e",
   "metadata": {
    "id": "27b3f60e"
   },
   "source": [
    "Python has a built-in function `range()` that can be useful to generate a series of numbers."
   ]
  },
  {
   "cell_type": "code",
   "execution_count": null,
   "id": "169bd119",
   "metadata": {
    "ExecuteTime": {
     "end_time": "2024-01-26T19:05:43.614159Z",
     "start_time": "2024-01-26T19:05:43.608801Z"
    },
    "execution": {
     "iopub.execute_input": "2024-01-28T10:12:52.411573Z",
     "iopub.status.busy": "2024-01-28T10:12:52.410778Z",
     "iopub.status.idle": "2024-01-28T10:12:52.425913Z",
     "shell.execute_reply": "2024-01-28T10:12:52.424872Z",
     "shell.execute_reply.started": "2024-01-28T10:12:52.411529Z"
    },
    "id": "169bd119"
   },
   "outputs": [],
   "source": [
    "help(range)"
   ]
  },
  {
   "cell_type": "markdown",
   "id": "d4ef55a0",
   "metadata": {
    "id": "d4ef55a0"
   },
   "source": [
    "You can use the `range()` in three ways:\n",
    "\n",
    "First is by using an integer input"
   ]
  },
  {
   "cell_type": "code",
   "execution_count": null,
   "id": "faa0c3d2",
   "metadata": {
    "ExecuteTime": {
     "end_time": "2024-01-26T19:05:43.618435Z",
     "start_time": "2024-01-26T19:05:43.616031Z"
    },
    "execution": {
     "iopub.execute_input": "2024-01-28T10:12:52.427297Z",
     "iopub.status.busy": "2024-01-28T10:12:52.426973Z",
     "iopub.status.idle": "2024-01-28T10:12:52.432698Z",
     "shell.execute_reply": "2024-01-28T10:12:52.431644Z",
     "shell.execute_reply.started": "2024-01-28T10:12:52.427266Z"
    },
    "id": "faa0c3d2",
    "outputId": "ceaa2709-dfcc-4328-88e5-cc3050e21ade"
   },
   "outputs": [],
   "source": [
    "for value in range(5):\n",
    "    print(value)"
   ]
  },
  {
   "cell_type": "markdown",
   "id": "2bd6e7eb",
   "metadata": {
    "id": "2bd6e7eb"
   },
   "source": [
    "The second way is to specify the starting value, ending value, and optionally, the increment or decrement value."
   ]
  },
  {
   "cell_type": "code",
   "execution_count": null,
   "id": "980ca428",
   "metadata": {
    "ExecuteTime": {
     "end_time": "2024-01-26T19:05:43.624846Z",
     "start_time": "2024-01-26T19:05:43.620017Z"
    },
    "execution": {
     "iopub.execute_input": "2024-01-28T10:12:52.434124Z",
     "iopub.status.busy": "2024-01-28T10:12:52.433817Z",
     "iopub.status.idle": "2024-01-28T10:12:52.440020Z",
     "shell.execute_reply": "2024-01-28T10:12:52.438967Z",
     "shell.execute_reply.started": "2024-01-28T10:12:52.434097Z"
    },
    "id": "980ca428",
    "outputId": "022a78d4-91db-448f-aae0-939000f3ad70"
   },
   "outputs": [],
   "source": [
    "for value in range(1, 5):\n",
    "    print(value)"
   ]
  },
  {
   "cell_type": "markdown",
   "id": "f336f15c",
   "metadata": {
    "id": "f336f15c"
   },
   "source": [
    "The third way is to specify the starting value, ending value, and the increment or decrement value."
   ]
  },
  {
   "cell_type": "code",
   "execution_count": null,
   "id": "e9caa0e5",
   "metadata": {
    "id": "e9caa0e5",
    "outputId": "73e8d4ea-991a-4030-c326-16802483a677"
   },
   "outputs": [],
   "source": [
    "for value in range(1, 10, 2):\n",
    "    print(value)"
   ]
  },
  {
   "cell_type": "markdown",
   "id": "140a0b60",
   "metadata": {
    "id": "140a0b60"
   },
   "source": [
    "### Looping using conditionals"
   ]
  },
  {
   "cell_type": "markdown",
   "id": "0136dcde",
   "metadata": {
    "id": "0136dcde"
   },
   "source": [
    "`for` loops are useful if you know how many iterations of the loop you need. In some situations, you might not know in advance how many loop iterations you have to execute. In these cases, we can use a `while` loop. The general form of a `while` loop is as follows:\n",
    "\n",
    "```python\n",
    "while <<conditional_expression>>:\n",
    "    <<block>>\n",
    "```"
   ]
  },
  {
   "cell_type": "markdown",
   "id": "bfcfb42b",
   "metadata": {
    "id": "bfcfb42b"
   },
   "source": [
    "Here's an example:"
   ]
  },
  {
   "cell_type": "code",
   "execution_count": null,
   "id": "fba08804",
   "metadata": {
    "ExecuteTime": {
     "end_time": "2024-01-26T19:05:43.627677Z",
     "start_time": "2024-01-26T19:05:43.625819Z"
    },
    "execution": {
     "iopub.execute_input": "2024-01-28T10:12:52.441879Z",
     "iopub.status.busy": "2024-01-28T10:12:52.441521Z",
     "iopub.status.idle": "2024-01-28T10:12:52.500696Z",
     "shell.execute_reply": "2024-01-28T10:12:52.498384Z",
     "shell.execute_reply.started": "2024-01-28T10:12:52.441845Z"
    },
    "id": "fba08804",
    "outputId": "a0f5f351-c918-40a7-ef9b-58abd2a12330"
   },
   "outputs": [],
   "source": [
    "rabbits = 3\n",
    "while rabbits > 0:\n",
    "    print(f\"Number of rabbits: {rabbits}\")\n",
    "    rabbits -= 1"
   ]
  },
  {
   "cell_type": "markdown",
   "id": "c2ee4fb6",
   "metadata": {
    "id": "c2ee4fb6"
   },
   "source": [
    "Another more useful example is a simple exponential growth model. Consider the following bacteria population model:\n",
    "\n",
    "$$\n",
    "P(t + 1) = P(t) + rP(t)\n",
    "$$\n",
    "\n",
    "where $P(t)$ is the population size at time $t$ in minutes and $r$ is the growth rate. Let's create a code that determines how long it takes for a bacteria to double their numbers."
   ]
  },
  {
   "cell_type": "code",
   "execution_count": null,
   "id": "73f7e830",
   "metadata": {
    "ExecuteTime": {
     "end_time": "2024-01-26T19:05:43.632148Z",
     "start_time": "2024-01-26T19:05:43.628540Z"
    },
    "execution": {
     "iopub.execute_input": "2024-01-28T10:12:52.511121Z",
     "iopub.status.busy": "2024-01-28T10:12:52.510605Z",
     "iopub.status.idle": "2024-01-28T10:12:52.522520Z",
     "shell.execute_reply": "2024-01-28T10:12:52.520297Z",
     "shell.execute_reply.started": "2024-01-28T10:12:52.511072Z"
    },
    "id": "73f7e830",
    "outputId": "23947e93-2d32-43ef-ea9a-188b42eceef8"
   },
   "outputs": [],
   "source": [
    "time = 0\n",
    "initial_population = 1_000  # Initial population\n",
    "growth_rate = 0.21  # 21% growth per minute\n",
    "population = initial_population\n",
    "\n",
    "# We terminate the loop after twice the initial population\n",
    "while population < 2*initial_population:\n",
    "    population += growth_rate*population\n",
    "    print(f'Current population: {round(population)}')\n",
    "    time += 1\n",
    "\n",
    "print(f\"\\nIt took {time} minutes for the bacteria to double.\")\n",
    "print(f\"The final population was {round(population)} bacteria.\")"
   ]
  },
  {
   "cell_type": "markdown",
   "id": "805f0988",
   "metadata": {
    "id": "805f0988"
   },
   "source": [
    "### Controlling Loops Using `break` and `continue`"
   ]
  },
  {
   "cell_type": "markdown",
   "id": "3bfb9200",
   "metadata": {
    "id": "3bfb9200"
   },
   "source": [
    "As a rule, `for` and `while` loops execute all the statements in their body on each iteration. However, sometimes it is useful to break that rule. Python provides two ways of controlling the iteratin of a loop: `break` - which terminates the execution of the loop immediately, and `continue`, which skips ahead to the next iteration."
   ]
  },
  {
   "cell_type": "markdown",
   "id": "a1673096",
   "metadata": {
    "id": "a1673096"
   },
   "source": [
    "For example, let's look at a simple worker that accomplishes `1` unit of work every hour. Let's see what happens to our loops when we use some `break` and `continue` statements."
   ]
  },
  {
   "cell_type": "code",
   "execution_count": null,
   "id": "d50fbb0f",
   "metadata": {
    "ExecuteTime": {
     "end_time": "2024-01-26T19:05:43.638323Z",
     "start_time": "2024-01-26T19:05:43.635465Z"
    },
    "execution": {
     "iopub.execute_input": "2024-01-28T10:12:52.524906Z",
     "iopub.status.busy": "2024-01-28T10:12:52.524409Z",
     "iopub.status.idle": "2024-01-28T10:12:52.533741Z",
     "shell.execute_reply": "2024-01-28T10:12:52.532113Z",
     "shell.execute_reply.started": "2024-01-28T10:12:52.524860Z"
    },
    "id": "d50fbb0f",
    "outputId": "acdf8ac1-54be-43ed-e8df-39842164041c"
   },
   "outputs": [],
   "source": [
    "# Case when we don't use `continue` or `break`\n",
    "work_done = 0  # Initialize the work done of a worker\n",
    "\n",
    "for time in range(24):  # Time in hours\n",
    "    work_done += 1\n",
    "\n",
    "print(f\"Total work done: {work_done} units\")"
   ]
  },
  {
   "cell_type": "code",
   "execution_count": null,
   "id": "da29037b",
   "metadata": {
    "ExecuteTime": {
     "end_time": "2024-01-26T19:05:43.642717Z",
     "start_time": "2024-01-26T19:05:43.640401Z"
    },
    "execution": {
     "iopub.execute_input": "2024-01-28T10:12:52.536120Z",
     "iopub.status.busy": "2024-01-28T10:12:52.535492Z",
     "iopub.status.idle": "2024-01-28T10:12:52.548249Z",
     "shell.execute_reply": "2024-01-28T10:12:52.546204Z",
     "shell.execute_reply.started": "2024-01-28T10:12:52.536075Z"
    },
    "id": "da29037b",
    "outputId": "06fbf966-c553-4554-8cd0-6c7df63b1b8c"
   },
   "outputs": [],
   "source": [
    "# Case when we use break\n",
    "work_done = 0\n",
    "\n",
    "for time in range(24):\n",
    "    if time == 8:\n",
    "        break\n",
    "    else:\n",
    "        work_done += 1\n",
    "\n",
    "print(f\"Total work done: {work_done} units\")"
   ]
  },
  {
   "cell_type": "code",
   "execution_count": null,
   "id": "d01d9648",
   "metadata": {
    "ExecuteTime": {
     "end_time": "2024-01-26T19:05:43.646206Z",
     "start_time": "2024-01-26T19:05:43.643605Z"
    },
    "execution": {
     "iopub.execute_input": "2024-01-28T10:12:52.552085Z",
     "iopub.status.busy": "2024-01-28T10:12:52.550961Z",
     "iopub.status.idle": "2024-01-28T10:12:52.560057Z",
     "shell.execute_reply": "2024-01-28T10:12:52.558671Z",
     "shell.execute_reply.started": "2024-01-28T10:12:52.552022Z"
    },
    "id": "d01d9648",
    "outputId": "b31795f6-7ae8-4baa-eaa5-7e1e06d8e91d"
   },
   "outputs": [],
   "source": [
    "# Case when we use continue\n",
    "work_done = 0\n",
    "\n",
    "for time in range(24):\n",
    "    if time == 8:\n",
    "        continue\n",
    "    else:\n",
    "        work_done += 1\n",
    "\n",
    "print(f\"Total work done: {work_done} units\")"
   ]
  },
  {
   "cell_type": "code",
   "execution_count": null,
   "id": "341bd1e3",
   "metadata": {
    "id": "341bd1e3",
    "outputId": "2a72e6fb-a846-4ad9-b365-4561c28fdbdd"
   },
   "outputs": [],
   "source": [
    "# Demonstrate how enumerate works by iterating through it\n",
    "for i, j in enumerate(range(5)):\n",
    "    print(f\"Index: {i}, Value: {j}\")"
   ]
  },
  {
   "cell_type": "code",
   "execution_count": null,
   "id": "ec4e93e5",
   "metadata": {
    "ExecuteTime": {
     "end_time": "2024-01-26T19:05:43.655508Z",
     "start_time": "2024-01-26T19:05:43.647684Z"
    },
    "execution": {
     "iopub.execute_input": "2024-01-28T10:12:52.562757Z",
     "iopub.status.busy": "2024-01-28T10:12:52.561829Z",
     "iopub.status.idle": "2024-01-28T10:12:52.570840Z",
     "shell.execute_reply": "2024-01-28T10:12:52.569557Z",
     "shell.execute_reply.started": "2024-01-28T10:12:52.562702Z"
    },
    "id": "ec4e93e5",
    "outputId": "c171d426-587a-470a-99cb-fb0233e14ef9"
   },
   "outputs": [],
   "source": [
    "work_done = 0\n",
    "\n",
    "for i, time in enumerate(range(24)):\n",
    "    if time == 8:\n",
    "        continue\n",
    "    else:\n",
    "        work_done += 1\n",
    "    print(f\"Time: {i+1}; Work done: {work_done}\")"
   ]
  },
  {
   "cell_type": "markdown",
   "id": "da393f38",
   "metadata": {
    "deletable": false,
    "editable": false,
    "id": "da393f38",
    "nbgrader": {
     "cell_type": "markdown",
     "checksum": "05c5843492bb5876c22ad79ded44a8e3",
     "grade": false,
     "grade_id": "cell-af94443a9e7a9846",
     "locked": true,
     "schema_version": 3,
     "solution": false,
     "task": false
    },
    "tags": []
   },
   "source": [
    "### Generating Triangles"
   ]
  },
  {
   "cell_type": "markdown",
   "id": "b0ae77e0",
   "metadata": {
    "deletable": false,
    "editable": false,
    "id": "b0ae77e0",
    "nbgrader": {
     "cell_type": "markdown",
     "checksum": "fed383c02a60a067e99e87994908ef65",
     "grade": false,
     "grade_id": "cell-f8421631420ef637",
     "locked": true,
     "schema_version": 3,
     "solution": false,
     "task": false
    },
    "tags": []
   },
   "source": [
    "Using `for` loops, print a right triangle `T` on the screen where the triangle is one character wide at its narrow point and seven characters wide at its widest point.\n",
    "\n",
    "```\n",
    "T\n",
    "TT\n",
    "TTT\n",
    "TTTT\n",
    "TTTTT\n",
    "TTTTTT\n",
    "TTTTTTT\n",
    "```"
   ]
  },
  {
   "cell_type": "code",
   "execution_count": null,
   "id": "bb8562f4",
   "metadata": {
    "ExecuteTime": {
     "end_time": "2024-01-26T19:05:43.687301Z",
     "start_time": "2024-01-26T19:05:43.683633Z"
    },
    "deletable": false,
    "execution": {
     "iopub.execute_input": "2024-01-28T10:12:52.582928Z",
     "iopub.status.busy": "2024-01-28T10:12:52.582374Z",
     "iopub.status.idle": "2024-01-28T10:12:52.589018Z",
     "shell.execute_reply": "2024-01-28T10:12:52.587786Z",
     "shell.execute_reply.started": "2024-01-28T10:12:52.582880Z"
    },
    "id": "bb8562f4",
    "nbgrader": {
     "cell_type": "code",
     "checksum": "61f336ad010b77f8dd2ad7dea66fccb5",
     "grade": false,
     "grade_id": "cell-0ca2d7bedc42e90e",
     "locked": false,
     "schema_version": 3,
     "solution": true,
     "task": false
    },
    "outputId": "8be0d03c-31e8-49aa-86c7-eab0e8ac1c5e",
    "tags": []
   },
   "outputs": [],
   "source": [
    "# YOUR CODE HERE\n",
    "\n",
    "for i in range(1, 8):\n",
    "    print('T' * i)"
   ]
  },
  {
   "cell_type": "code",
   "execution_count": null,
   "id": "a92ef337",
   "metadata": {
    "colab": {
     "base_uri": "https://localhost:8080/"
    },
    "executionInfo": {
     "elapsed": 6,
     "status": "ok",
     "timestamp": 1756179989701,
     "user": {
      "displayName": "HECTOR LOUIS O. BANDA",
      "userId": "10737061043116032216"
     },
     "user_tz": -480
    },
    "id": "a92ef337",
    "outputId": "e47507e2-a077-4a73-e4ef-0990d30a330b"
   },
   "outputs": [],
   "source": [
    "# Using enumerate\n",
    "for i, j in enumerate(range(1, 8)):\n",
    "    print('T' * j)"
   ]
  },
  {
   "cell_type": "markdown",
   "id": "c1572ae9",
   "metadata": {
    "deletable": false,
    "editable": false,
    "id": "c1572ae9",
    "nbgrader": {
     "cell_type": "markdown",
     "checksum": "de92ae870b17f0110fa10b9c8140441e",
     "grade": false,
     "grade_id": "cell-935692a41a865475",
     "locked": true,
     "schema_version": 3,
     "solution": false,
     "task": false
    },
    "tags": []
   },
   "source": [
    "### Them rats!"
   ]
  },
  {
   "cell_type": "markdown",
   "id": "b844fb41",
   "metadata": {
    "deletable": false,
    "editable": false,
    "id": "b844fb41",
    "nbgrader": {
     "cell_type": "markdown",
     "checksum": "dd1e0391da7fa807211c1a8dd81cfb51",
     "grade": false,
     "grade_id": "cell-b6605d876d1de7cc",
     "locked": true,
     "schema_version": 3,
     "solution": false,
     "task": false
    },
    "tags": []
   },
   "source": [
    "Variables `rat_1_weight` and `rat_2_weight` contain the weights of two rats at the beginning of the experiment. Variables `rat_1_rate` and `rat_2_rate` are the rate that the rats' weights are expected to increase each week. (for example, 5 percent per week for rat 1, and 2 percent per week for rat 2)"
   ]
  },
  {
   "cell_type": "code",
   "execution_count": null,
   "id": "428be965",
   "metadata": {
    "ExecuteTime": {
     "end_time": "2024-01-26T19:05:43.696310Z",
     "start_time": "2024-01-26T19:05:43.694714Z"
    },
    "execution": {
     "iopub.execute_input": "2024-01-28T10:12:52.830087Z",
     "iopub.status.busy": "2024-01-28T10:12:52.829402Z",
     "iopub.status.idle": "2024-01-28T10:12:52.840038Z",
     "shell.execute_reply": "2024-01-28T10:12:52.837667Z",
     "shell.execute_reply.started": "2024-01-28T10:12:52.830024Z"
    },
    "id": "428be965",
    "tags": []
   },
   "outputs": [],
   "source": [
    "rat_1_weight = 200\n",
    "rat_2_weight = 200\n",
    "rat_1_rate = 0.05\n",
    "rat_2_rate = 0.02"
   ]
  },
  {
   "cell_type": "markdown",
   "id": "cf2efa26",
   "metadata": {
    "deletable": false,
    "editable": false,
    "id": "cf2efa26",
    "nbgrader": {
     "cell_type": "markdown",
     "checksum": "4ea9fd9fdf83284c8fe8274c2161924d",
     "grade": false,
     "grade_id": "cell-48d06d9a30de860b",
     "locked": true,
     "schema_version": 3,
     "solution": false,
     "task": false
    },
    "tags": []
   },
   "source": [
    "1. Using a `while` loop, calculate how many `weeks` it would take for the weight of the first rat to become 25 percent heavier than it was originally."
   ]
  },
  {
   "cell_type": "code",
   "execution_count": null,
   "id": "64000f73",
   "metadata": {
    "ExecuteTime": {
     "end_time": "2024-01-26T19:05:43.699225Z",
     "start_time": "2024-01-26T19:05:43.697259Z"
    },
    "colab": {
     "base_uri": "https://localhost:8080/"
    },
    "deletable": false,
    "execution": {
     "iopub.execute_input": "2024-01-28T10:13:36.803853Z",
     "iopub.status.busy": "2024-01-28T10:13:36.803103Z",
     "iopub.status.idle": "2024-01-28T10:13:36.814239Z",
     "shell.execute_reply": "2024-01-28T10:13:36.812585Z",
     "shell.execute_reply.started": "2024-01-28T10:13:36.803787Z"
    },
    "executionInfo": {
     "elapsed": 14,
     "status": "ok",
     "timestamp": 1756180088847,
     "user": {
      "displayName": "HECTOR LOUIS O. BANDA",
      "userId": "10737061043116032216"
     },
     "user_tz": -480
    },
    "id": "64000f73",
    "nbgrader": {
     "cell_type": "code",
     "checksum": "77259c81db0d3fe702a24df18ec58467",
     "grade": false,
     "grade_id": "cell-74fc5b8b9ea5df29",
     "locked": false,
     "schema_version": 3,
     "solution": true,
     "task": false
    },
    "outputId": "b17f1aa6-caf6-45ae-d941-8ddb36da28c2",
    "tags": []
   },
   "outputs": [],
   "source": [
    "# YOUR CODE HERE"
   ]
  },
  {
   "cell_type": "markdown",
   "id": "96ba7852",
   "metadata": {
    "deletable": false,
    "editable": false,
    "id": "96ba7852",
    "nbgrader": {
     "cell_type": "markdown",
     "checksum": "dcb23f7bd697fa789d49e591b6d883e2",
     "grade": false,
     "grade_id": "cell-b39d65a6a1b79c99",
     "locked": true,
     "schema_version": 3,
     "solution": false,
     "task": false
    },
    "tags": []
   },
   "source": [
    "2. Using a `while` loop, calculate how many weeks it would take for rat 1 to be 10 percent heavier than rat 2."
   ]
  },
  {
   "cell_type": "code",
   "execution_count": null,
   "id": "995d21e6",
   "metadata": {
    "ExecuteTime": {
     "end_time": "2024-01-26T19:05:43.707951Z",
     "start_time": "2024-01-26T19:05:43.704401Z"
    },
    "colab": {
     "base_uri": "https://localhost:8080/"
    },
    "deletable": false,
    "execution": {
     "iopub.execute_input": "2024-01-28T10:14:01.394285Z",
     "iopub.status.busy": "2024-01-28T10:14:01.393564Z",
     "iopub.status.idle": "2024-01-28T10:14:01.405652Z",
     "shell.execute_reply": "2024-01-28T10:14:01.403704Z",
     "shell.execute_reply.started": "2024-01-28T10:14:01.394219Z"
    },
    "executionInfo": {
     "elapsed": 5,
     "status": "ok",
     "timestamp": 1756180105722,
     "user": {
      "displayName": "HECTOR LOUIS O. BANDA",
      "userId": "10737061043116032216"
     },
     "user_tz": -480
    },
    "id": "995d21e6",
    "nbgrader": {
     "cell_type": "code",
     "checksum": "09c9857c05672493144520b571d951ba",
     "grade": false,
     "grade_id": "cell-fe574e6932fe3f02",
     "locked": false,
     "schema_version": 3,
     "solution": true,
     "task": false
    },
    "outputId": "a25fa684-a72b-483d-9f60-598c8e9817c3",
    "tags": []
   },
   "outputs": [],
   "source": [
    "# YOUR CODE HERE"
   ]
  }
 ],
 "metadata": {
  "colab": {
   "provenance": []
  },
  "kernelspec": {
   "display_name": "base",
   "language": "python",
   "name": "python3"
  },
  "language_info": {
   "codemirror_mode": {
    "name": "ipython",
    "version": 3
   },
   "file_extension": ".py",
   "mimetype": "text/x-python",
   "name": "python",
   "nbconvert_exporter": "python",
   "pygments_lexer": "ipython3",
   "version": "3.12.9"
  }
 },
 "nbformat": 4,
 "nbformat_minor": 5
}
